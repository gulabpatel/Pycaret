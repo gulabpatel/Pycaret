{
  "nbformat": 4,
  "nbformat_minor": 0,
  "metadata": {
    "kernelspec": {
      "display_name": "Python 3",
      "language": "python",
      "name": "python3"
    },
    "language_info": {
      "codemirror_mode": {
        "name": "ipython",
        "version": 3
      },
      "file_extension": ".py",
      "mimetype": "text/x-python",
      "name": "python",
      "nbconvert_exporter": "python",
      "pygments_lexer": "ipython3",
      "version": "3.7.7"
    },
    "colab": {
      "name": "PyCaret_Reg_Class_Clust.ipynb",
      "provenance": [],
      "collapsed_sections": [],
      "include_colab_link": true
    },
    "widgets": {
      "application/vnd.jupyter.widget-state+json": {
        "ea8fbc47d4b04f3d831d30230a056139": {
          "model_module": "@jupyter-widgets/controls",
          "model_name": "IntProgressModel",
          "state": {
            "_view_name": "ProgressView",
            "style": "IPY_MODEL_24cfbd9e933644219c3d25a4864b381f",
            "_dom_classes": [],
            "description": "Processing: ",
            "_model_name": "IntProgressModel",
            "bar_style": "",
            "max": 13,
            "_view_module": "@jupyter-widgets/controls",
            "_model_module_version": "1.5.0",
            "value": 3,
            "_view_count": null,
            "_view_module_version": "1.5.0",
            "orientation": "horizontal",
            "min": 0,
            "description_tooltip": null,
            "_model_module": "@jupyter-widgets/controls",
            "layout": "IPY_MODEL_8977c9fa20274250a6f9fee99011bf6e"
          }
        },
        "24cfbd9e933644219c3d25a4864b381f": {
          "model_module": "@jupyter-widgets/controls",
          "model_name": "ProgressStyleModel",
          "state": {
            "_view_name": "StyleView",
            "_model_name": "ProgressStyleModel",
            "description_width": "",
            "_view_module": "@jupyter-widgets/base",
            "_model_module_version": "1.5.0",
            "_view_count": null,
            "_view_module_version": "1.2.0",
            "bar_color": null,
            "_model_module": "@jupyter-widgets/controls"
          }
        },
        "8977c9fa20274250a6f9fee99011bf6e": {
          "model_module": "@jupyter-widgets/base",
          "model_name": "LayoutModel",
          "state": {
            "_view_name": "LayoutView",
            "grid_template_rows": null,
            "right": null,
            "justify_content": null,
            "_view_module": "@jupyter-widgets/base",
            "overflow": null,
            "_model_module_version": "1.2.0",
            "_view_count": null,
            "flex_flow": null,
            "width": null,
            "min_width": null,
            "border": null,
            "align_items": null,
            "bottom": null,
            "_model_module": "@jupyter-widgets/base",
            "top": null,
            "grid_column": null,
            "overflow_y": null,
            "overflow_x": null,
            "grid_auto_flow": null,
            "grid_area": null,
            "grid_template_columns": null,
            "flex": null,
            "_model_name": "LayoutModel",
            "justify_items": null,
            "grid_row": null,
            "max_height": null,
            "align_content": null,
            "visibility": null,
            "align_self": null,
            "height": null,
            "min_height": null,
            "padding": null,
            "grid_auto_rows": null,
            "grid_gap": null,
            "max_width": null,
            "order": null,
            "_view_module_version": "1.2.0",
            "grid_template_areas": null,
            "object_position": null,
            "object_fit": null,
            "grid_auto_columns": null,
            "margin": null,
            "display": null,
            "left": null
          }
        },
        "fac649ccc5c74457a6414980f04f1b11": {
          "model_module": "@jupyter-widgets/controls",
          "model_name": "TextModel",
          "state": {
            "_view_name": "TextView",
            "style": "IPY_MODEL_a4cf32d141944f668f901c8ca4dee301",
            "_dom_classes": [],
            "description": "",
            "_model_name": "TextModel",
            "placeholder": "​",
            "_view_module": "@jupyter-widgets/controls",
            "_model_module_version": "1.5.0",
            "value": "Following data types have been inferred automatically, if they are correct press enter to continue or type 'quit' otherwise.",
            "_view_count": null,
            "disabled": false,
            "_view_module_version": "1.5.0",
            "continuous_update": true,
            "description_tooltip": null,
            "_model_module": "@jupyter-widgets/controls",
            "layout": "IPY_MODEL_15ec79751ba344ab8f8a300d7755db13"
          }
        },
        "a4cf32d141944f668f901c8ca4dee301": {
          "model_module": "@jupyter-widgets/controls",
          "model_name": "DescriptionStyleModel",
          "state": {
            "_view_name": "StyleView",
            "_model_name": "DescriptionStyleModel",
            "description_width": "",
            "_view_module": "@jupyter-widgets/base",
            "_model_module_version": "1.5.0",
            "_view_count": null,
            "_view_module_version": "1.2.0",
            "_model_module": "@jupyter-widgets/controls"
          }
        },
        "15ec79751ba344ab8f8a300d7755db13": {
          "model_module": "@jupyter-widgets/base",
          "model_name": "LayoutModel",
          "state": {
            "_view_name": "LayoutView",
            "grid_template_rows": null,
            "right": null,
            "justify_content": null,
            "_view_module": "@jupyter-widgets/base",
            "overflow": null,
            "_model_module_version": "1.2.0",
            "_view_count": null,
            "flex_flow": null,
            "width": "100%",
            "min_width": null,
            "border": null,
            "align_items": null,
            "bottom": null,
            "_model_module": "@jupyter-widgets/base",
            "top": null,
            "grid_column": null,
            "overflow_y": null,
            "overflow_x": null,
            "grid_auto_flow": null,
            "grid_area": null,
            "grid_template_columns": null,
            "flex": null,
            "_model_name": "LayoutModel",
            "justify_items": null,
            "grid_row": null,
            "max_height": null,
            "align_content": null,
            "visibility": null,
            "align_self": null,
            "height": null,
            "min_height": null,
            "padding": null,
            "grid_auto_rows": null,
            "grid_gap": null,
            "max_width": null,
            "order": null,
            "_view_module_version": "1.2.0",
            "grid_template_areas": null,
            "object_position": null,
            "object_fit": null,
            "grid_auto_columns": null,
            "margin": null,
            "display": null,
            "left": null
          }
        },
        "2fcd87daa527470b8e37a23822a06287": {
          "model_module": "@jupyter-widgets/controls",
          "model_name": "IntProgressModel",
          "state": {
            "_view_name": "ProgressView",
            "style": "IPY_MODEL_378b40aee258404ca4deed1cfb74d77b",
            "_dom_classes": [],
            "description": "Processing: ",
            "_model_name": "IntProgressModel",
            "bar_style": "",
            "max": 176,
            "_view_module": "@jupyter-widgets/controls",
            "_model_module_version": "1.5.0",
            "value": 172,
            "_view_count": null,
            "_view_module_version": "1.5.0",
            "orientation": "horizontal",
            "min": 0,
            "description_tooltip": null,
            "_model_module": "@jupyter-widgets/controls",
            "layout": "IPY_MODEL_1f294a02a54a486fb9f52f0d04c529af"
          }
        },
        "378b40aee258404ca4deed1cfb74d77b": {
          "model_module": "@jupyter-widgets/controls",
          "model_name": "ProgressStyleModel",
          "state": {
            "_view_name": "StyleView",
            "_model_name": "ProgressStyleModel",
            "description_width": "",
            "_view_module": "@jupyter-widgets/base",
            "_model_module_version": "1.5.0",
            "_view_count": null,
            "_view_module_version": "1.2.0",
            "bar_color": null,
            "_model_module": "@jupyter-widgets/controls"
          }
        },
        "1f294a02a54a486fb9f52f0d04c529af": {
          "model_module": "@jupyter-widgets/base",
          "model_name": "LayoutModel",
          "state": {
            "_view_name": "LayoutView",
            "grid_template_rows": null,
            "right": null,
            "justify_content": null,
            "_view_module": "@jupyter-widgets/base",
            "overflow": null,
            "_model_module_version": "1.2.0",
            "_view_count": null,
            "flex_flow": null,
            "width": null,
            "min_width": null,
            "border": null,
            "align_items": null,
            "bottom": null,
            "_model_module": "@jupyter-widgets/base",
            "top": null,
            "grid_column": null,
            "overflow_y": null,
            "overflow_x": null,
            "grid_auto_flow": null,
            "grid_area": null,
            "grid_template_columns": null,
            "flex": null,
            "_model_name": "LayoutModel",
            "justify_items": null,
            "grid_row": null,
            "max_height": null,
            "align_content": null,
            "visibility": null,
            "align_self": null,
            "height": null,
            "min_height": null,
            "padding": null,
            "grid_auto_rows": null,
            "grid_gap": null,
            "max_width": null,
            "order": null,
            "_view_module_version": "1.2.0",
            "grid_template_areas": null,
            "object_position": null,
            "object_fit": null,
            "grid_auto_columns": null,
            "margin": null,
            "display": null,
            "left": null
          }
        },
        "d1666bf2e763475ab30c3f58cc5c73cc": {
          "model_module": "@jupyter-widgets/controls",
          "model_name": "IntProgressModel",
          "state": {
            "_view_name": "ProgressView",
            "style": "IPY_MODEL_16018c5dfb274324bc83b08378304f7f",
            "_dom_classes": [],
            "description": "Processing: ",
            "_model_name": "IntProgressModel",
            "bar_style": "",
            "max": 13,
            "_view_module": "@jupyter-widgets/controls",
            "_model_module_version": "1.5.0",
            "value": 3,
            "_view_count": null,
            "_view_module_version": "1.5.0",
            "orientation": "horizontal",
            "min": 0,
            "description_tooltip": null,
            "_model_module": "@jupyter-widgets/controls",
            "layout": "IPY_MODEL_bc0145db27554d98b45a1a3ab693e1b9"
          }
        },
        "16018c5dfb274324bc83b08378304f7f": {
          "model_module": "@jupyter-widgets/controls",
          "model_name": "ProgressStyleModel",
          "state": {
            "_view_name": "StyleView",
            "_model_name": "ProgressStyleModel",
            "description_width": "",
            "_view_module": "@jupyter-widgets/base",
            "_model_module_version": "1.5.0",
            "_view_count": null,
            "_view_module_version": "1.2.0",
            "bar_color": null,
            "_model_module": "@jupyter-widgets/controls"
          }
        },
        "bc0145db27554d98b45a1a3ab693e1b9": {
          "model_module": "@jupyter-widgets/base",
          "model_name": "LayoutModel",
          "state": {
            "_view_name": "LayoutView",
            "grid_template_rows": null,
            "right": null,
            "justify_content": null,
            "_view_module": "@jupyter-widgets/base",
            "overflow": null,
            "_model_module_version": "1.2.0",
            "_view_count": null,
            "flex_flow": null,
            "width": null,
            "min_width": null,
            "border": null,
            "align_items": null,
            "bottom": null,
            "_model_module": "@jupyter-widgets/base",
            "top": null,
            "grid_column": null,
            "overflow_y": null,
            "overflow_x": null,
            "grid_auto_flow": null,
            "grid_area": null,
            "grid_template_columns": null,
            "flex": null,
            "_model_name": "LayoutModel",
            "justify_items": null,
            "grid_row": null,
            "max_height": null,
            "align_content": null,
            "visibility": null,
            "align_self": null,
            "height": null,
            "min_height": null,
            "padding": null,
            "grid_auto_rows": null,
            "grid_gap": null,
            "max_width": null,
            "order": null,
            "_view_module_version": "1.2.0",
            "grid_template_areas": null,
            "object_position": null,
            "object_fit": null,
            "grid_auto_columns": null,
            "margin": null,
            "display": null,
            "left": null
          }
        },
        "6e3df9b927f742d1bb88f01b1fc873a8": {
          "model_module": "@jupyter-widgets/controls",
          "model_name": "TextModel",
          "state": {
            "_view_name": "TextView",
            "style": "IPY_MODEL_f1696a89df33472c81043fa66049ac75",
            "_dom_classes": [],
            "description": "",
            "_model_name": "TextModel",
            "placeholder": "​",
            "_view_module": "@jupyter-widgets/controls",
            "_model_module_version": "1.5.0",
            "value": "Following data types have been inferred automatically, if they are correct press enter to continue or type 'quit' otherwise.",
            "_view_count": null,
            "disabled": false,
            "_view_module_version": "1.5.0",
            "continuous_update": true,
            "description_tooltip": null,
            "_model_module": "@jupyter-widgets/controls",
            "layout": "IPY_MODEL_b9853cad93c340b6815bd2ac263a1ed8"
          }
        },
        "f1696a89df33472c81043fa66049ac75": {
          "model_module": "@jupyter-widgets/controls",
          "model_name": "DescriptionStyleModel",
          "state": {
            "_view_name": "StyleView",
            "_model_name": "DescriptionStyleModel",
            "description_width": "",
            "_view_module": "@jupyter-widgets/base",
            "_model_module_version": "1.5.0",
            "_view_count": null,
            "_view_module_version": "1.2.0",
            "_model_module": "@jupyter-widgets/controls"
          }
        },
        "b9853cad93c340b6815bd2ac263a1ed8": {
          "model_module": "@jupyter-widgets/base",
          "model_name": "LayoutModel",
          "state": {
            "_view_name": "LayoutView",
            "grid_template_rows": null,
            "right": null,
            "justify_content": null,
            "_view_module": "@jupyter-widgets/base",
            "overflow": null,
            "_model_module_version": "1.2.0",
            "_view_count": null,
            "flex_flow": null,
            "width": "100%",
            "min_width": null,
            "border": null,
            "align_items": null,
            "bottom": null,
            "_model_module": "@jupyter-widgets/base",
            "top": null,
            "grid_column": null,
            "overflow_y": null,
            "overflow_x": null,
            "grid_auto_flow": null,
            "grid_area": null,
            "grid_template_columns": null,
            "flex": null,
            "_model_name": "LayoutModel",
            "justify_items": null,
            "grid_row": null,
            "max_height": null,
            "align_content": null,
            "visibility": null,
            "align_self": null,
            "height": null,
            "min_height": null,
            "padding": null,
            "grid_auto_rows": null,
            "grid_gap": null,
            "max_width": null,
            "order": null,
            "_view_module_version": "1.2.0",
            "grid_template_areas": null,
            "object_position": null,
            "object_fit": null,
            "grid_auto_columns": null,
            "margin": null,
            "display": null,
            "left": null
          }
        },
        "85aa116536054c298b0472a00520d6e4": {
          "model_module": "@jupyter-widgets/controls",
          "model_name": "IntProgressModel",
          "state": {
            "_view_name": "ProgressView",
            "style": "IPY_MODEL_4151e1023fee444390b5140be900debf",
            "_dom_classes": [],
            "description": "Processing: ",
            "_model_name": "IntProgressModel",
            "bar_style": "",
            "max": 251,
            "_view_module": "@jupyter-widgets/controls",
            "_model_module_version": "1.5.0",
            "value": 249,
            "_view_count": null,
            "_view_module_version": "1.5.0",
            "orientation": "horizontal",
            "min": 0,
            "description_tooltip": null,
            "_model_module": "@jupyter-widgets/controls",
            "layout": "IPY_MODEL_8dac818818be4f7b856028df3d738a99"
          }
        },
        "4151e1023fee444390b5140be900debf": {
          "model_module": "@jupyter-widgets/controls",
          "model_name": "ProgressStyleModel",
          "state": {
            "_view_name": "StyleView",
            "_model_name": "ProgressStyleModel",
            "description_width": "",
            "_view_module": "@jupyter-widgets/base",
            "_model_module_version": "1.5.0",
            "_view_count": null,
            "_view_module_version": "1.2.0",
            "bar_color": null,
            "_model_module": "@jupyter-widgets/controls"
          }
        },
        "8dac818818be4f7b856028df3d738a99": {
          "model_module": "@jupyter-widgets/base",
          "model_name": "LayoutModel",
          "state": {
            "_view_name": "LayoutView",
            "grid_template_rows": null,
            "right": null,
            "justify_content": null,
            "_view_module": "@jupyter-widgets/base",
            "overflow": null,
            "_model_module_version": "1.2.0",
            "_view_count": null,
            "flex_flow": null,
            "width": null,
            "min_width": null,
            "border": null,
            "align_items": null,
            "bottom": null,
            "_model_module": "@jupyter-widgets/base",
            "top": null,
            "grid_column": null,
            "overflow_y": null,
            "overflow_x": null,
            "grid_auto_flow": null,
            "grid_area": null,
            "grid_template_columns": null,
            "flex": null,
            "_model_name": "LayoutModel",
            "justify_items": null,
            "grid_row": null,
            "max_height": null,
            "align_content": null,
            "visibility": null,
            "align_self": null,
            "height": null,
            "min_height": null,
            "padding": null,
            "grid_auto_rows": null,
            "grid_gap": null,
            "max_width": null,
            "order": null,
            "_view_module_version": "1.2.0",
            "grid_template_areas": null,
            "object_position": null,
            "object_fit": null,
            "grid_auto_columns": null,
            "margin": null,
            "display": null,
            "left": null
          }
        },
        "23f5c3047d31425a88d760ddbddea8dd": {
          "model_module": "@jupyter-widgets/controls",
          "model_name": "IntProgressModel",
          "state": {
            "_view_name": "ProgressView",
            "style": "IPY_MODEL_4010a9b1f708456bb94c84d7385f9a1b",
            "_dom_classes": [],
            "description": "Processing: ",
            "_model_name": "IntProgressModel",
            "bar_style": "",
            "max": 14,
            "_view_module": "@jupyter-widgets/controls",
            "_model_module_version": "1.5.0",
            "value": 14,
            "_view_count": null,
            "_view_module_version": "1.5.0",
            "orientation": "horizontal",
            "min": 0,
            "description_tooltip": null,
            "_model_module": "@jupyter-widgets/controls",
            "layout": "IPY_MODEL_88b287528a864c749f037ca50769c1d0"
          }
        },
        "4010a9b1f708456bb94c84d7385f9a1b": {
          "model_module": "@jupyter-widgets/controls",
          "model_name": "ProgressStyleModel",
          "state": {
            "_view_name": "StyleView",
            "_model_name": "ProgressStyleModel",
            "description_width": "",
            "_view_module": "@jupyter-widgets/base",
            "_model_module_version": "1.5.0",
            "_view_count": null,
            "_view_module_version": "1.2.0",
            "bar_color": null,
            "_model_module": "@jupyter-widgets/controls"
          }
        },
        "88b287528a864c749f037ca50769c1d0": {
          "model_module": "@jupyter-widgets/base",
          "model_name": "LayoutModel",
          "state": {
            "_view_name": "LayoutView",
            "grid_template_rows": null,
            "right": null,
            "justify_content": null,
            "_view_module": "@jupyter-widgets/base",
            "overflow": null,
            "_model_module_version": "1.2.0",
            "_view_count": null,
            "flex_flow": null,
            "width": null,
            "min_width": null,
            "border": null,
            "align_items": null,
            "bottom": null,
            "_model_module": "@jupyter-widgets/base",
            "top": null,
            "grid_column": null,
            "overflow_y": null,
            "overflow_x": null,
            "grid_auto_flow": null,
            "grid_area": null,
            "grid_template_columns": null,
            "flex": null,
            "_model_name": "LayoutModel",
            "justify_items": null,
            "grid_row": null,
            "max_height": null,
            "align_content": null,
            "visibility": null,
            "align_self": null,
            "height": null,
            "min_height": null,
            "padding": null,
            "grid_auto_rows": null,
            "grid_gap": null,
            "max_width": null,
            "order": null,
            "_view_module_version": "1.2.0",
            "grid_template_areas": null,
            "object_position": null,
            "object_fit": null,
            "grid_auto_columns": null,
            "margin": null,
            "display": null,
            "left": null
          }
        },
        "1a9c3f62f5ab4ca8a867dc70ea0e5c7c": {
          "model_module": "@jupyter-widgets/controls",
          "model_name": "IntProgressModel",
          "state": {
            "_view_name": "ProgressView",
            "style": "IPY_MODEL_0341cb8ea1cd44b3980c7c9fb648accd",
            "_dom_classes": [],
            "description": "Processing: ",
            "_model_name": "IntProgressModel",
            "bar_style": "",
            "max": 4,
            "_view_module": "@jupyter-widgets/controls",
            "_model_module_version": "1.5.0",
            "value": 3,
            "_view_count": null,
            "_view_module_version": "1.5.0",
            "orientation": "horizontal",
            "min": 0,
            "description_tooltip": null,
            "_model_module": "@jupyter-widgets/controls",
            "layout": "IPY_MODEL_8dd53031a6df4473a46051885057b22f"
          }
        },
        "0341cb8ea1cd44b3980c7c9fb648accd": {
          "model_module": "@jupyter-widgets/controls",
          "model_name": "ProgressStyleModel",
          "state": {
            "_view_name": "StyleView",
            "_model_name": "ProgressStyleModel",
            "description_width": "",
            "_view_module": "@jupyter-widgets/base",
            "_model_module_version": "1.5.0",
            "_view_count": null,
            "_view_module_version": "1.2.0",
            "bar_color": null,
            "_model_module": "@jupyter-widgets/controls"
          }
        },
        "8dd53031a6df4473a46051885057b22f": {
          "model_module": "@jupyter-widgets/base",
          "model_name": "LayoutModel",
          "state": {
            "_view_name": "LayoutView",
            "grid_template_rows": null,
            "right": null,
            "justify_content": null,
            "_view_module": "@jupyter-widgets/base",
            "overflow": null,
            "_model_module_version": "1.2.0",
            "_view_count": null,
            "flex_flow": null,
            "width": null,
            "min_width": null,
            "border": null,
            "align_items": null,
            "bottom": null,
            "_model_module": "@jupyter-widgets/base",
            "top": null,
            "grid_column": null,
            "overflow_y": null,
            "overflow_x": null,
            "grid_auto_flow": null,
            "grid_area": null,
            "grid_template_columns": null,
            "flex": null,
            "_model_name": "LayoutModel",
            "justify_items": null,
            "grid_row": null,
            "max_height": null,
            "align_content": null,
            "visibility": null,
            "align_self": null,
            "height": null,
            "min_height": null,
            "padding": null,
            "grid_auto_rows": null,
            "grid_gap": null,
            "max_width": null,
            "order": null,
            "_view_module_version": "1.2.0",
            "grid_template_areas": null,
            "object_position": null,
            "object_fit": null,
            "grid_auto_columns": null,
            "margin": null,
            "display": null,
            "left": null
          }
        },
        "9fdeed4f6a9a4e5c8521e8d3c540af73": {
          "model_module": "@jupyter-widgets/controls",
          "model_name": "TextModel",
          "state": {
            "_view_name": "TextView",
            "style": "IPY_MODEL_c2b92f85afc2494786fd8ea1c6e82965",
            "_dom_classes": [],
            "description": "",
            "_model_name": "TextModel",
            "placeholder": "​",
            "_view_module": "@jupyter-widgets/controls",
            "_model_module_version": "1.5.0",
            "value": "Following data types have been inferred automatically, if they are correct press enter to continue or type 'quit' otherwise.",
            "_view_count": null,
            "disabled": false,
            "_view_module_version": "1.5.0",
            "continuous_update": true,
            "description_tooltip": null,
            "_model_module": "@jupyter-widgets/controls",
            "layout": "IPY_MODEL_16fa1336c2864227a9e5abb1b72bbc54"
          }
        },
        "c2b92f85afc2494786fd8ea1c6e82965": {
          "model_module": "@jupyter-widgets/controls",
          "model_name": "DescriptionStyleModel",
          "state": {
            "_view_name": "StyleView",
            "_model_name": "DescriptionStyleModel",
            "description_width": "",
            "_view_module": "@jupyter-widgets/base",
            "_model_module_version": "1.5.0",
            "_view_count": null,
            "_view_module_version": "1.2.0",
            "_model_module": "@jupyter-widgets/controls"
          }
        },
        "16fa1336c2864227a9e5abb1b72bbc54": {
          "model_module": "@jupyter-widgets/base",
          "model_name": "LayoutModel",
          "state": {
            "_view_name": "LayoutView",
            "grid_template_rows": null,
            "right": null,
            "justify_content": null,
            "_view_module": "@jupyter-widgets/base",
            "overflow": null,
            "_model_module_version": "1.2.0",
            "_view_count": null,
            "flex_flow": null,
            "width": "100%",
            "min_width": null,
            "border": null,
            "align_items": null,
            "bottom": null,
            "_model_module": "@jupyter-widgets/base",
            "top": null,
            "grid_column": null,
            "overflow_y": null,
            "overflow_x": null,
            "grid_auto_flow": null,
            "grid_area": null,
            "grid_template_columns": null,
            "flex": null,
            "_model_name": "LayoutModel",
            "justify_items": null,
            "grid_row": null,
            "max_height": null,
            "align_content": null,
            "visibility": null,
            "align_self": null,
            "height": null,
            "min_height": null,
            "padding": null,
            "grid_auto_rows": null,
            "grid_gap": null,
            "max_width": null,
            "order": null,
            "_view_module_version": "1.2.0",
            "grid_template_areas": null,
            "object_position": null,
            "object_fit": null,
            "grid_auto_columns": null,
            "margin": null,
            "display": null,
            "left": null
          }
        },
        "0dc15fe8d5af4498b7ca25f861c78be6": {
          "model_module": "@jupyter-widgets/controls",
          "model_name": "IntProgressModel",
          "state": {
            "_view_name": "ProgressView",
            "style": "IPY_MODEL_e2d54121644b4e0abe13744f68bfc0d7",
            "_dom_classes": [],
            "description": "Processing: ",
            "_model_name": "IntProgressModel",
            "bar_style": "",
            "max": 3,
            "_view_module": "@jupyter-widgets/controls",
            "_model_module_version": "1.5.0",
            "value": 3,
            "_view_count": null,
            "_view_module_version": "1.5.0",
            "orientation": "horizontal",
            "min": 0,
            "description_tooltip": null,
            "_model_module": "@jupyter-widgets/controls",
            "layout": "IPY_MODEL_3c0a0decd6d44f51b680ce173d1b5288"
          }
        },
        "7b1b7a20f0014a41b5e076e29365c56f": {
          "model_module": "@jupyter-widgets/controls",
          "model_name": "IntProgressModel",
          "state": {
            "_view_name": "ProgressView",
            "style": "IPY_MODEL_94a3acc272ea4b7d9b24c9be3de6fe7a",
            "_dom_classes": [],
            "description": "Processing: ",
            "_model_name": "IntProgressModel",
            "bar_style": "",
            "max": 3,
            "_view_module": "@jupyter-widgets/controls",
            "_model_module_version": "1.5.0",
            "value": 3,
            "_view_count": null,
            "_view_module_version": "1.5.0",
            "orientation": "horizontal",
            "min": 0,
            "description_tooltip": null,
            "_model_module": "@jupyter-widgets/controls",
            "layout": "IPY_MODEL_ae89178bee6f4274bfbd5fe50195f70f"
          }
        },
        "07a55d7fdbe946d6863e6b0f6a6b737e": {
          "model_module": "@jupyter-widgets/controls",
          "model_name": "IntProgressModel",
          "state": {
            "_view_name": "ProgressView",
            "style": "IPY_MODEL_41f42d71d18744cb889fd39486a52810",
            "_dom_classes": [],
            "description": "Processing: ",
            "_model_name": "IntProgressModel",
            "bar_style": "",
            "max": 13,
            "_view_module": "@jupyter-widgets/controls",
            "_model_module_version": "1.5.0",
            "value": 3,
            "_view_count": null,
            "_view_module_version": "1.5.0",
            "orientation": "horizontal",
            "min": 0,
            "description_tooltip": null,
            "_model_module": "@jupyter-widgets/controls",
            "layout": "IPY_MODEL_43aecf742b8044a98f004ad77aa2b250"
          }
        },
        "41f42d71d18744cb889fd39486a52810": {
          "model_module": "@jupyter-widgets/controls",
          "model_name": "ProgressStyleModel",
          "state": {
            "_view_name": "StyleView",
            "_model_name": "ProgressStyleModel",
            "description_width": "",
            "_view_module": "@jupyter-widgets/base",
            "_model_module_version": "1.5.0",
            "_view_count": null,
            "_view_module_version": "1.2.0",
            "bar_color": null,
            "_model_module": "@jupyter-widgets/controls"
          }
        },
        "43aecf742b8044a98f004ad77aa2b250": {
          "model_module": "@jupyter-widgets/base",
          "model_name": "LayoutModel",
          "state": {
            "_view_name": "LayoutView",
            "grid_template_rows": null,
            "right": null,
            "justify_content": null,
            "_view_module": "@jupyter-widgets/base",
            "overflow": null,
            "_model_module_version": "1.2.0",
            "_view_count": null,
            "flex_flow": null,
            "width": null,
            "min_width": null,
            "border": null,
            "align_items": null,
            "bottom": null,
            "_model_module": "@jupyter-widgets/base",
            "top": null,
            "grid_column": null,
            "overflow_y": null,
            "overflow_x": null,
            "grid_auto_flow": null,
            "grid_area": null,
            "grid_template_columns": null,
            "flex": null,
            "_model_name": "LayoutModel",
            "justify_items": null,
            "grid_row": null,
            "max_height": null,
            "align_content": null,
            "visibility": null,
            "align_self": null,
            "height": null,
            "min_height": null,
            "padding": null,
            "grid_auto_rows": null,
            "grid_gap": null,
            "max_width": null,
            "order": null,
            "_view_module_version": "1.2.0",
            "grid_template_areas": null,
            "object_position": null,
            "object_fit": null,
            "grid_auto_columns": null,
            "margin": null,
            "display": null,
            "left": null
          }
        },
        "3353795ff13c446fb7f1aa5fe7f12205": {
          "model_module": "@jupyter-widgets/controls",
          "model_name": "TextModel",
          "state": {
            "_view_name": "TextView",
            "style": "IPY_MODEL_ece9d3c4de5b42c0bc03960ae0cbeb08",
            "_dom_classes": [],
            "description": "",
            "_model_name": "TextModel",
            "placeholder": "​",
            "_view_module": "@jupyter-widgets/controls",
            "_model_module_version": "1.5.0",
            "value": "Following data types have been inferred automatically, if they are correct press enter to continue or type 'quit' otherwise.",
            "_view_count": null,
            "disabled": false,
            "_view_module_version": "1.5.0",
            "continuous_update": true,
            "description_tooltip": null,
            "_model_module": "@jupyter-widgets/controls",
            "layout": "IPY_MODEL_c779d4a7aa4249a89928fc68e51442eb"
          }
        },
        "ece9d3c4de5b42c0bc03960ae0cbeb08": {
          "model_module": "@jupyter-widgets/controls",
          "model_name": "DescriptionStyleModel",
          "state": {
            "_view_name": "StyleView",
            "_model_name": "DescriptionStyleModel",
            "description_width": "",
            "_view_module": "@jupyter-widgets/base",
            "_model_module_version": "1.5.0",
            "_view_count": null,
            "_view_module_version": "1.2.0",
            "_model_module": "@jupyter-widgets/controls"
          }
        },
        "c779d4a7aa4249a89928fc68e51442eb": {
          "model_module": "@jupyter-widgets/base",
          "model_name": "LayoutModel",
          "state": {
            "_view_name": "LayoutView",
            "grid_template_rows": null,
            "right": null,
            "justify_content": null,
            "_view_module": "@jupyter-widgets/base",
            "overflow": null,
            "_model_module_version": "1.2.0",
            "_view_count": null,
            "flex_flow": null,
            "width": "100%",
            "min_width": null,
            "border": null,
            "align_items": null,
            "bottom": null,
            "_model_module": "@jupyter-widgets/base",
            "top": null,
            "grid_column": null,
            "overflow_y": null,
            "overflow_x": null,
            "grid_auto_flow": null,
            "grid_area": null,
            "grid_template_columns": null,
            "flex": null,
            "_model_name": "LayoutModel",
            "justify_items": null,
            "grid_row": null,
            "max_height": null,
            "align_content": null,
            "visibility": null,
            "align_self": null,
            "height": null,
            "min_height": null,
            "padding": null,
            "grid_auto_rows": null,
            "grid_gap": null,
            "max_width": null,
            "order": null,
            "_view_module_version": "1.2.0",
            "grid_template_areas": null,
            "object_position": null,
            "object_fit": null,
            "grid_auto_columns": null,
            "margin": null,
            "display": null,
            "left": null
          }
        }
      }
    }
  },
  "cells": [
    {
      "cell_type": "markdown",
      "metadata": {
        "id": "view-in-github",
        "colab_type": "text"
      },
      "source": [
        "<a href=\"https://colab.research.google.com/github/gulabpatel/Pycaret_Python/blob/main/PyCaret_Reg_Class_Clust.ipynb\" target=\"_parent\"><img src=\"https://colab.research.google.com/assets/colab-badge.svg\" alt=\"Open In Colab\"/></a>"
      ]
    },
    {
      "cell_type": "markdown",
      "metadata": {
        "id": "_J9SzjM5rcyS"
      },
      "source": [
        "### PyCaret In Depth Discussion "
      ]
    },
    {
      "cell_type": "code",
      "metadata": {
        "id": "-W6mL0xFrcyU",
        "outputId": "ee129faf-8b3a-43e0-e91f-89bc66a10e4c",
        "colab": {
          "base_uri": "https://localhost:8080/",
          "height": 1000
        }
      },
      "source": [
        "!pip install pycaret"
      ],
      "execution_count": 35,
      "outputs": [
        {
          "output_type": "stream",
          "text": [
            "Requirement already satisfied: pycaret in /usr/local/lib/python3.6/dist-packages (2.1.2)\n",
            "Requirement already satisfied: textblob in /usr/local/lib/python3.6/dist-packages (from pycaret) (0.15.3)\n",
            "Requirement already satisfied: spacy in /usr/local/lib/python3.6/dist-packages (from pycaret) (2.2.4)\n",
            "Requirement already satisfied: catboost>=0.23.2 in /usr/local/lib/python3.6/dist-packages (from pycaret) (0.24.2)\n",
            "Requirement already satisfied: gensim in /usr/local/lib/python3.6/dist-packages (from pycaret) (3.6.0)\n",
            "Requirement already satisfied: matplotlib in /usr/local/lib/python3.6/dist-packages (from pycaret) (3.2.2)\n",
            "Requirement already satisfied: imbalanced-learn>=0.6.2 in /usr/local/lib/python3.6/dist-packages (from pycaret) (0.7.0)\n",
            "Requirement already satisfied: scikit-learn>=0.23 in /usr/local/lib/python3.6/dist-packages (from pycaret) (0.23.2)\n",
            "Requirement already satisfied: pandas in /usr/local/lib/python3.6/dist-packages (from pycaret) (1.1.2)\n",
            "Requirement already satisfied: seaborn in /usr/local/lib/python3.6/dist-packages (from pycaret) (0.11.0)\n",
            "Requirement already satisfied: kmodes>=0.10.1 in /usr/local/lib/python3.6/dist-packages (from pycaret) (0.10.2)\n",
            "Requirement already satisfied: pyod in /usr/local/lib/python3.6/dist-packages (from pycaret) (0.8.3)\n",
            "Requirement already satisfied: wordcloud in /usr/local/lib/python3.6/dist-packages (from pycaret) (1.5.0)\n",
            "Requirement already satisfied: mlflow in /usr/local/lib/python3.6/dist-packages (from pycaret) (1.11.0)\n",
            "Requirement already satisfied: numpy>=1.17 in /usr/local/lib/python3.6/dist-packages (from pycaret) (1.18.5)\n",
            "Requirement already satisfied: xgboost>=0.90 in /usr/local/lib/python3.6/dist-packages (from pycaret) (0.90)\n",
            "Requirement already satisfied: ipywidgets in /usr/local/lib/python3.6/dist-packages (from pycaret) (7.5.1)\n",
            "Requirement already satisfied: umap-learn in /usr/local/lib/python3.6/dist-packages (from pycaret) (0.4.6)\n",
            "Requirement already satisfied: pandas-profiling>=2.8.0 in /usr/local/lib/python3.6/dist-packages (from pycaret) (2.9.0)\n",
            "Requirement already satisfied: datefinder>=0.7.0 in /usr/local/lib/python3.6/dist-packages (from pycaret) (0.7.1)\n",
            "Requirement already satisfied: lightgbm>=2.3.1 in /usr/local/lib/python3.6/dist-packages (from pycaret) (3.0.0)\n",
            "Requirement already satisfied: joblib in /usr/local/lib/python3.6/dist-packages (from pycaret) (0.16.0)\n",
            "Requirement already satisfied: IPython in /usr/local/lib/python3.6/dist-packages (from pycaret) (5.5.0)\n",
            "Requirement already satisfied: mlxtend in /usr/local/lib/python3.6/dist-packages (from pycaret) (0.14.0)\n",
            "Requirement already satisfied: yellowbrick>=1.0.1 in /usr/local/lib/python3.6/dist-packages (from pycaret) (1.2)\n",
            "Requirement already satisfied: plotly>=4.4.1 in /usr/local/lib/python3.6/dist-packages (from pycaret) (4.4.1)\n",
            "Requirement already satisfied: cufflinks>=0.17.0 in /usr/local/lib/python3.6/dist-packages (from pycaret) (0.17.3)\n",
            "Requirement already satisfied: pyLDAvis in /usr/local/lib/python3.6/dist-packages (from pycaret) (2.1.2)\n",
            "Requirement already satisfied: nltk in /usr/local/lib/python3.6/dist-packages (from pycaret) (3.2.5)\n",
            "Requirement already satisfied: blis<0.5.0,>=0.4.0 in /usr/local/lib/python3.6/dist-packages (from spacy->pycaret) (0.4.1)\n",
            "Requirement already satisfied: thinc==7.4.0 in /usr/local/lib/python3.6/dist-packages (from spacy->pycaret) (7.4.0)\n",
            "Requirement already satisfied: wasabi<1.1.0,>=0.4.0 in /usr/local/lib/python3.6/dist-packages (from spacy->pycaret) (0.8.0)\n",
            "Requirement already satisfied: srsly<1.1.0,>=1.0.2 in /usr/local/lib/python3.6/dist-packages (from spacy->pycaret) (1.0.2)\n",
            "Requirement already satisfied: requests<3.0.0,>=2.13.0 in /usr/local/lib/python3.6/dist-packages (from spacy->pycaret) (2.23.0)\n",
            "Requirement already satisfied: cymem<2.1.0,>=2.0.2 in /usr/local/lib/python3.6/dist-packages (from spacy->pycaret) (2.0.3)\n",
            "Requirement already satisfied: preshed<3.1.0,>=3.0.2 in /usr/local/lib/python3.6/dist-packages (from spacy->pycaret) (3.0.2)\n",
            "Requirement already satisfied: murmurhash<1.1.0,>=0.28.0 in /usr/local/lib/python3.6/dist-packages (from spacy->pycaret) (1.0.2)\n",
            "Requirement already satisfied: plac<1.2.0,>=0.9.6 in /usr/local/lib/python3.6/dist-packages (from spacy->pycaret) (1.1.3)\n",
            "Requirement already satisfied: setuptools in /usr/local/lib/python3.6/dist-packages (from spacy->pycaret) (50.3.0)\n",
            "Requirement already satisfied: catalogue<1.1.0,>=0.0.7 in /usr/local/lib/python3.6/dist-packages (from spacy->pycaret) (1.0.0)\n",
            "Requirement already satisfied: tqdm<5.0.0,>=4.38.0 in /usr/local/lib/python3.6/dist-packages (from spacy->pycaret) (4.50.2)\n",
            "Requirement already satisfied: six in /usr/local/lib/python3.6/dist-packages (from catboost>=0.23.2->pycaret) (1.15.0)\n",
            "Requirement already satisfied: graphviz in /usr/local/lib/python3.6/dist-packages (from catboost>=0.23.2->pycaret) (0.10.1)\n",
            "Requirement already satisfied: scipy in /usr/local/lib/python3.6/dist-packages (from catboost>=0.23.2->pycaret) (1.4.1)\n",
            "Requirement already satisfied: smart-open>=1.2.1 in /usr/local/lib/python3.6/dist-packages (from gensim->pycaret) (2.2.0)\n",
            "Requirement already satisfied: python-dateutil>=2.1 in /usr/local/lib/python3.6/dist-packages (from matplotlib->pycaret) (2.8.1)\n",
            "Requirement already satisfied: kiwisolver>=1.0.1 in /usr/local/lib/python3.6/dist-packages (from matplotlib->pycaret) (1.2.0)\n",
            "Requirement already satisfied: pyparsing!=2.0.4,!=2.1.2,!=2.1.6,>=2.0.1 in /usr/local/lib/python3.6/dist-packages (from matplotlib->pycaret) (2.4.7)\n",
            "Requirement already satisfied: cycler>=0.10 in /usr/local/lib/python3.6/dist-packages (from matplotlib->pycaret) (0.10.0)\n",
            "Requirement already satisfied: threadpoolctl>=2.0.0 in /usr/local/lib/python3.6/dist-packages (from scikit-learn>=0.23->pycaret) (2.1.0)\n",
            "Requirement already satisfied: pytz>=2017.2 in /usr/local/lib/python3.6/dist-packages (from pandas->pycaret) (2018.9)\n",
            "Requirement already satisfied: statsmodels in /usr/local/lib/python3.6/dist-packages (from pyod->pycaret) (0.10.2)\n",
            "Requirement already satisfied: numba>=0.35 in /usr/local/lib/python3.6/dist-packages (from pyod->pycaret) (0.48.0)\n",
            "Requirement already satisfied: combo in /usr/local/lib/python3.6/dist-packages (from pyod->pycaret) (0.1.1)\n",
            "Requirement already satisfied: suod in /usr/local/lib/python3.6/dist-packages (from pyod->pycaret) (0.0.4)\n",
            "Requirement already satisfied: pillow in /usr/local/lib/python3.6/dist-packages (from wordcloud->pycaret) (7.0.0)\n",
            "Requirement already satisfied: databricks-cli>=0.8.7 in /usr/local/lib/python3.6/dist-packages (from mlflow->pycaret) (0.12.2)\n",
            "Requirement already satisfied: protobuf>=3.6.0 in /usr/local/lib/python3.6/dist-packages (from mlflow->pycaret) (3.12.4)\n",
            "Requirement already satisfied: Flask in /usr/local/lib/python3.6/dist-packages (from mlflow->pycaret) (1.1.2)\n",
            "Requirement already satisfied: docker>=4.0.0 in /usr/local/lib/python3.6/dist-packages (from mlflow->pycaret) (4.3.1)\n",
            "Requirement already satisfied: sqlalchemy<=1.3.13 in /usr/local/lib/python3.6/dist-packages (from mlflow->pycaret) (1.3.13)\n",
            "Requirement already satisfied: cloudpickle in /usr/local/lib/python3.6/dist-packages (from mlflow->pycaret) (1.3.0)\n",
            "Requirement already satisfied: azure-storage-blob>=12.0 in /usr/local/lib/python3.6/dist-packages (from mlflow->pycaret) (12.5.0)\n",
            "Requirement already satisfied: gorilla in /usr/local/lib/python3.6/dist-packages (from mlflow->pycaret) (0.3.0)\n",
            "Requirement already satisfied: prometheus-flask-exporter in /usr/local/lib/python3.6/dist-packages (from mlflow->pycaret) (0.18.1)\n",
            "Requirement already satisfied: gunicorn; platform_system != \"Windows\" in /usr/local/lib/python3.6/dist-packages (from mlflow->pycaret) (20.0.4)\n",
            "Requirement already satisfied: entrypoints in /usr/local/lib/python3.6/dist-packages (from mlflow->pycaret) (0.3)\n",
            "Requirement already satisfied: sqlparse in /usr/local/lib/python3.6/dist-packages (from mlflow->pycaret) (0.3.1)\n",
            "Requirement already satisfied: querystring-parser in /usr/local/lib/python3.6/dist-packages (from mlflow->pycaret) (1.2.4)\n",
            "Requirement already satisfied: alembic<=1.4.1 in /usr/local/lib/python3.6/dist-packages (from mlflow->pycaret) (1.4.1)\n",
            "Requirement already satisfied: click>=7.0 in /usr/local/lib/python3.6/dist-packages (from mlflow->pycaret) (7.1.2)\n",
            "Requirement already satisfied: gitpython>=2.1.0 in /usr/local/lib/python3.6/dist-packages (from mlflow->pycaret) (3.1.9)\n",
            "Requirement already satisfied: pyyaml in /usr/local/lib/python3.6/dist-packages (from mlflow->pycaret) (3.13)\n",
            "Requirement already satisfied: traitlets>=4.3.1 in /usr/local/lib/python3.6/dist-packages (from ipywidgets->pycaret) (4.3.3)\n",
            "Requirement already satisfied: widgetsnbextension~=3.5.0 in /usr/local/lib/python3.6/dist-packages (from ipywidgets->pycaret) (3.5.1)\n",
            "Requirement already satisfied: nbformat>=4.2.0 in /usr/local/lib/python3.6/dist-packages (from ipywidgets->pycaret) (5.0.7)\n",
            "Requirement already satisfied: ipykernel>=4.5.1 in /usr/local/lib/python3.6/dist-packages (from ipywidgets->pycaret) (4.10.1)\n",
            "Requirement already satisfied: visions[type_image_path]==0.5.0 in /usr/local/lib/python3.6/dist-packages (from pandas-profiling>=2.8.0->pycaret) (0.5.0)\n",
            "Requirement already satisfied: confuse>=1.0.0 in /usr/local/lib/python3.6/dist-packages (from pandas-profiling>=2.8.0->pycaret) (1.3.0)\n",
            "Requirement already satisfied: jinja2>=2.11.1 in /usr/local/lib/python3.6/dist-packages (from pandas-profiling>=2.8.0->pycaret) (2.11.2)\n",
            "Requirement already satisfied: htmlmin>=0.1.12 in /usr/local/lib/python3.6/dist-packages (from pandas-profiling>=2.8.0->pycaret) (0.1.12)\n",
            "Requirement already satisfied: phik>=0.9.10 in /usr/local/lib/python3.6/dist-packages (from pandas-profiling>=2.8.0->pycaret) (0.10.0)\n",
            "Requirement already satisfied: missingno>=0.4.2 in /usr/local/lib/python3.6/dist-packages (from pandas-profiling>=2.8.0->pycaret) (0.4.2)\n",
            "Requirement already satisfied: tangled-up-in-unicode>=0.0.6 in /usr/local/lib/python3.6/dist-packages (from pandas-profiling>=2.8.0->pycaret) (0.0.6)\n",
            "Requirement already satisfied: attrs>=19.3.0 in /usr/local/lib/python3.6/dist-packages (from pandas-profiling>=2.8.0->pycaret) (20.2.0)\n",
            "Requirement already satisfied: regex>=2017.02.08 in /usr/local/lib/python3.6/dist-packages (from datefinder>=0.7.0->pycaret) (2019.12.20)\n",
            "Requirement already satisfied: pickleshare in /usr/local/lib/python3.6/dist-packages (from IPython->pycaret) (0.7.5)\n",
            "Requirement already satisfied: simplegeneric>0.8 in /usr/local/lib/python3.6/dist-packages (from IPython->pycaret) (0.8.1)\n",
            "Requirement already satisfied: prompt-toolkit<2.0.0,>=1.0.4 in /usr/local/lib/python3.6/dist-packages (from IPython->pycaret) (1.0.18)\n",
            "Requirement already satisfied: pexpect; sys_platform != \"win32\" in /usr/local/lib/python3.6/dist-packages (from IPython->pycaret) (4.8.0)\n",
            "Requirement already satisfied: decorator in /usr/local/lib/python3.6/dist-packages (from IPython->pycaret) (4.4.2)\n",
            "Requirement already satisfied: pygments in /usr/local/lib/python3.6/dist-packages (from IPython->pycaret) (2.6.1)\n",
            "Requirement already satisfied: retrying>=1.3.3 in /usr/local/lib/python3.6/dist-packages (from plotly>=4.4.1->pycaret) (1.3.3)\n",
            "Requirement already satisfied: colorlover>=0.2.1 in /usr/local/lib/python3.6/dist-packages (from cufflinks>=0.17.0->pycaret) (0.3.0)\n",
            "Requirement already satisfied: future in /usr/local/lib/python3.6/dist-packages (from pyLDAvis->pycaret) (0.16.0)\n",
            "Requirement already satisfied: funcy in /usr/local/lib/python3.6/dist-packages (from pyLDAvis->pycaret) (1.15)\n",
            "Requirement already satisfied: numexpr in /usr/local/lib/python3.6/dist-packages (from pyLDAvis->pycaret) (2.7.1)\n",
            "Requirement already satisfied: wheel>=0.23.0 in /usr/local/lib/python3.6/dist-packages (from pyLDAvis->pycaret) (0.35.1)\n",
            "Requirement already satisfied: pytest in /usr/local/lib/python3.6/dist-packages (from pyLDAvis->pycaret) (3.6.4)\n",
            "Requirement already satisfied: idna<3,>=2.5 in /usr/local/lib/python3.6/dist-packages (from requests<3.0.0,>=2.13.0->spacy->pycaret) (2.10)\n",
            "Requirement already satisfied: chardet<4,>=3.0.2 in /usr/local/lib/python3.6/dist-packages (from requests<3.0.0,>=2.13.0->spacy->pycaret) (3.0.4)\n",
            "Requirement already satisfied: certifi>=2017.4.17 in /usr/local/lib/python3.6/dist-packages (from requests<3.0.0,>=2.13.0->spacy->pycaret) (2020.6.20)\n",
            "Requirement already satisfied: urllib3!=1.25.0,!=1.25.1,<1.26,>=1.21.1 in /usr/local/lib/python3.6/dist-packages (from requests<3.0.0,>=2.13.0->spacy->pycaret) (1.24.3)\n",
            "Requirement already satisfied: importlib-metadata>=0.20; python_version < \"3.8\" in /usr/local/lib/python3.6/dist-packages (from catalogue<1.1.0,>=0.0.7->spacy->pycaret) (2.0.0)\n",
            "Requirement already satisfied: patsy>=0.4.0 in /usr/local/lib/python3.6/dist-packages (from statsmodels->pyod->pycaret) (0.5.1)\n",
            "Requirement already satisfied: llvmlite<0.32.0,>=0.31.0dev0 in /usr/local/lib/python3.6/dist-packages (from numba>=0.35->pyod->pycaret) (0.31.0)\n",
            "Requirement already satisfied: tenacity>=6.2.0 in /usr/local/lib/python3.6/dist-packages (from databricks-cli>=0.8.7->mlflow->pycaret) (6.2.0)\n",
            "Requirement already satisfied: tabulate>=0.7.7 in /usr/local/lib/python3.6/dist-packages (from databricks-cli>=0.8.7->mlflow->pycaret) (0.8.7)\n",
            "Requirement already satisfied: itsdangerous>=0.24 in /usr/local/lib/python3.6/dist-packages (from Flask->mlflow->pycaret) (1.1.0)\n",
            "Requirement already satisfied: Werkzeug>=0.15 in /usr/local/lib/python3.6/dist-packages (from Flask->mlflow->pycaret) (1.0.1)\n",
            "Requirement already satisfied: websocket-client>=0.32.0 in /usr/local/lib/python3.6/dist-packages (from docker>=4.0.0->mlflow->pycaret) (0.57.0)\n",
            "Requirement already satisfied: cryptography>=2.1.4 in /usr/local/lib/python3.6/dist-packages (from azure-storage-blob>=12.0->mlflow->pycaret) (3.1.1)\n",
            "Requirement already satisfied: msrest>=0.6.10 in /usr/local/lib/python3.6/dist-packages (from azure-storage-blob>=12.0->mlflow->pycaret) (0.6.19)\n",
            "Requirement already satisfied: azure-core<2.0.0,>=1.6.0 in /usr/local/lib/python3.6/dist-packages (from azure-storage-blob>=12.0->mlflow->pycaret) (1.8.2)\n",
            "Requirement already satisfied: prometheus-client in /usr/local/lib/python3.6/dist-packages (from prometheus-flask-exporter->mlflow->pycaret) (0.8.0)\n",
            "Requirement already satisfied: Mako in /usr/local/lib/python3.6/dist-packages (from alembic<=1.4.1->mlflow->pycaret) (1.1.3)\n",
            "Requirement already satisfied: python-editor>=0.3 in /usr/local/lib/python3.6/dist-packages (from alembic<=1.4.1->mlflow->pycaret) (1.0.4)\n",
            "Requirement already satisfied: gitdb<5,>=4.0.1 in /usr/local/lib/python3.6/dist-packages (from gitpython>=2.1.0->mlflow->pycaret) (4.0.5)\n",
            "Requirement already satisfied: ipython-genutils in /usr/local/lib/python3.6/dist-packages (from traitlets>=4.3.1->ipywidgets->pycaret) (0.2.0)\n",
            "Requirement already satisfied: notebook>=4.4.1 in /usr/local/lib/python3.6/dist-packages (from widgetsnbextension~=3.5.0->ipywidgets->pycaret) (5.3.1)\n",
            "Requirement already satisfied: jsonschema!=2.5.0,>=2.4 in /usr/local/lib/python3.6/dist-packages (from nbformat>=4.2.0->ipywidgets->pycaret) (2.6.0)\n",
            "Requirement already satisfied: jupyter-core in /usr/local/lib/python3.6/dist-packages (from nbformat>=4.2.0->ipywidgets->pycaret) (4.6.3)\n",
            "Requirement already satisfied: tornado>=4.0 in /usr/local/lib/python3.6/dist-packages (from ipykernel>=4.5.1->ipywidgets->pycaret) (5.1.1)\n",
            "Requirement already satisfied: jupyter-client in /usr/local/lib/python3.6/dist-packages (from ipykernel>=4.5.1->ipywidgets->pycaret) (5.3.5)\n",
            "Requirement already satisfied: networkx>=2.4 in /usr/local/lib/python3.6/dist-packages (from visions[type_image_path]==0.5.0->pandas-profiling>=2.8.0->pycaret) (2.5)\n",
            "Requirement already satisfied: imagehash; extra == \"type_image_path\" in /usr/local/lib/python3.6/dist-packages (from visions[type_image_path]==0.5.0->pandas-profiling>=2.8.0->pycaret) (4.1.0)\n",
            "Requirement already satisfied: MarkupSafe>=0.23 in /usr/local/lib/python3.6/dist-packages (from jinja2>=2.11.1->pandas-profiling>=2.8.0->pycaret) (1.1.1)\n",
            "Requirement already satisfied: wcwidth in /usr/local/lib/python3.6/dist-packages (from prompt-toolkit<2.0.0,>=1.0.4->IPython->pycaret) (0.2.5)\n",
            "Requirement already satisfied: ptyprocess>=0.5 in /usr/local/lib/python3.6/dist-packages (from pexpect; sys_platform != \"win32\"->IPython->pycaret) (0.6.0)\n",
            "Requirement already satisfied: py>=1.5.0 in /usr/local/lib/python3.6/dist-packages (from pytest->pyLDAvis->pycaret) (1.9.0)\n",
            "Requirement already satisfied: more-itertools>=4.0.0 in /usr/local/lib/python3.6/dist-packages (from pytest->pyLDAvis->pycaret) (8.5.0)\n",
            "Requirement already satisfied: atomicwrites>=1.0 in /usr/local/lib/python3.6/dist-packages (from pytest->pyLDAvis->pycaret) (1.4.0)\n",
            "Requirement already satisfied: pluggy<0.8,>=0.5 in /usr/local/lib/python3.6/dist-packages (from pytest->pyLDAvis->pycaret) (0.7.1)\n",
            "Requirement already satisfied: zipp>=0.5 in /usr/local/lib/python3.6/dist-packages (from importlib-metadata>=0.20; python_version < \"3.8\"->catalogue<1.1.0,>=0.0.7->spacy->pycaret) (3.2.0)\n",
            "Requirement already satisfied: cffi!=1.11.3,>=1.8 in /usr/local/lib/python3.6/dist-packages (from cryptography>=2.1.4->azure-storage-blob>=12.0->mlflow->pycaret) (1.14.3)\n",
            "Requirement already satisfied: requests-oauthlib>=0.5.0 in /usr/local/lib/python3.6/dist-packages (from msrest>=0.6.10->azure-storage-blob>=12.0->mlflow->pycaret) (1.3.0)\n",
            "Requirement already satisfied: isodate>=0.6.0 in /usr/local/lib/python3.6/dist-packages (from msrest>=0.6.10->azure-storage-blob>=12.0->mlflow->pycaret) (0.6.0)\n",
            "Requirement already satisfied: smmap<4,>=3.0.1 in /usr/local/lib/python3.6/dist-packages (from gitdb<5,>=4.0.1->gitpython>=2.1.0->mlflow->pycaret) (3.0.4)\n",
            "Requirement already satisfied: nbconvert in /usr/local/lib/python3.6/dist-packages (from notebook>=4.4.1->widgetsnbextension~=3.5.0->ipywidgets->pycaret) (5.6.1)\n",
            "Requirement already satisfied: Send2Trash in /usr/local/lib/python3.6/dist-packages (from notebook>=4.4.1->widgetsnbextension~=3.5.0->ipywidgets->pycaret) (1.5.0)\n",
            "Requirement already satisfied: terminado>=0.8.1 in /usr/local/lib/python3.6/dist-packages (from notebook>=4.4.1->widgetsnbextension~=3.5.0->ipywidgets->pycaret) (0.9.1)\n",
            "Requirement already satisfied: pyzmq>=13 in /usr/local/lib/python3.6/dist-packages (from jupyter-client->ipykernel>=4.5.1->ipywidgets->pycaret) (19.0.2)\n",
            "Requirement already satisfied: PyWavelets in /usr/local/lib/python3.6/dist-packages (from imagehash; extra == \"type_image_path\"->visions[type_image_path]==0.5.0->pandas-profiling>=2.8.0->pycaret) (1.1.1)\n",
            "Requirement already satisfied: pycparser in /usr/local/lib/python3.6/dist-packages (from cffi!=1.11.3,>=1.8->cryptography>=2.1.4->azure-storage-blob>=12.0->mlflow->pycaret) (2.20)\n",
            "Requirement already satisfied: oauthlib>=3.0.0 in /usr/local/lib/python3.6/dist-packages (from requests-oauthlib>=0.5.0->msrest>=0.6.10->azure-storage-blob>=12.0->mlflow->pycaret) (3.1.0)\n",
            "Requirement already satisfied: pandocfilters>=1.4.1 in /usr/local/lib/python3.6/dist-packages (from nbconvert->notebook>=4.4.1->widgetsnbextension~=3.5.0->ipywidgets->pycaret) (1.4.2)\n",
            "Requirement already satisfied: bleach in /usr/local/lib/python3.6/dist-packages (from nbconvert->notebook>=4.4.1->widgetsnbextension~=3.5.0->ipywidgets->pycaret) (3.2.1)\n",
            "Requirement already satisfied: mistune<2,>=0.8.1 in /usr/local/lib/python3.6/dist-packages (from nbconvert->notebook>=4.4.1->widgetsnbextension~=3.5.0->ipywidgets->pycaret) (0.8.4)\n",
            "Requirement already satisfied: defusedxml in /usr/local/lib/python3.6/dist-packages (from nbconvert->notebook>=4.4.1->widgetsnbextension~=3.5.0->ipywidgets->pycaret) (0.6.0)\n",
            "Requirement already satisfied: testpath in /usr/local/lib/python3.6/dist-packages (from nbconvert->notebook>=4.4.1->widgetsnbextension~=3.5.0->ipywidgets->pycaret) (0.4.4)\n",
            "Requirement already satisfied: webencodings in /usr/local/lib/python3.6/dist-packages (from bleach->nbconvert->notebook>=4.4.1->widgetsnbextension~=3.5.0->ipywidgets->pycaret) (0.5.1)\n",
            "Requirement already satisfied: packaging in /usr/local/lib/python3.6/dist-packages (from bleach->nbconvert->notebook>=4.4.1->widgetsnbextension~=3.5.0->ipywidgets->pycaret) (20.4)\n"
          ],
          "name": "stdout"
        }
      ]
    },
    {
      "cell_type": "code",
      "metadata": {
        "id": "OMEPYJZ6rcyc"
      },
      "source": [
        "### Loading Dataset From Pycaret\n",
        "# For details have look at https://pycaret.org/\n",
        "from pycaret.datasets import get_data"
      ],
      "execution_count": 36,
      "outputs": []
    },
    {
      "cell_type": "code",
      "metadata": {
        "id": "R4f6d10Wrcyk",
        "outputId": "b2beb932-5a09-48c8-9483-e81cacd67436",
        "colab": {
          "base_uri": "https://localhost:8080/",
          "height": 238
        }
      },
      "source": [
        "#### Classification Example\n",
        "diabetes_df=get_data(\"diabetes\")"
      ],
      "execution_count": 37,
      "outputs": [
        {
          "output_type": "display_data",
          "data": {
            "text/html": [
              "<div>\n",
              "<style scoped>\n",
              "    .dataframe tbody tr th:only-of-type {\n",
              "        vertical-align: middle;\n",
              "    }\n",
              "\n",
              "    .dataframe tbody tr th {\n",
              "        vertical-align: top;\n",
              "    }\n",
              "\n",
              "    .dataframe thead th {\n",
              "        text-align: right;\n",
              "    }\n",
              "</style>\n",
              "<table border=\"1\" class=\"dataframe\">\n",
              "  <thead>\n",
              "    <tr style=\"text-align: right;\">\n",
              "      <th></th>\n",
              "      <th>Number of times pregnant</th>\n",
              "      <th>Plasma glucose concentration a 2 hours in an oral glucose tolerance test</th>\n",
              "      <th>Diastolic blood pressure (mm Hg)</th>\n",
              "      <th>Triceps skin fold thickness (mm)</th>\n",
              "      <th>2-Hour serum insulin (mu U/ml)</th>\n",
              "      <th>Body mass index (weight in kg/(height in m)^2)</th>\n",
              "      <th>Diabetes pedigree function</th>\n",
              "      <th>Age (years)</th>\n",
              "      <th>Class variable</th>\n",
              "    </tr>\n",
              "  </thead>\n",
              "  <tbody>\n",
              "    <tr>\n",
              "      <th>0</th>\n",
              "      <td>6</td>\n",
              "      <td>148</td>\n",
              "      <td>72</td>\n",
              "      <td>35</td>\n",
              "      <td>0</td>\n",
              "      <td>33.6</td>\n",
              "      <td>0.627</td>\n",
              "      <td>50</td>\n",
              "      <td>1</td>\n",
              "    </tr>\n",
              "    <tr>\n",
              "      <th>1</th>\n",
              "      <td>1</td>\n",
              "      <td>85</td>\n",
              "      <td>66</td>\n",
              "      <td>29</td>\n",
              "      <td>0</td>\n",
              "      <td>26.6</td>\n",
              "      <td>0.351</td>\n",
              "      <td>31</td>\n",
              "      <td>0</td>\n",
              "    </tr>\n",
              "    <tr>\n",
              "      <th>2</th>\n",
              "      <td>8</td>\n",
              "      <td>183</td>\n",
              "      <td>64</td>\n",
              "      <td>0</td>\n",
              "      <td>0</td>\n",
              "      <td>23.3</td>\n",
              "      <td>0.672</td>\n",
              "      <td>32</td>\n",
              "      <td>1</td>\n",
              "    </tr>\n",
              "    <tr>\n",
              "      <th>3</th>\n",
              "      <td>1</td>\n",
              "      <td>89</td>\n",
              "      <td>66</td>\n",
              "      <td>23</td>\n",
              "      <td>94</td>\n",
              "      <td>28.1</td>\n",
              "      <td>0.167</td>\n",
              "      <td>21</td>\n",
              "      <td>0</td>\n",
              "    </tr>\n",
              "    <tr>\n",
              "      <th>4</th>\n",
              "      <td>0</td>\n",
              "      <td>137</td>\n",
              "      <td>40</td>\n",
              "      <td>35</td>\n",
              "      <td>168</td>\n",
              "      <td>43.1</td>\n",
              "      <td>2.288</td>\n",
              "      <td>33</td>\n",
              "      <td>1</td>\n",
              "    </tr>\n",
              "  </tbody>\n",
              "</table>\n",
              "</div>"
            ],
            "text/plain": [
              "   Number of times pregnant  ...  Class variable\n",
              "0                         6  ...               1\n",
              "1                         1  ...               0\n",
              "2                         8  ...               1\n",
              "3                         1  ...               0\n",
              "4                         0  ...               1\n",
              "\n",
              "[5 rows x 9 columns]"
            ]
          },
          "metadata": {
            "tags": []
          }
        }
      ]
    },
    {
      "cell_type": "code",
      "metadata": {
        "id": "LRV4tJnqrcyt",
        "outputId": "cc23d6a7-ee41-42fa-dbcf-8b9e83365884",
        "colab": {
          "base_uri": "https://localhost:8080/",
          "height": 68
        }
      },
      "source": [
        "diabetes_df['Class variable'].value_counts()"
      ],
      "execution_count": 38,
      "outputs": [
        {
          "output_type": "execute_result",
          "data": {
            "text/plain": [
              "0    500\n",
              "1    268\n",
              "Name: Class variable, dtype: int64"
            ]
          },
          "metadata": {
            "tags": []
          },
          "execution_count": 38
        }
      ]
    },
    {
      "cell_type": "code",
      "metadata": {
        "id": "3IfZ0lc4rcy0",
        "outputId": "70b5c71b-d88a-4b10-e699-199670d6dcd6",
        "colab": {
          "base_uri": "https://localhost:8080/",
          "height": 981,
          "referenced_widgets": [
            "ea8fbc47d4b04f3d831d30230a056139",
            "24cfbd9e933644219c3d25a4864b381f",
            "8977c9fa20274250a6f9fee99011bf6e",
            "fac649ccc5c74457a6414980f04f1b11",
            "a4cf32d141944f668f901c8ca4dee301",
            "15ec79751ba344ab8f8a300d7755db13"
          ]
        }
      },
      "source": [
        "from pycaret.classification import *\n",
        "clf=setup(data=diabetes_df,target='Class variable')  #press enter after running this cell"
      ],
      "execution_count": 39,
      "outputs": [
        {
          "output_type": "stream",
          "text": [
            "Setup Succesfully Completed!\n"
          ],
          "name": "stdout"
        },
        {
          "output_type": "display_data",
          "data": {
            "text/html": [
              "<style  type=\"text/css\" >\n",
              "</style><table id=\"T_a56ed976_0fa4_11eb_a725_0242ac1c0002\" ><thead>    <tr>        <th class=\"blank level0\" ></th>        <th class=\"col_heading level0 col0\" >Description</th>        <th class=\"col_heading level0 col1\" >Value</th>    </tr></thead><tbody>\n",
              "                <tr>\n",
              "                        <th id=\"T_a56ed976_0fa4_11eb_a725_0242ac1c0002level0_row0\" class=\"row_heading level0 row0\" >0</th>\n",
              "                        <td id=\"T_a56ed976_0fa4_11eb_a725_0242ac1c0002row0_col0\" class=\"data row0 col0\" >session_id</td>\n",
              "                        <td id=\"T_a56ed976_0fa4_11eb_a725_0242ac1c0002row0_col1\" class=\"data row0 col1\" >8449</td>\n",
              "            </tr>\n",
              "            <tr>\n",
              "                        <th id=\"T_a56ed976_0fa4_11eb_a725_0242ac1c0002level0_row1\" class=\"row_heading level0 row1\" >1</th>\n",
              "                        <td id=\"T_a56ed976_0fa4_11eb_a725_0242ac1c0002row1_col0\" class=\"data row1 col0\" >Target Type</td>\n",
              "                        <td id=\"T_a56ed976_0fa4_11eb_a725_0242ac1c0002row1_col1\" class=\"data row1 col1\" >Binary</td>\n",
              "            </tr>\n",
              "            <tr>\n",
              "                        <th id=\"T_a56ed976_0fa4_11eb_a725_0242ac1c0002level0_row2\" class=\"row_heading level0 row2\" >2</th>\n",
              "                        <td id=\"T_a56ed976_0fa4_11eb_a725_0242ac1c0002row2_col0\" class=\"data row2 col0\" >Label Encoded</td>\n",
              "                        <td id=\"T_a56ed976_0fa4_11eb_a725_0242ac1c0002row2_col1\" class=\"data row2 col1\" >0: 0, 1: 1</td>\n",
              "            </tr>\n",
              "            <tr>\n",
              "                        <th id=\"T_a56ed976_0fa4_11eb_a725_0242ac1c0002level0_row3\" class=\"row_heading level0 row3\" >3</th>\n",
              "                        <td id=\"T_a56ed976_0fa4_11eb_a725_0242ac1c0002row3_col0\" class=\"data row3 col0\" >Original Data</td>\n",
              "                        <td id=\"T_a56ed976_0fa4_11eb_a725_0242ac1c0002row3_col1\" class=\"data row3 col1\" >(768, 9)</td>\n",
              "            </tr>\n",
              "            <tr>\n",
              "                        <th id=\"T_a56ed976_0fa4_11eb_a725_0242ac1c0002level0_row4\" class=\"row_heading level0 row4\" >4</th>\n",
              "                        <td id=\"T_a56ed976_0fa4_11eb_a725_0242ac1c0002row4_col0\" class=\"data row4 col0\" >Missing Values </td>\n",
              "                        <td id=\"T_a56ed976_0fa4_11eb_a725_0242ac1c0002row4_col1\" class=\"data row4 col1\" >False</td>\n",
              "            </tr>\n",
              "            <tr>\n",
              "                        <th id=\"T_a56ed976_0fa4_11eb_a725_0242ac1c0002level0_row5\" class=\"row_heading level0 row5\" >5</th>\n",
              "                        <td id=\"T_a56ed976_0fa4_11eb_a725_0242ac1c0002row5_col0\" class=\"data row5 col0\" >Numeric Features </td>\n",
              "                        <td id=\"T_a56ed976_0fa4_11eb_a725_0242ac1c0002row5_col1\" class=\"data row5 col1\" >7</td>\n",
              "            </tr>\n",
              "            <tr>\n",
              "                        <th id=\"T_a56ed976_0fa4_11eb_a725_0242ac1c0002level0_row6\" class=\"row_heading level0 row6\" >6</th>\n",
              "                        <td id=\"T_a56ed976_0fa4_11eb_a725_0242ac1c0002row6_col0\" class=\"data row6 col0\" >Categorical Features </td>\n",
              "                        <td id=\"T_a56ed976_0fa4_11eb_a725_0242ac1c0002row6_col1\" class=\"data row6 col1\" >1</td>\n",
              "            </tr>\n",
              "            <tr>\n",
              "                        <th id=\"T_a56ed976_0fa4_11eb_a725_0242ac1c0002level0_row7\" class=\"row_heading level0 row7\" >7</th>\n",
              "                        <td id=\"T_a56ed976_0fa4_11eb_a725_0242ac1c0002row7_col0\" class=\"data row7 col0\" >Ordinal Features </td>\n",
              "                        <td id=\"T_a56ed976_0fa4_11eb_a725_0242ac1c0002row7_col1\" class=\"data row7 col1\" >False</td>\n",
              "            </tr>\n",
              "            <tr>\n",
              "                        <th id=\"T_a56ed976_0fa4_11eb_a725_0242ac1c0002level0_row8\" class=\"row_heading level0 row8\" >8</th>\n",
              "                        <td id=\"T_a56ed976_0fa4_11eb_a725_0242ac1c0002row8_col0\" class=\"data row8 col0\" >High Cardinality Features </td>\n",
              "                        <td id=\"T_a56ed976_0fa4_11eb_a725_0242ac1c0002row8_col1\" class=\"data row8 col1\" >False</td>\n",
              "            </tr>\n",
              "            <tr>\n",
              "                        <th id=\"T_a56ed976_0fa4_11eb_a725_0242ac1c0002level0_row9\" class=\"row_heading level0 row9\" >9</th>\n",
              "                        <td id=\"T_a56ed976_0fa4_11eb_a725_0242ac1c0002row9_col0\" class=\"data row9 col0\" >High Cardinality Method </td>\n",
              "                        <td id=\"T_a56ed976_0fa4_11eb_a725_0242ac1c0002row9_col1\" class=\"data row9 col1\" >None</td>\n",
              "            </tr>\n",
              "            <tr>\n",
              "                        <th id=\"T_a56ed976_0fa4_11eb_a725_0242ac1c0002level0_row10\" class=\"row_heading level0 row10\" >10</th>\n",
              "                        <td id=\"T_a56ed976_0fa4_11eb_a725_0242ac1c0002row10_col0\" class=\"data row10 col0\" >Sampled Data</td>\n",
              "                        <td id=\"T_a56ed976_0fa4_11eb_a725_0242ac1c0002row10_col1\" class=\"data row10 col1\" >(768, 9)</td>\n",
              "            </tr>\n",
              "            <tr>\n",
              "                        <th id=\"T_a56ed976_0fa4_11eb_a725_0242ac1c0002level0_row11\" class=\"row_heading level0 row11\" >11</th>\n",
              "                        <td id=\"T_a56ed976_0fa4_11eb_a725_0242ac1c0002row11_col0\" class=\"data row11 col0\" >Transformed Train Set</td>\n",
              "                        <td id=\"T_a56ed976_0fa4_11eb_a725_0242ac1c0002row11_col1\" class=\"data row11 col1\" >(537, 24)</td>\n",
              "            </tr>\n",
              "            <tr>\n",
              "                        <th id=\"T_a56ed976_0fa4_11eb_a725_0242ac1c0002level0_row12\" class=\"row_heading level0 row12\" >12</th>\n",
              "                        <td id=\"T_a56ed976_0fa4_11eb_a725_0242ac1c0002row12_col0\" class=\"data row12 col0\" >Transformed Test Set</td>\n",
              "                        <td id=\"T_a56ed976_0fa4_11eb_a725_0242ac1c0002row12_col1\" class=\"data row12 col1\" >(231, 24)</td>\n",
              "            </tr>\n",
              "            <tr>\n",
              "                        <th id=\"T_a56ed976_0fa4_11eb_a725_0242ac1c0002level0_row13\" class=\"row_heading level0 row13\" >13</th>\n",
              "                        <td id=\"T_a56ed976_0fa4_11eb_a725_0242ac1c0002row13_col0\" class=\"data row13 col0\" >Numeric Imputer </td>\n",
              "                        <td id=\"T_a56ed976_0fa4_11eb_a725_0242ac1c0002row13_col1\" class=\"data row13 col1\" >mean</td>\n",
              "            </tr>\n",
              "            <tr>\n",
              "                        <th id=\"T_a56ed976_0fa4_11eb_a725_0242ac1c0002level0_row14\" class=\"row_heading level0 row14\" >14</th>\n",
              "                        <td id=\"T_a56ed976_0fa4_11eb_a725_0242ac1c0002row14_col0\" class=\"data row14 col0\" >Categorical Imputer </td>\n",
              "                        <td id=\"T_a56ed976_0fa4_11eb_a725_0242ac1c0002row14_col1\" class=\"data row14 col1\" >constant</td>\n",
              "            </tr>\n",
              "            <tr>\n",
              "                        <th id=\"T_a56ed976_0fa4_11eb_a725_0242ac1c0002level0_row15\" class=\"row_heading level0 row15\" >15</th>\n",
              "                        <td id=\"T_a56ed976_0fa4_11eb_a725_0242ac1c0002row15_col0\" class=\"data row15 col0\" >Normalize </td>\n",
              "                        <td id=\"T_a56ed976_0fa4_11eb_a725_0242ac1c0002row15_col1\" class=\"data row15 col1\" >False</td>\n",
              "            </tr>\n",
              "            <tr>\n",
              "                        <th id=\"T_a56ed976_0fa4_11eb_a725_0242ac1c0002level0_row16\" class=\"row_heading level0 row16\" >16</th>\n",
              "                        <td id=\"T_a56ed976_0fa4_11eb_a725_0242ac1c0002row16_col0\" class=\"data row16 col0\" >Normalize Method </td>\n",
              "                        <td id=\"T_a56ed976_0fa4_11eb_a725_0242ac1c0002row16_col1\" class=\"data row16 col1\" >None</td>\n",
              "            </tr>\n",
              "            <tr>\n",
              "                        <th id=\"T_a56ed976_0fa4_11eb_a725_0242ac1c0002level0_row17\" class=\"row_heading level0 row17\" >17</th>\n",
              "                        <td id=\"T_a56ed976_0fa4_11eb_a725_0242ac1c0002row17_col0\" class=\"data row17 col0\" >Transformation </td>\n",
              "                        <td id=\"T_a56ed976_0fa4_11eb_a725_0242ac1c0002row17_col1\" class=\"data row17 col1\" >False</td>\n",
              "            </tr>\n",
              "            <tr>\n",
              "                        <th id=\"T_a56ed976_0fa4_11eb_a725_0242ac1c0002level0_row18\" class=\"row_heading level0 row18\" >18</th>\n",
              "                        <td id=\"T_a56ed976_0fa4_11eb_a725_0242ac1c0002row18_col0\" class=\"data row18 col0\" >Transformation Method </td>\n",
              "                        <td id=\"T_a56ed976_0fa4_11eb_a725_0242ac1c0002row18_col1\" class=\"data row18 col1\" >None</td>\n",
              "            </tr>\n",
              "            <tr>\n",
              "                        <th id=\"T_a56ed976_0fa4_11eb_a725_0242ac1c0002level0_row19\" class=\"row_heading level0 row19\" >19</th>\n",
              "                        <td id=\"T_a56ed976_0fa4_11eb_a725_0242ac1c0002row19_col0\" class=\"data row19 col0\" >PCA </td>\n",
              "                        <td id=\"T_a56ed976_0fa4_11eb_a725_0242ac1c0002row19_col1\" class=\"data row19 col1\" >False</td>\n",
              "            </tr>\n",
              "            <tr>\n",
              "                        <th id=\"T_a56ed976_0fa4_11eb_a725_0242ac1c0002level0_row20\" class=\"row_heading level0 row20\" >20</th>\n",
              "                        <td id=\"T_a56ed976_0fa4_11eb_a725_0242ac1c0002row20_col0\" class=\"data row20 col0\" >PCA Method </td>\n",
              "                        <td id=\"T_a56ed976_0fa4_11eb_a725_0242ac1c0002row20_col1\" class=\"data row20 col1\" >None</td>\n",
              "            </tr>\n",
              "            <tr>\n",
              "                        <th id=\"T_a56ed976_0fa4_11eb_a725_0242ac1c0002level0_row21\" class=\"row_heading level0 row21\" >21</th>\n",
              "                        <td id=\"T_a56ed976_0fa4_11eb_a725_0242ac1c0002row21_col0\" class=\"data row21 col0\" >PCA Components </td>\n",
              "                        <td id=\"T_a56ed976_0fa4_11eb_a725_0242ac1c0002row21_col1\" class=\"data row21 col1\" >None</td>\n",
              "            </tr>\n",
              "            <tr>\n",
              "                        <th id=\"T_a56ed976_0fa4_11eb_a725_0242ac1c0002level0_row22\" class=\"row_heading level0 row22\" >22</th>\n",
              "                        <td id=\"T_a56ed976_0fa4_11eb_a725_0242ac1c0002row22_col0\" class=\"data row22 col0\" >Ignore Low Variance </td>\n",
              "                        <td id=\"T_a56ed976_0fa4_11eb_a725_0242ac1c0002row22_col1\" class=\"data row22 col1\" >False</td>\n",
              "            </tr>\n",
              "            <tr>\n",
              "                        <th id=\"T_a56ed976_0fa4_11eb_a725_0242ac1c0002level0_row23\" class=\"row_heading level0 row23\" >23</th>\n",
              "                        <td id=\"T_a56ed976_0fa4_11eb_a725_0242ac1c0002row23_col0\" class=\"data row23 col0\" >Combine Rare Levels </td>\n",
              "                        <td id=\"T_a56ed976_0fa4_11eb_a725_0242ac1c0002row23_col1\" class=\"data row23 col1\" >False</td>\n",
              "            </tr>\n",
              "            <tr>\n",
              "                        <th id=\"T_a56ed976_0fa4_11eb_a725_0242ac1c0002level0_row24\" class=\"row_heading level0 row24\" >24</th>\n",
              "                        <td id=\"T_a56ed976_0fa4_11eb_a725_0242ac1c0002row24_col0\" class=\"data row24 col0\" >Rare Level Threshold </td>\n",
              "                        <td id=\"T_a56ed976_0fa4_11eb_a725_0242ac1c0002row24_col1\" class=\"data row24 col1\" >None</td>\n",
              "            </tr>\n",
              "            <tr>\n",
              "                        <th id=\"T_a56ed976_0fa4_11eb_a725_0242ac1c0002level0_row25\" class=\"row_heading level0 row25\" >25</th>\n",
              "                        <td id=\"T_a56ed976_0fa4_11eb_a725_0242ac1c0002row25_col0\" class=\"data row25 col0\" >Numeric Binning </td>\n",
              "                        <td id=\"T_a56ed976_0fa4_11eb_a725_0242ac1c0002row25_col1\" class=\"data row25 col1\" >False</td>\n",
              "            </tr>\n",
              "            <tr>\n",
              "                        <th id=\"T_a56ed976_0fa4_11eb_a725_0242ac1c0002level0_row26\" class=\"row_heading level0 row26\" >26</th>\n",
              "                        <td id=\"T_a56ed976_0fa4_11eb_a725_0242ac1c0002row26_col0\" class=\"data row26 col0\" >Remove Outliers </td>\n",
              "                        <td id=\"T_a56ed976_0fa4_11eb_a725_0242ac1c0002row26_col1\" class=\"data row26 col1\" >False</td>\n",
              "            </tr>\n",
              "            <tr>\n",
              "                        <th id=\"T_a56ed976_0fa4_11eb_a725_0242ac1c0002level0_row27\" class=\"row_heading level0 row27\" >27</th>\n",
              "                        <td id=\"T_a56ed976_0fa4_11eb_a725_0242ac1c0002row27_col0\" class=\"data row27 col0\" >Outliers Threshold </td>\n",
              "                        <td id=\"T_a56ed976_0fa4_11eb_a725_0242ac1c0002row27_col1\" class=\"data row27 col1\" >None</td>\n",
              "            </tr>\n",
              "            <tr>\n",
              "                        <th id=\"T_a56ed976_0fa4_11eb_a725_0242ac1c0002level0_row28\" class=\"row_heading level0 row28\" >28</th>\n",
              "                        <td id=\"T_a56ed976_0fa4_11eb_a725_0242ac1c0002row28_col0\" class=\"data row28 col0\" >Remove Multicollinearity </td>\n",
              "                        <td id=\"T_a56ed976_0fa4_11eb_a725_0242ac1c0002row28_col1\" class=\"data row28 col1\" >False</td>\n",
              "            </tr>\n",
              "            <tr>\n",
              "                        <th id=\"T_a56ed976_0fa4_11eb_a725_0242ac1c0002level0_row29\" class=\"row_heading level0 row29\" >29</th>\n",
              "                        <td id=\"T_a56ed976_0fa4_11eb_a725_0242ac1c0002row29_col0\" class=\"data row29 col0\" >Multicollinearity Threshold </td>\n",
              "                        <td id=\"T_a56ed976_0fa4_11eb_a725_0242ac1c0002row29_col1\" class=\"data row29 col1\" >None</td>\n",
              "            </tr>\n",
              "            <tr>\n",
              "                        <th id=\"T_a56ed976_0fa4_11eb_a725_0242ac1c0002level0_row30\" class=\"row_heading level0 row30\" >30</th>\n",
              "                        <td id=\"T_a56ed976_0fa4_11eb_a725_0242ac1c0002row30_col0\" class=\"data row30 col0\" >Clustering </td>\n",
              "                        <td id=\"T_a56ed976_0fa4_11eb_a725_0242ac1c0002row30_col1\" class=\"data row30 col1\" >False</td>\n",
              "            </tr>\n",
              "            <tr>\n",
              "                        <th id=\"T_a56ed976_0fa4_11eb_a725_0242ac1c0002level0_row31\" class=\"row_heading level0 row31\" >31</th>\n",
              "                        <td id=\"T_a56ed976_0fa4_11eb_a725_0242ac1c0002row31_col0\" class=\"data row31 col0\" >Clustering Iteration </td>\n",
              "                        <td id=\"T_a56ed976_0fa4_11eb_a725_0242ac1c0002row31_col1\" class=\"data row31 col1\" >None</td>\n",
              "            </tr>\n",
              "            <tr>\n",
              "                        <th id=\"T_a56ed976_0fa4_11eb_a725_0242ac1c0002level0_row32\" class=\"row_heading level0 row32\" >32</th>\n",
              "                        <td id=\"T_a56ed976_0fa4_11eb_a725_0242ac1c0002row32_col0\" class=\"data row32 col0\" >Polynomial Features </td>\n",
              "                        <td id=\"T_a56ed976_0fa4_11eb_a725_0242ac1c0002row32_col1\" class=\"data row32 col1\" >False</td>\n",
              "            </tr>\n",
              "            <tr>\n",
              "                        <th id=\"T_a56ed976_0fa4_11eb_a725_0242ac1c0002level0_row33\" class=\"row_heading level0 row33\" >33</th>\n",
              "                        <td id=\"T_a56ed976_0fa4_11eb_a725_0242ac1c0002row33_col0\" class=\"data row33 col0\" >Polynomial Degree </td>\n",
              "                        <td id=\"T_a56ed976_0fa4_11eb_a725_0242ac1c0002row33_col1\" class=\"data row33 col1\" >None</td>\n",
              "            </tr>\n",
              "            <tr>\n",
              "                        <th id=\"T_a56ed976_0fa4_11eb_a725_0242ac1c0002level0_row34\" class=\"row_heading level0 row34\" >34</th>\n",
              "                        <td id=\"T_a56ed976_0fa4_11eb_a725_0242ac1c0002row34_col0\" class=\"data row34 col0\" >Trignometry Features </td>\n",
              "                        <td id=\"T_a56ed976_0fa4_11eb_a725_0242ac1c0002row34_col1\" class=\"data row34 col1\" >False</td>\n",
              "            </tr>\n",
              "            <tr>\n",
              "                        <th id=\"T_a56ed976_0fa4_11eb_a725_0242ac1c0002level0_row35\" class=\"row_heading level0 row35\" >35</th>\n",
              "                        <td id=\"T_a56ed976_0fa4_11eb_a725_0242ac1c0002row35_col0\" class=\"data row35 col0\" >Polynomial Threshold </td>\n",
              "                        <td id=\"T_a56ed976_0fa4_11eb_a725_0242ac1c0002row35_col1\" class=\"data row35 col1\" >None</td>\n",
              "            </tr>\n",
              "            <tr>\n",
              "                        <th id=\"T_a56ed976_0fa4_11eb_a725_0242ac1c0002level0_row36\" class=\"row_heading level0 row36\" >36</th>\n",
              "                        <td id=\"T_a56ed976_0fa4_11eb_a725_0242ac1c0002row36_col0\" class=\"data row36 col0\" >Group Features </td>\n",
              "                        <td id=\"T_a56ed976_0fa4_11eb_a725_0242ac1c0002row36_col1\" class=\"data row36 col1\" >False</td>\n",
              "            </tr>\n",
              "            <tr>\n",
              "                        <th id=\"T_a56ed976_0fa4_11eb_a725_0242ac1c0002level0_row37\" class=\"row_heading level0 row37\" >37</th>\n",
              "                        <td id=\"T_a56ed976_0fa4_11eb_a725_0242ac1c0002row37_col0\" class=\"data row37 col0\" >Feature Selection </td>\n",
              "                        <td id=\"T_a56ed976_0fa4_11eb_a725_0242ac1c0002row37_col1\" class=\"data row37 col1\" >False</td>\n",
              "            </tr>\n",
              "            <tr>\n",
              "                        <th id=\"T_a56ed976_0fa4_11eb_a725_0242ac1c0002level0_row38\" class=\"row_heading level0 row38\" >38</th>\n",
              "                        <td id=\"T_a56ed976_0fa4_11eb_a725_0242ac1c0002row38_col0\" class=\"data row38 col0\" >Features Selection Threshold </td>\n",
              "                        <td id=\"T_a56ed976_0fa4_11eb_a725_0242ac1c0002row38_col1\" class=\"data row38 col1\" >None</td>\n",
              "            </tr>\n",
              "            <tr>\n",
              "                        <th id=\"T_a56ed976_0fa4_11eb_a725_0242ac1c0002level0_row39\" class=\"row_heading level0 row39\" >39</th>\n",
              "                        <td id=\"T_a56ed976_0fa4_11eb_a725_0242ac1c0002row39_col0\" class=\"data row39 col0\" >Feature Interaction </td>\n",
              "                        <td id=\"T_a56ed976_0fa4_11eb_a725_0242ac1c0002row39_col1\" class=\"data row39 col1\" >False</td>\n",
              "            </tr>\n",
              "            <tr>\n",
              "                        <th id=\"T_a56ed976_0fa4_11eb_a725_0242ac1c0002level0_row40\" class=\"row_heading level0 row40\" >40</th>\n",
              "                        <td id=\"T_a56ed976_0fa4_11eb_a725_0242ac1c0002row40_col0\" class=\"data row40 col0\" >Feature Ratio </td>\n",
              "                        <td id=\"T_a56ed976_0fa4_11eb_a725_0242ac1c0002row40_col1\" class=\"data row40 col1\" >False</td>\n",
              "            </tr>\n",
              "            <tr>\n",
              "                        <th id=\"T_a56ed976_0fa4_11eb_a725_0242ac1c0002level0_row41\" class=\"row_heading level0 row41\" >41</th>\n",
              "                        <td id=\"T_a56ed976_0fa4_11eb_a725_0242ac1c0002row41_col0\" class=\"data row41 col0\" >Interaction Threshold </td>\n",
              "                        <td id=\"T_a56ed976_0fa4_11eb_a725_0242ac1c0002row41_col1\" class=\"data row41 col1\" >None</td>\n",
              "            </tr>\n",
              "            <tr>\n",
              "                        <th id=\"T_a56ed976_0fa4_11eb_a725_0242ac1c0002level0_row42\" class=\"row_heading level0 row42\" >42</th>\n",
              "                        <td id=\"T_a56ed976_0fa4_11eb_a725_0242ac1c0002row42_col0\" class=\"data row42 col0\" >Fix Imbalance</td>\n",
              "                        <td id=\"T_a56ed976_0fa4_11eb_a725_0242ac1c0002row42_col1\" class=\"data row42 col1\" >False</td>\n",
              "            </tr>\n",
              "            <tr>\n",
              "                        <th id=\"T_a56ed976_0fa4_11eb_a725_0242ac1c0002level0_row43\" class=\"row_heading level0 row43\" >43</th>\n",
              "                        <td id=\"T_a56ed976_0fa4_11eb_a725_0242ac1c0002row43_col0\" class=\"data row43 col0\" >Fix Imbalance Method</td>\n",
              "                        <td id=\"T_a56ed976_0fa4_11eb_a725_0242ac1c0002row43_col1\" class=\"data row43 col1\" >SMOTE</td>\n",
              "            </tr>\n",
              "    </tbody></table>"
            ],
            "text/plain": [
              "<pandas.io.formats.style.Styler at 0x7f04e97d3080>"
            ]
          },
          "metadata": {
            "tags": []
          }
        }
      ]
    },
    {
      "cell_type": "code",
      "metadata": {
        "id": "F5ieedogrcy7",
        "outputId": "1256c3e8-77a4-4250-e022-5866f629c341",
        "colab": {
          "base_uri": "https://localhost:8080/",
          "height": 406,
          "referenced_widgets": [
            "2fcd87daa527470b8e37a23822a06287",
            "378b40aee258404ca4deed1cfb74d77b",
            "1f294a02a54a486fb9f52f0d04c529af"
          ]
        }
      },
      "source": [
        "#### Comparing models\n",
        "compare_models()"
      ],
      "execution_count": 40,
      "outputs": [
        {
          "output_type": "display_data",
          "data": {
            "text/html": [
              "<style  type=\"text/css\" >\n",
              "    #T_ba533760_0fa4_11eb_a725_0242ac1c0002 th {\n",
              "          text-align: left;\n",
              "    }#T_ba533760_0fa4_11eb_a725_0242ac1c0002row0_col0,#T_ba533760_0fa4_11eb_a725_0242ac1c0002row0_col2,#T_ba533760_0fa4_11eb_a725_0242ac1c0002row0_col3,#T_ba533760_0fa4_11eb_a725_0242ac1c0002row0_col5,#T_ba533760_0fa4_11eb_a725_0242ac1c0002row0_col6,#T_ba533760_0fa4_11eb_a725_0242ac1c0002row0_col7,#T_ba533760_0fa4_11eb_a725_0242ac1c0002row1_col0,#T_ba533760_0fa4_11eb_a725_0242ac1c0002row1_col1,#T_ba533760_0fa4_11eb_a725_0242ac1c0002row1_col2,#T_ba533760_0fa4_11eb_a725_0242ac1c0002row1_col3,#T_ba533760_0fa4_11eb_a725_0242ac1c0002row1_col4,#T_ba533760_0fa4_11eb_a725_0242ac1c0002row1_col5,#T_ba533760_0fa4_11eb_a725_0242ac1c0002row2_col0,#T_ba533760_0fa4_11eb_a725_0242ac1c0002row2_col1,#T_ba533760_0fa4_11eb_a725_0242ac1c0002row2_col2,#T_ba533760_0fa4_11eb_a725_0242ac1c0002row2_col3,#T_ba533760_0fa4_11eb_a725_0242ac1c0002row2_col4,#T_ba533760_0fa4_11eb_a725_0242ac1c0002row2_col5,#T_ba533760_0fa4_11eb_a725_0242ac1c0002row2_col6,#T_ba533760_0fa4_11eb_a725_0242ac1c0002row2_col7,#T_ba533760_0fa4_11eb_a725_0242ac1c0002row3_col0,#T_ba533760_0fa4_11eb_a725_0242ac1c0002row3_col1,#T_ba533760_0fa4_11eb_a725_0242ac1c0002row3_col2,#T_ba533760_0fa4_11eb_a725_0242ac1c0002row3_col3,#T_ba533760_0fa4_11eb_a725_0242ac1c0002row3_col4,#T_ba533760_0fa4_11eb_a725_0242ac1c0002row3_col5,#T_ba533760_0fa4_11eb_a725_0242ac1c0002row3_col6,#T_ba533760_0fa4_11eb_a725_0242ac1c0002row3_col7,#T_ba533760_0fa4_11eb_a725_0242ac1c0002row4_col0,#T_ba533760_0fa4_11eb_a725_0242ac1c0002row4_col1,#T_ba533760_0fa4_11eb_a725_0242ac1c0002row4_col2,#T_ba533760_0fa4_11eb_a725_0242ac1c0002row4_col4,#T_ba533760_0fa4_11eb_a725_0242ac1c0002row4_col6,#T_ba533760_0fa4_11eb_a725_0242ac1c0002row4_col7,#T_ba533760_0fa4_11eb_a725_0242ac1c0002row5_col0,#T_ba533760_0fa4_11eb_a725_0242ac1c0002row5_col1,#T_ba533760_0fa4_11eb_a725_0242ac1c0002row5_col2,#T_ba533760_0fa4_11eb_a725_0242ac1c0002row5_col3,#T_ba533760_0fa4_11eb_a725_0242ac1c0002row5_col4,#T_ba533760_0fa4_11eb_a725_0242ac1c0002row5_col5,#T_ba533760_0fa4_11eb_a725_0242ac1c0002row5_col6,#T_ba533760_0fa4_11eb_a725_0242ac1c0002row5_col7,#T_ba533760_0fa4_11eb_a725_0242ac1c0002row6_col0,#T_ba533760_0fa4_11eb_a725_0242ac1c0002row6_col1,#T_ba533760_0fa4_11eb_a725_0242ac1c0002row6_col3,#T_ba533760_0fa4_11eb_a725_0242ac1c0002row6_col4,#T_ba533760_0fa4_11eb_a725_0242ac1c0002row6_col5,#T_ba533760_0fa4_11eb_a725_0242ac1c0002row6_col6,#T_ba533760_0fa4_11eb_a725_0242ac1c0002row6_col7,#T_ba533760_0fa4_11eb_a725_0242ac1c0002row7_col0,#T_ba533760_0fa4_11eb_a725_0242ac1c0002row7_col1,#T_ba533760_0fa4_11eb_a725_0242ac1c0002row7_col2,#T_ba533760_0fa4_11eb_a725_0242ac1c0002row7_col3,#T_ba533760_0fa4_11eb_a725_0242ac1c0002row7_col4,#T_ba533760_0fa4_11eb_a725_0242ac1c0002row7_col5,#T_ba533760_0fa4_11eb_a725_0242ac1c0002row7_col6,#T_ba533760_0fa4_11eb_a725_0242ac1c0002row7_col7,#T_ba533760_0fa4_11eb_a725_0242ac1c0002row8_col0,#T_ba533760_0fa4_11eb_a725_0242ac1c0002row8_col1,#T_ba533760_0fa4_11eb_a725_0242ac1c0002row8_col2,#T_ba533760_0fa4_11eb_a725_0242ac1c0002row8_col3,#T_ba533760_0fa4_11eb_a725_0242ac1c0002row8_col4,#T_ba533760_0fa4_11eb_a725_0242ac1c0002row8_col5,#T_ba533760_0fa4_11eb_a725_0242ac1c0002row8_col6,#T_ba533760_0fa4_11eb_a725_0242ac1c0002row8_col7,#T_ba533760_0fa4_11eb_a725_0242ac1c0002row9_col0,#T_ba533760_0fa4_11eb_a725_0242ac1c0002row9_col1,#T_ba533760_0fa4_11eb_a725_0242ac1c0002row9_col2,#T_ba533760_0fa4_11eb_a725_0242ac1c0002row9_col3,#T_ba533760_0fa4_11eb_a725_0242ac1c0002row9_col4,#T_ba533760_0fa4_11eb_a725_0242ac1c0002row9_col5,#T_ba533760_0fa4_11eb_a725_0242ac1c0002row9_col6,#T_ba533760_0fa4_11eb_a725_0242ac1c0002row9_col7,#T_ba533760_0fa4_11eb_a725_0242ac1c0002row10_col0,#T_ba533760_0fa4_11eb_a725_0242ac1c0002row10_col1,#T_ba533760_0fa4_11eb_a725_0242ac1c0002row10_col2,#T_ba533760_0fa4_11eb_a725_0242ac1c0002row10_col3,#T_ba533760_0fa4_11eb_a725_0242ac1c0002row10_col4,#T_ba533760_0fa4_11eb_a725_0242ac1c0002row10_col5,#T_ba533760_0fa4_11eb_a725_0242ac1c0002row10_col6,#T_ba533760_0fa4_11eb_a725_0242ac1c0002row10_col7,#T_ba533760_0fa4_11eb_a725_0242ac1c0002row11_col0,#T_ba533760_0fa4_11eb_a725_0242ac1c0002row11_col1,#T_ba533760_0fa4_11eb_a725_0242ac1c0002row11_col2,#T_ba533760_0fa4_11eb_a725_0242ac1c0002row11_col3,#T_ba533760_0fa4_11eb_a725_0242ac1c0002row11_col4,#T_ba533760_0fa4_11eb_a725_0242ac1c0002row11_col5,#T_ba533760_0fa4_11eb_a725_0242ac1c0002row11_col6,#T_ba533760_0fa4_11eb_a725_0242ac1c0002row11_col7,#T_ba533760_0fa4_11eb_a725_0242ac1c0002row12_col0,#T_ba533760_0fa4_11eb_a725_0242ac1c0002row12_col1,#T_ba533760_0fa4_11eb_a725_0242ac1c0002row12_col2,#T_ba533760_0fa4_11eb_a725_0242ac1c0002row12_col3,#T_ba533760_0fa4_11eb_a725_0242ac1c0002row12_col4,#T_ba533760_0fa4_11eb_a725_0242ac1c0002row12_col5,#T_ba533760_0fa4_11eb_a725_0242ac1c0002row12_col6,#T_ba533760_0fa4_11eb_a725_0242ac1c0002row12_col7,#T_ba533760_0fa4_11eb_a725_0242ac1c0002row13_col0,#T_ba533760_0fa4_11eb_a725_0242ac1c0002row13_col1,#T_ba533760_0fa4_11eb_a725_0242ac1c0002row13_col2,#T_ba533760_0fa4_11eb_a725_0242ac1c0002row13_col3,#T_ba533760_0fa4_11eb_a725_0242ac1c0002row13_col4,#T_ba533760_0fa4_11eb_a725_0242ac1c0002row13_col5,#T_ba533760_0fa4_11eb_a725_0242ac1c0002row13_col6,#T_ba533760_0fa4_11eb_a725_0242ac1c0002row13_col7,#T_ba533760_0fa4_11eb_a725_0242ac1c0002row14_col0,#T_ba533760_0fa4_11eb_a725_0242ac1c0002row14_col1,#T_ba533760_0fa4_11eb_a725_0242ac1c0002row14_col2,#T_ba533760_0fa4_11eb_a725_0242ac1c0002row14_col3,#T_ba533760_0fa4_11eb_a725_0242ac1c0002row14_col4,#T_ba533760_0fa4_11eb_a725_0242ac1c0002row14_col5,#T_ba533760_0fa4_11eb_a725_0242ac1c0002row14_col6,#T_ba533760_0fa4_11eb_a725_0242ac1c0002row14_col7{\n",
              "            text-align:  left;\n",
              "        }#T_ba533760_0fa4_11eb_a725_0242ac1c0002row0_col1,#T_ba533760_0fa4_11eb_a725_0242ac1c0002row0_col4,#T_ba533760_0fa4_11eb_a725_0242ac1c0002row1_col6,#T_ba533760_0fa4_11eb_a725_0242ac1c0002row1_col7,#T_ba533760_0fa4_11eb_a725_0242ac1c0002row4_col3,#T_ba533760_0fa4_11eb_a725_0242ac1c0002row4_col5,#T_ba533760_0fa4_11eb_a725_0242ac1c0002row6_col2{\n",
              "            background-color:  yellow;\n",
              "            text-align:  left;\n",
              "        }#T_ba533760_0fa4_11eb_a725_0242ac1c0002row0_col8,#T_ba533760_0fa4_11eb_a725_0242ac1c0002row1_col8,#T_ba533760_0fa4_11eb_a725_0242ac1c0002row2_col8,#T_ba533760_0fa4_11eb_a725_0242ac1c0002row3_col8,#T_ba533760_0fa4_11eb_a725_0242ac1c0002row4_col8,#T_ba533760_0fa4_11eb_a725_0242ac1c0002row5_col8,#T_ba533760_0fa4_11eb_a725_0242ac1c0002row6_col8,#T_ba533760_0fa4_11eb_a725_0242ac1c0002row7_col8,#T_ba533760_0fa4_11eb_a725_0242ac1c0002row8_col8,#T_ba533760_0fa4_11eb_a725_0242ac1c0002row9_col8,#T_ba533760_0fa4_11eb_a725_0242ac1c0002row10_col8,#T_ba533760_0fa4_11eb_a725_0242ac1c0002row11_col8,#T_ba533760_0fa4_11eb_a725_0242ac1c0002row12_col8,#T_ba533760_0fa4_11eb_a725_0242ac1c0002row13_col8,#T_ba533760_0fa4_11eb_a725_0242ac1c0002row14_col8{\n",
              "            background-color:  lightgrey;\n",
              "            text-align:  left;\n",
              "        }</style><table id=\"T_ba533760_0fa4_11eb_a725_0242ac1c0002\" ><thead>    <tr>        <th class=\"blank level0\" ></th>        <th class=\"col_heading level0 col0\" >Model</th>        <th class=\"col_heading level0 col1\" >Accuracy</th>        <th class=\"col_heading level0 col2\" >AUC</th>        <th class=\"col_heading level0 col3\" >Recall</th>        <th class=\"col_heading level0 col4\" >Prec.</th>        <th class=\"col_heading level0 col5\" >F1</th>        <th class=\"col_heading level0 col6\" >Kappa</th>        <th class=\"col_heading level0 col7\" >MCC</th>        <th class=\"col_heading level0 col8\" >TT (Sec)</th>    </tr></thead><tbody>\n",
              "                <tr>\n",
              "                        <th id=\"T_ba533760_0fa4_11eb_a725_0242ac1c0002level0_row0\" class=\"row_heading level0 row0\" >0</th>\n",
              "                        <td id=\"T_ba533760_0fa4_11eb_a725_0242ac1c0002row0_col0\" class=\"data row0 col0\" >Ridge Classifier</td>\n",
              "                        <td id=\"T_ba533760_0fa4_11eb_a725_0242ac1c0002row0_col1\" class=\"data row0 col1\" >0.7731</td>\n",
              "                        <td id=\"T_ba533760_0fa4_11eb_a725_0242ac1c0002row0_col2\" class=\"data row0 col2\" >0.0000</td>\n",
              "                        <td id=\"T_ba533760_0fa4_11eb_a725_0242ac1c0002row0_col3\" class=\"data row0 col3\" >0.5836</td>\n",
              "                        <td id=\"T_ba533760_0fa4_11eb_a725_0242ac1c0002row0_col4\" class=\"data row0 col4\" >0.7173</td>\n",
              "                        <td id=\"T_ba533760_0fa4_11eb_a725_0242ac1c0002row0_col5\" class=\"data row0 col5\" >0.6394</td>\n",
              "                        <td id=\"T_ba533760_0fa4_11eb_a725_0242ac1c0002row0_col6\" class=\"data row0 col6\" >0.4773</td>\n",
              "                        <td id=\"T_ba533760_0fa4_11eb_a725_0242ac1c0002row0_col7\" class=\"data row0 col7\" >0.4854</td>\n",
              "                        <td id=\"T_ba533760_0fa4_11eb_a725_0242ac1c0002row0_col8\" class=\"data row0 col8\" >0.0074</td>\n",
              "            </tr>\n",
              "            <tr>\n",
              "                        <th id=\"T_ba533760_0fa4_11eb_a725_0242ac1c0002level0_row1\" class=\"row_heading level0 row1\" >1</th>\n",
              "                        <td id=\"T_ba533760_0fa4_11eb_a725_0242ac1c0002row1_col0\" class=\"data row1 col0\" >Gradient Boosting Classifier</td>\n",
              "                        <td id=\"T_ba533760_0fa4_11eb_a725_0242ac1c0002row1_col1\" class=\"data row1 col1\" >0.7713</td>\n",
              "                        <td id=\"T_ba533760_0fa4_11eb_a725_0242ac1c0002row1_col2\" class=\"data row1 col2\" >0.8084</td>\n",
              "                        <td id=\"T_ba533760_0fa4_11eb_a725_0242ac1c0002row1_col3\" class=\"data row1 col3\" >0.6114</td>\n",
              "                        <td id=\"T_ba533760_0fa4_11eb_a725_0242ac1c0002row1_col4\" class=\"data row1 col4\" >0.7022</td>\n",
              "                        <td id=\"T_ba533760_0fa4_11eb_a725_0242ac1c0002row1_col5\" class=\"data row1 col5\" >0.6484</td>\n",
              "                        <td id=\"T_ba533760_0fa4_11eb_a725_0242ac1c0002row1_col6\" class=\"data row1 col6\" >0.4813</td>\n",
              "                        <td id=\"T_ba533760_0fa4_11eb_a725_0242ac1c0002row1_col7\" class=\"data row1 col7\" >0.4875</td>\n",
              "                        <td id=\"T_ba533760_0fa4_11eb_a725_0242ac1c0002row1_col8\" class=\"data row1 col8\" >0.1405</td>\n",
              "            </tr>\n",
              "            <tr>\n",
              "                        <th id=\"T_ba533760_0fa4_11eb_a725_0242ac1c0002level0_row2\" class=\"row_heading level0 row2\" >2</th>\n",
              "                        <td id=\"T_ba533760_0fa4_11eb_a725_0242ac1c0002row2_col0\" class=\"data row2 col0\" >Linear Discriminant Analysis</td>\n",
              "                        <td id=\"T_ba533760_0fa4_11eb_a725_0242ac1c0002row2_col1\" class=\"data row2 col1\" >0.7711</td>\n",
              "                        <td id=\"T_ba533760_0fa4_11eb_a725_0242ac1c0002row2_col2\" class=\"data row2 col2\" >0.8199</td>\n",
              "                        <td id=\"T_ba533760_0fa4_11eb_a725_0242ac1c0002row2_col3\" class=\"data row2 col3\" >0.5833</td>\n",
              "                        <td id=\"T_ba533760_0fa4_11eb_a725_0242ac1c0002row2_col4\" class=\"data row2 col4\" >0.7126</td>\n",
              "                        <td id=\"T_ba533760_0fa4_11eb_a725_0242ac1c0002row2_col5\" class=\"data row2 col5\" >0.6371</td>\n",
              "                        <td id=\"T_ba533760_0fa4_11eb_a725_0242ac1c0002row2_col6\" class=\"data row2 col6\" >0.4734</td>\n",
              "                        <td id=\"T_ba533760_0fa4_11eb_a725_0242ac1c0002row2_col7\" class=\"data row2 col7\" >0.4812</td>\n",
              "                        <td id=\"T_ba533760_0fa4_11eb_a725_0242ac1c0002row2_col8\" class=\"data row2 col8\" >0.0090</td>\n",
              "            </tr>\n",
              "            <tr>\n",
              "                        <th id=\"T_ba533760_0fa4_11eb_a725_0242ac1c0002level0_row3\" class=\"row_heading level0 row3\" >3</th>\n",
              "                        <td id=\"T_ba533760_0fa4_11eb_a725_0242ac1c0002row3_col0\" class=\"data row3 col0\" >Extreme Gradient Boosting</td>\n",
              "                        <td id=\"T_ba533760_0fa4_11eb_a725_0242ac1c0002row3_col1\" class=\"data row3 col1\" >0.7694</td>\n",
              "                        <td id=\"T_ba533760_0fa4_11eb_a725_0242ac1c0002row3_col2\" class=\"data row3 col2\" >0.8184</td>\n",
              "                        <td id=\"T_ba533760_0fa4_11eb_a725_0242ac1c0002row3_col3\" class=\"data row3 col3\" >0.5904</td>\n",
              "                        <td id=\"T_ba533760_0fa4_11eb_a725_0242ac1c0002row3_col4\" class=\"data row3 col4\" >0.7020</td>\n",
              "                        <td id=\"T_ba533760_0fa4_11eb_a725_0242ac1c0002row3_col5\" class=\"data row3 col5\" >0.6354</td>\n",
              "                        <td id=\"T_ba533760_0fa4_11eb_a725_0242ac1c0002row3_col6\" class=\"data row3 col6\" >0.4706</td>\n",
              "                        <td id=\"T_ba533760_0fa4_11eb_a725_0242ac1c0002row3_col7\" class=\"data row3 col7\" >0.4778</td>\n",
              "                        <td id=\"T_ba533760_0fa4_11eb_a725_0242ac1c0002row3_col8\" class=\"data row3 col8\" >0.0521</td>\n",
              "            </tr>\n",
              "            <tr>\n",
              "                        <th id=\"T_ba533760_0fa4_11eb_a725_0242ac1c0002level0_row4\" class=\"row_heading level0 row4\" >4</th>\n",
              "                        <td id=\"T_ba533760_0fa4_11eb_a725_0242ac1c0002row4_col0\" class=\"data row4 col0\" >Ada Boost Classifier</td>\n",
              "                        <td id=\"T_ba533760_0fa4_11eb_a725_0242ac1c0002row4_col1\" class=\"data row4 col1\" >0.7657</td>\n",
              "                        <td id=\"T_ba533760_0fa4_11eb_a725_0242ac1c0002row4_col2\" class=\"data row4 col2\" >0.8066</td>\n",
              "                        <td id=\"T_ba533760_0fa4_11eb_a725_0242ac1c0002row4_col3\" class=\"data row4 col3\" >0.6322</td>\n",
              "                        <td id=\"T_ba533760_0fa4_11eb_a725_0242ac1c0002row4_col4\" class=\"data row4 col4\" >0.6820</td>\n",
              "                        <td id=\"T_ba533760_0fa4_11eb_a725_0242ac1c0002row4_col5\" class=\"data row4 col5\" >0.6517</td>\n",
              "                        <td id=\"T_ba533760_0fa4_11eb_a725_0242ac1c0002row4_col6\" class=\"data row4 col6\" >0.4764</td>\n",
              "                        <td id=\"T_ba533760_0fa4_11eb_a725_0242ac1c0002row4_col7\" class=\"data row4 col7\" >0.4807</td>\n",
              "                        <td id=\"T_ba533760_0fa4_11eb_a725_0242ac1c0002row4_col8\" class=\"data row4 col8\" >0.0954</td>\n",
              "            </tr>\n",
              "            <tr>\n",
              "                        <th id=\"T_ba533760_0fa4_11eb_a725_0242ac1c0002level0_row5\" class=\"row_heading level0 row5\" >5</th>\n",
              "                        <td id=\"T_ba533760_0fa4_11eb_a725_0242ac1c0002row5_col0\" class=\"data row5 col0\" >Logistic Regression</td>\n",
              "                        <td id=\"T_ba533760_0fa4_11eb_a725_0242ac1c0002row5_col1\" class=\"data row5 col1\" >0.7582</td>\n",
              "                        <td id=\"T_ba533760_0fa4_11eb_a725_0242ac1c0002row5_col2\" class=\"data row5 col2\" >0.8172</td>\n",
              "                        <td id=\"T_ba533760_0fa4_11eb_a725_0242ac1c0002row5_col3\" class=\"data row5 col3\" >0.5468</td>\n",
              "                        <td id=\"T_ba533760_0fa4_11eb_a725_0242ac1c0002row5_col4\" class=\"data row5 col4\" >0.6955</td>\n",
              "                        <td id=\"T_ba533760_0fa4_11eb_a725_0242ac1c0002row5_col5\" class=\"data row5 col5\" >0.6073</td>\n",
              "                        <td id=\"T_ba533760_0fa4_11eb_a725_0242ac1c0002row5_col6\" class=\"data row5 col6\" >0.4380</td>\n",
              "                        <td id=\"T_ba533760_0fa4_11eb_a725_0242ac1c0002row5_col7\" class=\"data row5 col7\" >0.4473</td>\n",
              "                        <td id=\"T_ba533760_0fa4_11eb_a725_0242ac1c0002row5_col8\" class=\"data row5 col8\" >0.0425</td>\n",
              "            </tr>\n",
              "            <tr>\n",
              "                        <th id=\"T_ba533760_0fa4_11eb_a725_0242ac1c0002level0_row6\" class=\"row_heading level0 row6\" >6</th>\n",
              "                        <td id=\"T_ba533760_0fa4_11eb_a725_0242ac1c0002row6_col0\" class=\"data row6 col0\" >CatBoost Classifier</td>\n",
              "                        <td id=\"T_ba533760_0fa4_11eb_a725_0242ac1c0002row6_col1\" class=\"data row6 col1\" >0.7582</td>\n",
              "                        <td id=\"T_ba533760_0fa4_11eb_a725_0242ac1c0002row6_col2\" class=\"data row6 col2\" >0.8214</td>\n",
              "                        <td id=\"T_ba533760_0fa4_11eb_a725_0242ac1c0002row6_col3\" class=\"data row6 col3\" >0.5787</td>\n",
              "                        <td id=\"T_ba533760_0fa4_11eb_a725_0242ac1c0002row6_col4\" class=\"data row6 col4\" >0.6823</td>\n",
              "                        <td id=\"T_ba533760_0fa4_11eb_a725_0242ac1c0002row6_col5\" class=\"data row6 col5\" >0.6250</td>\n",
              "                        <td id=\"T_ba533760_0fa4_11eb_a725_0242ac1c0002row6_col6\" class=\"data row6 col6\" >0.4486</td>\n",
              "                        <td id=\"T_ba533760_0fa4_11eb_a725_0242ac1c0002row6_col7\" class=\"data row6 col7\" >0.4527</td>\n",
              "                        <td id=\"T_ba533760_0fa4_11eb_a725_0242ac1c0002row6_col8\" class=\"data row6 col8\" >1.5544</td>\n",
              "            </tr>\n",
              "            <tr>\n",
              "                        <th id=\"T_ba533760_0fa4_11eb_a725_0242ac1c0002level0_row7\" class=\"row_heading level0 row7\" >7</th>\n",
              "                        <td id=\"T_ba533760_0fa4_11eb_a725_0242ac1c0002row7_col0\" class=\"data row7 col0\" >K Neighbors Classifier</td>\n",
              "                        <td id=\"T_ba533760_0fa4_11eb_a725_0242ac1c0002row7_col1\" class=\"data row7 col1\" >0.7542</td>\n",
              "                        <td id=\"T_ba533760_0fa4_11eb_a725_0242ac1c0002row7_col2\" class=\"data row7 col2\" >0.7790</td>\n",
              "                        <td id=\"T_ba533760_0fa4_11eb_a725_0242ac1c0002row7_col3\" class=\"data row7 col3\" >0.5444</td>\n",
              "                        <td id=\"T_ba533760_0fa4_11eb_a725_0242ac1c0002row7_col4\" class=\"data row7 col4\" >0.7024</td>\n",
              "                        <td id=\"T_ba533760_0fa4_11eb_a725_0242ac1c0002row7_col5\" class=\"data row7 col5\" >0.6018</td>\n",
              "                        <td id=\"T_ba533760_0fa4_11eb_a725_0242ac1c0002row7_col6\" class=\"data row7 col6\" >0.4296</td>\n",
              "                        <td id=\"T_ba533760_0fa4_11eb_a725_0242ac1c0002row7_col7\" class=\"data row7 col7\" >0.4438</td>\n",
              "                        <td id=\"T_ba533760_0fa4_11eb_a725_0242ac1c0002row7_col8\" class=\"data row7 col8\" >0.0053</td>\n",
              "            </tr>\n",
              "            <tr>\n",
              "                        <th id=\"T_ba533760_0fa4_11eb_a725_0242ac1c0002level0_row8\" class=\"row_heading level0 row8\" >8</th>\n",
              "                        <td id=\"T_ba533760_0fa4_11eb_a725_0242ac1c0002row8_col0\" class=\"data row8 col0\" >Light Gradient Boosting Machine</td>\n",
              "                        <td id=\"T_ba533760_0fa4_11eb_a725_0242ac1c0002row8_col1\" class=\"data row8 col1\" >0.7507</td>\n",
              "                        <td id=\"T_ba533760_0fa4_11eb_a725_0242ac1c0002row8_col2\" class=\"data row8 col2\" >0.8040</td>\n",
              "                        <td id=\"T_ba533760_0fa4_11eb_a725_0242ac1c0002row8_col3\" class=\"data row8 col3\" >0.6161</td>\n",
              "                        <td id=\"T_ba533760_0fa4_11eb_a725_0242ac1c0002row8_col4\" class=\"data row8 col4\" >0.6504</td>\n",
              "                        <td id=\"T_ba533760_0fa4_11eb_a725_0242ac1c0002row8_col5\" class=\"data row8 col5\" >0.6314</td>\n",
              "                        <td id=\"T_ba533760_0fa4_11eb_a725_0242ac1c0002row8_col6\" class=\"data row8 col6\" >0.4437</td>\n",
              "                        <td id=\"T_ba533760_0fa4_11eb_a725_0242ac1c0002row8_col7\" class=\"data row8 col7\" >0.4450</td>\n",
              "                        <td id=\"T_ba533760_0fa4_11eb_a725_0242ac1c0002row8_col8\" class=\"data row8 col8\" >0.0480</td>\n",
              "            </tr>\n",
              "            <tr>\n",
              "                        <th id=\"T_ba533760_0fa4_11eb_a725_0242ac1c0002level0_row9\" class=\"row_heading level0 row9\" >9</th>\n",
              "                        <td id=\"T_ba533760_0fa4_11eb_a725_0242ac1c0002row9_col0\" class=\"data row9 col0\" >Random Forest Classifier</td>\n",
              "                        <td id=\"T_ba533760_0fa4_11eb_a725_0242ac1c0002row9_col1\" class=\"data row9 col1\" >0.7434</td>\n",
              "                        <td id=\"T_ba533760_0fa4_11eb_a725_0242ac1c0002row9_col2\" class=\"data row9 col2\" >0.7836</td>\n",
              "                        <td id=\"T_ba533760_0fa4_11eb_a725_0242ac1c0002row9_col3\" class=\"data row9 col3\" >0.4769</td>\n",
              "                        <td id=\"T_ba533760_0fa4_11eb_a725_0242ac1c0002row9_col4\" class=\"data row9 col4\" >0.6910</td>\n",
              "                        <td id=\"T_ba533760_0fa4_11eb_a725_0242ac1c0002row9_col5\" class=\"data row9 col5\" >0.5598</td>\n",
              "                        <td id=\"T_ba533760_0fa4_11eb_a725_0242ac1c0002row9_col6\" class=\"data row9 col6\" >0.3891</td>\n",
              "                        <td id=\"T_ba533760_0fa4_11eb_a725_0242ac1c0002row9_col7\" class=\"data row9 col7\" >0.4042</td>\n",
              "                        <td id=\"T_ba533760_0fa4_11eb_a725_0242ac1c0002row9_col8\" class=\"data row9 col8\" >0.1134</td>\n",
              "            </tr>\n",
              "            <tr>\n",
              "                        <th id=\"T_ba533760_0fa4_11eb_a725_0242ac1c0002level0_row10\" class=\"row_heading level0 row10\" >10</th>\n",
              "                        <td id=\"T_ba533760_0fa4_11eb_a725_0242ac1c0002row10_col0\" class=\"data row10 col0\" >Extra Trees Classifier</td>\n",
              "                        <td id=\"T_ba533760_0fa4_11eb_a725_0242ac1c0002row10_col1\" class=\"data row10 col1\" >0.7434</td>\n",
              "                        <td id=\"T_ba533760_0fa4_11eb_a725_0242ac1c0002row10_col2\" class=\"data row10 col2\" >0.7925</td>\n",
              "                        <td id=\"T_ba533760_0fa4_11eb_a725_0242ac1c0002row10_col3\" class=\"data row10 col3\" >0.5251</td>\n",
              "                        <td id=\"T_ba533760_0fa4_11eb_a725_0242ac1c0002row10_col4\" class=\"data row10 col4\" >0.6838</td>\n",
              "                        <td id=\"T_ba533760_0fa4_11eb_a725_0242ac1c0002row10_col5\" class=\"data row10 col5\" >0.5887</td>\n",
              "                        <td id=\"T_ba533760_0fa4_11eb_a725_0242ac1c0002row10_col6\" class=\"data row10 col6\" >0.4072</td>\n",
              "                        <td id=\"T_ba533760_0fa4_11eb_a725_0242ac1c0002row10_col7\" class=\"data row10 col7\" >0.4182</td>\n",
              "                        <td id=\"T_ba533760_0fa4_11eb_a725_0242ac1c0002row10_col8\" class=\"data row10 col8\" >0.2503</td>\n",
              "            </tr>\n",
              "            <tr>\n",
              "                        <th id=\"T_ba533760_0fa4_11eb_a725_0242ac1c0002level0_row11\" class=\"row_heading level0 row11\" >11</th>\n",
              "                        <td id=\"T_ba533760_0fa4_11eb_a725_0242ac1c0002row11_col0\" class=\"data row11 col0\" >Decision Tree Classifier</td>\n",
              "                        <td id=\"T_ba533760_0fa4_11eb_a725_0242ac1c0002row11_col1\" class=\"data row11 col1\" >0.6949</td>\n",
              "                        <td id=\"T_ba533760_0fa4_11eb_a725_0242ac1c0002row11_col2\" class=\"data row11 col2\" >0.6751</td>\n",
              "                        <td id=\"T_ba533760_0fa4_11eb_a725_0242ac1c0002row11_col3\" class=\"data row11 col3\" >0.6102</td>\n",
              "                        <td id=\"T_ba533760_0fa4_11eb_a725_0242ac1c0002row11_col4\" class=\"data row11 col4\" >0.5562</td>\n",
              "                        <td id=\"T_ba533760_0fa4_11eb_a725_0242ac1c0002row11_col5\" class=\"data row11 col5\" >0.5793</td>\n",
              "                        <td id=\"T_ba533760_0fa4_11eb_a725_0242ac1c0002row11_col6\" class=\"data row11 col6\" >0.3414</td>\n",
              "                        <td id=\"T_ba533760_0fa4_11eb_a725_0242ac1c0002row11_col7\" class=\"data row11 col7\" >0.3445</td>\n",
              "                        <td id=\"T_ba533760_0fa4_11eb_a725_0242ac1c0002row11_col8\" class=\"data row11 col8\" >0.0085</td>\n",
              "            </tr>\n",
              "            <tr>\n",
              "                        <th id=\"T_ba533760_0fa4_11eb_a725_0242ac1c0002level0_row12\" class=\"row_heading level0 row12\" >12</th>\n",
              "                        <td id=\"T_ba533760_0fa4_11eb_a725_0242ac1c0002row12_col0\" class=\"data row12 col0\" >Naive Bayes</td>\n",
              "                        <td id=\"T_ba533760_0fa4_11eb_a725_0242ac1c0002row12_col1\" class=\"data row12 col1\" >0.6668</td>\n",
              "                        <td id=\"T_ba533760_0fa4_11eb_a725_0242ac1c0002row12_col2\" class=\"data row12 col2\" >0.7410</td>\n",
              "                        <td id=\"T_ba533760_0fa4_11eb_a725_0242ac1c0002row12_col3\" class=\"data row12 col3\" >0.1868</td>\n",
              "                        <td id=\"T_ba533760_0fa4_11eb_a725_0242ac1c0002row12_col4\" class=\"data row12 col4\" >0.6125</td>\n",
              "                        <td id=\"T_ba533760_0fa4_11eb_a725_0242ac1c0002row12_col5\" class=\"data row12 col5\" >0.2766</td>\n",
              "                        <td id=\"T_ba533760_0fa4_11eb_a725_0242ac1c0002row12_col6\" class=\"data row12 col6\" >0.1300</td>\n",
              "                        <td id=\"T_ba533760_0fa4_11eb_a725_0242ac1c0002row12_col7\" class=\"data row12 col7\" >0.1745</td>\n",
              "                        <td id=\"T_ba533760_0fa4_11eb_a725_0242ac1c0002row12_col8\" class=\"data row12 col8\" >0.0053</td>\n",
              "            </tr>\n",
              "            <tr>\n",
              "                        <th id=\"T_ba533760_0fa4_11eb_a725_0242ac1c0002level0_row13\" class=\"row_heading level0 row13\" >13</th>\n",
              "                        <td id=\"T_ba533760_0fa4_11eb_a725_0242ac1c0002row13_col0\" class=\"data row13 col0\" >Quadratic Discriminant Analysis</td>\n",
              "                        <td id=\"T_ba533760_0fa4_11eb_a725_0242ac1c0002row13_col1\" class=\"data row13 col1\" >0.5719</td>\n",
              "                        <td id=\"T_ba533760_0fa4_11eb_a725_0242ac1c0002row13_col2\" class=\"data row13 col2\" >0.6062</td>\n",
              "                        <td id=\"T_ba533760_0fa4_11eb_a725_0242ac1c0002row13_col3\" class=\"data row13 col3\" >0.4480</td>\n",
              "                        <td id=\"T_ba533760_0fa4_11eb_a725_0242ac1c0002row13_col4\" class=\"data row13 col4\" >0.4434</td>\n",
              "                        <td id=\"T_ba533760_0fa4_11eb_a725_0242ac1c0002row13_col5\" class=\"data row13 col5\" >0.3656</td>\n",
              "                        <td id=\"T_ba533760_0fa4_11eb_a725_0242ac1c0002row13_col6\" class=\"data row13 col6\" >0.0861</td>\n",
              "                        <td id=\"T_ba533760_0fa4_11eb_a725_0242ac1c0002row13_col7\" class=\"data row13 col7\" >0.1030</td>\n",
              "                        <td id=\"T_ba533760_0fa4_11eb_a725_0242ac1c0002row13_col8\" class=\"data row13 col8\" >0.0073</td>\n",
              "            </tr>\n",
              "            <tr>\n",
              "                        <th id=\"T_ba533760_0fa4_11eb_a725_0242ac1c0002level0_row14\" class=\"row_heading level0 row14\" >14</th>\n",
              "                        <td id=\"T_ba533760_0fa4_11eb_a725_0242ac1c0002row14_col0\" class=\"data row14 col0\" >SVM - Linear Kernel</td>\n",
              "                        <td id=\"T_ba533760_0fa4_11eb_a725_0242ac1c0002row14_col1\" class=\"data row14 col1\" >0.5159</td>\n",
              "                        <td id=\"T_ba533760_0fa4_11eb_a725_0242ac1c0002row14_col2\" class=\"data row14 col2\" >0.0000</td>\n",
              "                        <td id=\"T_ba533760_0fa4_11eb_a725_0242ac1c0002row14_col3\" class=\"data row14 col3\" >0.6020</td>\n",
              "                        <td id=\"T_ba533760_0fa4_11eb_a725_0242ac1c0002row14_col4\" class=\"data row14 col4\" >0.3178</td>\n",
              "                        <td id=\"T_ba533760_0fa4_11eb_a725_0242ac1c0002row14_col5\" class=\"data row14 col5\" >0.3718</td>\n",
              "                        <td id=\"T_ba533760_0fa4_11eb_a725_0242ac1c0002row14_col6\" class=\"data row14 col6\" >0.0573</td>\n",
              "                        <td id=\"T_ba533760_0fa4_11eb_a725_0242ac1c0002row14_col7\" class=\"data row14 col7\" >0.0698</td>\n",
              "                        <td id=\"T_ba533760_0fa4_11eb_a725_0242ac1c0002row14_col8\" class=\"data row14 col8\" >0.0094</td>\n",
              "            </tr>\n",
              "    </tbody></table>"
            ],
            "text/plain": [
              "<pandas.io.formats.style.Styler at 0x7f04e97a1be0>"
            ]
          },
          "metadata": {
            "tags": []
          }
        },
        {
          "output_type": "execute_result",
          "data": {
            "text/plain": [
              "RidgeClassifier(alpha=1.0, class_weight=None, copy_X=True, fit_intercept=True,\n",
              "                max_iter=None, normalize=False, random_state=8449,\n",
              "                solver='auto', tol=0.001)"
            ]
          },
          "metadata": {
            "tags": []
          },
          "execution_count": 40
        }
      ]
    },
    {
      "cell_type": "markdown",
      "metadata": {
        "id": "dONOR3y6rczD"
      },
      "source": [
        "##### Regression Problem"
      ]
    },
    {
      "cell_type": "code",
      "metadata": {
        "id": "UKkKXyAyrczE",
        "outputId": "f3aaf55d-db4c-4645-c3e7-0bd0470ef14f",
        "colab": {
          "base_uri": "https://localhost:8080/",
          "height": 204
        }
      },
      "source": [
        "boston_df=get_data('boston')"
      ],
      "execution_count": 41,
      "outputs": [
        {
          "output_type": "display_data",
          "data": {
            "text/html": [
              "<div>\n",
              "<style scoped>\n",
              "    .dataframe tbody tr th:only-of-type {\n",
              "        vertical-align: middle;\n",
              "    }\n",
              "\n",
              "    .dataframe tbody tr th {\n",
              "        vertical-align: top;\n",
              "    }\n",
              "\n",
              "    .dataframe thead th {\n",
              "        text-align: right;\n",
              "    }\n",
              "</style>\n",
              "<table border=\"1\" class=\"dataframe\">\n",
              "  <thead>\n",
              "    <tr style=\"text-align: right;\">\n",
              "      <th></th>\n",
              "      <th>crim</th>\n",
              "      <th>zn</th>\n",
              "      <th>indus</th>\n",
              "      <th>chas</th>\n",
              "      <th>nox</th>\n",
              "      <th>rm</th>\n",
              "      <th>age</th>\n",
              "      <th>dis</th>\n",
              "      <th>rad</th>\n",
              "      <th>tax</th>\n",
              "      <th>ptratio</th>\n",
              "      <th>black</th>\n",
              "      <th>lstat</th>\n",
              "      <th>medv</th>\n",
              "    </tr>\n",
              "  </thead>\n",
              "  <tbody>\n",
              "    <tr>\n",
              "      <th>0</th>\n",
              "      <td>0.00632</td>\n",
              "      <td>18.0</td>\n",
              "      <td>2.31</td>\n",
              "      <td>0</td>\n",
              "      <td>0.538</td>\n",
              "      <td>6.575</td>\n",
              "      <td>65.2</td>\n",
              "      <td>4.0900</td>\n",
              "      <td>1</td>\n",
              "      <td>296</td>\n",
              "      <td>15.3</td>\n",
              "      <td>396.90</td>\n",
              "      <td>4.98</td>\n",
              "      <td>24.0</td>\n",
              "    </tr>\n",
              "    <tr>\n",
              "      <th>1</th>\n",
              "      <td>0.02731</td>\n",
              "      <td>0.0</td>\n",
              "      <td>7.07</td>\n",
              "      <td>0</td>\n",
              "      <td>0.469</td>\n",
              "      <td>6.421</td>\n",
              "      <td>78.9</td>\n",
              "      <td>4.9671</td>\n",
              "      <td>2</td>\n",
              "      <td>242</td>\n",
              "      <td>17.8</td>\n",
              "      <td>396.90</td>\n",
              "      <td>9.14</td>\n",
              "      <td>21.6</td>\n",
              "    </tr>\n",
              "    <tr>\n",
              "      <th>2</th>\n",
              "      <td>0.02729</td>\n",
              "      <td>0.0</td>\n",
              "      <td>7.07</td>\n",
              "      <td>0</td>\n",
              "      <td>0.469</td>\n",
              "      <td>7.185</td>\n",
              "      <td>61.1</td>\n",
              "      <td>4.9671</td>\n",
              "      <td>2</td>\n",
              "      <td>242</td>\n",
              "      <td>17.8</td>\n",
              "      <td>392.83</td>\n",
              "      <td>4.03</td>\n",
              "      <td>34.7</td>\n",
              "    </tr>\n",
              "    <tr>\n",
              "      <th>3</th>\n",
              "      <td>0.03237</td>\n",
              "      <td>0.0</td>\n",
              "      <td>2.18</td>\n",
              "      <td>0</td>\n",
              "      <td>0.458</td>\n",
              "      <td>6.998</td>\n",
              "      <td>45.8</td>\n",
              "      <td>6.0622</td>\n",
              "      <td>3</td>\n",
              "      <td>222</td>\n",
              "      <td>18.7</td>\n",
              "      <td>394.63</td>\n",
              "      <td>2.94</td>\n",
              "      <td>33.4</td>\n",
              "    </tr>\n",
              "    <tr>\n",
              "      <th>4</th>\n",
              "      <td>0.06905</td>\n",
              "      <td>0.0</td>\n",
              "      <td>2.18</td>\n",
              "      <td>0</td>\n",
              "      <td>0.458</td>\n",
              "      <td>7.147</td>\n",
              "      <td>54.2</td>\n",
              "      <td>6.0622</td>\n",
              "      <td>3</td>\n",
              "      <td>222</td>\n",
              "      <td>18.7</td>\n",
              "      <td>396.90</td>\n",
              "      <td>5.33</td>\n",
              "      <td>36.2</td>\n",
              "    </tr>\n",
              "  </tbody>\n",
              "</table>\n",
              "</div>"
            ],
            "text/plain": [
              "      crim    zn  indus  chas    nox  ...  tax  ptratio   black  lstat  medv\n",
              "0  0.00632  18.0   2.31     0  0.538  ...  296     15.3  396.90   4.98  24.0\n",
              "1  0.02731   0.0   7.07     0  0.469  ...  242     17.8  396.90   9.14  21.6\n",
              "2  0.02729   0.0   7.07     0  0.469  ...  242     17.8  392.83   4.03  34.7\n",
              "3  0.03237   0.0   2.18     0  0.458  ...  222     18.7  394.63   2.94  33.4\n",
              "4  0.06905   0.0   2.18     0  0.458  ...  222     18.7  396.90   5.33  36.2\n",
              "\n",
              "[5 rows x 14 columns]"
            ]
          },
          "metadata": {
            "tags": []
          }
        }
      ]
    },
    {
      "cell_type": "code",
      "metadata": {
        "id": "dmDtf3rHrczM"
      },
      "source": [
        "from pycaret.regression import *"
      ],
      "execution_count": 42,
      "outputs": []
    },
    {
      "cell_type": "code",
      "metadata": {
        "id": "6SnjY7asrczS",
        "outputId": "354b00bb-5c55-4a55-c2b4-1d4ed63b2707",
        "colab": {
          "base_uri": "https://localhost:8080/",
          "height": 956,
          "referenced_widgets": [
            "d1666bf2e763475ab30c3f58cc5c73cc",
            "16018c5dfb274324bc83b08378304f7f",
            "bc0145db27554d98b45a1a3ab693e1b9",
            "6e3df9b927f742d1bb88f01b1fc873a8",
            "f1696a89df33472c81043fa66049ac75",
            "b9853cad93c340b6815bd2ac263a1ed8"
          ]
        }
      },
      "source": [
        "reg=setup(data=boston_df,target='medv')"
      ],
      "execution_count": 43,
      "outputs": [
        {
          "output_type": "stream",
          "text": [
            " \n",
            "Setup Succesfully Completed.\n"
          ],
          "name": "stdout"
        },
        {
          "output_type": "display_data",
          "data": {
            "text/html": [
              "<style  type=\"text/css\" >\n",
              "</style><table id=\"T_db0af6e6_0fa4_11eb_a725_0242ac1c0002\" ><thead>    <tr>        <th class=\"blank level0\" ></th>        <th class=\"col_heading level0 col0\" >Description</th>        <th class=\"col_heading level0 col1\" >Value</th>    </tr></thead><tbody>\n",
              "                <tr>\n",
              "                        <th id=\"T_db0af6e6_0fa4_11eb_a725_0242ac1c0002level0_row0\" class=\"row_heading level0 row0\" >0</th>\n",
              "                        <td id=\"T_db0af6e6_0fa4_11eb_a725_0242ac1c0002row0_col0\" class=\"data row0 col0\" >session_id</td>\n",
              "                        <td id=\"T_db0af6e6_0fa4_11eb_a725_0242ac1c0002row0_col1\" class=\"data row0 col1\" >2785</td>\n",
              "            </tr>\n",
              "            <tr>\n",
              "                        <th id=\"T_db0af6e6_0fa4_11eb_a725_0242ac1c0002level0_row1\" class=\"row_heading level0 row1\" >1</th>\n",
              "                        <td id=\"T_db0af6e6_0fa4_11eb_a725_0242ac1c0002row1_col0\" class=\"data row1 col0\" >Transform Target </td>\n",
              "                        <td id=\"T_db0af6e6_0fa4_11eb_a725_0242ac1c0002row1_col1\" class=\"data row1 col1\" >False</td>\n",
              "            </tr>\n",
              "            <tr>\n",
              "                        <th id=\"T_db0af6e6_0fa4_11eb_a725_0242ac1c0002level0_row2\" class=\"row_heading level0 row2\" >2</th>\n",
              "                        <td id=\"T_db0af6e6_0fa4_11eb_a725_0242ac1c0002row2_col0\" class=\"data row2 col0\" >Transform Target Method</td>\n",
              "                        <td id=\"T_db0af6e6_0fa4_11eb_a725_0242ac1c0002row2_col1\" class=\"data row2 col1\" >None</td>\n",
              "            </tr>\n",
              "            <tr>\n",
              "                        <th id=\"T_db0af6e6_0fa4_11eb_a725_0242ac1c0002level0_row3\" class=\"row_heading level0 row3\" >3</th>\n",
              "                        <td id=\"T_db0af6e6_0fa4_11eb_a725_0242ac1c0002row3_col0\" class=\"data row3 col0\" >Original Data</td>\n",
              "                        <td id=\"T_db0af6e6_0fa4_11eb_a725_0242ac1c0002row3_col1\" class=\"data row3 col1\" >(506, 14)</td>\n",
              "            </tr>\n",
              "            <tr>\n",
              "                        <th id=\"T_db0af6e6_0fa4_11eb_a725_0242ac1c0002level0_row4\" class=\"row_heading level0 row4\" >4</th>\n",
              "                        <td id=\"T_db0af6e6_0fa4_11eb_a725_0242ac1c0002row4_col0\" class=\"data row4 col0\" >Missing Values </td>\n",
              "                        <td id=\"T_db0af6e6_0fa4_11eb_a725_0242ac1c0002row4_col1\" class=\"data row4 col1\" >False</td>\n",
              "            </tr>\n",
              "            <tr>\n",
              "                        <th id=\"T_db0af6e6_0fa4_11eb_a725_0242ac1c0002level0_row5\" class=\"row_heading level0 row5\" >5</th>\n",
              "                        <td id=\"T_db0af6e6_0fa4_11eb_a725_0242ac1c0002row5_col0\" class=\"data row5 col0\" >Numeric Features </td>\n",
              "                        <td id=\"T_db0af6e6_0fa4_11eb_a725_0242ac1c0002row5_col1\" class=\"data row5 col1\" >11</td>\n",
              "            </tr>\n",
              "            <tr>\n",
              "                        <th id=\"T_db0af6e6_0fa4_11eb_a725_0242ac1c0002level0_row6\" class=\"row_heading level0 row6\" >6</th>\n",
              "                        <td id=\"T_db0af6e6_0fa4_11eb_a725_0242ac1c0002row6_col0\" class=\"data row6 col0\" >Categorical Features </td>\n",
              "                        <td id=\"T_db0af6e6_0fa4_11eb_a725_0242ac1c0002row6_col1\" class=\"data row6 col1\" >2</td>\n",
              "            </tr>\n",
              "            <tr>\n",
              "                        <th id=\"T_db0af6e6_0fa4_11eb_a725_0242ac1c0002level0_row7\" class=\"row_heading level0 row7\" >7</th>\n",
              "                        <td id=\"T_db0af6e6_0fa4_11eb_a725_0242ac1c0002row7_col0\" class=\"data row7 col0\" >Ordinal Features </td>\n",
              "                        <td id=\"T_db0af6e6_0fa4_11eb_a725_0242ac1c0002row7_col1\" class=\"data row7 col1\" >False</td>\n",
              "            </tr>\n",
              "            <tr>\n",
              "                        <th id=\"T_db0af6e6_0fa4_11eb_a725_0242ac1c0002level0_row8\" class=\"row_heading level0 row8\" >8</th>\n",
              "                        <td id=\"T_db0af6e6_0fa4_11eb_a725_0242ac1c0002row8_col0\" class=\"data row8 col0\" >High Cardinality Features </td>\n",
              "                        <td id=\"T_db0af6e6_0fa4_11eb_a725_0242ac1c0002row8_col1\" class=\"data row8 col1\" >False</td>\n",
              "            </tr>\n",
              "            <tr>\n",
              "                        <th id=\"T_db0af6e6_0fa4_11eb_a725_0242ac1c0002level0_row9\" class=\"row_heading level0 row9\" >9</th>\n",
              "                        <td id=\"T_db0af6e6_0fa4_11eb_a725_0242ac1c0002row9_col0\" class=\"data row9 col0\" >High Cardinality Method </td>\n",
              "                        <td id=\"T_db0af6e6_0fa4_11eb_a725_0242ac1c0002row9_col1\" class=\"data row9 col1\" >None</td>\n",
              "            </tr>\n",
              "            <tr>\n",
              "                        <th id=\"T_db0af6e6_0fa4_11eb_a725_0242ac1c0002level0_row10\" class=\"row_heading level0 row10\" >10</th>\n",
              "                        <td id=\"T_db0af6e6_0fa4_11eb_a725_0242ac1c0002row10_col0\" class=\"data row10 col0\" >Sampled Data</td>\n",
              "                        <td id=\"T_db0af6e6_0fa4_11eb_a725_0242ac1c0002row10_col1\" class=\"data row10 col1\" >(506, 14)</td>\n",
              "            </tr>\n",
              "            <tr>\n",
              "                        <th id=\"T_db0af6e6_0fa4_11eb_a725_0242ac1c0002level0_row11\" class=\"row_heading level0 row11\" >11</th>\n",
              "                        <td id=\"T_db0af6e6_0fa4_11eb_a725_0242ac1c0002row11_col0\" class=\"data row11 col0\" >Transformed Train Set</td>\n",
              "                        <td id=\"T_db0af6e6_0fa4_11eb_a725_0242ac1c0002row11_col1\" class=\"data row11 col1\" >(354, 22)</td>\n",
              "            </tr>\n",
              "            <tr>\n",
              "                        <th id=\"T_db0af6e6_0fa4_11eb_a725_0242ac1c0002level0_row12\" class=\"row_heading level0 row12\" >12</th>\n",
              "                        <td id=\"T_db0af6e6_0fa4_11eb_a725_0242ac1c0002row12_col0\" class=\"data row12 col0\" >Transformed Test Set</td>\n",
              "                        <td id=\"T_db0af6e6_0fa4_11eb_a725_0242ac1c0002row12_col1\" class=\"data row12 col1\" >(152, 22)</td>\n",
              "            </tr>\n",
              "            <tr>\n",
              "                        <th id=\"T_db0af6e6_0fa4_11eb_a725_0242ac1c0002level0_row13\" class=\"row_heading level0 row13\" >13</th>\n",
              "                        <td id=\"T_db0af6e6_0fa4_11eb_a725_0242ac1c0002row13_col0\" class=\"data row13 col0\" >Numeric Imputer </td>\n",
              "                        <td id=\"T_db0af6e6_0fa4_11eb_a725_0242ac1c0002row13_col1\" class=\"data row13 col1\" >mean</td>\n",
              "            </tr>\n",
              "            <tr>\n",
              "                        <th id=\"T_db0af6e6_0fa4_11eb_a725_0242ac1c0002level0_row14\" class=\"row_heading level0 row14\" >14</th>\n",
              "                        <td id=\"T_db0af6e6_0fa4_11eb_a725_0242ac1c0002row14_col0\" class=\"data row14 col0\" >Categorical Imputer </td>\n",
              "                        <td id=\"T_db0af6e6_0fa4_11eb_a725_0242ac1c0002row14_col1\" class=\"data row14 col1\" >constant</td>\n",
              "            </tr>\n",
              "            <tr>\n",
              "                        <th id=\"T_db0af6e6_0fa4_11eb_a725_0242ac1c0002level0_row15\" class=\"row_heading level0 row15\" >15</th>\n",
              "                        <td id=\"T_db0af6e6_0fa4_11eb_a725_0242ac1c0002row15_col0\" class=\"data row15 col0\" >Normalize </td>\n",
              "                        <td id=\"T_db0af6e6_0fa4_11eb_a725_0242ac1c0002row15_col1\" class=\"data row15 col1\" >False</td>\n",
              "            </tr>\n",
              "            <tr>\n",
              "                        <th id=\"T_db0af6e6_0fa4_11eb_a725_0242ac1c0002level0_row16\" class=\"row_heading level0 row16\" >16</th>\n",
              "                        <td id=\"T_db0af6e6_0fa4_11eb_a725_0242ac1c0002row16_col0\" class=\"data row16 col0\" >Normalize Method </td>\n",
              "                        <td id=\"T_db0af6e6_0fa4_11eb_a725_0242ac1c0002row16_col1\" class=\"data row16 col1\" >None</td>\n",
              "            </tr>\n",
              "            <tr>\n",
              "                        <th id=\"T_db0af6e6_0fa4_11eb_a725_0242ac1c0002level0_row17\" class=\"row_heading level0 row17\" >17</th>\n",
              "                        <td id=\"T_db0af6e6_0fa4_11eb_a725_0242ac1c0002row17_col0\" class=\"data row17 col0\" >Transformation </td>\n",
              "                        <td id=\"T_db0af6e6_0fa4_11eb_a725_0242ac1c0002row17_col1\" class=\"data row17 col1\" >False</td>\n",
              "            </tr>\n",
              "            <tr>\n",
              "                        <th id=\"T_db0af6e6_0fa4_11eb_a725_0242ac1c0002level0_row18\" class=\"row_heading level0 row18\" >18</th>\n",
              "                        <td id=\"T_db0af6e6_0fa4_11eb_a725_0242ac1c0002row18_col0\" class=\"data row18 col0\" >Transformation Method </td>\n",
              "                        <td id=\"T_db0af6e6_0fa4_11eb_a725_0242ac1c0002row18_col1\" class=\"data row18 col1\" >None</td>\n",
              "            </tr>\n",
              "            <tr>\n",
              "                        <th id=\"T_db0af6e6_0fa4_11eb_a725_0242ac1c0002level0_row19\" class=\"row_heading level0 row19\" >19</th>\n",
              "                        <td id=\"T_db0af6e6_0fa4_11eb_a725_0242ac1c0002row19_col0\" class=\"data row19 col0\" >PCA </td>\n",
              "                        <td id=\"T_db0af6e6_0fa4_11eb_a725_0242ac1c0002row19_col1\" class=\"data row19 col1\" >False</td>\n",
              "            </tr>\n",
              "            <tr>\n",
              "                        <th id=\"T_db0af6e6_0fa4_11eb_a725_0242ac1c0002level0_row20\" class=\"row_heading level0 row20\" >20</th>\n",
              "                        <td id=\"T_db0af6e6_0fa4_11eb_a725_0242ac1c0002row20_col0\" class=\"data row20 col0\" >PCA Method </td>\n",
              "                        <td id=\"T_db0af6e6_0fa4_11eb_a725_0242ac1c0002row20_col1\" class=\"data row20 col1\" >None</td>\n",
              "            </tr>\n",
              "            <tr>\n",
              "                        <th id=\"T_db0af6e6_0fa4_11eb_a725_0242ac1c0002level0_row21\" class=\"row_heading level0 row21\" >21</th>\n",
              "                        <td id=\"T_db0af6e6_0fa4_11eb_a725_0242ac1c0002row21_col0\" class=\"data row21 col0\" >PCA Components </td>\n",
              "                        <td id=\"T_db0af6e6_0fa4_11eb_a725_0242ac1c0002row21_col1\" class=\"data row21 col1\" >None</td>\n",
              "            </tr>\n",
              "            <tr>\n",
              "                        <th id=\"T_db0af6e6_0fa4_11eb_a725_0242ac1c0002level0_row22\" class=\"row_heading level0 row22\" >22</th>\n",
              "                        <td id=\"T_db0af6e6_0fa4_11eb_a725_0242ac1c0002row22_col0\" class=\"data row22 col0\" >Ignore Low Variance </td>\n",
              "                        <td id=\"T_db0af6e6_0fa4_11eb_a725_0242ac1c0002row22_col1\" class=\"data row22 col1\" >False</td>\n",
              "            </tr>\n",
              "            <tr>\n",
              "                        <th id=\"T_db0af6e6_0fa4_11eb_a725_0242ac1c0002level0_row23\" class=\"row_heading level0 row23\" >23</th>\n",
              "                        <td id=\"T_db0af6e6_0fa4_11eb_a725_0242ac1c0002row23_col0\" class=\"data row23 col0\" >Combine Rare Levels </td>\n",
              "                        <td id=\"T_db0af6e6_0fa4_11eb_a725_0242ac1c0002row23_col1\" class=\"data row23 col1\" >False</td>\n",
              "            </tr>\n",
              "            <tr>\n",
              "                        <th id=\"T_db0af6e6_0fa4_11eb_a725_0242ac1c0002level0_row24\" class=\"row_heading level0 row24\" >24</th>\n",
              "                        <td id=\"T_db0af6e6_0fa4_11eb_a725_0242ac1c0002row24_col0\" class=\"data row24 col0\" >Rare Level Threshold </td>\n",
              "                        <td id=\"T_db0af6e6_0fa4_11eb_a725_0242ac1c0002row24_col1\" class=\"data row24 col1\" >None</td>\n",
              "            </tr>\n",
              "            <tr>\n",
              "                        <th id=\"T_db0af6e6_0fa4_11eb_a725_0242ac1c0002level0_row25\" class=\"row_heading level0 row25\" >25</th>\n",
              "                        <td id=\"T_db0af6e6_0fa4_11eb_a725_0242ac1c0002row25_col0\" class=\"data row25 col0\" >Numeric Binning </td>\n",
              "                        <td id=\"T_db0af6e6_0fa4_11eb_a725_0242ac1c0002row25_col1\" class=\"data row25 col1\" >False</td>\n",
              "            </tr>\n",
              "            <tr>\n",
              "                        <th id=\"T_db0af6e6_0fa4_11eb_a725_0242ac1c0002level0_row26\" class=\"row_heading level0 row26\" >26</th>\n",
              "                        <td id=\"T_db0af6e6_0fa4_11eb_a725_0242ac1c0002row26_col0\" class=\"data row26 col0\" >Remove Outliers </td>\n",
              "                        <td id=\"T_db0af6e6_0fa4_11eb_a725_0242ac1c0002row26_col1\" class=\"data row26 col1\" >False</td>\n",
              "            </tr>\n",
              "            <tr>\n",
              "                        <th id=\"T_db0af6e6_0fa4_11eb_a725_0242ac1c0002level0_row27\" class=\"row_heading level0 row27\" >27</th>\n",
              "                        <td id=\"T_db0af6e6_0fa4_11eb_a725_0242ac1c0002row27_col0\" class=\"data row27 col0\" >Outliers Threshold </td>\n",
              "                        <td id=\"T_db0af6e6_0fa4_11eb_a725_0242ac1c0002row27_col1\" class=\"data row27 col1\" >None</td>\n",
              "            </tr>\n",
              "            <tr>\n",
              "                        <th id=\"T_db0af6e6_0fa4_11eb_a725_0242ac1c0002level0_row28\" class=\"row_heading level0 row28\" >28</th>\n",
              "                        <td id=\"T_db0af6e6_0fa4_11eb_a725_0242ac1c0002row28_col0\" class=\"data row28 col0\" >Remove Multicollinearity </td>\n",
              "                        <td id=\"T_db0af6e6_0fa4_11eb_a725_0242ac1c0002row28_col1\" class=\"data row28 col1\" >False</td>\n",
              "            </tr>\n",
              "            <tr>\n",
              "                        <th id=\"T_db0af6e6_0fa4_11eb_a725_0242ac1c0002level0_row29\" class=\"row_heading level0 row29\" >29</th>\n",
              "                        <td id=\"T_db0af6e6_0fa4_11eb_a725_0242ac1c0002row29_col0\" class=\"data row29 col0\" >Multicollinearity Threshold </td>\n",
              "                        <td id=\"T_db0af6e6_0fa4_11eb_a725_0242ac1c0002row29_col1\" class=\"data row29 col1\" >None</td>\n",
              "            </tr>\n",
              "            <tr>\n",
              "                        <th id=\"T_db0af6e6_0fa4_11eb_a725_0242ac1c0002level0_row30\" class=\"row_heading level0 row30\" >30</th>\n",
              "                        <td id=\"T_db0af6e6_0fa4_11eb_a725_0242ac1c0002row30_col0\" class=\"data row30 col0\" >Clustering </td>\n",
              "                        <td id=\"T_db0af6e6_0fa4_11eb_a725_0242ac1c0002row30_col1\" class=\"data row30 col1\" >False</td>\n",
              "            </tr>\n",
              "            <tr>\n",
              "                        <th id=\"T_db0af6e6_0fa4_11eb_a725_0242ac1c0002level0_row31\" class=\"row_heading level0 row31\" >31</th>\n",
              "                        <td id=\"T_db0af6e6_0fa4_11eb_a725_0242ac1c0002row31_col0\" class=\"data row31 col0\" >Clustering Iteration </td>\n",
              "                        <td id=\"T_db0af6e6_0fa4_11eb_a725_0242ac1c0002row31_col1\" class=\"data row31 col1\" >None</td>\n",
              "            </tr>\n",
              "            <tr>\n",
              "                        <th id=\"T_db0af6e6_0fa4_11eb_a725_0242ac1c0002level0_row32\" class=\"row_heading level0 row32\" >32</th>\n",
              "                        <td id=\"T_db0af6e6_0fa4_11eb_a725_0242ac1c0002row32_col0\" class=\"data row32 col0\" >Polynomial Features </td>\n",
              "                        <td id=\"T_db0af6e6_0fa4_11eb_a725_0242ac1c0002row32_col1\" class=\"data row32 col1\" >False</td>\n",
              "            </tr>\n",
              "            <tr>\n",
              "                        <th id=\"T_db0af6e6_0fa4_11eb_a725_0242ac1c0002level0_row33\" class=\"row_heading level0 row33\" >33</th>\n",
              "                        <td id=\"T_db0af6e6_0fa4_11eb_a725_0242ac1c0002row33_col0\" class=\"data row33 col0\" >Polynomial Degree </td>\n",
              "                        <td id=\"T_db0af6e6_0fa4_11eb_a725_0242ac1c0002row33_col1\" class=\"data row33 col1\" >None</td>\n",
              "            </tr>\n",
              "            <tr>\n",
              "                        <th id=\"T_db0af6e6_0fa4_11eb_a725_0242ac1c0002level0_row34\" class=\"row_heading level0 row34\" >34</th>\n",
              "                        <td id=\"T_db0af6e6_0fa4_11eb_a725_0242ac1c0002row34_col0\" class=\"data row34 col0\" >Trignometry Features </td>\n",
              "                        <td id=\"T_db0af6e6_0fa4_11eb_a725_0242ac1c0002row34_col1\" class=\"data row34 col1\" >False</td>\n",
              "            </tr>\n",
              "            <tr>\n",
              "                        <th id=\"T_db0af6e6_0fa4_11eb_a725_0242ac1c0002level0_row35\" class=\"row_heading level0 row35\" >35</th>\n",
              "                        <td id=\"T_db0af6e6_0fa4_11eb_a725_0242ac1c0002row35_col0\" class=\"data row35 col0\" >Polynomial Threshold </td>\n",
              "                        <td id=\"T_db0af6e6_0fa4_11eb_a725_0242ac1c0002row35_col1\" class=\"data row35 col1\" >None</td>\n",
              "            </tr>\n",
              "            <tr>\n",
              "                        <th id=\"T_db0af6e6_0fa4_11eb_a725_0242ac1c0002level0_row36\" class=\"row_heading level0 row36\" >36</th>\n",
              "                        <td id=\"T_db0af6e6_0fa4_11eb_a725_0242ac1c0002row36_col0\" class=\"data row36 col0\" >Group Features </td>\n",
              "                        <td id=\"T_db0af6e6_0fa4_11eb_a725_0242ac1c0002row36_col1\" class=\"data row36 col1\" >False</td>\n",
              "            </tr>\n",
              "            <tr>\n",
              "                        <th id=\"T_db0af6e6_0fa4_11eb_a725_0242ac1c0002level0_row37\" class=\"row_heading level0 row37\" >37</th>\n",
              "                        <td id=\"T_db0af6e6_0fa4_11eb_a725_0242ac1c0002row37_col0\" class=\"data row37 col0\" >Feature Selection </td>\n",
              "                        <td id=\"T_db0af6e6_0fa4_11eb_a725_0242ac1c0002row37_col1\" class=\"data row37 col1\" >False</td>\n",
              "            </tr>\n",
              "            <tr>\n",
              "                        <th id=\"T_db0af6e6_0fa4_11eb_a725_0242ac1c0002level0_row38\" class=\"row_heading level0 row38\" >38</th>\n",
              "                        <td id=\"T_db0af6e6_0fa4_11eb_a725_0242ac1c0002row38_col0\" class=\"data row38 col0\" >Features Selection Threshold </td>\n",
              "                        <td id=\"T_db0af6e6_0fa4_11eb_a725_0242ac1c0002row38_col1\" class=\"data row38 col1\" >None</td>\n",
              "            </tr>\n",
              "            <tr>\n",
              "                        <th id=\"T_db0af6e6_0fa4_11eb_a725_0242ac1c0002level0_row39\" class=\"row_heading level0 row39\" >39</th>\n",
              "                        <td id=\"T_db0af6e6_0fa4_11eb_a725_0242ac1c0002row39_col0\" class=\"data row39 col0\" >Feature Interaction </td>\n",
              "                        <td id=\"T_db0af6e6_0fa4_11eb_a725_0242ac1c0002row39_col1\" class=\"data row39 col1\" >False</td>\n",
              "            </tr>\n",
              "            <tr>\n",
              "                        <th id=\"T_db0af6e6_0fa4_11eb_a725_0242ac1c0002level0_row40\" class=\"row_heading level0 row40\" >40</th>\n",
              "                        <td id=\"T_db0af6e6_0fa4_11eb_a725_0242ac1c0002row40_col0\" class=\"data row40 col0\" >Feature Ratio </td>\n",
              "                        <td id=\"T_db0af6e6_0fa4_11eb_a725_0242ac1c0002row40_col1\" class=\"data row40 col1\" >False</td>\n",
              "            </tr>\n",
              "            <tr>\n",
              "                        <th id=\"T_db0af6e6_0fa4_11eb_a725_0242ac1c0002level0_row41\" class=\"row_heading level0 row41\" >41</th>\n",
              "                        <td id=\"T_db0af6e6_0fa4_11eb_a725_0242ac1c0002row41_col0\" class=\"data row41 col0\" >Interaction Threshold </td>\n",
              "                        <td id=\"T_db0af6e6_0fa4_11eb_a725_0242ac1c0002row41_col1\" class=\"data row41 col1\" >None</td>\n",
              "            </tr>\n",
              "    </tbody></table>"
            ],
            "text/plain": [
              "<pandas.io.formats.style.Styler at 0x7f04e7f2b8d0>"
            ]
          },
          "metadata": {
            "tags": []
          }
        }
      ]
    },
    {
      "cell_type": "code",
      "metadata": {
        "id": "8v-OV6BCrczY",
        "outputId": "f2e68fc4-1629-43c5-ff1c-71b660abec5e",
        "colab": {
          "base_uri": "https://localhost:8080/",
          "height": 621,
          "referenced_widgets": [
            "85aa116536054c298b0472a00520d6e4",
            "4151e1023fee444390b5140be900debf",
            "8dac818818be4f7b856028df3d738a99"
          ]
        }
      },
      "source": [
        "compare_models()"
      ],
      "execution_count": 44,
      "outputs": [
        {
          "output_type": "display_data",
          "data": {
            "text/html": [
              "<style  type=\"text/css\" >\n",
              "    #T_01072324_0fa5_11eb_a725_0242ac1c0002 th {\n",
              "          text-align: left;\n",
              "    }#T_01072324_0fa5_11eb_a725_0242ac1c0002row0_col0,#T_01072324_0fa5_11eb_a725_0242ac1c0002row1_col0,#T_01072324_0fa5_11eb_a725_0242ac1c0002row1_col1,#T_01072324_0fa5_11eb_a725_0242ac1c0002row1_col2,#T_01072324_0fa5_11eb_a725_0242ac1c0002row1_col3,#T_01072324_0fa5_11eb_a725_0242ac1c0002row1_col4,#T_01072324_0fa5_11eb_a725_0242ac1c0002row1_col5,#T_01072324_0fa5_11eb_a725_0242ac1c0002row1_col6,#T_01072324_0fa5_11eb_a725_0242ac1c0002row2_col0,#T_01072324_0fa5_11eb_a725_0242ac1c0002row2_col1,#T_01072324_0fa5_11eb_a725_0242ac1c0002row2_col2,#T_01072324_0fa5_11eb_a725_0242ac1c0002row2_col3,#T_01072324_0fa5_11eb_a725_0242ac1c0002row2_col4,#T_01072324_0fa5_11eb_a725_0242ac1c0002row2_col5,#T_01072324_0fa5_11eb_a725_0242ac1c0002row2_col6,#T_01072324_0fa5_11eb_a725_0242ac1c0002row3_col0,#T_01072324_0fa5_11eb_a725_0242ac1c0002row3_col1,#T_01072324_0fa5_11eb_a725_0242ac1c0002row3_col2,#T_01072324_0fa5_11eb_a725_0242ac1c0002row3_col3,#T_01072324_0fa5_11eb_a725_0242ac1c0002row3_col4,#T_01072324_0fa5_11eb_a725_0242ac1c0002row3_col5,#T_01072324_0fa5_11eb_a725_0242ac1c0002row3_col6,#T_01072324_0fa5_11eb_a725_0242ac1c0002row4_col0,#T_01072324_0fa5_11eb_a725_0242ac1c0002row4_col1,#T_01072324_0fa5_11eb_a725_0242ac1c0002row4_col2,#T_01072324_0fa5_11eb_a725_0242ac1c0002row4_col3,#T_01072324_0fa5_11eb_a725_0242ac1c0002row4_col4,#T_01072324_0fa5_11eb_a725_0242ac1c0002row4_col5,#T_01072324_0fa5_11eb_a725_0242ac1c0002row4_col6,#T_01072324_0fa5_11eb_a725_0242ac1c0002row5_col0,#T_01072324_0fa5_11eb_a725_0242ac1c0002row5_col1,#T_01072324_0fa5_11eb_a725_0242ac1c0002row5_col2,#T_01072324_0fa5_11eb_a725_0242ac1c0002row5_col3,#T_01072324_0fa5_11eb_a725_0242ac1c0002row5_col4,#T_01072324_0fa5_11eb_a725_0242ac1c0002row5_col5,#T_01072324_0fa5_11eb_a725_0242ac1c0002row5_col6,#T_01072324_0fa5_11eb_a725_0242ac1c0002row6_col0,#T_01072324_0fa5_11eb_a725_0242ac1c0002row6_col1,#T_01072324_0fa5_11eb_a725_0242ac1c0002row6_col2,#T_01072324_0fa5_11eb_a725_0242ac1c0002row6_col3,#T_01072324_0fa5_11eb_a725_0242ac1c0002row6_col4,#T_01072324_0fa5_11eb_a725_0242ac1c0002row6_col5,#T_01072324_0fa5_11eb_a725_0242ac1c0002row6_col6,#T_01072324_0fa5_11eb_a725_0242ac1c0002row7_col0,#T_01072324_0fa5_11eb_a725_0242ac1c0002row7_col1,#T_01072324_0fa5_11eb_a725_0242ac1c0002row7_col2,#T_01072324_0fa5_11eb_a725_0242ac1c0002row7_col3,#T_01072324_0fa5_11eb_a725_0242ac1c0002row7_col4,#T_01072324_0fa5_11eb_a725_0242ac1c0002row7_col5,#T_01072324_0fa5_11eb_a725_0242ac1c0002row7_col6,#T_01072324_0fa5_11eb_a725_0242ac1c0002row8_col0,#T_01072324_0fa5_11eb_a725_0242ac1c0002row8_col1,#T_01072324_0fa5_11eb_a725_0242ac1c0002row8_col2,#T_01072324_0fa5_11eb_a725_0242ac1c0002row8_col3,#T_01072324_0fa5_11eb_a725_0242ac1c0002row8_col4,#T_01072324_0fa5_11eb_a725_0242ac1c0002row8_col5,#T_01072324_0fa5_11eb_a725_0242ac1c0002row8_col6,#T_01072324_0fa5_11eb_a725_0242ac1c0002row9_col0,#T_01072324_0fa5_11eb_a725_0242ac1c0002row9_col1,#T_01072324_0fa5_11eb_a725_0242ac1c0002row9_col2,#T_01072324_0fa5_11eb_a725_0242ac1c0002row9_col3,#T_01072324_0fa5_11eb_a725_0242ac1c0002row9_col4,#T_01072324_0fa5_11eb_a725_0242ac1c0002row9_col5,#T_01072324_0fa5_11eb_a725_0242ac1c0002row9_col6,#T_01072324_0fa5_11eb_a725_0242ac1c0002row10_col0,#T_01072324_0fa5_11eb_a725_0242ac1c0002row10_col1,#T_01072324_0fa5_11eb_a725_0242ac1c0002row10_col2,#T_01072324_0fa5_11eb_a725_0242ac1c0002row10_col3,#T_01072324_0fa5_11eb_a725_0242ac1c0002row10_col4,#T_01072324_0fa5_11eb_a725_0242ac1c0002row10_col5,#T_01072324_0fa5_11eb_a725_0242ac1c0002row10_col6,#T_01072324_0fa5_11eb_a725_0242ac1c0002row11_col0,#T_01072324_0fa5_11eb_a725_0242ac1c0002row11_col1,#T_01072324_0fa5_11eb_a725_0242ac1c0002row11_col2,#T_01072324_0fa5_11eb_a725_0242ac1c0002row11_col3,#T_01072324_0fa5_11eb_a725_0242ac1c0002row11_col4,#T_01072324_0fa5_11eb_a725_0242ac1c0002row11_col5,#T_01072324_0fa5_11eb_a725_0242ac1c0002row11_col6,#T_01072324_0fa5_11eb_a725_0242ac1c0002row12_col0,#T_01072324_0fa5_11eb_a725_0242ac1c0002row12_col1,#T_01072324_0fa5_11eb_a725_0242ac1c0002row12_col2,#T_01072324_0fa5_11eb_a725_0242ac1c0002row12_col3,#T_01072324_0fa5_11eb_a725_0242ac1c0002row12_col4,#T_01072324_0fa5_11eb_a725_0242ac1c0002row12_col5,#T_01072324_0fa5_11eb_a725_0242ac1c0002row12_col6,#T_01072324_0fa5_11eb_a725_0242ac1c0002row13_col0,#T_01072324_0fa5_11eb_a725_0242ac1c0002row13_col1,#T_01072324_0fa5_11eb_a725_0242ac1c0002row13_col2,#T_01072324_0fa5_11eb_a725_0242ac1c0002row13_col3,#T_01072324_0fa5_11eb_a725_0242ac1c0002row13_col4,#T_01072324_0fa5_11eb_a725_0242ac1c0002row13_col5,#T_01072324_0fa5_11eb_a725_0242ac1c0002row13_col6,#T_01072324_0fa5_11eb_a725_0242ac1c0002row14_col0,#T_01072324_0fa5_11eb_a725_0242ac1c0002row14_col1,#T_01072324_0fa5_11eb_a725_0242ac1c0002row14_col2,#T_01072324_0fa5_11eb_a725_0242ac1c0002row14_col3,#T_01072324_0fa5_11eb_a725_0242ac1c0002row14_col4,#T_01072324_0fa5_11eb_a725_0242ac1c0002row14_col5,#T_01072324_0fa5_11eb_a725_0242ac1c0002row14_col6,#T_01072324_0fa5_11eb_a725_0242ac1c0002row15_col0,#T_01072324_0fa5_11eb_a725_0242ac1c0002row15_col1,#T_01072324_0fa5_11eb_a725_0242ac1c0002row15_col2,#T_01072324_0fa5_11eb_a725_0242ac1c0002row15_col3,#T_01072324_0fa5_11eb_a725_0242ac1c0002row15_col4,#T_01072324_0fa5_11eb_a725_0242ac1c0002row15_col5,#T_01072324_0fa5_11eb_a725_0242ac1c0002row15_col6,#T_01072324_0fa5_11eb_a725_0242ac1c0002row16_col0,#T_01072324_0fa5_11eb_a725_0242ac1c0002row16_col1,#T_01072324_0fa5_11eb_a725_0242ac1c0002row16_col2,#T_01072324_0fa5_11eb_a725_0242ac1c0002row16_col3,#T_01072324_0fa5_11eb_a725_0242ac1c0002row16_col4,#T_01072324_0fa5_11eb_a725_0242ac1c0002row16_col5,#T_01072324_0fa5_11eb_a725_0242ac1c0002row16_col6,#T_01072324_0fa5_11eb_a725_0242ac1c0002row17_col0,#T_01072324_0fa5_11eb_a725_0242ac1c0002row17_col1,#T_01072324_0fa5_11eb_a725_0242ac1c0002row17_col2,#T_01072324_0fa5_11eb_a725_0242ac1c0002row17_col3,#T_01072324_0fa5_11eb_a725_0242ac1c0002row17_col4,#T_01072324_0fa5_11eb_a725_0242ac1c0002row17_col5,#T_01072324_0fa5_11eb_a725_0242ac1c0002row17_col6,#T_01072324_0fa5_11eb_a725_0242ac1c0002row18_col0,#T_01072324_0fa5_11eb_a725_0242ac1c0002row18_col1,#T_01072324_0fa5_11eb_a725_0242ac1c0002row18_col2,#T_01072324_0fa5_11eb_a725_0242ac1c0002row18_col3,#T_01072324_0fa5_11eb_a725_0242ac1c0002row18_col4,#T_01072324_0fa5_11eb_a725_0242ac1c0002row18_col5,#T_01072324_0fa5_11eb_a725_0242ac1c0002row18_col6,#T_01072324_0fa5_11eb_a725_0242ac1c0002row19_col0,#T_01072324_0fa5_11eb_a725_0242ac1c0002row19_col1,#T_01072324_0fa5_11eb_a725_0242ac1c0002row19_col2,#T_01072324_0fa5_11eb_a725_0242ac1c0002row19_col3,#T_01072324_0fa5_11eb_a725_0242ac1c0002row19_col4,#T_01072324_0fa5_11eb_a725_0242ac1c0002row19_col5,#T_01072324_0fa5_11eb_a725_0242ac1c0002row19_col6,#T_01072324_0fa5_11eb_a725_0242ac1c0002row20_col0,#T_01072324_0fa5_11eb_a725_0242ac1c0002row20_col1,#T_01072324_0fa5_11eb_a725_0242ac1c0002row20_col2,#T_01072324_0fa5_11eb_a725_0242ac1c0002row20_col3,#T_01072324_0fa5_11eb_a725_0242ac1c0002row20_col4,#T_01072324_0fa5_11eb_a725_0242ac1c0002row20_col5,#T_01072324_0fa5_11eb_a725_0242ac1c0002row20_col6,#T_01072324_0fa5_11eb_a725_0242ac1c0002row21_col0,#T_01072324_0fa5_11eb_a725_0242ac1c0002row21_col1,#T_01072324_0fa5_11eb_a725_0242ac1c0002row21_col2,#T_01072324_0fa5_11eb_a725_0242ac1c0002row21_col3,#T_01072324_0fa5_11eb_a725_0242ac1c0002row21_col4,#T_01072324_0fa5_11eb_a725_0242ac1c0002row21_col5,#T_01072324_0fa5_11eb_a725_0242ac1c0002row21_col6{\n",
              "            text-align:  left;\n",
              "        }#T_01072324_0fa5_11eb_a725_0242ac1c0002row0_col1,#T_01072324_0fa5_11eb_a725_0242ac1c0002row0_col2,#T_01072324_0fa5_11eb_a725_0242ac1c0002row0_col3,#T_01072324_0fa5_11eb_a725_0242ac1c0002row0_col4,#T_01072324_0fa5_11eb_a725_0242ac1c0002row0_col5,#T_01072324_0fa5_11eb_a725_0242ac1c0002row0_col6{\n",
              "            background-color:  yellow;\n",
              "            text-align:  left;\n",
              "        }#T_01072324_0fa5_11eb_a725_0242ac1c0002row0_col7,#T_01072324_0fa5_11eb_a725_0242ac1c0002row1_col7,#T_01072324_0fa5_11eb_a725_0242ac1c0002row2_col7,#T_01072324_0fa5_11eb_a725_0242ac1c0002row3_col7,#T_01072324_0fa5_11eb_a725_0242ac1c0002row4_col7,#T_01072324_0fa5_11eb_a725_0242ac1c0002row5_col7,#T_01072324_0fa5_11eb_a725_0242ac1c0002row6_col7,#T_01072324_0fa5_11eb_a725_0242ac1c0002row7_col7,#T_01072324_0fa5_11eb_a725_0242ac1c0002row8_col7,#T_01072324_0fa5_11eb_a725_0242ac1c0002row9_col7,#T_01072324_0fa5_11eb_a725_0242ac1c0002row10_col7,#T_01072324_0fa5_11eb_a725_0242ac1c0002row11_col7,#T_01072324_0fa5_11eb_a725_0242ac1c0002row12_col7,#T_01072324_0fa5_11eb_a725_0242ac1c0002row13_col7,#T_01072324_0fa5_11eb_a725_0242ac1c0002row14_col7,#T_01072324_0fa5_11eb_a725_0242ac1c0002row15_col7,#T_01072324_0fa5_11eb_a725_0242ac1c0002row16_col7,#T_01072324_0fa5_11eb_a725_0242ac1c0002row17_col7,#T_01072324_0fa5_11eb_a725_0242ac1c0002row18_col7,#T_01072324_0fa5_11eb_a725_0242ac1c0002row19_col7,#T_01072324_0fa5_11eb_a725_0242ac1c0002row20_col7,#T_01072324_0fa5_11eb_a725_0242ac1c0002row21_col7{\n",
              "            background-color:  lightgrey;\n",
              "            text-align:  left;\n",
              "        }</style><table id=\"T_01072324_0fa5_11eb_a725_0242ac1c0002\" ><thead>    <tr>        <th class=\"blank level0\" ></th>        <th class=\"col_heading level0 col0\" >Model</th>        <th class=\"col_heading level0 col1\" >MAE</th>        <th class=\"col_heading level0 col2\" >MSE</th>        <th class=\"col_heading level0 col3\" >RMSE</th>        <th class=\"col_heading level0 col4\" >R2</th>        <th class=\"col_heading level0 col5\" >RMSLE</th>        <th class=\"col_heading level0 col6\" >MAPE</th>        <th class=\"col_heading level0 col7\" >TT (Sec)</th>    </tr></thead><tbody>\n",
              "                <tr>\n",
              "                        <th id=\"T_01072324_0fa5_11eb_a725_0242ac1c0002level0_row0\" class=\"row_heading level0 row0\" >0</th>\n",
              "                        <td id=\"T_01072324_0fa5_11eb_a725_0242ac1c0002row0_col0\" class=\"data row0 col0\" >Extra Trees Regressor</td>\n",
              "                        <td id=\"T_01072324_0fa5_11eb_a725_0242ac1c0002row0_col1\" class=\"data row0 col1\" >2.1153</td>\n",
              "                        <td id=\"T_01072324_0fa5_11eb_a725_0242ac1c0002row0_col2\" class=\"data row0 col2\" >10.4848</td>\n",
              "                        <td id=\"T_01072324_0fa5_11eb_a725_0242ac1c0002row0_col3\" class=\"data row0 col3\" >3.0956</td>\n",
              "                        <td id=\"T_01072324_0fa5_11eb_a725_0242ac1c0002row0_col4\" class=\"data row0 col4\" >0.8619</td>\n",
              "                        <td id=\"T_01072324_0fa5_11eb_a725_0242ac1c0002row0_col5\" class=\"data row0 col5\" >0.1372</td>\n",
              "                        <td id=\"T_01072324_0fa5_11eb_a725_0242ac1c0002row0_col6\" class=\"data row0 col6\" >0.1047</td>\n",
              "                        <td id=\"T_01072324_0fa5_11eb_a725_0242ac1c0002row0_col7\" class=\"data row0 col7\" >0.2476</td>\n",
              "            </tr>\n",
              "            <tr>\n",
              "                        <th id=\"T_01072324_0fa5_11eb_a725_0242ac1c0002level0_row1\" class=\"row_heading level0 row1\" >1</th>\n",
              "                        <td id=\"T_01072324_0fa5_11eb_a725_0242ac1c0002row1_col0\" class=\"data row1 col0\" >Gradient Boosting Regressor</td>\n",
              "                        <td id=\"T_01072324_0fa5_11eb_a725_0242ac1c0002row1_col1\" class=\"data row1 col1\" >2.1979</td>\n",
              "                        <td id=\"T_01072324_0fa5_11eb_a725_0242ac1c0002row1_col2\" class=\"data row1 col2\" >10.9272</td>\n",
              "                        <td id=\"T_01072324_0fa5_11eb_a725_0242ac1c0002row1_col3\" class=\"data row1 col3\" >3.1977</td>\n",
              "                        <td id=\"T_01072324_0fa5_11eb_a725_0242ac1c0002row1_col4\" class=\"data row1 col4\" >0.8590</td>\n",
              "                        <td id=\"T_01072324_0fa5_11eb_a725_0242ac1c0002row1_col5\" class=\"data row1 col5\" >0.1465</td>\n",
              "                        <td id=\"T_01072324_0fa5_11eb_a725_0242ac1c0002row1_col6\" class=\"data row1 col6\" >0.1114</td>\n",
              "                        <td id=\"T_01072324_0fa5_11eb_a725_0242ac1c0002row1_col7\" class=\"data row1 col7\" >0.1135</td>\n",
              "            </tr>\n",
              "            <tr>\n",
              "                        <th id=\"T_01072324_0fa5_11eb_a725_0242ac1c0002level0_row2\" class=\"row_heading level0 row2\" >2</th>\n",
              "                        <td id=\"T_01072324_0fa5_11eb_a725_0242ac1c0002row2_col0\" class=\"data row2 col0\" >CatBoost Regressor</td>\n",
              "                        <td id=\"T_01072324_0fa5_11eb_a725_0242ac1c0002row2_col1\" class=\"data row2 col1\" >2.1445</td>\n",
              "                        <td id=\"T_01072324_0fa5_11eb_a725_0242ac1c0002row2_col2\" class=\"data row2 col2\" >11.4236</td>\n",
              "                        <td id=\"T_01072324_0fa5_11eb_a725_0242ac1c0002row2_col3\" class=\"data row2 col3\" >3.2224</td>\n",
              "                        <td id=\"T_01072324_0fa5_11eb_a725_0242ac1c0002row2_col4\" class=\"data row2 col4\" >0.8559</td>\n",
              "                        <td id=\"T_01072324_0fa5_11eb_a725_0242ac1c0002row2_col5\" class=\"data row2 col5\" >0.1473</td>\n",
              "                        <td id=\"T_01072324_0fa5_11eb_a725_0242ac1c0002row2_col6\" class=\"data row2 col6\" >0.1073</td>\n",
              "                        <td id=\"T_01072324_0fa5_11eb_a725_0242ac1c0002row2_col7\" class=\"data row2 col7\" >2.1636</td>\n",
              "            </tr>\n",
              "            <tr>\n",
              "                        <th id=\"T_01072324_0fa5_11eb_a725_0242ac1c0002level0_row3\" class=\"row_heading level0 row3\" >3</th>\n",
              "                        <td id=\"T_01072324_0fa5_11eb_a725_0242ac1c0002row3_col0\" class=\"data row3 col0\" >Random Forest</td>\n",
              "                        <td id=\"T_01072324_0fa5_11eb_a725_0242ac1c0002row3_col1\" class=\"data row3 col1\" >2.2477</td>\n",
              "                        <td id=\"T_01072324_0fa5_11eb_a725_0242ac1c0002row3_col2\" class=\"data row3 col2\" >11.7242</td>\n",
              "                        <td id=\"T_01072324_0fa5_11eb_a725_0242ac1c0002row3_col3\" class=\"data row3 col3\" >3.2631</td>\n",
              "                        <td id=\"T_01072324_0fa5_11eb_a725_0242ac1c0002row3_col4\" class=\"data row3 col4\" >0.8511</td>\n",
              "                        <td id=\"T_01072324_0fa5_11eb_a725_0242ac1c0002row3_col5\" class=\"data row3 col5\" >0.1477</td>\n",
              "                        <td id=\"T_01072324_0fa5_11eb_a725_0242ac1c0002row3_col6\" class=\"data row3 col6\" >0.1134</td>\n",
              "                        <td id=\"T_01072324_0fa5_11eb_a725_0242ac1c0002row3_col7\" class=\"data row3 col7\" >0.3524</td>\n",
              "            </tr>\n",
              "            <tr>\n",
              "                        <th id=\"T_01072324_0fa5_11eb_a725_0242ac1c0002level0_row4\" class=\"row_heading level0 row4\" >4</th>\n",
              "                        <td id=\"T_01072324_0fa5_11eb_a725_0242ac1c0002row4_col0\" class=\"data row4 col0\" >Extreme Gradient Boosting</td>\n",
              "                        <td id=\"T_01072324_0fa5_11eb_a725_0242ac1c0002row4_col1\" class=\"data row4 col1\" >2.3041</td>\n",
              "                        <td id=\"T_01072324_0fa5_11eb_a725_0242ac1c0002row4_col2\" class=\"data row4 col2\" >12.5073</td>\n",
              "                        <td id=\"T_01072324_0fa5_11eb_a725_0242ac1c0002row4_col3\" class=\"data row4 col3\" >3.4070</td>\n",
              "                        <td id=\"T_01072324_0fa5_11eb_a725_0242ac1c0002row4_col4\" class=\"data row4 col4\" >0.8400</td>\n",
              "                        <td id=\"T_01072324_0fa5_11eb_a725_0242ac1c0002row4_col5\" class=\"data row4 col5\" >0.1573</td>\n",
              "                        <td id=\"T_01072324_0fa5_11eb_a725_0242ac1c0002row4_col6\" class=\"data row4 col6\" >0.1178</td>\n",
              "                        <td id=\"T_01072324_0fa5_11eb_a725_0242ac1c0002row4_col7\" class=\"data row4 col7\" >0.0430</td>\n",
              "            </tr>\n",
              "            <tr>\n",
              "                        <th id=\"T_01072324_0fa5_11eb_a725_0242ac1c0002level0_row5\" class=\"row_heading level0 row5\" >5</th>\n",
              "                        <td id=\"T_01072324_0fa5_11eb_a725_0242ac1c0002row5_col0\" class=\"data row5 col0\" >Light Gradient Boosting Machine</td>\n",
              "                        <td id=\"T_01072324_0fa5_11eb_a725_0242ac1c0002row5_col1\" class=\"data row5 col1\" >2.3715</td>\n",
              "                        <td id=\"T_01072324_0fa5_11eb_a725_0242ac1c0002row5_col2\" class=\"data row5 col2\" >13.1167</td>\n",
              "                        <td id=\"T_01072324_0fa5_11eb_a725_0242ac1c0002row5_col3\" class=\"data row5 col3\" >3.4618</td>\n",
              "                        <td id=\"T_01072324_0fa5_11eb_a725_0242ac1c0002row5_col4\" class=\"data row5 col4\" >0.8339</td>\n",
              "                        <td id=\"T_01072324_0fa5_11eb_a725_0242ac1c0002row5_col5\" class=\"data row5 col5\" >0.1551</td>\n",
              "                        <td id=\"T_01072324_0fa5_11eb_a725_0242ac1c0002row5_col6\" class=\"data row5 col6\" >0.1189</td>\n",
              "                        <td id=\"T_01072324_0fa5_11eb_a725_0242ac1c0002row5_col7\" class=\"data row5 col7\" >0.0388</td>\n",
              "            </tr>\n",
              "            <tr>\n",
              "                        <th id=\"T_01072324_0fa5_11eb_a725_0242ac1c0002level0_row6\" class=\"row_heading level0 row6\" >6</th>\n",
              "                        <td id=\"T_01072324_0fa5_11eb_a725_0242ac1c0002row6_col0\" class=\"data row6 col0\" >AdaBoost Regressor</td>\n",
              "                        <td id=\"T_01072324_0fa5_11eb_a725_0242ac1c0002row6_col1\" class=\"data row6 col1\" >2.7052</td>\n",
              "                        <td id=\"T_01072324_0fa5_11eb_a725_0242ac1c0002row6_col2\" class=\"data row6 col2\" >15.3961</td>\n",
              "                        <td id=\"T_01072324_0fa5_11eb_a725_0242ac1c0002row6_col3\" class=\"data row6 col3\" >3.7690</td>\n",
              "                        <td id=\"T_01072324_0fa5_11eb_a725_0242ac1c0002row6_col4\" class=\"data row6 col4\" >0.8051</td>\n",
              "                        <td id=\"T_01072324_0fa5_11eb_a725_0242ac1c0002row6_col5\" class=\"data row6 col5\" >0.1799</td>\n",
              "                        <td id=\"T_01072324_0fa5_11eb_a725_0242ac1c0002row6_col6\" class=\"data row6 col6\" >0.1432</td>\n",
              "                        <td id=\"T_01072324_0fa5_11eb_a725_0242ac1c0002row6_col7\" class=\"data row6 col7\" >0.1052</td>\n",
              "            </tr>\n",
              "            <tr>\n",
              "                        <th id=\"T_01072324_0fa5_11eb_a725_0242ac1c0002level0_row7\" class=\"row_heading level0 row7\" >7</th>\n",
              "                        <td id=\"T_01072324_0fa5_11eb_a725_0242ac1c0002row7_col0\" class=\"data row7 col0\" >Decision Tree</td>\n",
              "                        <td id=\"T_01072324_0fa5_11eb_a725_0242ac1c0002row7_col1\" class=\"data row7 col1\" >3.0497</td>\n",
              "                        <td id=\"T_01072324_0fa5_11eb_a725_0242ac1c0002row7_col2\" class=\"data row7 col2\" >21.4568</td>\n",
              "                        <td id=\"T_01072324_0fa5_11eb_a725_0242ac1c0002row7_col3\" class=\"data row7 col3\" >4.4835</td>\n",
              "                        <td id=\"T_01072324_0fa5_11eb_a725_0242ac1c0002row7_col4\" class=\"data row7 col4\" >0.7237</td>\n",
              "                        <td id=\"T_01072324_0fa5_11eb_a725_0242ac1c0002row7_col5\" class=\"data row7 col5\" >0.2047</td>\n",
              "                        <td id=\"T_01072324_0fa5_11eb_a725_0242ac1c0002row7_col6\" class=\"data row7 col6\" >0.1545</td>\n",
              "                        <td id=\"T_01072324_0fa5_11eb_a725_0242ac1c0002row7_col7\" class=\"data row7 col7\" >0.0094</td>\n",
              "            </tr>\n",
              "            <tr>\n",
              "                        <th id=\"T_01072324_0fa5_11eb_a725_0242ac1c0002level0_row8\" class=\"row_heading level0 row8\" >8</th>\n",
              "                        <td id=\"T_01072324_0fa5_11eb_a725_0242ac1c0002row8_col0\" class=\"data row8 col0\" >Linear Regression</td>\n",
              "                        <td id=\"T_01072324_0fa5_11eb_a725_0242ac1c0002row8_col1\" class=\"data row8 col1\" >3.3368</td>\n",
              "                        <td id=\"T_01072324_0fa5_11eb_a725_0242ac1c0002row8_col2\" class=\"data row8 col2\" >22.7677</td>\n",
              "                        <td id=\"T_01072324_0fa5_11eb_a725_0242ac1c0002row8_col3\" class=\"data row8 col3\" >4.6159</td>\n",
              "                        <td id=\"T_01072324_0fa5_11eb_a725_0242ac1c0002row8_col4\" class=\"data row8 col4\" >0.7126</td>\n",
              "                        <td id=\"T_01072324_0fa5_11eb_a725_0242ac1c0002row8_col5\" class=\"data row8 col5\" >0.2684</td>\n",
              "                        <td id=\"T_01072324_0fa5_11eb_a725_0242ac1c0002row8_col6\" class=\"data row8 col6\" >0.1699</td>\n",
              "                        <td id=\"T_01072324_0fa5_11eb_a725_0242ac1c0002row8_col7\" class=\"data row8 col7\" >0.0060</td>\n",
              "            </tr>\n",
              "            <tr>\n",
              "                        <th id=\"T_01072324_0fa5_11eb_a725_0242ac1c0002level0_row9\" class=\"row_heading level0 row9\" >9</th>\n",
              "                        <td id=\"T_01072324_0fa5_11eb_a725_0242ac1c0002row9_col0\" class=\"data row9 col0\" >Ridge Regression</td>\n",
              "                        <td id=\"T_01072324_0fa5_11eb_a725_0242ac1c0002row9_col1\" class=\"data row9 col1\" >3.3104</td>\n",
              "                        <td id=\"T_01072324_0fa5_11eb_a725_0242ac1c0002row9_col2\" class=\"data row9 col2\" >23.0056</td>\n",
              "                        <td id=\"T_01072324_0fa5_11eb_a725_0242ac1c0002row9_col3\" class=\"data row9 col3\" >4.6362</td>\n",
              "                        <td id=\"T_01072324_0fa5_11eb_a725_0242ac1c0002row9_col4\" class=\"data row9 col4\" >0.7101</td>\n",
              "                        <td id=\"T_01072324_0fa5_11eb_a725_0242ac1c0002row9_col5\" class=\"data row9 col5\" >0.2567</td>\n",
              "                        <td id=\"T_01072324_0fa5_11eb_a725_0242ac1c0002row9_col6\" class=\"data row9 col6\" >0.1692</td>\n",
              "                        <td id=\"T_01072324_0fa5_11eb_a725_0242ac1c0002row9_col7\" class=\"data row9 col7\" >0.0052</td>\n",
              "            </tr>\n",
              "            <tr>\n",
              "                        <th id=\"T_01072324_0fa5_11eb_a725_0242ac1c0002level0_row10\" class=\"row_heading level0 row10\" >10</th>\n",
              "                        <td id=\"T_01072324_0fa5_11eb_a725_0242ac1c0002row10_col0\" class=\"data row10 col0\" >Least Angle Regression</td>\n",
              "                        <td id=\"T_01072324_0fa5_11eb_a725_0242ac1c0002row10_col1\" class=\"data row10 col1\" >3.3341</td>\n",
              "                        <td id=\"T_01072324_0fa5_11eb_a725_0242ac1c0002row10_col2\" class=\"data row10 col2\" >23.3597</td>\n",
              "                        <td id=\"T_01072324_0fa5_11eb_a725_0242ac1c0002row10_col3\" class=\"data row10 col3\" >4.6661</td>\n",
              "                        <td id=\"T_01072324_0fa5_11eb_a725_0242ac1c0002row10_col4\" class=\"data row10 col4\" >0.7057</td>\n",
              "                        <td id=\"T_01072324_0fa5_11eb_a725_0242ac1c0002row10_col5\" class=\"data row10 col5\" >0.2598</td>\n",
              "                        <td id=\"T_01072324_0fa5_11eb_a725_0242ac1c0002row10_col6\" class=\"data row10 col6\" >0.1701</td>\n",
              "                        <td id=\"T_01072324_0fa5_11eb_a725_0242ac1c0002row10_col7\" class=\"data row10 col7\" >0.0117</td>\n",
              "            </tr>\n",
              "            <tr>\n",
              "                        <th id=\"T_01072324_0fa5_11eb_a725_0242ac1c0002level0_row11\" class=\"row_heading level0 row11\" >11</th>\n",
              "                        <td id=\"T_01072324_0fa5_11eb_a725_0242ac1c0002row11_col0\" class=\"data row11 col0\" >TheilSen Regressor</td>\n",
              "                        <td id=\"T_01072324_0fa5_11eb_a725_0242ac1c0002row11_col1\" class=\"data row11 col1\" >3.2185</td>\n",
              "                        <td id=\"T_01072324_0fa5_11eb_a725_0242ac1c0002row11_col2\" class=\"data row11 col2\" >24.1161</td>\n",
              "                        <td id=\"T_01072324_0fa5_11eb_a725_0242ac1c0002row11_col3\" class=\"data row11 col3\" >4.6837</td>\n",
              "                        <td id=\"T_01072324_0fa5_11eb_a725_0242ac1c0002row11_col4\" class=\"data row11 col4\" >0.7053</td>\n",
              "                        <td id=\"T_01072324_0fa5_11eb_a725_0242ac1c0002row11_col5\" class=\"data row11 col5\" >0.2627</td>\n",
              "                        <td id=\"T_01072324_0fa5_11eb_a725_0242ac1c0002row11_col6\" class=\"data row11 col6\" >0.1616</td>\n",
              "                        <td id=\"T_01072324_0fa5_11eb_a725_0242ac1c0002row11_col7\" class=\"data row11 col7\" >1.8517</td>\n",
              "            </tr>\n",
              "            <tr>\n",
              "                        <th id=\"T_01072324_0fa5_11eb_a725_0242ac1c0002level0_row12\" class=\"row_heading level0 row12\" >12</th>\n",
              "                        <td id=\"T_01072324_0fa5_11eb_a725_0242ac1c0002row12_col0\" class=\"data row12 col0\" >Bayesian Ridge</td>\n",
              "                        <td id=\"T_01072324_0fa5_11eb_a725_0242ac1c0002row12_col1\" class=\"data row12 col1\" >3.3000</td>\n",
              "                        <td id=\"T_01072324_0fa5_11eb_a725_0242ac1c0002row12_col2\" class=\"data row12 col2\" >23.4230</td>\n",
              "                        <td id=\"T_01072324_0fa5_11eb_a725_0242ac1c0002row12_col3\" class=\"data row12 col3\" >4.6827</td>\n",
              "                        <td id=\"T_01072324_0fa5_11eb_a725_0242ac1c0002row12_col4\" class=\"data row12 col4\" >0.7053</td>\n",
              "                        <td id=\"T_01072324_0fa5_11eb_a725_0242ac1c0002row12_col5\" class=\"data row12 col5\" >0.2498</td>\n",
              "                        <td id=\"T_01072324_0fa5_11eb_a725_0242ac1c0002row12_col6\" class=\"data row12 col6\" >0.1681</td>\n",
              "                        <td id=\"T_01072324_0fa5_11eb_a725_0242ac1c0002row12_col7\" class=\"data row12 col7\" >0.0078</td>\n",
              "            </tr>\n",
              "            <tr>\n",
              "                        <th id=\"T_01072324_0fa5_11eb_a725_0242ac1c0002level0_row13\" class=\"row_heading level0 row13\" >13</th>\n",
              "                        <td id=\"T_01072324_0fa5_11eb_a725_0242ac1c0002row13_col0\" class=\"data row13 col0\" >Random Sample Consensus</td>\n",
              "                        <td id=\"T_01072324_0fa5_11eb_a725_0242ac1c0002row13_col1\" class=\"data row13 col1\" >3.1714</td>\n",
              "                        <td id=\"T_01072324_0fa5_11eb_a725_0242ac1c0002row13_col2\" class=\"data row13 col2\" >25.4217</td>\n",
              "                        <td id=\"T_01072324_0fa5_11eb_a725_0242ac1c0002row13_col3\" class=\"data row13 col3\" >4.7516</td>\n",
              "                        <td id=\"T_01072324_0fa5_11eb_a725_0242ac1c0002row13_col4\" class=\"data row13 col4\" >0.6941</td>\n",
              "                        <td id=\"T_01072324_0fa5_11eb_a725_0242ac1c0002row13_col5\" class=\"data row13 col5\" >0.2731</td>\n",
              "                        <td id=\"T_01072324_0fa5_11eb_a725_0242ac1c0002row13_col6\" class=\"data row13 col6\" >0.1578</td>\n",
              "                        <td id=\"T_01072324_0fa5_11eb_a725_0242ac1c0002row13_col7\" class=\"data row13 col7\" >0.0960</td>\n",
              "            </tr>\n",
              "            <tr>\n",
              "                        <th id=\"T_01072324_0fa5_11eb_a725_0242ac1c0002level0_row14\" class=\"row_heading level0 row14\" >14</th>\n",
              "                        <td id=\"T_01072324_0fa5_11eb_a725_0242ac1c0002row14_col0\" class=\"data row14 col0\" >Huber Regressor</td>\n",
              "                        <td id=\"T_01072324_0fa5_11eb_a725_0242ac1c0002row14_col1\" class=\"data row14 col1\" >3.4104</td>\n",
              "                        <td id=\"T_01072324_0fa5_11eb_a725_0242ac1c0002row14_col2\" class=\"data row14 col2\" >27.5078</td>\n",
              "                        <td id=\"T_01072324_0fa5_11eb_a725_0242ac1c0002row14_col3\" class=\"data row14 col3\" >5.0446</td>\n",
              "                        <td id=\"T_01072324_0fa5_11eb_a725_0242ac1c0002row14_col4\" class=\"data row14 col4\" >0.6632</td>\n",
              "                        <td id=\"T_01072324_0fa5_11eb_a725_0242ac1c0002row14_col5\" class=\"data row14 col5\" >0.2742</td>\n",
              "                        <td id=\"T_01072324_0fa5_11eb_a725_0242ac1c0002row14_col6\" class=\"data row14 col6\" >0.1690</td>\n",
              "                        <td id=\"T_01072324_0fa5_11eb_a725_0242ac1c0002row14_col7\" class=\"data row14 col7\" >0.0341</td>\n",
              "            </tr>\n",
              "            <tr>\n",
              "                        <th id=\"T_01072324_0fa5_11eb_a725_0242ac1c0002level0_row15\" class=\"row_heading level0 row15\" >15</th>\n",
              "                        <td id=\"T_01072324_0fa5_11eb_a725_0242ac1c0002row15_col0\" class=\"data row15 col0\" >Elastic Net</td>\n",
              "                        <td id=\"T_01072324_0fa5_11eb_a725_0242ac1c0002row15_col1\" class=\"data row15 col1\" >3.6964</td>\n",
              "                        <td id=\"T_01072324_0fa5_11eb_a725_0242ac1c0002row15_col2\" class=\"data row15 col2\" >27.7522</td>\n",
              "                        <td id=\"T_01072324_0fa5_11eb_a725_0242ac1c0002row15_col3\" class=\"data row15 col3\" >5.1417</td>\n",
              "                        <td id=\"T_01072324_0fa5_11eb_a725_0242ac1c0002row15_col4\" class=\"data row15 col4\" >0.6536</td>\n",
              "                        <td id=\"T_01072324_0fa5_11eb_a725_0242ac1c0002row15_col5\" class=\"data row15 col5\" >0.2495</td>\n",
              "                        <td id=\"T_01072324_0fa5_11eb_a725_0242ac1c0002row15_col6\" class=\"data row15 col6\" >0.1773</td>\n",
              "                        <td id=\"T_01072324_0fa5_11eb_a725_0242ac1c0002row15_col7\" class=\"data row15 col7\" >0.0059</td>\n",
              "            </tr>\n",
              "            <tr>\n",
              "                        <th id=\"T_01072324_0fa5_11eb_a725_0242ac1c0002level0_row16\" class=\"row_heading level0 row16\" >16</th>\n",
              "                        <td id=\"T_01072324_0fa5_11eb_a725_0242ac1c0002row16_col0\" class=\"data row16 col0\" >Lasso Regression</td>\n",
              "                        <td id=\"T_01072324_0fa5_11eb_a725_0242ac1c0002row16_col1\" class=\"data row16 col1\" >3.6951</td>\n",
              "                        <td id=\"T_01072324_0fa5_11eb_a725_0242ac1c0002row16_col2\" class=\"data row16 col2\" >27.9049</td>\n",
              "                        <td id=\"T_01072324_0fa5_11eb_a725_0242ac1c0002row16_col3\" class=\"data row16 col3\" >5.1516</td>\n",
              "                        <td id=\"T_01072324_0fa5_11eb_a725_0242ac1c0002row16_col4\" class=\"data row16 col4\" >0.6526</td>\n",
              "                        <td id=\"T_01072324_0fa5_11eb_a725_0242ac1c0002row16_col5\" class=\"data row16 col5\" >0.2478</td>\n",
              "                        <td id=\"T_01072324_0fa5_11eb_a725_0242ac1c0002row16_col6\" class=\"data row16 col6\" >0.1776</td>\n",
              "                        <td id=\"T_01072324_0fa5_11eb_a725_0242ac1c0002row16_col7\" class=\"data row16 col7\" >0.0065</td>\n",
              "            </tr>\n",
              "            <tr>\n",
              "                        <th id=\"T_01072324_0fa5_11eb_a725_0242ac1c0002level0_row17\" class=\"row_heading level0 row17\" >17</th>\n",
              "                        <td id=\"T_01072324_0fa5_11eb_a725_0242ac1c0002row17_col0\" class=\"data row17 col0\" >Orthogonal Matching Pursuit</td>\n",
              "                        <td id=\"T_01072324_0fa5_11eb_a725_0242ac1c0002row17_col1\" class=\"data row17 col1\" >4.1507</td>\n",
              "                        <td id=\"T_01072324_0fa5_11eb_a725_0242ac1c0002row17_col2\" class=\"data row17 col2\" >35.8821</td>\n",
              "                        <td id=\"T_01072324_0fa5_11eb_a725_0242ac1c0002row17_col3\" class=\"data row17 col3\" >5.8124</td>\n",
              "                        <td id=\"T_01072324_0fa5_11eb_a725_0242ac1c0002row17_col4\" class=\"data row17 col4\" >0.5528</td>\n",
              "                        <td id=\"T_01072324_0fa5_11eb_a725_0242ac1c0002row17_col5\" class=\"data row17 col5\" >0.3400</td>\n",
              "                        <td id=\"T_01072324_0fa5_11eb_a725_0242ac1c0002row17_col6\" class=\"data row17 col6\" >0.2088</td>\n",
              "                        <td id=\"T_01072324_0fa5_11eb_a725_0242ac1c0002row17_col7\" class=\"data row17 col7\" >0.0059</td>\n",
              "            </tr>\n",
              "            <tr>\n",
              "                        <th id=\"T_01072324_0fa5_11eb_a725_0242ac1c0002level0_row18\" class=\"row_heading level0 row18\" >18</th>\n",
              "                        <td id=\"T_01072324_0fa5_11eb_a725_0242ac1c0002row18_col0\" class=\"data row18 col0\" >K Neighbors Regressor</td>\n",
              "                        <td id=\"T_01072324_0fa5_11eb_a725_0242ac1c0002row18_col1\" class=\"data row18 col1\" >4.5491</td>\n",
              "                        <td id=\"T_01072324_0fa5_11eb_a725_0242ac1c0002row18_col2\" class=\"data row18 col2\" >43.4060</td>\n",
              "                        <td id=\"T_01072324_0fa5_11eb_a725_0242ac1c0002row18_col3\" class=\"data row18 col3\" >6.4439</td>\n",
              "                        <td id=\"T_01072324_0fa5_11eb_a725_0242ac1c0002row18_col4\" class=\"data row18 col4\" >0.4548</td>\n",
              "                        <td id=\"T_01072324_0fa5_11eb_a725_0242ac1c0002row18_col5\" class=\"data row18 col5\" >0.2559</td>\n",
              "                        <td id=\"T_01072324_0fa5_11eb_a725_0242ac1c0002row18_col6\" class=\"data row18 col6\" >0.2159</td>\n",
              "                        <td id=\"T_01072324_0fa5_11eb_a725_0242ac1c0002row18_col7\" class=\"data row18 col7\" >0.0044</td>\n",
              "            </tr>\n",
              "            <tr>\n",
              "                        <th id=\"T_01072324_0fa5_11eb_a725_0242ac1c0002level0_row19\" class=\"row_heading level0 row19\" >19</th>\n",
              "                        <td id=\"T_01072324_0fa5_11eb_a725_0242ac1c0002row19_col0\" class=\"data row19 col0\" >Support Vector Machine</td>\n",
              "                        <td id=\"T_01072324_0fa5_11eb_a725_0242ac1c0002row19_col1\" class=\"data row19 col1\" >5.3577</td>\n",
              "                        <td id=\"T_01072324_0fa5_11eb_a725_0242ac1c0002row19_col2\" class=\"data row19 col2\" >68.6570</td>\n",
              "                        <td id=\"T_01072324_0fa5_11eb_a725_0242ac1c0002row19_col3\" class=\"data row19 col3\" >8.1043</td>\n",
              "                        <td id=\"T_01072324_0fa5_11eb_a725_0242ac1c0002row19_col4\" class=\"data row19 col4\" >0.1667</td>\n",
              "                        <td id=\"T_01072324_0fa5_11eb_a725_0242ac1c0002row19_col5\" class=\"data row19 col5\" >0.3117</td>\n",
              "                        <td id=\"T_01072324_0fa5_11eb_a725_0242ac1c0002row19_col6\" class=\"data row19 col6\" >0.2371</td>\n",
              "                        <td id=\"T_01072324_0fa5_11eb_a725_0242ac1c0002row19_col7\" class=\"data row19 col7\" >0.0167</td>\n",
              "            </tr>\n",
              "            <tr>\n",
              "                        <th id=\"T_01072324_0fa5_11eb_a725_0242ac1c0002level0_row20\" class=\"row_heading level0 row20\" >20</th>\n",
              "                        <td id=\"T_01072324_0fa5_11eb_a725_0242ac1c0002row20_col0\" class=\"data row20 col0\" >Passive Aggressive Regressor</td>\n",
              "                        <td id=\"T_01072324_0fa5_11eb_a725_0242ac1c0002row20_col1\" class=\"data row20 col1\" >6.3510</td>\n",
              "                        <td id=\"T_01072324_0fa5_11eb_a725_0242ac1c0002row20_col2\" class=\"data row20 col2\" >75.3108</td>\n",
              "                        <td id=\"T_01072324_0fa5_11eb_a725_0242ac1c0002row20_col3\" class=\"data row20 col3\" >8.5466</td>\n",
              "                        <td id=\"T_01072324_0fa5_11eb_a725_0242ac1c0002row20_col4\" class=\"data row20 col4\" >0.0507</td>\n",
              "                        <td id=\"T_01072324_0fa5_11eb_a725_0242ac1c0002row20_col5\" class=\"data row20 col5\" >0.4068</td>\n",
              "                        <td id=\"T_01072324_0fa5_11eb_a725_0242ac1c0002row20_col6\" class=\"data row20 col6\" >0.3117</td>\n",
              "                        <td id=\"T_01072324_0fa5_11eb_a725_0242ac1c0002row20_col7\" class=\"data row20 col7\" >0.0069</td>\n",
              "            </tr>\n",
              "            <tr>\n",
              "                        <th id=\"T_01072324_0fa5_11eb_a725_0242ac1c0002level0_row21\" class=\"row_heading level0 row21\" >21</th>\n",
              "                        <td id=\"T_01072324_0fa5_11eb_a725_0242ac1c0002row21_col0\" class=\"data row21 col0\" >Lasso Least Angle Regression</td>\n",
              "                        <td id=\"T_01072324_0fa5_11eb_a725_0242ac1c0002row21_col1\" class=\"data row21 col1\" >6.6250</td>\n",
              "                        <td id=\"T_01072324_0fa5_11eb_a725_0242ac1c0002row21_col2\" class=\"data row21 col2\" >83.2741</td>\n",
              "                        <td id=\"T_01072324_0fa5_11eb_a725_0242ac1c0002row21_col3\" class=\"data row21 col3\" >9.0340</td>\n",
              "                        <td id=\"T_01072324_0fa5_11eb_a725_0242ac1c0002row21_col4\" class=\"data row21 col4\" >-0.0479</td>\n",
              "                        <td id=\"T_01072324_0fa5_11eb_a725_0242ac1c0002row21_col5\" class=\"data row21 col5\" >0.3861</td>\n",
              "                        <td id=\"T_01072324_0fa5_11eb_a725_0242ac1c0002row21_col6\" class=\"data row21 col6\" >0.3582</td>\n",
              "                        <td id=\"T_01072324_0fa5_11eb_a725_0242ac1c0002row21_col7\" class=\"data row21 col7\" >0.0047</td>\n",
              "            </tr>\n",
              "    </tbody></table>"
            ],
            "text/plain": [
              "<pandas.io.formats.style.Styler at 0x7f04e7f43860>"
            ]
          },
          "metadata": {
            "tags": []
          }
        },
        {
          "output_type": "execute_result",
          "data": {
            "text/plain": [
              "ExtraTreesRegressor(bootstrap=False, ccp_alpha=0.0, criterion='mse',\n",
              "                    max_depth=None, max_features='auto', max_leaf_nodes=None,\n",
              "                    max_samples=None, min_impurity_decrease=0.0,\n",
              "                    min_impurity_split=None, min_samples_leaf=1,\n",
              "                    min_samples_split=2, min_weight_fraction_leaf=0.0,\n",
              "                    n_estimators=100, n_jobs=-1, oob_score=False,\n",
              "                    random_state=2785, verbose=0, warm_start=False)"
            ]
          },
          "metadata": {
            "tags": []
          },
          "execution_count": 44
        }
      ]
    },
    {
      "cell_type": "code",
      "metadata": {
        "id": "oqiEHSoDrcze",
        "outputId": "c35b41e6-7dda-466c-adac-128e65c81d75",
        "colab": {
          "base_uri": "https://localhost:8080/",
          "height": 292,
          "referenced_widgets": [
            "23f5c3047d31425a88d760ddbddea8dd",
            "4010a9b1f708456bb94c84d7385f9a1b",
            "88b287528a864c749f037ca50769c1d0"
          ]
        }
      },
      "source": [
        "# For details have look at https://pycaret.org/create-model/\n",
        "reg_model=create_model('catboost')"
      ],
      "execution_count": 45,
      "outputs": [
        {
          "output_type": "display_data",
          "data": {
            "text/html": [
              "<style  type=\"text/css\" >\n",
              "#T_0f7c15a4_0fa5_11eb_a725_0242ac1c0002row10_col0,#T_0f7c15a4_0fa5_11eb_a725_0242ac1c0002row10_col1,#T_0f7c15a4_0fa5_11eb_a725_0242ac1c0002row10_col2,#T_0f7c15a4_0fa5_11eb_a725_0242ac1c0002row10_col3,#T_0f7c15a4_0fa5_11eb_a725_0242ac1c0002row10_col4,#T_0f7c15a4_0fa5_11eb_a725_0242ac1c0002row10_col5{\n",
              "            background:  yellow;\n",
              "        }</style><table id=\"T_0f7c15a4_0fa5_11eb_a725_0242ac1c0002\" ><thead>    <tr>        <th class=\"blank level0\" ></th>        <th class=\"col_heading level0 col0\" >MAE</th>        <th class=\"col_heading level0 col1\" >MSE</th>        <th class=\"col_heading level0 col2\" >RMSE</th>        <th class=\"col_heading level0 col3\" >R2</th>        <th class=\"col_heading level0 col4\" >RMSLE</th>        <th class=\"col_heading level0 col5\" >MAPE</th>    </tr></thead><tbody>\n",
              "                <tr>\n",
              "                        <th id=\"T_0f7c15a4_0fa5_11eb_a725_0242ac1c0002level0_row0\" class=\"row_heading level0 row0\" >0</th>\n",
              "                        <td id=\"T_0f7c15a4_0fa5_11eb_a725_0242ac1c0002row0_col0\" class=\"data row0 col0\" >2.0225</td>\n",
              "                        <td id=\"T_0f7c15a4_0fa5_11eb_a725_0242ac1c0002row0_col1\" class=\"data row0 col1\" >7.7989</td>\n",
              "                        <td id=\"T_0f7c15a4_0fa5_11eb_a725_0242ac1c0002row0_col2\" class=\"data row0 col2\" >2.7927</td>\n",
              "                        <td id=\"T_0f7c15a4_0fa5_11eb_a725_0242ac1c0002row0_col3\" class=\"data row0 col3\" >0.9166</td>\n",
              "                        <td id=\"T_0f7c15a4_0fa5_11eb_a725_0242ac1c0002row0_col4\" class=\"data row0 col4\" >0.1508</td>\n",
              "                        <td id=\"T_0f7c15a4_0fa5_11eb_a725_0242ac1c0002row0_col5\" class=\"data row0 col5\" >0.1063</td>\n",
              "            </tr>\n",
              "            <tr>\n",
              "                        <th id=\"T_0f7c15a4_0fa5_11eb_a725_0242ac1c0002level0_row1\" class=\"row_heading level0 row1\" >1</th>\n",
              "                        <td id=\"T_0f7c15a4_0fa5_11eb_a725_0242ac1c0002row1_col0\" class=\"data row1 col0\" >1.6587</td>\n",
              "                        <td id=\"T_0f7c15a4_0fa5_11eb_a725_0242ac1c0002row1_col1\" class=\"data row1 col1\" >5.2474</td>\n",
              "                        <td id=\"T_0f7c15a4_0fa5_11eb_a725_0242ac1c0002row1_col2\" class=\"data row1 col2\" >2.2907</td>\n",
              "                        <td id=\"T_0f7c15a4_0fa5_11eb_a725_0242ac1c0002row1_col3\" class=\"data row1 col3\" >0.9171</td>\n",
              "                        <td id=\"T_0f7c15a4_0fa5_11eb_a725_0242ac1c0002row1_col4\" class=\"data row1 col4\" >0.1483</td>\n",
              "                        <td id=\"T_0f7c15a4_0fa5_11eb_a725_0242ac1c0002row1_col5\" class=\"data row1 col5\" >0.1083</td>\n",
              "            </tr>\n",
              "            <tr>\n",
              "                        <th id=\"T_0f7c15a4_0fa5_11eb_a725_0242ac1c0002level0_row2\" class=\"row_heading level0 row2\" >2</th>\n",
              "                        <td id=\"T_0f7c15a4_0fa5_11eb_a725_0242ac1c0002row2_col0\" class=\"data row2 col0\" >2.4292</td>\n",
              "                        <td id=\"T_0f7c15a4_0fa5_11eb_a725_0242ac1c0002row2_col1\" class=\"data row2 col1\" >18.7087</td>\n",
              "                        <td id=\"T_0f7c15a4_0fa5_11eb_a725_0242ac1c0002row2_col2\" class=\"data row2 col2\" >4.3254</td>\n",
              "                        <td id=\"T_0f7c15a4_0fa5_11eb_a725_0242ac1c0002row2_col3\" class=\"data row2 col3\" >0.7926</td>\n",
              "                        <td id=\"T_0f7c15a4_0fa5_11eb_a725_0242ac1c0002row2_col4\" class=\"data row2 col4\" >0.1412</td>\n",
              "                        <td id=\"T_0f7c15a4_0fa5_11eb_a725_0242ac1c0002row2_col5\" class=\"data row2 col5\" >0.0896</td>\n",
              "            </tr>\n",
              "            <tr>\n",
              "                        <th id=\"T_0f7c15a4_0fa5_11eb_a725_0242ac1c0002level0_row3\" class=\"row_heading level0 row3\" >3</th>\n",
              "                        <td id=\"T_0f7c15a4_0fa5_11eb_a725_0242ac1c0002row3_col0\" class=\"data row3 col0\" >2.0136</td>\n",
              "                        <td id=\"T_0f7c15a4_0fa5_11eb_a725_0242ac1c0002row3_col1\" class=\"data row3 col1\" >9.7510</td>\n",
              "                        <td id=\"T_0f7c15a4_0fa5_11eb_a725_0242ac1c0002row3_col2\" class=\"data row3 col2\" >3.1227</td>\n",
              "                        <td id=\"T_0f7c15a4_0fa5_11eb_a725_0242ac1c0002row3_col3\" class=\"data row3 col3\" >0.8913</td>\n",
              "                        <td id=\"T_0f7c15a4_0fa5_11eb_a725_0242ac1c0002row3_col4\" class=\"data row3 col4\" >0.1304</td>\n",
              "                        <td id=\"T_0f7c15a4_0fa5_11eb_a725_0242ac1c0002row3_col5\" class=\"data row3 col5\" >0.0883</td>\n",
              "            </tr>\n",
              "            <tr>\n",
              "                        <th id=\"T_0f7c15a4_0fa5_11eb_a725_0242ac1c0002level0_row4\" class=\"row_heading level0 row4\" >4</th>\n",
              "                        <td id=\"T_0f7c15a4_0fa5_11eb_a725_0242ac1c0002row4_col0\" class=\"data row4 col0\" >1.5772</td>\n",
              "                        <td id=\"T_0f7c15a4_0fa5_11eb_a725_0242ac1c0002row4_col1\" class=\"data row4 col1\" >5.0076</td>\n",
              "                        <td id=\"T_0f7c15a4_0fa5_11eb_a725_0242ac1c0002row4_col2\" class=\"data row4 col2\" >2.2378</td>\n",
              "                        <td id=\"T_0f7c15a4_0fa5_11eb_a725_0242ac1c0002row4_col3\" class=\"data row4 col3\" >0.9059</td>\n",
              "                        <td id=\"T_0f7c15a4_0fa5_11eb_a725_0242ac1c0002row4_col4\" class=\"data row4 col4\" >0.1113</td>\n",
              "                        <td id=\"T_0f7c15a4_0fa5_11eb_a725_0242ac1c0002row4_col5\" class=\"data row4 col5\" >0.0898</td>\n",
              "            </tr>\n",
              "            <tr>\n",
              "                        <th id=\"T_0f7c15a4_0fa5_11eb_a725_0242ac1c0002level0_row5\" class=\"row_heading level0 row5\" >5</th>\n",
              "                        <td id=\"T_0f7c15a4_0fa5_11eb_a725_0242ac1c0002row5_col0\" class=\"data row5 col0\" >3.0634</td>\n",
              "                        <td id=\"T_0f7c15a4_0fa5_11eb_a725_0242ac1c0002row5_col1\" class=\"data row5 col1\" >16.7941</td>\n",
              "                        <td id=\"T_0f7c15a4_0fa5_11eb_a725_0242ac1c0002row5_col2\" class=\"data row5 col2\" >4.0981</td>\n",
              "                        <td id=\"T_0f7c15a4_0fa5_11eb_a725_0242ac1c0002row5_col3\" class=\"data row5 col3\" >0.7980</td>\n",
              "                        <td id=\"T_0f7c15a4_0fa5_11eb_a725_0242ac1c0002row5_col4\" class=\"data row5 col4\" >0.1979</td>\n",
              "                        <td id=\"T_0f7c15a4_0fa5_11eb_a725_0242ac1c0002row5_col5\" class=\"data row5 col5\" >0.1669</td>\n",
              "            </tr>\n",
              "            <tr>\n",
              "                        <th id=\"T_0f7c15a4_0fa5_11eb_a725_0242ac1c0002level0_row6\" class=\"row_heading level0 row6\" >6</th>\n",
              "                        <td id=\"T_0f7c15a4_0fa5_11eb_a725_0242ac1c0002row6_col0\" class=\"data row6 col0\" >1.8598</td>\n",
              "                        <td id=\"T_0f7c15a4_0fa5_11eb_a725_0242ac1c0002row6_col1\" class=\"data row6 col1\" >6.4928</td>\n",
              "                        <td id=\"T_0f7c15a4_0fa5_11eb_a725_0242ac1c0002row6_col2\" class=\"data row6 col2\" >2.5481</td>\n",
              "                        <td id=\"T_0f7c15a4_0fa5_11eb_a725_0242ac1c0002row6_col3\" class=\"data row6 col3\" >0.8541</td>\n",
              "                        <td id=\"T_0f7c15a4_0fa5_11eb_a725_0242ac1c0002row6_col4\" class=\"data row6 col4\" >0.1131</td>\n",
              "                        <td id=\"T_0f7c15a4_0fa5_11eb_a725_0242ac1c0002row6_col5\" class=\"data row6 col5\" >0.0876</td>\n",
              "            </tr>\n",
              "            <tr>\n",
              "                        <th id=\"T_0f7c15a4_0fa5_11eb_a725_0242ac1c0002level0_row7\" class=\"row_heading level0 row7\" >7</th>\n",
              "                        <td id=\"T_0f7c15a4_0fa5_11eb_a725_0242ac1c0002row7_col0\" class=\"data row7 col0\" >2.8143</td>\n",
              "                        <td id=\"T_0f7c15a4_0fa5_11eb_a725_0242ac1c0002row7_col1\" class=\"data row7 col1\" >29.2445</td>\n",
              "                        <td id=\"T_0f7c15a4_0fa5_11eb_a725_0242ac1c0002row7_col2\" class=\"data row7 col2\" >5.4078</td>\n",
              "                        <td id=\"T_0f7c15a4_0fa5_11eb_a725_0242ac1c0002row7_col3\" class=\"data row7 col3\" >0.6961</td>\n",
              "                        <td id=\"T_0f7c15a4_0fa5_11eb_a725_0242ac1c0002row7_col4\" class=\"data row7 col4\" >0.2039</td>\n",
              "                        <td id=\"T_0f7c15a4_0fa5_11eb_a725_0242ac1c0002row7_col5\" class=\"data row7 col5\" >0.1266</td>\n",
              "            </tr>\n",
              "            <tr>\n",
              "                        <th id=\"T_0f7c15a4_0fa5_11eb_a725_0242ac1c0002level0_row8\" class=\"row_heading level0 row8\" >8</th>\n",
              "                        <td id=\"T_0f7c15a4_0fa5_11eb_a725_0242ac1c0002row8_col0\" class=\"data row8 col0\" >1.5575</td>\n",
              "                        <td id=\"T_0f7c15a4_0fa5_11eb_a725_0242ac1c0002row8_col1\" class=\"data row8 col1\" >4.6249</td>\n",
              "                        <td id=\"T_0f7c15a4_0fa5_11eb_a725_0242ac1c0002row8_col2\" class=\"data row8 col2\" >2.1506</td>\n",
              "                        <td id=\"T_0f7c15a4_0fa5_11eb_a725_0242ac1c0002row8_col3\" class=\"data row8 col3\" >0.9631</td>\n",
              "                        <td id=\"T_0f7c15a4_0fa5_11eb_a725_0242ac1c0002row8_col4\" class=\"data row8 col4\" >0.1270</td>\n",
              "                        <td id=\"T_0f7c15a4_0fa5_11eb_a725_0242ac1c0002row8_col5\" class=\"data row8 col5\" >0.0918</td>\n",
              "            </tr>\n",
              "            <tr>\n",
              "                        <th id=\"T_0f7c15a4_0fa5_11eb_a725_0242ac1c0002level0_row9\" class=\"row_heading level0 row9\" >9</th>\n",
              "                        <td id=\"T_0f7c15a4_0fa5_11eb_a725_0242ac1c0002row9_col0\" class=\"data row9 col0\" >2.4493</td>\n",
              "                        <td id=\"T_0f7c15a4_0fa5_11eb_a725_0242ac1c0002row9_col1\" class=\"data row9 col1\" >10.5656</td>\n",
              "                        <td id=\"T_0f7c15a4_0fa5_11eb_a725_0242ac1c0002row9_col2\" class=\"data row9 col2\" >3.2505</td>\n",
              "                        <td id=\"T_0f7c15a4_0fa5_11eb_a725_0242ac1c0002row9_col3\" class=\"data row9 col3\" >0.8242</td>\n",
              "                        <td id=\"T_0f7c15a4_0fa5_11eb_a725_0242ac1c0002row9_col4\" class=\"data row9 col4\" >0.1488</td>\n",
              "                        <td id=\"T_0f7c15a4_0fa5_11eb_a725_0242ac1c0002row9_col5\" class=\"data row9 col5\" >0.1176</td>\n",
              "            </tr>\n",
              "            <tr>\n",
              "                        <th id=\"T_0f7c15a4_0fa5_11eb_a725_0242ac1c0002level0_row10\" class=\"row_heading level0 row10\" >Mean</th>\n",
              "                        <td id=\"T_0f7c15a4_0fa5_11eb_a725_0242ac1c0002row10_col0\" class=\"data row10 col0\" >2.1445</td>\n",
              "                        <td id=\"T_0f7c15a4_0fa5_11eb_a725_0242ac1c0002row10_col1\" class=\"data row10 col1\" >11.4236</td>\n",
              "                        <td id=\"T_0f7c15a4_0fa5_11eb_a725_0242ac1c0002row10_col2\" class=\"data row10 col2\" >3.2224</td>\n",
              "                        <td id=\"T_0f7c15a4_0fa5_11eb_a725_0242ac1c0002row10_col3\" class=\"data row10 col3\" >0.8559</td>\n",
              "                        <td id=\"T_0f7c15a4_0fa5_11eb_a725_0242ac1c0002row10_col4\" class=\"data row10 col4\" >0.1473</td>\n",
              "                        <td id=\"T_0f7c15a4_0fa5_11eb_a725_0242ac1c0002row10_col5\" class=\"data row10 col5\" >0.1073</td>\n",
              "            </tr>\n",
              "            <tr>\n",
              "                        <th id=\"T_0f7c15a4_0fa5_11eb_a725_0242ac1c0002level0_row11\" class=\"row_heading level0 row11\" >SD</th>\n",
              "                        <td id=\"T_0f7c15a4_0fa5_11eb_a725_0242ac1c0002row11_col0\" class=\"data row11 col0\" >0.4982</td>\n",
              "                        <td id=\"T_0f7c15a4_0fa5_11eb_a725_0242ac1c0002row11_col1\" class=\"data row11 col1\" >7.5234</td>\n",
              "                        <td id=\"T_0f7c15a4_0fa5_11eb_a725_0242ac1c0002row11_col2\" class=\"data row11 col2\" >1.0196</td>\n",
              "                        <td id=\"T_0f7c15a4_0fa5_11eb_a725_0242ac1c0002row11_col3\" class=\"data row11 col3\" >0.0752</td>\n",
              "                        <td id=\"T_0f7c15a4_0fa5_11eb_a725_0242ac1c0002row11_col4\" class=\"data row11 col4\" >0.0300</td>\n",
              "                        <td id=\"T_0f7c15a4_0fa5_11eb_a725_0242ac1c0002row11_col5\" class=\"data row11 col5\" >0.0237</td>\n",
              "            </tr>\n",
              "    </tbody></table>"
            ],
            "text/plain": [
              "<pandas.io.formats.style.Styler at 0x7f04e97d0f28>"
            ]
          },
          "metadata": {
            "tags": []
          }
        }
      ]
    },
    {
      "cell_type": "code",
      "metadata": {
        "id": "9dL4-ky0rczq",
        "outputId": "d765b40b-ec02-4c08-d4e0-88174984b35d",
        "colab": {
          "base_uri": "https://localhost:8080/",
          "height": 204
        }
      },
      "source": [
        "#### Clustering Techniques\n",
        "#### For detail description visit the link https://pycaret.org/clustering/\n",
        "jewellery=get_data('jewellery')"
      ],
      "execution_count": 47,
      "outputs": [
        {
          "output_type": "display_data",
          "data": {
            "text/html": [
              "<div>\n",
              "<style scoped>\n",
              "    .dataframe tbody tr th:only-of-type {\n",
              "        vertical-align: middle;\n",
              "    }\n",
              "\n",
              "    .dataframe tbody tr th {\n",
              "        vertical-align: top;\n",
              "    }\n",
              "\n",
              "    .dataframe thead th {\n",
              "        text-align: right;\n",
              "    }\n",
              "</style>\n",
              "<table border=\"1\" class=\"dataframe\">\n",
              "  <thead>\n",
              "    <tr style=\"text-align: right;\">\n",
              "      <th></th>\n",
              "      <th>Age</th>\n",
              "      <th>Income</th>\n",
              "      <th>SpendingScore</th>\n",
              "      <th>Savings</th>\n",
              "    </tr>\n",
              "  </thead>\n",
              "  <tbody>\n",
              "    <tr>\n",
              "      <th>0</th>\n",
              "      <td>58</td>\n",
              "      <td>77769</td>\n",
              "      <td>0.791329</td>\n",
              "      <td>6559.829923</td>\n",
              "    </tr>\n",
              "    <tr>\n",
              "      <th>1</th>\n",
              "      <td>59</td>\n",
              "      <td>81799</td>\n",
              "      <td>0.791082</td>\n",
              "      <td>5417.661426</td>\n",
              "    </tr>\n",
              "    <tr>\n",
              "      <th>2</th>\n",
              "      <td>62</td>\n",
              "      <td>74751</td>\n",
              "      <td>0.702657</td>\n",
              "      <td>9258.992965</td>\n",
              "    </tr>\n",
              "    <tr>\n",
              "      <th>3</th>\n",
              "      <td>59</td>\n",
              "      <td>74373</td>\n",
              "      <td>0.765680</td>\n",
              "      <td>7346.334504</td>\n",
              "    </tr>\n",
              "    <tr>\n",
              "      <th>4</th>\n",
              "      <td>87</td>\n",
              "      <td>17760</td>\n",
              "      <td>0.348778</td>\n",
              "      <td>16869.507130</td>\n",
              "    </tr>\n",
              "  </tbody>\n",
              "</table>\n",
              "</div>"
            ],
            "text/plain": [
              "   Age  Income  SpendingScore       Savings\n",
              "0   58   77769       0.791329   6559.829923\n",
              "1   59   81799       0.791082   5417.661426\n",
              "2   62   74751       0.702657   9258.992965\n",
              "3   59   74373       0.765680   7346.334504\n",
              "4   87   17760       0.348778  16869.507130"
            ]
          },
          "metadata": {
            "tags": []
          }
        }
      ]
    },
    {
      "cell_type": "code",
      "metadata": {
        "id": "U-Z1cEl-rczx",
        "outputId": "c28b36a3-bf7e-49d6-c0fa-6d5a5f18b0a7",
        "colab": {
          "base_uri": "https://localhost:8080/",
          "height": 561,
          "referenced_widgets": [
            "1a9c3f62f5ab4ca8a867dc70ea0e5c7c",
            "0341cb8ea1cd44b3980c7c9fb648accd",
            "8dd53031a6df4473a46051885057b22f",
            "9fdeed4f6a9a4e5c8521e8d3c540af73",
            "c2b92f85afc2494786fd8ea1c6e82965",
            "16fa1336c2864227a9e5abb1b72bbc54"
          ]
        }
      },
      "source": [
        "from pycaret.clustering import *\n",
        "clust_algo=setup(jewellery)"
      ],
      "execution_count": 50,
      "outputs": [
        {
          "output_type": "stream",
          "text": [
            "Setup Succesfully Completed!\n"
          ],
          "name": "stdout"
        },
        {
          "output_type": "display_data",
          "data": {
            "text/html": [
              "<style  type=\"text/css\" >\n",
              "</style><table id=\"T_410102ec_0fa5_11eb_a725_0242ac1c0002\" ><thead>    <tr>        <th class=\"blank level0\" ></th>        <th class=\"col_heading level0 col0\" >Description</th>        <th class=\"col_heading level0 col1\" >Value</th>    </tr></thead><tbody>\n",
              "                <tr>\n",
              "                        <th id=\"T_410102ec_0fa5_11eb_a725_0242ac1c0002level0_row0\" class=\"row_heading level0 row0\" >0</th>\n",
              "                        <td id=\"T_410102ec_0fa5_11eb_a725_0242ac1c0002row0_col0\" class=\"data row0 col0\" >session_id </td>\n",
              "                        <td id=\"T_410102ec_0fa5_11eb_a725_0242ac1c0002row0_col1\" class=\"data row0 col1\" >5025</td>\n",
              "            </tr>\n",
              "            <tr>\n",
              "                        <th id=\"T_410102ec_0fa5_11eb_a725_0242ac1c0002level0_row1\" class=\"row_heading level0 row1\" >1</th>\n",
              "                        <td id=\"T_410102ec_0fa5_11eb_a725_0242ac1c0002row1_col0\" class=\"data row1 col0\" >Original Data </td>\n",
              "                        <td id=\"T_410102ec_0fa5_11eb_a725_0242ac1c0002row1_col1\" class=\"data row1 col1\" >(505, 4)</td>\n",
              "            </tr>\n",
              "            <tr>\n",
              "                        <th id=\"T_410102ec_0fa5_11eb_a725_0242ac1c0002level0_row2\" class=\"row_heading level0 row2\" >2</th>\n",
              "                        <td id=\"T_410102ec_0fa5_11eb_a725_0242ac1c0002row2_col0\" class=\"data row2 col0\" >Missing Values </td>\n",
              "                        <td id=\"T_410102ec_0fa5_11eb_a725_0242ac1c0002row2_col1\" class=\"data row2 col1\" >False</td>\n",
              "            </tr>\n",
              "            <tr>\n",
              "                        <th id=\"T_410102ec_0fa5_11eb_a725_0242ac1c0002level0_row3\" class=\"row_heading level0 row3\" >3</th>\n",
              "                        <td id=\"T_410102ec_0fa5_11eb_a725_0242ac1c0002row3_col0\" class=\"data row3 col0\" >Numeric Features </td>\n",
              "                        <td id=\"T_410102ec_0fa5_11eb_a725_0242ac1c0002row3_col1\" class=\"data row3 col1\" >3</td>\n",
              "            </tr>\n",
              "            <tr>\n",
              "                        <th id=\"T_410102ec_0fa5_11eb_a725_0242ac1c0002level0_row4\" class=\"row_heading level0 row4\" >4</th>\n",
              "                        <td id=\"T_410102ec_0fa5_11eb_a725_0242ac1c0002row4_col0\" class=\"data row4 col0\" >Categorical Features </td>\n",
              "                        <td id=\"T_410102ec_0fa5_11eb_a725_0242ac1c0002row4_col1\" class=\"data row4 col1\" >1</td>\n",
              "            </tr>\n",
              "            <tr>\n",
              "                        <th id=\"T_410102ec_0fa5_11eb_a725_0242ac1c0002level0_row5\" class=\"row_heading level0 row5\" >5</th>\n",
              "                        <td id=\"T_410102ec_0fa5_11eb_a725_0242ac1c0002row5_col0\" class=\"data row5 col0\" >Ordinal Features </td>\n",
              "                        <td id=\"T_410102ec_0fa5_11eb_a725_0242ac1c0002row5_col1\" class=\"data row5 col1\" >False</td>\n",
              "            </tr>\n",
              "            <tr>\n",
              "                        <th id=\"T_410102ec_0fa5_11eb_a725_0242ac1c0002level0_row6\" class=\"row_heading level0 row6\" >6</th>\n",
              "                        <td id=\"T_410102ec_0fa5_11eb_a725_0242ac1c0002row6_col0\" class=\"data row6 col0\" >High Cardinality Features </td>\n",
              "                        <td id=\"T_410102ec_0fa5_11eb_a725_0242ac1c0002row6_col1\" class=\"data row6 col1\" >False</td>\n",
              "            </tr>\n",
              "            <tr>\n",
              "                        <th id=\"T_410102ec_0fa5_11eb_a725_0242ac1c0002level0_row7\" class=\"row_heading level0 row7\" >7</th>\n",
              "                        <td id=\"T_410102ec_0fa5_11eb_a725_0242ac1c0002row7_col0\" class=\"data row7 col0\" >Transformed Data </td>\n",
              "                        <td id=\"T_410102ec_0fa5_11eb_a725_0242ac1c0002row7_col1\" class=\"data row7 col1\" >(505, 4)</td>\n",
              "            </tr>\n",
              "            <tr>\n",
              "                        <th id=\"T_410102ec_0fa5_11eb_a725_0242ac1c0002level0_row8\" class=\"row_heading level0 row8\" >8</th>\n",
              "                        <td id=\"T_410102ec_0fa5_11eb_a725_0242ac1c0002row8_col0\" class=\"data row8 col0\" >Numeric Imputer </td>\n",
              "                        <td id=\"T_410102ec_0fa5_11eb_a725_0242ac1c0002row8_col1\" class=\"data row8 col1\" >mean</td>\n",
              "            </tr>\n",
              "            <tr>\n",
              "                        <th id=\"T_410102ec_0fa5_11eb_a725_0242ac1c0002level0_row9\" class=\"row_heading level0 row9\" >9</th>\n",
              "                        <td id=\"T_410102ec_0fa5_11eb_a725_0242ac1c0002row9_col0\" class=\"data row9 col0\" >Categorical Imputer </td>\n",
              "                        <td id=\"T_410102ec_0fa5_11eb_a725_0242ac1c0002row9_col1\" class=\"data row9 col1\" >constant</td>\n",
              "            </tr>\n",
              "            <tr>\n",
              "                        <th id=\"T_410102ec_0fa5_11eb_a725_0242ac1c0002level0_row10\" class=\"row_heading level0 row10\" >10</th>\n",
              "                        <td id=\"T_410102ec_0fa5_11eb_a725_0242ac1c0002row10_col0\" class=\"data row10 col0\" >Normalize </td>\n",
              "                        <td id=\"T_410102ec_0fa5_11eb_a725_0242ac1c0002row10_col1\" class=\"data row10 col1\" >False</td>\n",
              "            </tr>\n",
              "            <tr>\n",
              "                        <th id=\"T_410102ec_0fa5_11eb_a725_0242ac1c0002level0_row11\" class=\"row_heading level0 row11\" >11</th>\n",
              "                        <td id=\"T_410102ec_0fa5_11eb_a725_0242ac1c0002row11_col0\" class=\"data row11 col0\" >Normalize Method </td>\n",
              "                        <td id=\"T_410102ec_0fa5_11eb_a725_0242ac1c0002row11_col1\" class=\"data row11 col1\" >None</td>\n",
              "            </tr>\n",
              "            <tr>\n",
              "                        <th id=\"T_410102ec_0fa5_11eb_a725_0242ac1c0002level0_row12\" class=\"row_heading level0 row12\" >12</th>\n",
              "                        <td id=\"T_410102ec_0fa5_11eb_a725_0242ac1c0002row12_col0\" class=\"data row12 col0\" >Transformation </td>\n",
              "                        <td id=\"T_410102ec_0fa5_11eb_a725_0242ac1c0002row12_col1\" class=\"data row12 col1\" >False</td>\n",
              "            </tr>\n",
              "            <tr>\n",
              "                        <th id=\"T_410102ec_0fa5_11eb_a725_0242ac1c0002level0_row13\" class=\"row_heading level0 row13\" >13</th>\n",
              "                        <td id=\"T_410102ec_0fa5_11eb_a725_0242ac1c0002row13_col0\" class=\"data row13 col0\" >Transformation Method </td>\n",
              "                        <td id=\"T_410102ec_0fa5_11eb_a725_0242ac1c0002row13_col1\" class=\"data row13 col1\" >None</td>\n",
              "            </tr>\n",
              "            <tr>\n",
              "                        <th id=\"T_410102ec_0fa5_11eb_a725_0242ac1c0002level0_row14\" class=\"row_heading level0 row14\" >14</th>\n",
              "                        <td id=\"T_410102ec_0fa5_11eb_a725_0242ac1c0002row14_col0\" class=\"data row14 col0\" >PCA </td>\n",
              "                        <td id=\"T_410102ec_0fa5_11eb_a725_0242ac1c0002row14_col1\" class=\"data row14 col1\" >False</td>\n",
              "            </tr>\n",
              "            <tr>\n",
              "                        <th id=\"T_410102ec_0fa5_11eb_a725_0242ac1c0002level0_row15\" class=\"row_heading level0 row15\" >15</th>\n",
              "                        <td id=\"T_410102ec_0fa5_11eb_a725_0242ac1c0002row15_col0\" class=\"data row15 col0\" >PCA Method </td>\n",
              "                        <td id=\"T_410102ec_0fa5_11eb_a725_0242ac1c0002row15_col1\" class=\"data row15 col1\" >None</td>\n",
              "            </tr>\n",
              "            <tr>\n",
              "                        <th id=\"T_410102ec_0fa5_11eb_a725_0242ac1c0002level0_row16\" class=\"row_heading level0 row16\" >16</th>\n",
              "                        <td id=\"T_410102ec_0fa5_11eb_a725_0242ac1c0002row16_col0\" class=\"data row16 col0\" >PCA components </td>\n",
              "                        <td id=\"T_410102ec_0fa5_11eb_a725_0242ac1c0002row16_col1\" class=\"data row16 col1\" >None</td>\n",
              "            </tr>\n",
              "            <tr>\n",
              "                        <th id=\"T_410102ec_0fa5_11eb_a725_0242ac1c0002level0_row17\" class=\"row_heading level0 row17\" >17</th>\n",
              "                        <td id=\"T_410102ec_0fa5_11eb_a725_0242ac1c0002row17_col0\" class=\"data row17 col0\" >Ignore Low Variance </td>\n",
              "                        <td id=\"T_410102ec_0fa5_11eb_a725_0242ac1c0002row17_col1\" class=\"data row17 col1\" >False</td>\n",
              "            </tr>\n",
              "            <tr>\n",
              "                        <th id=\"T_410102ec_0fa5_11eb_a725_0242ac1c0002level0_row18\" class=\"row_heading level0 row18\" >18</th>\n",
              "                        <td id=\"T_410102ec_0fa5_11eb_a725_0242ac1c0002row18_col0\" class=\"data row18 col0\" >Combine Rare Levels </td>\n",
              "                        <td id=\"T_410102ec_0fa5_11eb_a725_0242ac1c0002row18_col1\" class=\"data row18 col1\" >False</td>\n",
              "            </tr>\n",
              "            <tr>\n",
              "                        <th id=\"T_410102ec_0fa5_11eb_a725_0242ac1c0002level0_row19\" class=\"row_heading level0 row19\" >19</th>\n",
              "                        <td id=\"T_410102ec_0fa5_11eb_a725_0242ac1c0002row19_col0\" class=\"data row19 col0\" >Rare Level Threshold </td>\n",
              "                        <td id=\"T_410102ec_0fa5_11eb_a725_0242ac1c0002row19_col1\" class=\"data row19 col1\" >None</td>\n",
              "            </tr>\n",
              "            <tr>\n",
              "                        <th id=\"T_410102ec_0fa5_11eb_a725_0242ac1c0002level0_row20\" class=\"row_heading level0 row20\" >20</th>\n",
              "                        <td id=\"T_410102ec_0fa5_11eb_a725_0242ac1c0002row20_col0\" class=\"data row20 col0\" >Numeric Binning </td>\n",
              "                        <td id=\"T_410102ec_0fa5_11eb_a725_0242ac1c0002row20_col1\" class=\"data row20 col1\" >False</td>\n",
              "            </tr>\n",
              "            <tr>\n",
              "                        <th id=\"T_410102ec_0fa5_11eb_a725_0242ac1c0002level0_row21\" class=\"row_heading level0 row21\" >21</th>\n",
              "                        <td id=\"T_410102ec_0fa5_11eb_a725_0242ac1c0002row21_col0\" class=\"data row21 col0\" >Remove Multicollinearity </td>\n",
              "                        <td id=\"T_410102ec_0fa5_11eb_a725_0242ac1c0002row21_col1\" class=\"data row21 col1\" >False</td>\n",
              "            </tr>\n",
              "            <tr>\n",
              "                        <th id=\"T_410102ec_0fa5_11eb_a725_0242ac1c0002level0_row22\" class=\"row_heading level0 row22\" >22</th>\n",
              "                        <td id=\"T_410102ec_0fa5_11eb_a725_0242ac1c0002row22_col0\" class=\"data row22 col0\" >Multicollinearity Threshold </td>\n",
              "                        <td id=\"T_410102ec_0fa5_11eb_a725_0242ac1c0002row22_col1\" class=\"data row22 col1\" >None</td>\n",
              "            </tr>\n",
              "            <tr>\n",
              "                        <th id=\"T_410102ec_0fa5_11eb_a725_0242ac1c0002level0_row23\" class=\"row_heading level0 row23\" >23</th>\n",
              "                        <td id=\"T_410102ec_0fa5_11eb_a725_0242ac1c0002row23_col0\" class=\"data row23 col0\" >Group Features </td>\n",
              "                        <td id=\"T_410102ec_0fa5_11eb_a725_0242ac1c0002row23_col1\" class=\"data row23 col1\" >False</td>\n",
              "            </tr>\n",
              "    </tbody></table>"
            ],
            "text/plain": [
              "<pandas.io.formats.style.Styler at 0x7f04e97ddc88>"
            ]
          },
          "metadata": {
            "tags": []
          }
        }
      ]
    },
    {
      "cell_type": "code",
      "metadata": {
        "id": "RarGQIfWrcz9",
        "outputId": "b28ed4a8-f6e9-4464-8635-68aa09223d41",
        "colab": {
          "base_uri": "https://localhost:8080/",
          "height": 142,
          "referenced_widgets": [
            "0dc15fe8d5af4498b7ca25f861c78be6"
          ]
        }
      },
      "source": [
        "kmeans=create_model('kmeans')"
      ],
      "execution_count": 51,
      "outputs": [
        {
          "output_type": "display_data",
          "data": {
            "text/html": [
              "<div>\n",
              "<style scoped>\n",
              "    .dataframe tbody tr th:only-of-type {\n",
              "        vertical-align: middle;\n",
              "    }\n",
              "\n",
              "    .dataframe tbody tr th {\n",
              "        vertical-align: top;\n",
              "    }\n",
              "\n",
              "    .dataframe thead th {\n",
              "        text-align: right;\n",
              "    }\n",
              "</style>\n",
              "<table border=\"1\" class=\"dataframe\">\n",
              "  <thead>\n",
              "    <tr style=\"text-align: right;\">\n",
              "      <th></th>\n",
              "      <th>Metric</th>\n",
              "    </tr>\n",
              "  </thead>\n",
              "  <tbody>\n",
              "    <tr>\n",
              "      <th>Silhouette</th>\n",
              "      <td>0.7207</td>\n",
              "    </tr>\n",
              "    <tr>\n",
              "      <th>Calinski-Harabasz</th>\n",
              "      <td>5011.8115</td>\n",
              "    </tr>\n",
              "    <tr>\n",
              "      <th>Davies-Bouldin</th>\n",
              "      <td>0.4114</td>\n",
              "    </tr>\n",
              "  </tbody>\n",
              "</table>\n",
              "</div>"
            ],
            "text/plain": [
              "                      Metric\n",
              "Silhouette            0.7207\n",
              "Calinski-Harabasz  5011.8115\n",
              "Davies-Bouldin        0.4114"
            ]
          },
          "metadata": {
            "tags": []
          }
        }
      ]
    },
    {
      "cell_type": "code",
      "metadata": {
        "id": "xyLL1K4zrc0D",
        "outputId": "00ae47fb-a95e-49bb-9022-213ca68a5f95",
        "colab": {
          "base_uri": "https://localhost:8080/",
          "height": 68
        }
      },
      "source": [
        "kmeans"
      ],
      "execution_count": 52,
      "outputs": [
        {
          "output_type": "execute_result",
          "data": {
            "text/plain": [
              "KMeans(algorithm='auto', copy_x=True, init='k-means++', max_iter=300,\n",
              "       n_clusters=4, n_init=10, n_jobs=-1, precompute_distances='deprecated',\n",
              "       random_state=5025, tol=0.0001, verbose=0)"
            ]
          },
          "metadata": {
            "tags": []
          },
          "execution_count": 52
        }
      ]
    },
    {
      "cell_type": "code",
      "metadata": {
        "id": "dGm4Rj54rc0J"
      },
      "source": [
        "### Assign the labels to the dataframe\n",
        "kmeans_df=assign_model(kmeans)"
      ],
      "execution_count": 53,
      "outputs": []
    },
    {
      "cell_type": "code",
      "metadata": {
        "id": "RZ_mMAtLrc0P",
        "outputId": "816259bf-1603-4faf-ebb7-e053f815025d",
        "colab": {
          "base_uri": "https://localhost:8080/",
          "height": 419
        }
      },
      "source": [
        "kmeans_df"
      ],
      "execution_count": 54,
      "outputs": [
        {
          "output_type": "execute_result",
          "data": {
            "text/html": [
              "<div>\n",
              "<style scoped>\n",
              "    .dataframe tbody tr th:only-of-type {\n",
              "        vertical-align: middle;\n",
              "    }\n",
              "\n",
              "    .dataframe tbody tr th {\n",
              "        vertical-align: top;\n",
              "    }\n",
              "\n",
              "    .dataframe thead th {\n",
              "        text-align: right;\n",
              "    }\n",
              "</style>\n",
              "<table border=\"1\" class=\"dataframe\">\n",
              "  <thead>\n",
              "    <tr style=\"text-align: right;\">\n",
              "      <th></th>\n",
              "      <th>Age</th>\n",
              "      <th>Income</th>\n",
              "      <th>SpendingScore</th>\n",
              "      <th>Savings</th>\n",
              "      <th>Cluster</th>\n",
              "    </tr>\n",
              "  </thead>\n",
              "  <tbody>\n",
              "    <tr>\n",
              "      <th>0</th>\n",
              "      <td>58</td>\n",
              "      <td>77769</td>\n",
              "      <td>0.791329</td>\n",
              "      <td>6559.829923</td>\n",
              "      <td>Cluster 3</td>\n",
              "    </tr>\n",
              "    <tr>\n",
              "      <th>1</th>\n",
              "      <td>59</td>\n",
              "      <td>81799</td>\n",
              "      <td>0.791082</td>\n",
              "      <td>5417.661426</td>\n",
              "      <td>Cluster 3</td>\n",
              "    </tr>\n",
              "    <tr>\n",
              "      <th>2</th>\n",
              "      <td>62</td>\n",
              "      <td>74751</td>\n",
              "      <td>0.702657</td>\n",
              "      <td>9258.992965</td>\n",
              "      <td>Cluster 3</td>\n",
              "    </tr>\n",
              "    <tr>\n",
              "      <th>3</th>\n",
              "      <td>59</td>\n",
              "      <td>74373</td>\n",
              "      <td>0.765680</td>\n",
              "      <td>7346.334504</td>\n",
              "      <td>Cluster 3</td>\n",
              "    </tr>\n",
              "    <tr>\n",
              "      <th>4</th>\n",
              "      <td>87</td>\n",
              "      <td>17760</td>\n",
              "      <td>0.348778</td>\n",
              "      <td>16869.507130</td>\n",
              "      <td>Cluster 1</td>\n",
              "    </tr>\n",
              "    <tr>\n",
              "      <th>...</th>\n",
              "      <td>...</td>\n",
              "      <td>...</td>\n",
              "      <td>...</td>\n",
              "      <td>...</td>\n",
              "      <td>...</td>\n",
              "    </tr>\n",
              "    <tr>\n",
              "      <th>500</th>\n",
              "      <td>28</td>\n",
              "      <td>101206</td>\n",
              "      <td>0.387441</td>\n",
              "      <td>14936.775389</td>\n",
              "      <td>Cluster 0</td>\n",
              "    </tr>\n",
              "    <tr>\n",
              "      <th>501</th>\n",
              "      <td>93</td>\n",
              "      <td>19934</td>\n",
              "      <td>0.203140</td>\n",
              "      <td>17969.693769</td>\n",
              "      <td>Cluster 1</td>\n",
              "    </tr>\n",
              "    <tr>\n",
              "      <th>502</th>\n",
              "      <td>90</td>\n",
              "      <td>35297</td>\n",
              "      <td>0.355149</td>\n",
              "      <td>16091.401954</td>\n",
              "      <td>Cluster 1</td>\n",
              "    </tr>\n",
              "    <tr>\n",
              "      <th>503</th>\n",
              "      <td>91</td>\n",
              "      <td>20681</td>\n",
              "      <td>0.354679</td>\n",
              "      <td>18401.088445</td>\n",
              "      <td>Cluster 1</td>\n",
              "    </tr>\n",
              "    <tr>\n",
              "      <th>504</th>\n",
              "      <td>89</td>\n",
              "      <td>30267</td>\n",
              "      <td>0.289310</td>\n",
              "      <td>14386.351880</td>\n",
              "      <td>Cluster 1</td>\n",
              "    </tr>\n",
              "  </tbody>\n",
              "</table>\n",
              "<p>505 rows × 5 columns</p>\n",
              "</div>"
            ],
            "text/plain": [
              "     Age  Income  SpendingScore       Savings    Cluster\n",
              "0     58   77769       0.791329   6559.829923  Cluster 3\n",
              "1     59   81799       0.791082   5417.661426  Cluster 3\n",
              "2     62   74751       0.702657   9258.992965  Cluster 3\n",
              "3     59   74373       0.765680   7346.334504  Cluster 3\n",
              "4     87   17760       0.348778  16869.507130  Cluster 1\n",
              "..   ...     ...            ...           ...        ...\n",
              "500   28  101206       0.387441  14936.775389  Cluster 0\n",
              "501   93   19934       0.203140  17969.693769  Cluster 1\n",
              "502   90   35297       0.355149  16091.401954  Cluster 1\n",
              "503   91   20681       0.354679  18401.088445  Cluster 1\n",
              "504   89   30267       0.289310  14386.351880  Cluster 1\n",
              "\n",
              "[505 rows x 5 columns]"
            ]
          },
          "metadata": {
            "tags": []
          },
          "execution_count": 54
        }
      ]
    },
    {
      "cell_type": "code",
      "metadata": {
        "id": "OEn8U4Y5rc0W",
        "outputId": "5f7e602c-df18-4e64-b13d-c938f45f7e5b",
        "colab": {
          "base_uri": "https://localhost:8080/",
          "height": 617
        }
      },
      "source": [
        "plot_model(kmeans)"
      ],
      "execution_count": 55,
      "outputs": [
        {
          "output_type": "display_data",
          "data": {
            "text/html": [
              "        <script type=\"text/javascript\">\n",
              "        window.PlotlyConfig = {MathJaxConfig: 'local'};\n",
              "        if (window.MathJax) {MathJax.Hub.Config({SVG: {font: \"STIX-Web\"}});}\n",
              "        if (typeof require !== 'undefined') {\n",
              "        require.undef(\"plotly\");\n",
              "        requirejs.config({\n",
              "            paths: {\n",
              "                'plotly': ['https://cdn.plot.ly/plotly-latest.min']\n",
              "            }\n",
              "        });\n",
              "        require(['plotly'], function(Plotly) {\n",
              "            window._Plotly = Plotly;\n",
              "        });\n",
              "        }\n",
              "        </script>\n",
              "        "
            ]
          },
          "metadata": {
            "tags": []
          }
        },
        {
          "output_type": "display_data",
          "data": {
            "text/html": [
              "<div>\n",
              "        \n",
              "        \n",
              "            <div id=\"3e7aad2b-dd13-4fa8-b054-e622f3b5e1fa\" class=\"plotly-graph-div\" style=\"height:600px; width:100%;\"></div>\n",
              "            <script type=\"text/javascript\">\n",
              "                require([\"plotly\"], function(Plotly) {\n",
              "                    window.PLOTLYENV=window.PLOTLYENV || {};\n",
              "                    \n",
              "                if (document.getElementById(\"3e7aad2b-dd13-4fa8-b054-e622f3b5e1fa\")) {\n",
              "                    Plotly.newPlot(\n",
              "                        '3e7aad2b-dd13-4fa8-b054-e622f3b5e1fa',\n",
              "                        [{\"customdata\": [[59], [31], [35], [28], [30], [28], [43], [35], [35], [44], [33], [28], [34], [37], [32], [31], [36], [37], [34], [33], [38], [35], [34], [34], [31], [30], [33], [31], [36], [29], [29], [27], [31], [31], [34], [33], [37], [32], [31], [30], [35], [36], [29], [34], [34], [37], [31], [29], [29], [22], [35], [29], [32], [35], [37], [30], [25], [32], [32], [36], [33], [36], [37], [31], [31], [35], [29], [28], [38], [36], [31], [86], [30], [38], [30], [39], [34], [31], [28], [31], [33], [37], [30], [33], [31], [36], [29], [31], [40], [42], [34], [84], [31], [84], [37], [33], [28], [36], [35], [29], [30], [84], [34], [33], [30], [31], [30], [36], [85], [39], [28], [38], [36], [25], [39], [29], [31], [35], [88], [37], [30], [33], [37], [33], [32], [33], [33], [26], [33], [24]], \"hoverlabel\": {\"namelength\": 0}, \"hovertemplate\": \"Cluster=Cluster 0<br>PCA1=%{x}<br>PCA2=%{y}<br>Feature=%{customdata[0]}\", \"legendgroup\": \"Cluster=Cluster 0\", \"marker\": {\"color\": \"#636efa\", \"opacity\": 0.5, \"symbol\": \"circle\"}, \"mode\": \"markers\", \"name\": \"Cluster=Cluster 0\", \"showlegend\": true, \"textposition\": \"top center\", \"type\": \"scatter\", \"x\": [15177.319714667678, 28681.549887585734, 26003.522431925594, 19017.169464917482, 33217.92661094808, 22236.169474372255, 25938.05049675623, 31317.298064553674, 26578.15319626617, 38938.11813871433, 40849.4805976906, 24827.97878054595, 31502.360342968197, 32912.89206331582, 26343.678673902443, 29210.556946439672, 33203.84256888801, 30949.636901997914, 27456.913266673087, 23896.368807904066, 39399.40138181147, 28912.895136199924, 28627.259856400276, 22393.417730180106, 25363.919226720394, 32797.64366935492, 30584.12461511323, 32416.939873895528, 26071.98118135923, 15764.491431415803, 23392.942046850563, 31016.952770667845, 40419.57669510412, 30148.682673916068, 23022.218263126626, 30046.48908092604, 22105.03459107824, 34753.14848573078, 37228.73474520065, 31911.00123936631, 34360.481807350545, 24491.388898644713, 26312.372968927506, 23196.21330643821, 27758.38757580819, 31960.754514207238, 26983.04636427817, 26228.37628643617, 35711.07999432943, 33345.15627123116, 32691.869561685704, 30268.70548126327, 26023.566351406134, 30155.334159636957, 31202.412682476057, 20486.14069594544, 30950.10183968236, 30836.978307627418, 19785.99439327465, 34060.87750047382, 36008.72535912228, 28639.385002450475, 32289.54020716663, 32345.708428700567, 32322.908553122452, 30806.77634195276, 36813.76713420393, 36260.399857073855, 28960.63496494675, 20592.346613007747, 39135.37622313003, 39941.23737509609, 30614.165778553543, 18943.372817813008, 32149.92129268286, 24819.36094949773, 26507.042872359896, 23748.67781545403, 23858.5982400234, 31330.34398452476, 16918.67620110011, 34830.86603735357, 26298.148410246704, 38869.64945267167, 29240.50974864808, 22350.76981632155, 40673.85964432743, 25732.344972190538, 23032.68012465125, 31253.468530449405, 14006.000965365381, 39513.273555432424, 35758.27543553666, 38543.625122928686, 32853.06228369524, 25328.069962281657, 33379.420584689076, 29861.546669621428, 37194.902279074166, 35036.71585548718, 25376.693266073136, 34834.901794659985, 35572.71538685354, 32561.02536006328, 22224.55614343527, 32307.936729140918, 24294.808478346313, 23967.006087975606, 35579.20581580632, 23470.847033328002, 25474.40276379726, 37939.717008912325, 32210.97976864238, 25765.79004232834, 24706.12835284514, 27412.691405421203, 35187.910534684626, 41298.63129283503, 38847.1697677608, 21900.78530003274, 31614.44256541907, 19295.267686809548, 35023.216270800265, 31361.085267799124, 32572.750272366167, 24613.751980326095, 22258.60866856988, 21973.307950443803, 31045.22025567876, 34815.25492053802], \"xaxis\": \"x\", \"y\": [4253.670268811264, -4194.112454577065, -3786.1336424715264, -4587.056600403992, -4387.404636496322, -4400.042331000767, -4054.252841897082, -6141.76326355349, -4542.181472406765, -4443.169815276384, -5591.430862352504, -5088.608312301604, -5081.205331963817, -4588.664684244308, -3863.006874934303, -6286.356908964099, -6552.893169384938, -4397.197322284788, -4868.312164441824, -4653.572550884037, -5202.090344164464, -5224.55443567084, -3324.8164217780118, -5150.746928288208, -6518.877743618619, -5654.546848389316, -5198.651743783718, -3316.873784519847, -4687.764619495445, -2149.1522120766203, -5117.926369906288, -4865.004407317276, -6642.233640263941, -3727.6412226852412, -4439.122859420629, -2733.109485171261, -4346.187741550605, -4008.5890127538964, -4575.537648425248, -2672.9112969661496, -5038.816440742173, -3378.544090547866, -4286.405360287328, -5613.714946473865, -3524.60188204149, -7950.137679904534, -2897.4181107781164, -4266.484164687798, -4543.481105344729, -6080.299826048197, -6066.457122934571, -4917.675594824383, -7172.334785619929, -6491.845916302059, -4006.8807824041205, -4804.203700356796, -6274.399407676454, -4248.410998779926, -4699.391527469759, -5075.678351149003, -6111.705171395255, -3130.9505393461, -3634.3413606407366, -2201.720436215352, -3681.2903856817993, -5560.204679599998, -4615.462129870625, -3890.3447962612513, -5439.902381792005, -4611.5876483615675, -4339.707016425751, -5237.495032301, -4762.434912619333, -6099.926511675155, -5508.945169399089, -6443.116567478196, -5484.674656121093, -4085.3878885407753, -4857.997302514549, -5635.16354461918, -2877.194607876874, -5377.229021116212, -5023.0387551922695, -4117.836047019009, -5240.709879901136, -5405.192380070507, -5771.827716588525, -4846.280009746114, -5461.17904452095, -4792.820172444659, -1775.6050399833491, -4805.682520520936, -4122.472097486007, -7198.063753004433, -5910.595724540099, -4507.818852759068, -4139.053044046936, -4210.4917427973205, -4030.486076235748, -6415.699536226243, -3922.3292073945386, -5079.540930731744, -4807.665202226773, -5658.529147335393, -5737.014216399167, -3401.0815217687746, -3156.1748677381484, -5918.696393593373, -6195.256515402724, -4720.248925408384, -4541.161711915862, -4683.440281859746, -5806.362366658894, -4647.515091833696, -6304.28687157794, -5970.659605817776, -4164.858385743969, -6422.065006311347, -8209.63930809387, -5234.914435436241, -3948.4131537015032, -3266.65010027991, -4416.577273256114, -4837.58960460775, -6711.005814772022, -3288.4642893518308, -5195.9254091885505, -5227.972306159944, -4354.880673536971, -5108.281670571709], \"yaxis\": \"y\"}, {\"customdata\": [[91], [94], [87], [88], [85], [89], [86], [87], [87], [84], [92], [91], [85], [89], [88], [86], [89], [87], [88], [89], [83], [87], [87], [88], [85], [86], [91], [84], [89], [95], [83], [91], [82], [91], [94], [93], [89], [87], [89], [88], [88], [91], [84], [89], [88], [90], [88], [87], [86], [90], [92], [90], [83], [86], [86], [86], [85], [91], [94], [79], [82], [81], [85], [91], [92], [90], [91], [82], [84], [79], [89], [84], [83], [83], [83], [84], [86], [91], [83], [91], [90], [87], [88], [90], [94], [88], [89], [92], [90], [86], [84], [88], [84], [88], [91], [94], [87], [88], [87], [91], [90], [93], [87], [87], [83], [84], [91], [87], [82], [91], [90], [83], [87], [88], [84], [84], [97], [92], [87], [91], [90], [84], [91], [84], [92], [85], [93], [83], [87], [85], [85], [88], [85], [94], [89], [92], [92], [85], [85], [94], [88], [91], [87], [88], [90], [89], [82]], \"hoverlabel\": {\"namelength\": 0}, \"hovertemplate\": \"Cluster=Cluster 1<br>PCA1=%{x}<br>PCA2=%{y}<br>Feature=%{customdata[0]}\", \"legendgroup\": \"Cluster=Cluster 1\", \"marker\": {\"color\": \"#EF553B\", \"opacity\": 0.5, \"symbol\": \"circle\"}, \"mode\": \"markers\", \"name\": \"Cluster=Cluster 1\", \"showlegend\": true, \"textposition\": \"top center\", \"type\": \"scatter\", \"x\": [-47000.17170879287, -36822.882729901045, -45592.66271459643, -56178.67327005174, -46522.919419751146, -50446.687258505575, -46897.28720484182, -28723.99191956599, -59885.18345080085, -37730.76934060817, -39882.023331383, -46108.564418073074, -46206.76070917285, -42432.645099662244, -49206.07297923619, -60035.35573518629, -56491.7261616014, -44821.27195537091, -42594.24300193294, -53680.72058527787, -45148.06214608789, -49952.56386424753, -50055.78756429354, -53103.84791289728, -47927.75615335323, -28705.212826769795, -48496.847924973015, -48329.3752198634, -49610.67501015967, -48754.55322293142, -57495.82751822277, -63634.72200273951, -51335.696362198025, -39063.28667619088, -48448.18982139336, -58127.50387026998, -48762.36466827117, -63656.34758998009, -41047.37636685028, -57750.75774612386, -43012.76978349138, -49274.44239615928, -53484.99044797618, -47490.05337363704, -40724.15688509661, -50029.04867348439, -48459.57885316463, -45504.928216643835, -39916.59061152687, -42253.87287795821, -53329.0889086379, -45508.35388587763, -48890.16204283164, -43811.47262039386, -39708.64698966345, -56854.24491468407, -54413.158553524714, -50504.823142737674, -56820.087553604215, -37510.58801132115, -42172.09142372812, -41272.89533986178, -47211.309218979375, -55116.83601816834, -42194.79873495239, -53514.36608306821, -58771.33010043614, -51459.51350546341, -48254.00622992487, -43219.57063079795, -45316.58140609554, -48469.75822555574, -42546.309287033815, -52508.30353343572, -45053.50115134014, -51590.97205811299, -52219.78891026322, -49855.360239061134, -41183.65207165709, -38870.67264138031, -46621.67518992084, -49618.56425158388, -42334.04767150631, -42485.19893050835, -47366.6493930971, -46888.405898773744, -51006.62596717176, -53120.54070874578, -42382.698832036185, -48031.60033869832, -46294.69652581506, -49640.51633393588, -33685.82303783498, -41654.285370916696, -46752.171891149046, -51858.95285225972, -51191.18311026792, -47339.947334108234, -52350.13688160764, -48867.33422412471, -40392.52353813573, -55837.89621255903, -57945.29400939375, -33223.78792758687, -41229.085326467895, -48086.47161506779, -44891.72694017812, -44207.369196690015, -42152.50281937874, -52957.616291780934, -38257.01252267867, -47072.83270827877, -45889.161245283925, -57888.986937986134, -39255.47386551344, -55003.11473536291, -48338.7046626193, -56895.336026094614, -52745.27199507381, -47591.22511121997, -52877.38164603334, -57516.27318363641, -51304.42079121017, -45243.33599570978, -39730.754923731954, -41090.43271162363, -55300.43835611645, -47148.04950665257, -49083.989044483445, -44945.69901444297, -53905.33080870666, -58306.89374121129, -40907.25147798805, -54957.4909891723, -44680.89350931921, -42805.17469366226, -40276.44813108953, -47271.41327624209, -49427.52413702609, -47975.62989430367, -44316.390976136485, -45489.120024218595, -57176.867806106005, -47129.844163420596, -51240.794674902056, -55368.98427568007, -43231.47790879876], \"xaxis\": \"x\", \"y\": [-3258.592731249426, -3004.1359250357286, -1858.7415428672723, -1450.73186888666, -2395.1506203279077, -1789.8310613735025, -1500.5997535503443, -1283.249341684218, 968.1821841701766, -3447.5228656993495, -3145.8388116696283, -4704.900718140075, -3972.437291114194, -2804.317598781814, 646.5438723752053, -2067.7852022028546, -1529.9495201383804, -809.2478504066116, -4573.135949676127, -1523.153182779474, -918.4435413744552, -1016.362817605334, -458.732937973467, -1838.6646455566574, 1139.0677249894095, -2125.5165732968303, -1255.023121717518, -2106.9565485318544, -2494.3460158547664, -3476.7575329414035, -874.5938320396211, -958.536564511075, -2253.3249547903106, -2178.9512608782647, -424.4944516024691, -3329.424155750386, -1902.3037525718094, -672.1303645870975, 163.00860194240747, -1546.7860227984627, -2388.3975155671837, -1819.141113343564, -2964.87116153894, -1025.6556377131562, -3403.3549980948756, -2907.798180135489, -623.024823397233, -1656.4250558163026, -5860.406970913426, -2813.4088657561006, -3704.11520306688, -1716.0957515179925, -3117.0435724351205, -3844.0506429942798, -2812.6408322745237, -1039.886967020447, -1055.9968931753665, -2541.1040744024194, -2626.4947601230388, -2385.9306735999694, -3482.950924420311, -2039.051945091475, -497.0287321468135, -3386.631387427833, -2831.2449726497744, -3511.650542757556, -1946.4256348815304, -1443.6312210611654, -3586.3929123393586, -982.6374045457411, 72.34189620852732, -975.0110199269352, -2323.955025066739, -2003.3795586148913, -3267.8530880659637, -1709.6809922654006, -361.82287722905795, -2551.640945867298, -2299.177576458249, -4966.632983631626, -1061.392829700626, -1200.4987085746989, -946.4427010468257, -1573.1293339464667, -2226.523883594681, -1747.284515874373, 1229.6342021037997, -2373.906852113613, -1026.2178281219399, -2520.879670925896, -3445.140762666873, -2403.4526565005244, -2359.981060852435, -1284.2763352325994, -4260.66793677742, -1998.3145148841236, -2999.048136853003, -2756.2104567652127, -1271.83669680018, -3330.0950893142603, -1918.0706539765338, -2913.151326193389, -1690.2235244245378, -4327.599800404023, -559.8887343311543, -3267.664533478741, -1059.5099705589148, -1788.595019255137, -3595.426499455151, -512.1681616652345, -3209.7056998551193, -3652.143022077501, -3656.8600405231164, -2297.4104284560117, -2456.062469507203, -1806.3716349634733, -296.94791022013436, -219.83567344031897, -3270.2500120301224, -2876.01682185416, -1034.0462861180665, -2662.237917413054, -1341.6421504993352, -2386.744670387967, -3215.311753103617, -2507.4680378488556, -2379.4453929525325, -948.1700320034123, -2706.954245859539, -2663.4363034143566, 776.7213551828819, -1498.3070625903988, -2247.7230980697577, -1273.0340909671522, -3320.2381091067377, -2383.923586492432, -3159.4030652887363, -1422.2632521531436, -3282.4967836895144, -2697.4806496368687, -1681.107809398614, -857.2365574199097, -500.38222602903386, -2166.945526513022, -337.5831102994568, -990.6075970316516, -2464.3665067293446], \"yaxis\": \"y\"}, {\"customdata\": [[28], [25], [17], [27], [29], [23], [24], [92], [24], [28], [25], [29], [17], [87], [83], [18], [88], [84], [21], [31], [77], [34], [30], [91], [27], [89], [23], [22], [20], [86], [20], [20], [26], [24], [17], [17], [28], [26], [26], [24], [23], [90], [23], [90], [88], [22], [24], [25], [29], [18], [28], [82], [26], [26], [28], [28], [24], [93], [83], [21], [82], [86], [83], [22], [32], [27], [25], [24], [25], [85], [25], [29]], \"hoverlabel\": {\"namelength\": 0}, \"hovertemplate\": \"Cluster=Cluster 2<br>PCA1=%{x}<br>PCA2=%{y}<br>Feature=%{customdata[0]}\", \"legendgroup\": \"Cluster=Cluster 2\", \"marker\": {\"color\": \"#00cc96\", \"opacity\": 0.5, \"symbol\": \"circle\"}, \"mode\": \"markers\", \"name\": \"Cluster=Cluster 2\", \"showlegend\": true, \"textposition\": \"top center\", \"type\": \"scatter\", \"x\": [41933.87634909208, 62912.45709780565, 61085.161815426865, 46271.7499906681, 43600.21618030975, 63317.06653244289, 59239.85352839811, 47182.0685815558, 45280.29645748762, 48281.96476402188, 53422.55248570122, 56449.678138281386, 48697.32854440993, 41859.15436997561, 43629.01273923755, 55587.35173073356, 44952.90203538894, 46993.641087908385, 48602.57111184018, 47836.448391826816, 52844.21454083212, 44074.74432267947, 47549.76254622706, 43084.43130106838, 49923.23240258629, 43861.74709102551, 54778.91990969142, 57857.28905692229, 54230.31142047657, 48577.24594456369, 47415.38916240531, 53899.23405997955, 47842.88367906649, 53976.79000263128, 59803.04557919298, 59798.17482849969, 48029.23598296088, 51532.470058404484, 50397.083897731325, 55795.997914963926, 45049.71303774846, 48410.009290472306, 51395.22435599948, 42045.7957025714, 47964.552261386925, 45302.57090416742, 59196.5930863391, 45728.40114434408, 66750.62108457652, 48551.89779119262, 53924.59703955874, 45920.30384600759, 52086.38065892719, 56651.45548374745, 46000.80248469953, 52465.03358665989, 52263.49410874445, 50874.593733151836, 42157.80542870099, 54542.56026091126, 50433.851384533344, 52679.13742245059, 41580.27174463822, 58984.55027496723, 41328.252663309955, 47518.8813185679, 55783.42885801488, 61617.256021857196, 55809.60825993978, 42414.13984409394, 55168.45154506187, 47210.6112841296], \"xaxis\": \"x\", \"y\": [4717.997205237607, 5261.355213266389, 4243.721728508765, 4207.414796612182, -5657.478831520003, 4946.1775101205085, 4745.144589124807, -4557.7166017918735, 4437.356566167739, 8499.966944599804, 3894.235479127749, 5101.398697367521, 5282.497809754306, -4543.326267067195, -6254.840941209123, 3427.1351952588097, -4985.5148012203945, -4647.129088588649, 6249.5373609300805, 6059.9833233745485, -5677.667475551908, -6307.669140625973, 3437.8964823947795, -4660.8556224445065, 6048.724079227706, -6877.035883382062, 4629.791365281096, 5717.50113716764, 3238.4287703236846, -6305.307759672729, 4709.388807631826, 3176.7468854090903, 4758.188729714914, 5488.389984582105, 8450.30756249261, 4315.751792559065, 5422.323757682562, 6006.733833662531, 2890.5509685647035, 4252.897540706995, 4590.8725834561055, -5693.6654411574455, 5657.241494980816, -3106.103475868356, -4397.186114919676, 3778.181421309607, 3903.9749268153696, 3658.306501252221, 2693.008186621751, 4668.214697412172, 5765.842845736465, -4953.921129423358, 3388.427034681374, 4271.292185091134, 3884.4528513190835, 3371.5330650130973, 5916.358054129829, -5178.05281344007, -5954.454601851142, 4193.882999372306, -6854.206134077954, -4749.057025715362, -5615.560772408637, 3350.711617933646, -4823.645899335595, 4941.999362973269, 4732.087714707707, 6726.313750520611, 3879.1497332626573, -5432.281819509642, 4016.981622201614, 6674.234677495915], \"yaxis\": \"y\"}, {\"customdata\": [[61], [68], [62], [59], [65], [59], [57], [58], [55], [60], [65], [64], [51], [65], [60], [61], [56], [58], [63], [58], [67], [61], [63], [58], [59], [67], [60], [62], [60], [56], [66], [61], [58], [57], [58], [55], [63], [58], [60], [58], [62], [66], [57], [66], [63], [64], [62], [62], [56], [60], [60], [63], [56], [58], [62], [56], [59], [65], [62], [59], [66], [64], [65], [58], [64], [59], [59], [62], [59], [54], [61], [55], [53], [55], [61], [59], [59], [56], [61], [61], [60], [57], [61], [55], [53], [61], [64], [62], [55], [58], [57], [59], [58], [62], [59], [61], [62], [55], [57], [57], [61], [59], [59], [59], [58], [56], [61], [56], [61], [63], [59], [59], [59], [59], [57], [59], [61], [67], [63], [56], [59], [58], [61], [62], [64], [61], [68], [60], [62], [64], [63], [58], [62], [59], [61], [53], [58], [55], [60], [56], [60], [58], [56], [64], [63], [62], [59], [67], [58], [58], [57], [66], [64], [59], [56], [57]], \"hoverlabel\": {\"namelength\": 0}, \"hovertemplate\": \"Cluster=Cluster 3<br>PCA1=%{x}<br>PCA2=%{y}<br>Feature=%{customdata[0]}\", \"legendgroup\": \"Cluster=Cluster 3\", \"marker\": {\"color\": \"#ab63fa\", \"opacity\": 0.5, \"symbol\": \"circle\"}, \"mode\": \"markers\", \"name\": \"Cluster=Cluster 3\", \"showlegend\": true, \"textposition\": \"top center\", \"type\": \"scatter\", \"x\": [-3197.770674931706, -6270.130057704631, -7431.169946592945, -7981.746810683434, -4794.730185972455, -5787.584457334286, -3147.971690102401, 3333.037008198892, -10419.650727093273, -805.5182840466941, -4114.665812502659, -12402.614006035727, -3127.746475407189, -811.2733012583, -5149.414552966311, 3607.6218475354453, -9823.292971418654, -6075.723945911872, 7034.566991846874, -4883.720561797809, 3574.8676282851334, -967.1345292294822, -4661.643199436438, -4588.845682887326, -7225.6566514965525, 5679.93503225556, -9176.939917160442, -1424.2968527852502, -11770.096221904687, -1755.3663563989912, 1855.047986918685, -7827.504392605744, 2868.6753358918077, 4615.604589783889, 2555.7842351601093, 1547.9124395594217, 10499.407295945579, -4972.922141129967, 4848.442764387977, -5327.512619806884, -1710.0091006297753, -2630.794135208176, 1381.2925438038922, -10238.837928743027, -2329.616759752765, -3536.6248996188606, -11570.013629472287, -12594.175242128525, 11129.424149229602, -3881.279223544827, -4595.725467462923, 5567.478117111804, 9121.208329826171, 499.4966180961344, -4176.722631704308, -6529.597912750257, -7423.928769536229, -9153.992100917834, 4864.683651412995, -7249.028129796927, 7325.256189492692, 1198.2155272857233, -9447.566957019653, -4333.353171495316, 13091.37415351668, -860.435447795377, 6644.597612798227, -611.8920766835428, -879.6961231840188, 1270.5926186365073, -3354.4093954920463, -3652.05162721952, 1535.3200349238566, 3442.067865401044, 1691.1469990055025, -9514.742122293763, -5495.930030665684, -11393.264281389036, -1006.7942808926967, -11385.807297750876, -5228.773548143094, 106.44730782999494, -2009.7086141751686, -847.3002227743422, -13124.391604038405, -6112.701966838933, -14757.6268545056, -5414.451723823093, -4197.995995572505, -907.6690876091192, 4241.775895153042, -2601.869628345946, 1797.8692846207523, -6945.490220855897, -1709.0067116984342, -5628.983771409204, 3175.7301008876793, -1254.7961050822828, 1380.909585482257, -5506.504775277303, -1867.5011952055104, 277.31945471803556, -18832.323089995083, -7793.454352086525, 834.6063416853502, 375.6120252474112, -3222.028497117642, 3735.222300120541, -9600.00952571689, -18377.080919160882, 2663.814142724258, -6051.798027149636, 5619.12553876362, -2220.635450610063, -10371.487057071714, -1864.5940590614457, -9270.983246113969, -6586.375015596336, -7793.211508914154, 5122.282562298915, 7017.407229806944, 4968.7646458745685, -6214.354917756375, -5898.744479681146, 1223.333284206357, -4025.5345868614945, 2456.1149429108864, -10072.875118803531, -5806.077052611816, 11039.026942031705, -5414.849621380291, 3385.8220491313173, -8175.944783841649, -3902.6507601274066, -4335.121223668239, -284.93461613175396, 8122.0803804155385, 871.0561448640409, -7740.904879089716, -15159.901916245668, -9955.599000501965, 5073.487356522341, -7927.279393999562, -10817.514881421728, -182.87509706289566, -12401.012614422625, 384.48865377878224, -15876.01419493386, 2392.951400013226, -4856.16027761908, -9604.976101231394, -3578.6411667637276, 3594.042421690831, -5713.304475031717, -6874.447300583779, -1148.5927138363172], \"xaxis\": \"x\", \"y\": [5127.949261280455, 5401.821696967168, 6342.036901878026, 3467.5659749114184, 5174.470545977293, 5711.6283932669685, 5506.996622913861, 4012.2154933423153, 5982.858221439131, 4348.095679784135, 3078.8964384945916, 4277.420432790429, 5318.281993622224, 4771.515153180693, 5556.6661391338175, 4852.444518767338, 6862.247572080606, 3500.5964543132536, 3374.2871342934277, 4688.370746949257, 6638.189488143044, 4638.724240674151, 4875.412034392041, 4468.268102563842, 4564.6176218553155, 4711.285967238691, 7146.6628582527765, 7267.328542397003, 5001.42078319685, 4273.205301847635, 5468.743274286694, 5701.6975750235115, 5223.6423303903575, 5713.442041909503, 5164.690387393561, 3973.9069974865124, 4092.5868105824957, 5053.974394482306, 6716.389270082326, 5507.674538617933, 5692.091704359399, 5512.809888472099, 5207.221097509009, 7423.315368546433, 6502.20788277559, 5070.413098436325, 6393.584927460234, 5058.593507665865, 2451.3956456354927, 3532.7508016456363, 4575.315245883314, 6399.679457928574, 4076.188863858498, 4450.5724650858, 5121.94817799102, 5174.060016070749, 5595.425208078428, 6237.455006749797, 4834.953991865886, 5030.1015099048445, 5245.750156657963, 6031.597780098118, 6026.370137728771, 6791.12172798713, 3878.0740056043533, 1366.21750619139, 6074.108821940041, 2642.8564628733106, 4574.029852480232, 4918.861099714734, 4039.0497082186075, 4298.147934215797, 6617.143404468854, 3293.9257098257854, 4305.6055133701375, 5484.062210130749, 5033.927181148622, 4760.72668383612, 6827.736752280869, 5239.83448625213, 4906.8213691170085, 5019.5450718658585, 4571.311601888514, 5435.293808150464, 5122.298575466133, 7150.265686204209, 5008.012103778606, 6401.496850378556, 4646.423038232094, 4662.571801362161, 4854.373611538006, 5720.063910631847, 3616.906622264862, 5240.283697626604, 3684.6952959403575, 3413.4609900340324, 4727.0798130553485, 6380.91549429279, 5567.112673818732, 6298.430178867733, 2685.6626854367955, 5152.077722121314, 6823.253328040565, 5788.853893383746, 5141.1013674325895, 5049.606296947775, 4129.1811894163575, 4370.467828822717, 4923.281603355223, 5086.374324713102, 3399.1203547303226, 6221.683453940018, 4314.803908984968, 4177.140129281847, 6211.274488459198, 5267.352553209776, 5996.549152653392, 4795.659622307598, 6334.243251982047, 3424.0736039052886, 5588.800602998203, 3943.117073633912, 8154.200533863805, 5205.840154213877, 5666.3679547527, 5644.552199614268, 5539.978254276125, 7033.832306225472, 5686.132349951808, 4384.68728953157, 4509.37894804773, 4513.159427781256, 5599.274828311292, 5499.3393327217655, 2658.2975188904124, 4064.0083360808094, 4731.012058760928, 5689.00045309191, 5133.639471687388, 5573.2435927687275, 4085.3122504461217, 5244.436809348917, 5673.527728610803, 6677.4821015909365, 4411.324353776285, 6731.622371228141, 6845.141814371279, 7337.462584330767, 5992.684094109706, 6861.841710581505, 5517.456998799792, 4687.331305792244, 5244.223767536203, 6098.407171499207, 3266.470183264379, 6154.518606181514], \"yaxis\": \"y\"}],\n",
              "                        {\"height\": 600, \"legend\": {\"tracegroupgap\": 0}, \"margin\": {\"t\": 60}, \"plot_bgcolor\": \"rgb(240,240,240)\", \"template\": {\"data\": {\"bar\": [{\"error_x\": {\"color\": \"#2a3f5f\"}, \"error_y\": {\"color\": \"#2a3f5f\"}, \"marker\": {\"line\": {\"color\": \"#E5ECF6\", \"width\": 0.5}}, \"type\": \"bar\"}], \"barpolar\": [{\"marker\": {\"line\": {\"color\": \"#E5ECF6\", \"width\": 0.5}}, \"type\": \"barpolar\"}], \"carpet\": [{\"aaxis\": {\"endlinecolor\": \"#2a3f5f\", \"gridcolor\": \"white\", \"linecolor\": \"white\", \"minorgridcolor\": \"white\", \"startlinecolor\": \"#2a3f5f\"}, \"baxis\": {\"endlinecolor\": \"#2a3f5f\", \"gridcolor\": \"white\", \"linecolor\": \"white\", \"minorgridcolor\": \"white\", \"startlinecolor\": \"#2a3f5f\"}, \"type\": \"carpet\"}], \"choropleth\": [{\"colorbar\": {\"outlinewidth\": 0, \"ticks\": \"\"}, \"type\": \"choropleth\"}], \"contour\": [{\"colorbar\": {\"outlinewidth\": 0, \"ticks\": \"\"}, \"colorscale\": [[0.0, \"#0d0887\"], [0.1111111111111111, \"#46039f\"], [0.2222222222222222, \"#7201a8\"], [0.3333333333333333, \"#9c179e\"], [0.4444444444444444, \"#bd3786\"], [0.5555555555555556, \"#d8576b\"], [0.6666666666666666, \"#ed7953\"], [0.7777777777777778, \"#fb9f3a\"], [0.8888888888888888, \"#fdca26\"], [1.0, \"#f0f921\"]], \"type\": \"contour\"}], \"contourcarpet\": [{\"colorbar\": {\"outlinewidth\": 0, \"ticks\": \"\"}, \"type\": \"contourcarpet\"}], \"heatmap\": [{\"colorbar\": {\"outlinewidth\": 0, \"ticks\": \"\"}, \"colorscale\": [[0.0, \"#0d0887\"], [0.1111111111111111, \"#46039f\"], [0.2222222222222222, \"#7201a8\"], [0.3333333333333333, \"#9c179e\"], [0.4444444444444444, \"#bd3786\"], [0.5555555555555556, \"#d8576b\"], [0.6666666666666666, \"#ed7953\"], [0.7777777777777778, \"#fb9f3a\"], [0.8888888888888888, \"#fdca26\"], [1.0, \"#f0f921\"]], \"type\": \"heatmap\"}], \"heatmapgl\": [{\"colorbar\": {\"outlinewidth\": 0, \"ticks\": \"\"}, \"colorscale\": [[0.0, \"#0d0887\"], [0.1111111111111111, \"#46039f\"], [0.2222222222222222, \"#7201a8\"], [0.3333333333333333, \"#9c179e\"], [0.4444444444444444, \"#bd3786\"], [0.5555555555555556, \"#d8576b\"], [0.6666666666666666, \"#ed7953\"], [0.7777777777777778, \"#fb9f3a\"], [0.8888888888888888, \"#fdca26\"], [1.0, \"#f0f921\"]], \"type\": \"heatmapgl\"}], \"histogram\": [{\"marker\": {\"colorbar\": {\"outlinewidth\": 0, \"ticks\": \"\"}}, \"type\": \"histogram\"}], \"histogram2d\": [{\"colorbar\": {\"outlinewidth\": 0, \"ticks\": \"\"}, \"colorscale\": [[0.0, \"#0d0887\"], [0.1111111111111111, \"#46039f\"], [0.2222222222222222, \"#7201a8\"], [0.3333333333333333, \"#9c179e\"], [0.4444444444444444, \"#bd3786\"], [0.5555555555555556, \"#d8576b\"], [0.6666666666666666, \"#ed7953\"], [0.7777777777777778, \"#fb9f3a\"], [0.8888888888888888, \"#fdca26\"], [1.0, \"#f0f921\"]], \"type\": \"histogram2d\"}], \"histogram2dcontour\": [{\"colorbar\": {\"outlinewidth\": 0, \"ticks\": \"\"}, \"colorscale\": [[0.0, \"#0d0887\"], [0.1111111111111111, \"#46039f\"], [0.2222222222222222, \"#7201a8\"], [0.3333333333333333, \"#9c179e\"], [0.4444444444444444, \"#bd3786\"], [0.5555555555555556, \"#d8576b\"], [0.6666666666666666, \"#ed7953\"], [0.7777777777777778, \"#fb9f3a\"], [0.8888888888888888, \"#fdca26\"], [1.0, \"#f0f921\"]], \"type\": \"histogram2dcontour\"}], \"mesh3d\": [{\"colorbar\": {\"outlinewidth\": 0, \"ticks\": \"\"}, \"type\": \"mesh3d\"}], \"parcoords\": [{\"line\": {\"colorbar\": {\"outlinewidth\": 0, \"ticks\": \"\"}}, \"type\": \"parcoords\"}], \"pie\": [{\"automargin\": true, \"type\": \"pie\"}], \"scatter\": [{\"marker\": {\"colorbar\": {\"outlinewidth\": 0, \"ticks\": \"\"}}, \"type\": \"scatter\"}], \"scatter3d\": [{\"line\": {\"colorbar\": {\"outlinewidth\": 0, \"ticks\": \"\"}}, \"marker\": {\"colorbar\": {\"outlinewidth\": 0, \"ticks\": \"\"}}, \"type\": \"scatter3d\"}], \"scattercarpet\": [{\"marker\": {\"colorbar\": {\"outlinewidth\": 0, \"ticks\": \"\"}}, \"type\": \"scattercarpet\"}], \"scattergeo\": [{\"marker\": {\"colorbar\": {\"outlinewidth\": 0, \"ticks\": \"\"}}, \"type\": \"scattergeo\"}], \"scattergl\": [{\"marker\": {\"colorbar\": {\"outlinewidth\": 0, \"ticks\": \"\"}}, \"type\": \"scattergl\"}], \"scattermapbox\": [{\"marker\": {\"colorbar\": {\"outlinewidth\": 0, \"ticks\": \"\"}}, \"type\": \"scattermapbox\"}], \"scatterpolar\": [{\"marker\": {\"colorbar\": {\"outlinewidth\": 0, \"ticks\": \"\"}}, \"type\": \"scatterpolar\"}], \"scatterpolargl\": [{\"marker\": {\"colorbar\": {\"outlinewidth\": 0, \"ticks\": \"\"}}, \"type\": \"scatterpolargl\"}], \"scatterternary\": [{\"marker\": {\"colorbar\": {\"outlinewidth\": 0, \"ticks\": \"\"}}, \"type\": \"scatterternary\"}], \"surface\": [{\"colorbar\": {\"outlinewidth\": 0, \"ticks\": \"\"}, \"colorscale\": [[0.0, \"#0d0887\"], [0.1111111111111111, \"#46039f\"], [0.2222222222222222, \"#7201a8\"], [0.3333333333333333, \"#9c179e\"], [0.4444444444444444, \"#bd3786\"], [0.5555555555555556, \"#d8576b\"], [0.6666666666666666, \"#ed7953\"], [0.7777777777777778, \"#fb9f3a\"], [0.8888888888888888, \"#fdca26\"], [1.0, \"#f0f921\"]], \"type\": \"surface\"}], \"table\": [{\"cells\": {\"fill\": {\"color\": \"#EBF0F8\"}, \"line\": {\"color\": \"white\"}}, \"header\": {\"fill\": {\"color\": \"#C8D4E3\"}, \"line\": {\"color\": \"white\"}}, \"type\": \"table\"}]}, \"layout\": {\"annotationdefaults\": {\"arrowcolor\": \"#2a3f5f\", \"arrowhead\": 0, \"arrowwidth\": 1}, \"coloraxis\": {\"colorbar\": {\"outlinewidth\": 0, \"ticks\": \"\"}}, \"colorscale\": {\"diverging\": [[0, \"#8e0152\"], [0.1, \"#c51b7d\"], [0.2, \"#de77ae\"], [0.3, \"#f1b6da\"], [0.4, \"#fde0ef\"], [0.5, \"#f7f7f7\"], [0.6, \"#e6f5d0\"], [0.7, \"#b8e186\"], [0.8, \"#7fbc41\"], [0.9, \"#4d9221\"], [1, \"#276419\"]], \"sequential\": [[0.0, \"#0d0887\"], [0.1111111111111111, \"#46039f\"], [0.2222222222222222, \"#7201a8\"], [0.3333333333333333, \"#9c179e\"], [0.4444444444444444, \"#bd3786\"], [0.5555555555555556, \"#d8576b\"], [0.6666666666666666, \"#ed7953\"], [0.7777777777777778, \"#fb9f3a\"], [0.8888888888888888, \"#fdca26\"], [1.0, \"#f0f921\"]], \"sequentialminus\": [[0.0, \"#0d0887\"], [0.1111111111111111, \"#46039f\"], [0.2222222222222222, \"#7201a8\"], [0.3333333333333333, \"#9c179e\"], [0.4444444444444444, \"#bd3786\"], [0.5555555555555556, \"#d8576b\"], [0.6666666666666666, \"#ed7953\"], [0.7777777777777778, \"#fb9f3a\"], [0.8888888888888888, \"#fdca26\"], [1.0, \"#f0f921\"]]}, \"colorway\": [\"#636efa\", \"#EF553B\", \"#00cc96\", \"#ab63fa\", \"#FFA15A\", \"#19d3f3\", \"#FF6692\", \"#B6E880\", \"#FF97FF\", \"#FECB52\"], \"font\": {\"color\": \"#2a3f5f\"}, \"geo\": {\"bgcolor\": \"white\", \"lakecolor\": \"white\", \"landcolor\": \"#E5ECF6\", \"showlakes\": true, \"showland\": true, \"subunitcolor\": \"white\"}, \"hoverlabel\": {\"align\": \"left\"}, \"hovermode\": \"closest\", \"mapbox\": {\"style\": \"light\"}, \"paper_bgcolor\": \"white\", \"plot_bgcolor\": \"#E5ECF6\", \"polar\": {\"angularaxis\": {\"gridcolor\": \"white\", \"linecolor\": \"white\", \"ticks\": \"\"}, \"bgcolor\": \"#E5ECF6\", \"radialaxis\": {\"gridcolor\": \"white\", \"linecolor\": \"white\", \"ticks\": \"\"}}, \"scene\": {\"xaxis\": {\"backgroundcolor\": \"#E5ECF6\", \"gridcolor\": \"white\", \"gridwidth\": 2, \"linecolor\": \"white\", \"showbackground\": true, \"ticks\": \"\", \"zerolinecolor\": \"white\"}, \"yaxis\": {\"backgroundcolor\": \"#E5ECF6\", \"gridcolor\": \"white\", \"gridwidth\": 2, \"linecolor\": \"white\", \"showbackground\": true, \"ticks\": \"\", \"zerolinecolor\": \"white\"}, \"zaxis\": {\"backgroundcolor\": \"#E5ECF6\", \"gridcolor\": \"white\", \"gridwidth\": 2, \"linecolor\": \"white\", \"showbackground\": true, \"ticks\": \"\", \"zerolinecolor\": \"white\"}}, \"shapedefaults\": {\"line\": {\"color\": \"#2a3f5f\"}}, \"ternary\": {\"aaxis\": {\"gridcolor\": \"white\", \"linecolor\": \"white\", \"ticks\": \"\"}, \"baxis\": {\"gridcolor\": \"white\", \"linecolor\": \"white\", \"ticks\": \"\"}, \"bgcolor\": \"#E5ECF6\", \"caxis\": {\"gridcolor\": \"white\", \"linecolor\": \"white\", \"ticks\": \"\"}}, \"title\": {\"x\": 0.05}, \"xaxis\": {\"automargin\": true, \"gridcolor\": \"white\", \"linecolor\": \"white\", \"ticks\": \"\", \"title\": {\"standoff\": 15}, \"zerolinecolor\": \"white\", \"zerolinewidth\": 2}, \"yaxis\": {\"automargin\": true, \"gridcolor\": \"white\", \"linecolor\": \"white\", \"ticks\": \"\", \"title\": {\"standoff\": 15}, \"zerolinecolor\": \"white\", \"zerolinewidth\": 2}}}, \"title\": {\"text\": \"2D Cluster PCA Plot\"}, \"xaxis\": {\"anchor\": \"y\", \"domain\": [0.0, 1.0], \"title\": {\"text\": \"PCA1\"}}, \"yaxis\": {\"anchor\": \"x\", \"domain\": [0.0, 1.0], \"title\": {\"text\": \"PCA2\"}}},\n",
              "                        {\"responsive\": true}\n",
              "                    ).then(function(){\n",
              "                            \n",
              "var gd = document.getElementById('3e7aad2b-dd13-4fa8-b054-e622f3b5e1fa');\n",
              "var x = new MutationObserver(function (mutations, observer) {{\n",
              "        var display = window.getComputedStyle(gd).display;\n",
              "        if (!display || display === 'none') {{\n",
              "            console.log([gd, 'removed!']);\n",
              "            Plotly.purge(gd);\n",
              "            observer.disconnect();\n",
              "        }}\n",
              "}});\n",
              "\n",
              "// Listen for the removal of the full notebook cells\n",
              "var notebookContainer = gd.closest('#notebook-container');\n",
              "if (notebookContainer) {{\n",
              "    x.observe(notebookContainer, {childList: true});\n",
              "}}\n",
              "\n",
              "// Listen for the clearing of the current output cell\n",
              "var outputEl = gd.closest('.output');\n",
              "if (outputEl) {{\n",
              "    x.observe(outputEl, {childList: true});\n",
              "}}\n",
              "\n",
              "                        })\n",
              "                };\n",
              "                });\n",
              "            </script>\n",
              "        </div>"
            ],
            "application/vnd.plotly.v1+json": {
              "data": [
                {
                  "textposition": "top center",
                  "hovertemplate": "Cluster=Cluster 0<br>PCA1=%{x}<br>PCA2=%{y}<br>Feature=%{customdata[0]}",
                  "showlegend": true,
                  "legendgroup": "Cluster=Cluster 0",
                  "name": "Cluster=Cluster 0",
                  "yaxis": "y",
                  "customdata": [
                    [
                      59
                    ],
                    [
                      31
                    ],
                    [
                      35
                    ],
                    [
                      28
                    ],
                    [
                      30
                    ],
                    [
                      28
                    ],
                    [
                      43
                    ],
                    [
                      35
                    ],
                    [
                      35
                    ],
                    [
                      44
                    ],
                    [
                      33
                    ],
                    [
                      28
                    ],
                    [
                      34
                    ],
                    [
                      37
                    ],
                    [
                      32
                    ],
                    [
                      31
                    ],
                    [
                      36
                    ],
                    [
                      37
                    ],
                    [
                      34
                    ],
                    [
                      33
                    ],
                    [
                      38
                    ],
                    [
                      35
                    ],
                    [
                      34
                    ],
                    [
                      34
                    ],
                    [
                      31
                    ],
                    [
                      30
                    ],
                    [
                      33
                    ],
                    [
                      31
                    ],
                    [
                      36
                    ],
                    [
                      29
                    ],
                    [
                      29
                    ],
                    [
                      27
                    ],
                    [
                      31
                    ],
                    [
                      31
                    ],
                    [
                      34
                    ],
                    [
                      33
                    ],
                    [
                      37
                    ],
                    [
                      32
                    ],
                    [
                      31
                    ],
                    [
                      30
                    ],
                    [
                      35
                    ],
                    [
                      36
                    ],
                    [
                      29
                    ],
                    [
                      34
                    ],
                    [
                      34
                    ],
                    [
                      37
                    ],
                    [
                      31
                    ],
                    [
                      29
                    ],
                    [
                      29
                    ],
                    [
                      22
                    ],
                    [
                      35
                    ],
                    [
                      29
                    ],
                    [
                      32
                    ],
                    [
                      35
                    ],
                    [
                      37
                    ],
                    [
                      30
                    ],
                    [
                      25
                    ],
                    [
                      32
                    ],
                    [
                      32
                    ],
                    [
                      36
                    ],
                    [
                      33
                    ],
                    [
                      36
                    ],
                    [
                      37
                    ],
                    [
                      31
                    ],
                    [
                      31
                    ],
                    [
                      35
                    ],
                    [
                      29
                    ],
                    [
                      28
                    ],
                    [
                      38
                    ],
                    [
                      36
                    ],
                    [
                      31
                    ],
                    [
                      86
                    ],
                    [
                      30
                    ],
                    [
                      38
                    ],
                    [
                      30
                    ],
                    [
                      39
                    ],
                    [
                      34
                    ],
                    [
                      31
                    ],
                    [
                      28
                    ],
                    [
                      31
                    ],
                    [
                      33
                    ],
                    [
                      37
                    ],
                    [
                      30
                    ],
                    [
                      33
                    ],
                    [
                      31
                    ],
                    [
                      36
                    ],
                    [
                      29
                    ],
                    [
                      31
                    ],
                    [
                      40
                    ],
                    [
                      42
                    ],
                    [
                      34
                    ],
                    [
                      84
                    ],
                    [
                      31
                    ],
                    [
                      84
                    ],
                    [
                      37
                    ],
                    [
                      33
                    ],
                    [
                      28
                    ],
                    [
                      36
                    ],
                    [
                      35
                    ],
                    [
                      29
                    ],
                    [
                      30
                    ],
                    [
                      84
                    ],
                    [
                      34
                    ],
                    [
                      33
                    ],
                    [
                      30
                    ],
                    [
                      31
                    ],
                    [
                      30
                    ],
                    [
                      36
                    ],
                    [
                      85
                    ],
                    [
                      39
                    ],
                    [
                      28
                    ],
                    [
                      38
                    ],
                    [
                      36
                    ],
                    [
                      25
                    ],
                    [
                      39
                    ],
                    [
                      29
                    ],
                    [
                      31
                    ],
                    [
                      35
                    ],
                    [
                      88
                    ],
                    [
                      37
                    ],
                    [
                      30
                    ],
                    [
                      33
                    ],
                    [
                      37
                    ],
                    [
                      33
                    ],
                    [
                      32
                    ],
                    [
                      33
                    ],
                    [
                      33
                    ],
                    [
                      26
                    ],
                    [
                      33
                    ],
                    [
                      24
                    ]
                  ],
                  "y": [
                    4253.670268811264,
                    -4194.112454577065,
                    -3786.1336424715264,
                    -4587.056600403992,
                    -4387.404636496322,
                    -4400.042331000767,
                    -4054.252841897082,
                    -6141.76326355349,
                    -4542.181472406765,
                    -4443.169815276384,
                    -5591.430862352504,
                    -5088.608312301604,
                    -5081.205331963817,
                    -4588.664684244308,
                    -3863.006874934303,
                    -6286.356908964099,
                    -6552.893169384938,
                    -4397.197322284788,
                    -4868.312164441824,
                    -4653.572550884037,
                    -5202.090344164464,
                    -5224.55443567084,
                    -3324.8164217780118,
                    -5150.746928288208,
                    -6518.877743618619,
                    -5654.546848389316,
                    -5198.651743783718,
                    -3316.873784519847,
                    -4687.764619495445,
                    -2149.1522120766203,
                    -5117.926369906288,
                    -4865.004407317276,
                    -6642.233640263941,
                    -3727.6412226852412,
                    -4439.122859420629,
                    -2733.109485171261,
                    -4346.187741550605,
                    -4008.5890127538964,
                    -4575.537648425248,
                    -2672.9112969661496,
                    -5038.816440742173,
                    -3378.544090547866,
                    -4286.405360287328,
                    -5613.714946473865,
                    -3524.60188204149,
                    -7950.137679904534,
                    -2897.4181107781164,
                    -4266.484164687798,
                    -4543.481105344729,
                    -6080.299826048197,
                    -6066.457122934571,
                    -4917.675594824383,
                    -7172.334785619929,
                    -6491.845916302059,
                    -4006.8807824041205,
                    -4804.203700356796,
                    -6274.399407676454,
                    -4248.410998779926,
                    -4699.391527469759,
                    -5075.678351149003,
                    -6111.705171395255,
                    -3130.9505393461,
                    -3634.3413606407366,
                    -2201.720436215352,
                    -3681.2903856817993,
                    -5560.204679599998,
                    -4615.462129870625,
                    -3890.3447962612513,
                    -5439.902381792005,
                    -4611.5876483615675,
                    -4339.707016425751,
                    -5237.495032301,
                    -4762.434912619333,
                    -6099.926511675155,
                    -5508.945169399089,
                    -6443.116567478196,
                    -5484.674656121093,
                    -4085.3878885407753,
                    -4857.997302514549,
                    -5635.16354461918,
                    -2877.194607876874,
                    -5377.229021116212,
                    -5023.0387551922695,
                    -4117.836047019009,
                    -5240.709879901136,
                    -5405.192380070507,
                    -5771.827716588525,
                    -4846.280009746114,
                    -5461.17904452095,
                    -4792.820172444659,
                    -1775.6050399833491,
                    -4805.682520520936,
                    -4122.472097486007,
                    -7198.063753004433,
                    -5910.595724540099,
                    -4507.818852759068,
                    -4139.053044046936,
                    -4210.4917427973205,
                    -4030.486076235748,
                    -6415.699536226243,
                    -3922.3292073945386,
                    -5079.540930731744,
                    -4807.665202226773,
                    -5658.529147335393,
                    -5737.014216399167,
                    -3401.0815217687746,
                    -3156.1748677381484,
                    -5918.696393593373,
                    -6195.256515402724,
                    -4720.248925408384,
                    -4541.161711915862,
                    -4683.440281859746,
                    -5806.362366658894,
                    -4647.515091833696,
                    -6304.28687157794,
                    -5970.659605817776,
                    -4164.858385743969,
                    -6422.065006311347,
                    -8209.63930809387,
                    -5234.914435436241,
                    -3948.4131537015032,
                    -3266.65010027991,
                    -4416.577273256114,
                    -4837.58960460775,
                    -6711.005814772022,
                    -3288.4642893518308,
                    -5195.9254091885505,
                    -5227.972306159944,
                    -4354.880673536971,
                    -5108.281670571709
                  ],
                  "hoverlabel": {
                    "namelength": 0
                  },
                  "mode": "markers",
                  "xaxis": "x",
                  "marker": {
                    "color": "#636efa",
                    "opacity": 0.5,
                    "symbol": "circle"
                  },
                  "x": [
                    15177.319714667678,
                    28681.549887585734,
                    26003.522431925594,
                    19017.169464917482,
                    33217.92661094808,
                    22236.169474372255,
                    25938.05049675623,
                    31317.298064553674,
                    26578.15319626617,
                    38938.11813871433,
                    40849.4805976906,
                    24827.97878054595,
                    31502.360342968197,
                    32912.89206331582,
                    26343.678673902443,
                    29210.556946439672,
                    33203.84256888801,
                    30949.636901997914,
                    27456.913266673087,
                    23896.368807904066,
                    39399.40138181147,
                    28912.895136199924,
                    28627.259856400276,
                    22393.417730180106,
                    25363.919226720394,
                    32797.64366935492,
                    30584.12461511323,
                    32416.939873895528,
                    26071.98118135923,
                    15764.491431415803,
                    23392.942046850563,
                    31016.952770667845,
                    40419.57669510412,
                    30148.682673916068,
                    23022.218263126626,
                    30046.48908092604,
                    22105.03459107824,
                    34753.14848573078,
                    37228.73474520065,
                    31911.00123936631,
                    34360.481807350545,
                    24491.388898644713,
                    26312.372968927506,
                    23196.21330643821,
                    27758.38757580819,
                    31960.754514207238,
                    26983.04636427817,
                    26228.37628643617,
                    35711.07999432943,
                    33345.15627123116,
                    32691.869561685704,
                    30268.70548126327,
                    26023.566351406134,
                    30155.334159636957,
                    31202.412682476057,
                    20486.14069594544,
                    30950.10183968236,
                    30836.978307627418,
                    19785.99439327465,
                    34060.87750047382,
                    36008.72535912228,
                    28639.385002450475,
                    32289.54020716663,
                    32345.708428700567,
                    32322.908553122452,
                    30806.77634195276,
                    36813.76713420393,
                    36260.399857073855,
                    28960.63496494675,
                    20592.346613007747,
                    39135.37622313003,
                    39941.23737509609,
                    30614.165778553543,
                    18943.372817813008,
                    32149.92129268286,
                    24819.36094949773,
                    26507.042872359896,
                    23748.67781545403,
                    23858.5982400234,
                    31330.34398452476,
                    16918.67620110011,
                    34830.86603735357,
                    26298.148410246704,
                    38869.64945267167,
                    29240.50974864808,
                    22350.76981632155,
                    40673.85964432743,
                    25732.344972190538,
                    23032.68012465125,
                    31253.468530449405,
                    14006.000965365381,
                    39513.273555432424,
                    35758.27543553666,
                    38543.625122928686,
                    32853.06228369524,
                    25328.069962281657,
                    33379.420584689076,
                    29861.546669621428,
                    37194.902279074166,
                    35036.71585548718,
                    25376.693266073136,
                    34834.901794659985,
                    35572.71538685354,
                    32561.02536006328,
                    22224.55614343527,
                    32307.936729140918,
                    24294.808478346313,
                    23967.006087975606,
                    35579.20581580632,
                    23470.847033328002,
                    25474.40276379726,
                    37939.717008912325,
                    32210.97976864238,
                    25765.79004232834,
                    24706.12835284514,
                    27412.691405421203,
                    35187.910534684626,
                    41298.63129283503,
                    38847.1697677608,
                    21900.78530003274,
                    31614.44256541907,
                    19295.267686809548,
                    35023.216270800265,
                    31361.085267799124,
                    32572.750272366167,
                    24613.751980326095,
                    22258.60866856988,
                    21973.307950443803,
                    31045.22025567876,
                    34815.25492053802
                  ],
                  "type": "scatter"
                },
                {
                  "textposition": "top center",
                  "hovertemplate": "Cluster=Cluster 1<br>PCA1=%{x}<br>PCA2=%{y}<br>Feature=%{customdata[0]}",
                  "showlegend": true,
                  "legendgroup": "Cluster=Cluster 1",
                  "name": "Cluster=Cluster 1",
                  "yaxis": "y",
                  "customdata": [
                    [
                      91
                    ],
                    [
                      94
                    ],
                    [
                      87
                    ],
                    [
                      88
                    ],
                    [
                      85
                    ],
                    [
                      89
                    ],
                    [
                      86
                    ],
                    [
                      87
                    ],
                    [
                      87
                    ],
                    [
                      84
                    ],
                    [
                      92
                    ],
                    [
                      91
                    ],
                    [
                      85
                    ],
                    [
                      89
                    ],
                    [
                      88
                    ],
                    [
                      86
                    ],
                    [
                      89
                    ],
                    [
                      87
                    ],
                    [
                      88
                    ],
                    [
                      89
                    ],
                    [
                      83
                    ],
                    [
                      87
                    ],
                    [
                      87
                    ],
                    [
                      88
                    ],
                    [
                      85
                    ],
                    [
                      86
                    ],
                    [
                      91
                    ],
                    [
                      84
                    ],
                    [
                      89
                    ],
                    [
                      95
                    ],
                    [
                      83
                    ],
                    [
                      91
                    ],
                    [
                      82
                    ],
                    [
                      91
                    ],
                    [
                      94
                    ],
                    [
                      93
                    ],
                    [
                      89
                    ],
                    [
                      87
                    ],
                    [
                      89
                    ],
                    [
                      88
                    ],
                    [
                      88
                    ],
                    [
                      91
                    ],
                    [
                      84
                    ],
                    [
                      89
                    ],
                    [
                      88
                    ],
                    [
                      90
                    ],
                    [
                      88
                    ],
                    [
                      87
                    ],
                    [
                      86
                    ],
                    [
                      90
                    ],
                    [
                      92
                    ],
                    [
                      90
                    ],
                    [
                      83
                    ],
                    [
                      86
                    ],
                    [
                      86
                    ],
                    [
                      86
                    ],
                    [
                      85
                    ],
                    [
                      91
                    ],
                    [
                      94
                    ],
                    [
                      79
                    ],
                    [
                      82
                    ],
                    [
                      81
                    ],
                    [
                      85
                    ],
                    [
                      91
                    ],
                    [
                      92
                    ],
                    [
                      90
                    ],
                    [
                      91
                    ],
                    [
                      82
                    ],
                    [
                      84
                    ],
                    [
                      79
                    ],
                    [
                      89
                    ],
                    [
                      84
                    ],
                    [
                      83
                    ],
                    [
                      83
                    ],
                    [
                      83
                    ],
                    [
                      84
                    ],
                    [
                      86
                    ],
                    [
                      91
                    ],
                    [
                      83
                    ],
                    [
                      91
                    ],
                    [
                      90
                    ],
                    [
                      87
                    ],
                    [
                      88
                    ],
                    [
                      90
                    ],
                    [
                      94
                    ],
                    [
                      88
                    ],
                    [
                      89
                    ],
                    [
                      92
                    ],
                    [
                      90
                    ],
                    [
                      86
                    ],
                    [
                      84
                    ],
                    [
                      88
                    ],
                    [
                      84
                    ],
                    [
                      88
                    ],
                    [
                      91
                    ],
                    [
                      94
                    ],
                    [
                      87
                    ],
                    [
                      88
                    ],
                    [
                      87
                    ],
                    [
                      91
                    ],
                    [
                      90
                    ],
                    [
                      93
                    ],
                    [
                      87
                    ],
                    [
                      87
                    ],
                    [
                      83
                    ],
                    [
                      84
                    ],
                    [
                      91
                    ],
                    [
                      87
                    ],
                    [
                      82
                    ],
                    [
                      91
                    ],
                    [
                      90
                    ],
                    [
                      83
                    ],
                    [
                      87
                    ],
                    [
                      88
                    ],
                    [
                      84
                    ],
                    [
                      84
                    ],
                    [
                      97
                    ],
                    [
                      92
                    ],
                    [
                      87
                    ],
                    [
                      91
                    ],
                    [
                      90
                    ],
                    [
                      84
                    ],
                    [
                      91
                    ],
                    [
                      84
                    ],
                    [
                      92
                    ],
                    [
                      85
                    ],
                    [
                      93
                    ],
                    [
                      83
                    ],
                    [
                      87
                    ],
                    [
                      85
                    ],
                    [
                      85
                    ],
                    [
                      88
                    ],
                    [
                      85
                    ],
                    [
                      94
                    ],
                    [
                      89
                    ],
                    [
                      92
                    ],
                    [
                      92
                    ],
                    [
                      85
                    ],
                    [
                      85
                    ],
                    [
                      94
                    ],
                    [
                      88
                    ],
                    [
                      91
                    ],
                    [
                      87
                    ],
                    [
                      88
                    ],
                    [
                      90
                    ],
                    [
                      89
                    ],
                    [
                      82
                    ]
                  ],
                  "y": [
                    -3258.592731249426,
                    -3004.1359250357286,
                    -1858.7415428672723,
                    -1450.73186888666,
                    -2395.1506203279077,
                    -1789.8310613735025,
                    -1500.5997535503443,
                    -1283.249341684218,
                    968.1821841701766,
                    -3447.5228656993495,
                    -3145.8388116696283,
                    -4704.900718140075,
                    -3972.437291114194,
                    -2804.317598781814,
                    646.5438723752053,
                    -2067.7852022028546,
                    -1529.9495201383804,
                    -809.2478504066116,
                    -4573.135949676127,
                    -1523.153182779474,
                    -918.4435413744552,
                    -1016.362817605334,
                    -458.732937973467,
                    -1838.6646455566574,
                    1139.0677249894095,
                    -2125.5165732968303,
                    -1255.023121717518,
                    -2106.9565485318544,
                    -2494.3460158547664,
                    -3476.7575329414035,
                    -874.5938320396211,
                    -958.536564511075,
                    -2253.3249547903106,
                    -2178.9512608782647,
                    -424.4944516024691,
                    -3329.424155750386,
                    -1902.3037525718094,
                    -672.1303645870975,
                    163.00860194240747,
                    -1546.7860227984627,
                    -2388.3975155671837,
                    -1819.141113343564,
                    -2964.87116153894,
                    -1025.6556377131562,
                    -3403.3549980948756,
                    -2907.798180135489,
                    -623.024823397233,
                    -1656.4250558163026,
                    -5860.406970913426,
                    -2813.4088657561006,
                    -3704.11520306688,
                    -1716.0957515179925,
                    -3117.0435724351205,
                    -3844.0506429942798,
                    -2812.6408322745237,
                    -1039.886967020447,
                    -1055.9968931753665,
                    -2541.1040744024194,
                    -2626.4947601230388,
                    -2385.9306735999694,
                    -3482.950924420311,
                    -2039.051945091475,
                    -497.0287321468135,
                    -3386.631387427833,
                    -2831.2449726497744,
                    -3511.650542757556,
                    -1946.4256348815304,
                    -1443.6312210611654,
                    -3586.3929123393586,
                    -982.6374045457411,
                    72.34189620852732,
                    -975.0110199269352,
                    -2323.955025066739,
                    -2003.3795586148913,
                    -3267.8530880659637,
                    -1709.6809922654006,
                    -361.82287722905795,
                    -2551.640945867298,
                    -2299.177576458249,
                    -4966.632983631626,
                    -1061.392829700626,
                    -1200.4987085746989,
                    -946.4427010468257,
                    -1573.1293339464667,
                    -2226.523883594681,
                    -1747.284515874373,
                    1229.6342021037997,
                    -2373.906852113613,
                    -1026.2178281219399,
                    -2520.879670925896,
                    -3445.140762666873,
                    -2403.4526565005244,
                    -2359.981060852435,
                    -1284.2763352325994,
                    -4260.66793677742,
                    -1998.3145148841236,
                    -2999.048136853003,
                    -2756.2104567652127,
                    -1271.83669680018,
                    -3330.0950893142603,
                    -1918.0706539765338,
                    -2913.151326193389,
                    -1690.2235244245378,
                    -4327.599800404023,
                    -559.8887343311543,
                    -3267.664533478741,
                    -1059.5099705589148,
                    -1788.595019255137,
                    -3595.426499455151,
                    -512.1681616652345,
                    -3209.7056998551193,
                    -3652.143022077501,
                    -3656.8600405231164,
                    -2297.4104284560117,
                    -2456.062469507203,
                    -1806.3716349634733,
                    -296.94791022013436,
                    -219.83567344031897,
                    -3270.2500120301224,
                    -2876.01682185416,
                    -1034.0462861180665,
                    -2662.237917413054,
                    -1341.6421504993352,
                    -2386.744670387967,
                    -3215.311753103617,
                    -2507.4680378488556,
                    -2379.4453929525325,
                    -948.1700320034123,
                    -2706.954245859539,
                    -2663.4363034143566,
                    776.7213551828819,
                    -1498.3070625903988,
                    -2247.7230980697577,
                    -1273.0340909671522,
                    -3320.2381091067377,
                    -2383.923586492432,
                    -3159.4030652887363,
                    -1422.2632521531436,
                    -3282.4967836895144,
                    -2697.4806496368687,
                    -1681.107809398614,
                    -857.2365574199097,
                    -500.38222602903386,
                    -2166.945526513022,
                    -337.5831102994568,
                    -990.6075970316516,
                    -2464.3665067293446
                  ],
                  "hoverlabel": {
                    "namelength": 0
                  },
                  "mode": "markers",
                  "xaxis": "x",
                  "marker": {
                    "color": "#EF553B",
                    "opacity": 0.5,
                    "symbol": "circle"
                  },
                  "x": [
                    -47000.17170879287,
                    -36822.882729901045,
                    -45592.66271459643,
                    -56178.67327005174,
                    -46522.919419751146,
                    -50446.687258505575,
                    -46897.28720484182,
                    -28723.99191956599,
                    -59885.18345080085,
                    -37730.76934060817,
                    -39882.023331383,
                    -46108.564418073074,
                    -46206.76070917285,
                    -42432.645099662244,
                    -49206.07297923619,
                    -60035.35573518629,
                    -56491.7261616014,
                    -44821.27195537091,
                    -42594.24300193294,
                    -53680.72058527787,
                    -45148.06214608789,
                    -49952.56386424753,
                    -50055.78756429354,
                    -53103.84791289728,
                    -47927.75615335323,
                    -28705.212826769795,
                    -48496.847924973015,
                    -48329.3752198634,
                    -49610.67501015967,
                    -48754.55322293142,
                    -57495.82751822277,
                    -63634.72200273951,
                    -51335.696362198025,
                    -39063.28667619088,
                    -48448.18982139336,
                    -58127.50387026998,
                    -48762.36466827117,
                    -63656.34758998009,
                    -41047.37636685028,
                    -57750.75774612386,
                    -43012.76978349138,
                    -49274.44239615928,
                    -53484.99044797618,
                    -47490.05337363704,
                    -40724.15688509661,
                    -50029.04867348439,
                    -48459.57885316463,
                    -45504.928216643835,
                    -39916.59061152687,
                    -42253.87287795821,
                    -53329.0889086379,
                    -45508.35388587763,
                    -48890.16204283164,
                    -43811.47262039386,
                    -39708.64698966345,
                    -56854.24491468407,
                    -54413.158553524714,
                    -50504.823142737674,
                    -56820.087553604215,
                    -37510.58801132115,
                    -42172.09142372812,
                    -41272.89533986178,
                    -47211.309218979375,
                    -55116.83601816834,
                    -42194.79873495239,
                    -53514.36608306821,
                    -58771.33010043614,
                    -51459.51350546341,
                    -48254.00622992487,
                    -43219.57063079795,
                    -45316.58140609554,
                    -48469.75822555574,
                    -42546.309287033815,
                    -52508.30353343572,
                    -45053.50115134014,
                    -51590.97205811299,
                    -52219.78891026322,
                    -49855.360239061134,
                    -41183.65207165709,
                    -38870.67264138031,
                    -46621.67518992084,
                    -49618.56425158388,
                    -42334.04767150631,
                    -42485.19893050835,
                    -47366.6493930971,
                    -46888.405898773744,
                    -51006.62596717176,
                    -53120.54070874578,
                    -42382.698832036185,
                    -48031.60033869832,
                    -46294.69652581506,
                    -49640.51633393588,
                    -33685.82303783498,
                    -41654.285370916696,
                    -46752.171891149046,
                    -51858.95285225972,
                    -51191.18311026792,
                    -47339.947334108234,
                    -52350.13688160764,
                    -48867.33422412471,
                    -40392.52353813573,
                    -55837.89621255903,
                    -57945.29400939375,
                    -33223.78792758687,
                    -41229.085326467895,
                    -48086.47161506779,
                    -44891.72694017812,
                    -44207.369196690015,
                    -42152.50281937874,
                    -52957.616291780934,
                    -38257.01252267867,
                    -47072.83270827877,
                    -45889.161245283925,
                    -57888.986937986134,
                    -39255.47386551344,
                    -55003.11473536291,
                    -48338.7046626193,
                    -56895.336026094614,
                    -52745.27199507381,
                    -47591.22511121997,
                    -52877.38164603334,
                    -57516.27318363641,
                    -51304.42079121017,
                    -45243.33599570978,
                    -39730.754923731954,
                    -41090.43271162363,
                    -55300.43835611645,
                    -47148.04950665257,
                    -49083.989044483445,
                    -44945.69901444297,
                    -53905.33080870666,
                    -58306.89374121129,
                    -40907.25147798805,
                    -54957.4909891723,
                    -44680.89350931921,
                    -42805.17469366226,
                    -40276.44813108953,
                    -47271.41327624209,
                    -49427.52413702609,
                    -47975.62989430367,
                    -44316.390976136485,
                    -45489.120024218595,
                    -57176.867806106005,
                    -47129.844163420596,
                    -51240.794674902056,
                    -55368.98427568007,
                    -43231.47790879876
                  ],
                  "type": "scatter"
                },
                {
                  "textposition": "top center",
                  "hovertemplate": "Cluster=Cluster 2<br>PCA1=%{x}<br>PCA2=%{y}<br>Feature=%{customdata[0]}",
                  "showlegend": true,
                  "legendgroup": "Cluster=Cluster 2",
                  "name": "Cluster=Cluster 2",
                  "yaxis": "y",
                  "customdata": [
                    [
                      28
                    ],
                    [
                      25
                    ],
                    [
                      17
                    ],
                    [
                      27
                    ],
                    [
                      29
                    ],
                    [
                      23
                    ],
                    [
                      24
                    ],
                    [
                      92
                    ],
                    [
                      24
                    ],
                    [
                      28
                    ],
                    [
                      25
                    ],
                    [
                      29
                    ],
                    [
                      17
                    ],
                    [
                      87
                    ],
                    [
                      83
                    ],
                    [
                      18
                    ],
                    [
                      88
                    ],
                    [
                      84
                    ],
                    [
                      21
                    ],
                    [
                      31
                    ],
                    [
                      77
                    ],
                    [
                      34
                    ],
                    [
                      30
                    ],
                    [
                      91
                    ],
                    [
                      27
                    ],
                    [
                      89
                    ],
                    [
                      23
                    ],
                    [
                      22
                    ],
                    [
                      20
                    ],
                    [
                      86
                    ],
                    [
                      20
                    ],
                    [
                      20
                    ],
                    [
                      26
                    ],
                    [
                      24
                    ],
                    [
                      17
                    ],
                    [
                      17
                    ],
                    [
                      28
                    ],
                    [
                      26
                    ],
                    [
                      26
                    ],
                    [
                      24
                    ],
                    [
                      23
                    ],
                    [
                      90
                    ],
                    [
                      23
                    ],
                    [
                      90
                    ],
                    [
                      88
                    ],
                    [
                      22
                    ],
                    [
                      24
                    ],
                    [
                      25
                    ],
                    [
                      29
                    ],
                    [
                      18
                    ],
                    [
                      28
                    ],
                    [
                      82
                    ],
                    [
                      26
                    ],
                    [
                      26
                    ],
                    [
                      28
                    ],
                    [
                      28
                    ],
                    [
                      24
                    ],
                    [
                      93
                    ],
                    [
                      83
                    ],
                    [
                      21
                    ],
                    [
                      82
                    ],
                    [
                      86
                    ],
                    [
                      83
                    ],
                    [
                      22
                    ],
                    [
                      32
                    ],
                    [
                      27
                    ],
                    [
                      25
                    ],
                    [
                      24
                    ],
                    [
                      25
                    ],
                    [
                      85
                    ],
                    [
                      25
                    ],
                    [
                      29
                    ]
                  ],
                  "y": [
                    4717.997205237607,
                    5261.355213266389,
                    4243.721728508765,
                    4207.414796612182,
                    -5657.478831520003,
                    4946.1775101205085,
                    4745.144589124807,
                    -4557.7166017918735,
                    4437.356566167739,
                    8499.966944599804,
                    3894.235479127749,
                    5101.398697367521,
                    5282.497809754306,
                    -4543.326267067195,
                    -6254.840941209123,
                    3427.1351952588097,
                    -4985.5148012203945,
                    -4647.129088588649,
                    6249.5373609300805,
                    6059.9833233745485,
                    -5677.667475551908,
                    -6307.669140625973,
                    3437.8964823947795,
                    -4660.8556224445065,
                    6048.724079227706,
                    -6877.035883382062,
                    4629.791365281096,
                    5717.50113716764,
                    3238.4287703236846,
                    -6305.307759672729,
                    4709.388807631826,
                    3176.7468854090903,
                    4758.188729714914,
                    5488.389984582105,
                    8450.30756249261,
                    4315.751792559065,
                    5422.323757682562,
                    6006.733833662531,
                    2890.5509685647035,
                    4252.897540706995,
                    4590.8725834561055,
                    -5693.6654411574455,
                    5657.241494980816,
                    -3106.103475868356,
                    -4397.186114919676,
                    3778.181421309607,
                    3903.9749268153696,
                    3658.306501252221,
                    2693.008186621751,
                    4668.214697412172,
                    5765.842845736465,
                    -4953.921129423358,
                    3388.427034681374,
                    4271.292185091134,
                    3884.4528513190835,
                    3371.5330650130973,
                    5916.358054129829,
                    -5178.05281344007,
                    -5954.454601851142,
                    4193.882999372306,
                    -6854.206134077954,
                    -4749.057025715362,
                    -5615.560772408637,
                    3350.711617933646,
                    -4823.645899335595,
                    4941.999362973269,
                    4732.087714707707,
                    6726.313750520611,
                    3879.1497332626573,
                    -5432.281819509642,
                    4016.981622201614,
                    6674.234677495915
                  ],
                  "hoverlabel": {
                    "namelength": 0
                  },
                  "mode": "markers",
                  "xaxis": "x",
                  "marker": {
                    "color": "#00cc96",
                    "opacity": 0.5,
                    "symbol": "circle"
                  },
                  "x": [
                    41933.87634909208,
                    62912.45709780565,
                    61085.161815426865,
                    46271.7499906681,
                    43600.21618030975,
                    63317.06653244289,
                    59239.85352839811,
                    47182.0685815558,
                    45280.29645748762,
                    48281.96476402188,
                    53422.55248570122,
                    56449.678138281386,
                    48697.32854440993,
                    41859.15436997561,
                    43629.01273923755,
                    55587.35173073356,
                    44952.90203538894,
                    46993.641087908385,
                    48602.57111184018,
                    47836.448391826816,
                    52844.21454083212,
                    44074.74432267947,
                    47549.76254622706,
                    43084.43130106838,
                    49923.23240258629,
                    43861.74709102551,
                    54778.91990969142,
                    57857.28905692229,
                    54230.31142047657,
                    48577.24594456369,
                    47415.38916240531,
                    53899.23405997955,
                    47842.88367906649,
                    53976.79000263128,
                    59803.04557919298,
                    59798.17482849969,
                    48029.23598296088,
                    51532.470058404484,
                    50397.083897731325,
                    55795.997914963926,
                    45049.71303774846,
                    48410.009290472306,
                    51395.22435599948,
                    42045.7957025714,
                    47964.552261386925,
                    45302.57090416742,
                    59196.5930863391,
                    45728.40114434408,
                    66750.62108457652,
                    48551.89779119262,
                    53924.59703955874,
                    45920.30384600759,
                    52086.38065892719,
                    56651.45548374745,
                    46000.80248469953,
                    52465.03358665989,
                    52263.49410874445,
                    50874.593733151836,
                    42157.80542870099,
                    54542.56026091126,
                    50433.851384533344,
                    52679.13742245059,
                    41580.27174463822,
                    58984.55027496723,
                    41328.252663309955,
                    47518.8813185679,
                    55783.42885801488,
                    61617.256021857196,
                    55809.60825993978,
                    42414.13984409394,
                    55168.45154506187,
                    47210.6112841296
                  ],
                  "type": "scatter"
                },
                {
                  "textposition": "top center",
                  "hovertemplate": "Cluster=Cluster 3<br>PCA1=%{x}<br>PCA2=%{y}<br>Feature=%{customdata[0]}",
                  "showlegend": true,
                  "legendgroup": "Cluster=Cluster 3",
                  "name": "Cluster=Cluster 3",
                  "yaxis": "y",
                  "customdata": [
                    [
                      61
                    ],
                    [
                      68
                    ],
                    [
                      62
                    ],
                    [
                      59
                    ],
                    [
                      65
                    ],
                    [
                      59
                    ],
                    [
                      57
                    ],
                    [
                      58
                    ],
                    [
                      55
                    ],
                    [
                      60
                    ],
                    [
                      65
                    ],
                    [
                      64
                    ],
                    [
                      51
                    ],
                    [
                      65
                    ],
                    [
                      60
                    ],
                    [
                      61
                    ],
                    [
                      56
                    ],
                    [
                      58
                    ],
                    [
                      63
                    ],
                    [
                      58
                    ],
                    [
                      67
                    ],
                    [
                      61
                    ],
                    [
                      63
                    ],
                    [
                      58
                    ],
                    [
                      59
                    ],
                    [
                      67
                    ],
                    [
                      60
                    ],
                    [
                      62
                    ],
                    [
                      60
                    ],
                    [
                      56
                    ],
                    [
                      66
                    ],
                    [
                      61
                    ],
                    [
                      58
                    ],
                    [
                      57
                    ],
                    [
                      58
                    ],
                    [
                      55
                    ],
                    [
                      63
                    ],
                    [
                      58
                    ],
                    [
                      60
                    ],
                    [
                      58
                    ],
                    [
                      62
                    ],
                    [
                      66
                    ],
                    [
                      57
                    ],
                    [
                      66
                    ],
                    [
                      63
                    ],
                    [
                      64
                    ],
                    [
                      62
                    ],
                    [
                      62
                    ],
                    [
                      56
                    ],
                    [
                      60
                    ],
                    [
                      60
                    ],
                    [
                      63
                    ],
                    [
                      56
                    ],
                    [
                      58
                    ],
                    [
                      62
                    ],
                    [
                      56
                    ],
                    [
                      59
                    ],
                    [
                      65
                    ],
                    [
                      62
                    ],
                    [
                      59
                    ],
                    [
                      66
                    ],
                    [
                      64
                    ],
                    [
                      65
                    ],
                    [
                      58
                    ],
                    [
                      64
                    ],
                    [
                      59
                    ],
                    [
                      59
                    ],
                    [
                      62
                    ],
                    [
                      59
                    ],
                    [
                      54
                    ],
                    [
                      61
                    ],
                    [
                      55
                    ],
                    [
                      53
                    ],
                    [
                      55
                    ],
                    [
                      61
                    ],
                    [
                      59
                    ],
                    [
                      59
                    ],
                    [
                      56
                    ],
                    [
                      61
                    ],
                    [
                      61
                    ],
                    [
                      60
                    ],
                    [
                      57
                    ],
                    [
                      61
                    ],
                    [
                      55
                    ],
                    [
                      53
                    ],
                    [
                      61
                    ],
                    [
                      64
                    ],
                    [
                      62
                    ],
                    [
                      55
                    ],
                    [
                      58
                    ],
                    [
                      57
                    ],
                    [
                      59
                    ],
                    [
                      58
                    ],
                    [
                      62
                    ],
                    [
                      59
                    ],
                    [
                      61
                    ],
                    [
                      62
                    ],
                    [
                      55
                    ],
                    [
                      57
                    ],
                    [
                      57
                    ],
                    [
                      61
                    ],
                    [
                      59
                    ],
                    [
                      59
                    ],
                    [
                      59
                    ],
                    [
                      58
                    ],
                    [
                      56
                    ],
                    [
                      61
                    ],
                    [
                      56
                    ],
                    [
                      61
                    ],
                    [
                      63
                    ],
                    [
                      59
                    ],
                    [
                      59
                    ],
                    [
                      59
                    ],
                    [
                      59
                    ],
                    [
                      57
                    ],
                    [
                      59
                    ],
                    [
                      61
                    ],
                    [
                      67
                    ],
                    [
                      63
                    ],
                    [
                      56
                    ],
                    [
                      59
                    ],
                    [
                      58
                    ],
                    [
                      61
                    ],
                    [
                      62
                    ],
                    [
                      64
                    ],
                    [
                      61
                    ],
                    [
                      68
                    ],
                    [
                      60
                    ],
                    [
                      62
                    ],
                    [
                      64
                    ],
                    [
                      63
                    ],
                    [
                      58
                    ],
                    [
                      62
                    ],
                    [
                      59
                    ],
                    [
                      61
                    ],
                    [
                      53
                    ],
                    [
                      58
                    ],
                    [
                      55
                    ],
                    [
                      60
                    ],
                    [
                      56
                    ],
                    [
                      60
                    ],
                    [
                      58
                    ],
                    [
                      56
                    ],
                    [
                      64
                    ],
                    [
                      63
                    ],
                    [
                      62
                    ],
                    [
                      59
                    ],
                    [
                      67
                    ],
                    [
                      58
                    ],
                    [
                      58
                    ],
                    [
                      57
                    ],
                    [
                      66
                    ],
                    [
                      64
                    ],
                    [
                      59
                    ],
                    [
                      56
                    ],
                    [
                      57
                    ]
                  ],
                  "y": [
                    5127.949261280455,
                    5401.821696967168,
                    6342.036901878026,
                    3467.5659749114184,
                    5174.470545977293,
                    5711.6283932669685,
                    5506.996622913861,
                    4012.2154933423153,
                    5982.858221439131,
                    4348.095679784135,
                    3078.8964384945916,
                    4277.420432790429,
                    5318.281993622224,
                    4771.515153180693,
                    5556.6661391338175,
                    4852.444518767338,
                    6862.247572080606,
                    3500.5964543132536,
                    3374.2871342934277,
                    4688.370746949257,
                    6638.189488143044,
                    4638.724240674151,
                    4875.412034392041,
                    4468.268102563842,
                    4564.6176218553155,
                    4711.285967238691,
                    7146.6628582527765,
                    7267.328542397003,
                    5001.42078319685,
                    4273.205301847635,
                    5468.743274286694,
                    5701.6975750235115,
                    5223.6423303903575,
                    5713.442041909503,
                    5164.690387393561,
                    3973.9069974865124,
                    4092.5868105824957,
                    5053.974394482306,
                    6716.389270082326,
                    5507.674538617933,
                    5692.091704359399,
                    5512.809888472099,
                    5207.221097509009,
                    7423.315368546433,
                    6502.20788277559,
                    5070.413098436325,
                    6393.584927460234,
                    5058.593507665865,
                    2451.3956456354927,
                    3532.7508016456363,
                    4575.315245883314,
                    6399.679457928574,
                    4076.188863858498,
                    4450.5724650858,
                    5121.94817799102,
                    5174.060016070749,
                    5595.425208078428,
                    6237.455006749797,
                    4834.953991865886,
                    5030.1015099048445,
                    5245.750156657963,
                    6031.597780098118,
                    6026.370137728771,
                    6791.12172798713,
                    3878.0740056043533,
                    1366.21750619139,
                    6074.108821940041,
                    2642.8564628733106,
                    4574.029852480232,
                    4918.861099714734,
                    4039.0497082186075,
                    4298.147934215797,
                    6617.143404468854,
                    3293.9257098257854,
                    4305.6055133701375,
                    5484.062210130749,
                    5033.927181148622,
                    4760.72668383612,
                    6827.736752280869,
                    5239.83448625213,
                    4906.8213691170085,
                    5019.5450718658585,
                    4571.311601888514,
                    5435.293808150464,
                    5122.298575466133,
                    7150.265686204209,
                    5008.012103778606,
                    6401.496850378556,
                    4646.423038232094,
                    4662.571801362161,
                    4854.373611538006,
                    5720.063910631847,
                    3616.906622264862,
                    5240.283697626604,
                    3684.6952959403575,
                    3413.4609900340324,
                    4727.0798130553485,
                    6380.91549429279,
                    5567.112673818732,
                    6298.430178867733,
                    2685.6626854367955,
                    5152.077722121314,
                    6823.253328040565,
                    5788.853893383746,
                    5141.1013674325895,
                    5049.606296947775,
                    4129.1811894163575,
                    4370.467828822717,
                    4923.281603355223,
                    5086.374324713102,
                    3399.1203547303226,
                    6221.683453940018,
                    4314.803908984968,
                    4177.140129281847,
                    6211.274488459198,
                    5267.352553209776,
                    5996.549152653392,
                    4795.659622307598,
                    6334.243251982047,
                    3424.0736039052886,
                    5588.800602998203,
                    3943.117073633912,
                    8154.200533863805,
                    5205.840154213877,
                    5666.3679547527,
                    5644.552199614268,
                    5539.978254276125,
                    7033.832306225472,
                    5686.132349951808,
                    4384.68728953157,
                    4509.37894804773,
                    4513.159427781256,
                    5599.274828311292,
                    5499.3393327217655,
                    2658.2975188904124,
                    4064.0083360808094,
                    4731.012058760928,
                    5689.00045309191,
                    5133.639471687388,
                    5573.2435927687275,
                    4085.3122504461217,
                    5244.436809348917,
                    5673.527728610803,
                    6677.4821015909365,
                    4411.324353776285,
                    6731.622371228141,
                    6845.141814371279,
                    7337.462584330767,
                    5992.684094109706,
                    6861.841710581505,
                    5517.456998799792,
                    4687.331305792244,
                    5244.223767536203,
                    6098.407171499207,
                    3266.470183264379,
                    6154.518606181514
                  ],
                  "hoverlabel": {
                    "namelength": 0
                  },
                  "mode": "markers",
                  "xaxis": "x",
                  "marker": {
                    "color": "#ab63fa",
                    "opacity": 0.5,
                    "symbol": "circle"
                  },
                  "x": [
                    -3197.770674931706,
                    -6270.130057704631,
                    -7431.169946592945,
                    -7981.746810683434,
                    -4794.730185972455,
                    -5787.584457334286,
                    -3147.971690102401,
                    3333.037008198892,
                    -10419.650727093273,
                    -805.5182840466941,
                    -4114.665812502659,
                    -12402.614006035727,
                    -3127.746475407189,
                    -811.2733012583,
                    -5149.414552966311,
                    3607.6218475354453,
                    -9823.292971418654,
                    -6075.723945911872,
                    7034.566991846874,
                    -4883.720561797809,
                    3574.8676282851334,
                    -967.1345292294822,
                    -4661.643199436438,
                    -4588.845682887326,
                    -7225.6566514965525,
                    5679.93503225556,
                    -9176.939917160442,
                    -1424.2968527852502,
                    -11770.096221904687,
                    -1755.3663563989912,
                    1855.047986918685,
                    -7827.504392605744,
                    2868.6753358918077,
                    4615.604589783889,
                    2555.7842351601093,
                    1547.9124395594217,
                    10499.407295945579,
                    -4972.922141129967,
                    4848.442764387977,
                    -5327.512619806884,
                    -1710.0091006297753,
                    -2630.794135208176,
                    1381.2925438038922,
                    -10238.837928743027,
                    -2329.616759752765,
                    -3536.6248996188606,
                    -11570.013629472287,
                    -12594.175242128525,
                    11129.424149229602,
                    -3881.279223544827,
                    -4595.725467462923,
                    5567.478117111804,
                    9121.208329826171,
                    499.4966180961344,
                    -4176.722631704308,
                    -6529.597912750257,
                    -7423.928769536229,
                    -9153.992100917834,
                    4864.683651412995,
                    -7249.028129796927,
                    7325.256189492692,
                    1198.2155272857233,
                    -9447.566957019653,
                    -4333.353171495316,
                    13091.37415351668,
                    -860.435447795377,
                    6644.597612798227,
                    -611.8920766835428,
                    -879.6961231840188,
                    1270.5926186365073,
                    -3354.4093954920463,
                    -3652.05162721952,
                    1535.3200349238566,
                    3442.067865401044,
                    1691.1469990055025,
                    -9514.742122293763,
                    -5495.930030665684,
                    -11393.264281389036,
                    -1006.7942808926967,
                    -11385.807297750876,
                    -5228.773548143094,
                    106.44730782999494,
                    -2009.7086141751686,
                    -847.3002227743422,
                    -13124.391604038405,
                    -6112.701966838933,
                    -14757.6268545056,
                    -5414.451723823093,
                    -4197.995995572505,
                    -907.6690876091192,
                    4241.775895153042,
                    -2601.869628345946,
                    1797.8692846207523,
                    -6945.490220855897,
                    -1709.0067116984342,
                    -5628.983771409204,
                    3175.7301008876793,
                    -1254.7961050822828,
                    1380.909585482257,
                    -5506.504775277303,
                    -1867.5011952055104,
                    277.31945471803556,
                    -18832.323089995083,
                    -7793.454352086525,
                    834.6063416853502,
                    375.6120252474112,
                    -3222.028497117642,
                    3735.222300120541,
                    -9600.00952571689,
                    -18377.080919160882,
                    2663.814142724258,
                    -6051.798027149636,
                    5619.12553876362,
                    -2220.635450610063,
                    -10371.487057071714,
                    -1864.5940590614457,
                    -9270.983246113969,
                    -6586.375015596336,
                    -7793.211508914154,
                    5122.282562298915,
                    7017.407229806944,
                    4968.7646458745685,
                    -6214.354917756375,
                    -5898.744479681146,
                    1223.333284206357,
                    -4025.5345868614945,
                    2456.1149429108864,
                    -10072.875118803531,
                    -5806.077052611816,
                    11039.026942031705,
                    -5414.849621380291,
                    3385.8220491313173,
                    -8175.944783841649,
                    -3902.6507601274066,
                    -4335.121223668239,
                    -284.93461613175396,
                    8122.0803804155385,
                    871.0561448640409,
                    -7740.904879089716,
                    -15159.901916245668,
                    -9955.599000501965,
                    5073.487356522341,
                    -7927.279393999562,
                    -10817.514881421728,
                    -182.87509706289566,
                    -12401.012614422625,
                    384.48865377878224,
                    -15876.01419493386,
                    2392.951400013226,
                    -4856.16027761908,
                    -9604.976101231394,
                    -3578.6411667637276,
                    3594.042421690831,
                    -5713.304475031717,
                    -6874.447300583779,
                    -1148.5927138363172
                  ],
                  "type": "scatter"
                }
              ],
              "config": {
                "plotlyServerURL": "https://plot.ly"
              },
              "layout": {
                "xaxis": {
                  "domain": [
                    0,
                    1
                  ],
                  "anchor": "y",
                  "title": {
                    "text": "PCA1"
                  }
                },
                "title": {
                  "text": "2D Cluster PCA Plot"
                },
                "plot_bgcolor": "rgb(240,240,240)",
                "yaxis": {
                  "domain": [
                    0,
                    1
                  ],
                  "anchor": "x",
                  "title": {
                    "text": "PCA2"
                  }
                },
                "height": 600,
                "template": {
                  "layout": {
                    "shapedefaults": {
                      "line": {
                        "color": "#2a3f5f"
                      }
                    },
                    "polar": {
                      "radialaxis": {
                        "ticks": "",
                        "gridcolor": "white",
                        "linecolor": "white"
                      },
                      "bgcolor": "#E5ECF6",
                      "angularaxis": {
                        "ticks": "",
                        "gridcolor": "white",
                        "linecolor": "white"
                      }
                    },
                    "colorway": [
                      "#636efa",
                      "#EF553B",
                      "#00cc96",
                      "#ab63fa",
                      "#FFA15A",
                      "#19d3f3",
                      "#FF6692",
                      "#B6E880",
                      "#FF97FF",
                      "#FECB52"
                    ],
                    "xaxis": {
                      "automargin": true,
                      "title": {
                        "standoff": 15
                      },
                      "zerolinewidth": 2,
                      "ticks": "",
                      "zerolinecolor": "white",
                      "gridcolor": "white",
                      "linecolor": "white"
                    },
                    "colorscale": {
                      "diverging": [
                        [
                          0,
                          "#8e0152"
                        ],
                        [
                          0.1,
                          "#c51b7d"
                        ],
                        [
                          0.2,
                          "#de77ae"
                        ],
                        [
                          0.3,
                          "#f1b6da"
                        ],
                        [
                          0.4,
                          "#fde0ef"
                        ],
                        [
                          0.5,
                          "#f7f7f7"
                        ],
                        [
                          0.6,
                          "#e6f5d0"
                        ],
                        [
                          0.7,
                          "#b8e186"
                        ],
                        [
                          0.8,
                          "#7fbc41"
                        ],
                        [
                          0.9,
                          "#4d9221"
                        ],
                        [
                          1,
                          "#276419"
                        ]
                      ],
                      "sequential": [
                        [
                          0,
                          "#0d0887"
                        ],
                        [
                          0.1111111111111111,
                          "#46039f"
                        ],
                        [
                          0.2222222222222222,
                          "#7201a8"
                        ],
                        [
                          0.3333333333333333,
                          "#9c179e"
                        ],
                        [
                          0.4444444444444444,
                          "#bd3786"
                        ],
                        [
                          0.5555555555555556,
                          "#d8576b"
                        ],
                        [
                          0.6666666666666666,
                          "#ed7953"
                        ],
                        [
                          0.7777777777777778,
                          "#fb9f3a"
                        ],
                        [
                          0.8888888888888888,
                          "#fdca26"
                        ],
                        [
                          1,
                          "#f0f921"
                        ]
                      ],
                      "sequentialminus": [
                        [
                          0,
                          "#0d0887"
                        ],
                        [
                          0.1111111111111111,
                          "#46039f"
                        ],
                        [
                          0.2222222222222222,
                          "#7201a8"
                        ],
                        [
                          0.3333333333333333,
                          "#9c179e"
                        ],
                        [
                          0.4444444444444444,
                          "#bd3786"
                        ],
                        [
                          0.5555555555555556,
                          "#d8576b"
                        ],
                        [
                          0.6666666666666666,
                          "#ed7953"
                        ],
                        [
                          0.7777777777777778,
                          "#fb9f3a"
                        ],
                        [
                          0.8888888888888888,
                          "#fdca26"
                        ],
                        [
                          1,
                          "#f0f921"
                        ]
                      ]
                    },
                    "paper_bgcolor": "white",
                    "plot_bgcolor": "#E5ECF6",
                    "title": {
                      "x": 0.05
                    },
                    "scene": {
                      "zaxis": {
                        "backgroundcolor": "#E5ECF6",
                        "ticks": "",
                        "gridwidth": 2,
                        "showbackground": true,
                        "zerolinecolor": "white",
                        "gridcolor": "white",
                        "linecolor": "white"
                      },
                      "xaxis": {
                        "backgroundcolor": "#E5ECF6",
                        "ticks": "",
                        "gridwidth": 2,
                        "showbackground": true,
                        "zerolinecolor": "white",
                        "gridcolor": "white",
                        "linecolor": "white"
                      },
                      "yaxis": {
                        "backgroundcolor": "#E5ECF6",
                        "ticks": "",
                        "gridwidth": 2,
                        "showbackground": true,
                        "zerolinecolor": "white",
                        "gridcolor": "white",
                        "linecolor": "white"
                      }
                    },
                    "yaxis": {
                      "automargin": true,
                      "title": {
                        "standoff": 15
                      },
                      "zerolinewidth": 2,
                      "ticks": "",
                      "zerolinecolor": "white",
                      "gridcolor": "white",
                      "linecolor": "white"
                    },
                    "annotationdefaults": {
                      "arrowwidth": 1,
                      "arrowhead": 0,
                      "arrowcolor": "#2a3f5f"
                    },
                    "hoverlabel": {
                      "align": "left"
                    },
                    "ternary": {
                      "bgcolor": "#E5ECF6",
                      "baxis": {
                        "ticks": "",
                        "gridcolor": "white",
                        "linecolor": "white"
                      },
                      "caxis": {
                        "ticks": "",
                        "gridcolor": "white",
                        "linecolor": "white"
                      },
                      "aaxis": {
                        "ticks": "",
                        "gridcolor": "white",
                        "linecolor": "white"
                      }
                    },
                    "mapbox": {
                      "style": "light"
                    },
                    "hovermode": "closest",
                    "font": {
                      "color": "#2a3f5f"
                    },
                    "geo": {
                      "showland": true,
                      "landcolor": "#E5ECF6",
                      "showlakes": true,
                      "bgcolor": "white",
                      "subunitcolor": "white",
                      "lakecolor": "white"
                    },
                    "coloraxis": {
                      "colorbar": {
                        "outlinewidth": 0,
                        "ticks": ""
                      }
                    }
                  },
                  "data": {
                    "mesh3d": [
                      {
                        "colorbar": {
                          "outlinewidth": 0,
                          "ticks": ""
                        },
                        "type": "mesh3d"
                      }
                    ],
                    "scattercarpet": [
                      {
                        "marker": {
                          "colorbar": {
                            "outlinewidth": 0,
                            "ticks": ""
                          }
                        },
                        "type": "scattercarpet"
                      }
                    ],
                    "pie": [
                      {
                        "automargin": true,
                        "type": "pie"
                      }
                    ],
                    "surface": [
                      {
                        "colorbar": {
                          "outlinewidth": 0,
                          "ticks": ""
                        },
                        "type": "surface",
                        "colorscale": [
                          [
                            0,
                            "#0d0887"
                          ],
                          [
                            0.1111111111111111,
                            "#46039f"
                          ],
                          [
                            0.2222222222222222,
                            "#7201a8"
                          ],
                          [
                            0.3333333333333333,
                            "#9c179e"
                          ],
                          [
                            0.4444444444444444,
                            "#bd3786"
                          ],
                          [
                            0.5555555555555556,
                            "#d8576b"
                          ],
                          [
                            0.6666666666666666,
                            "#ed7953"
                          ],
                          [
                            0.7777777777777778,
                            "#fb9f3a"
                          ],
                          [
                            0.8888888888888888,
                            "#fdca26"
                          ],
                          [
                            1,
                            "#f0f921"
                          ]
                        ]
                      }
                    ],
                    "table": [
                      {
                        "header": {
                          "line": {
                            "color": "white"
                          },
                          "fill": {
                            "color": "#C8D4E3"
                          }
                        },
                        "cells": {
                          "line": {
                            "color": "white"
                          },
                          "fill": {
                            "color": "#EBF0F8"
                          }
                        },
                        "type": "table"
                      }
                    ],
                    "scatterpolargl": [
                      {
                        "marker": {
                          "colorbar": {
                            "outlinewidth": 0,
                            "ticks": ""
                          }
                        },
                        "type": "scatterpolargl"
                      }
                    ],
                    "contour": [
                      {
                        "colorbar": {
                          "outlinewidth": 0,
                          "ticks": ""
                        },
                        "type": "contour",
                        "colorscale": [
                          [
                            0,
                            "#0d0887"
                          ],
                          [
                            0.1111111111111111,
                            "#46039f"
                          ],
                          [
                            0.2222222222222222,
                            "#7201a8"
                          ],
                          [
                            0.3333333333333333,
                            "#9c179e"
                          ],
                          [
                            0.4444444444444444,
                            "#bd3786"
                          ],
                          [
                            0.5555555555555556,
                            "#d8576b"
                          ],
                          [
                            0.6666666666666666,
                            "#ed7953"
                          ],
                          [
                            0.7777777777777778,
                            "#fb9f3a"
                          ],
                          [
                            0.8888888888888888,
                            "#fdca26"
                          ],
                          [
                            1,
                            "#f0f921"
                          ]
                        ]
                      }
                    ],
                    "carpet": [
                      {
                        "type": "carpet",
                        "baxis": {
                          "minorgridcolor": "white",
                          "gridcolor": "white",
                          "linecolor": "white",
                          "endlinecolor": "#2a3f5f",
                          "startlinecolor": "#2a3f5f"
                        },
                        "aaxis": {
                          "minorgridcolor": "white",
                          "gridcolor": "white",
                          "linecolor": "white",
                          "endlinecolor": "#2a3f5f",
                          "startlinecolor": "#2a3f5f"
                        }
                      }
                    ],
                    "contourcarpet": [
                      {
                        "colorbar": {
                          "outlinewidth": 0,
                          "ticks": ""
                        },
                        "type": "contourcarpet"
                      }
                    ],
                    "heatmap": [
                      {
                        "colorbar": {
                          "outlinewidth": 0,
                          "ticks": ""
                        },
                        "type": "heatmap",
                        "colorscale": [
                          [
                            0,
                            "#0d0887"
                          ],
                          [
                            0.1111111111111111,
                            "#46039f"
                          ],
                          [
                            0.2222222222222222,
                            "#7201a8"
                          ],
                          [
                            0.3333333333333333,
                            "#9c179e"
                          ],
                          [
                            0.4444444444444444,
                            "#bd3786"
                          ],
                          [
                            0.5555555555555556,
                            "#d8576b"
                          ],
                          [
                            0.6666666666666666,
                            "#ed7953"
                          ],
                          [
                            0.7777777777777778,
                            "#fb9f3a"
                          ],
                          [
                            0.8888888888888888,
                            "#fdca26"
                          ],
                          [
                            1,
                            "#f0f921"
                          ]
                        ]
                      }
                    ],
                    "scattermapbox": [
                      {
                        "marker": {
                          "colorbar": {
                            "outlinewidth": 0,
                            "ticks": ""
                          }
                        },
                        "type": "scattermapbox"
                      }
                    ],
                    "scatter3d": [
                      {
                        "marker": {
                          "colorbar": {
                            "outlinewidth": 0,
                            "ticks": ""
                          }
                        },
                        "line": {
                          "colorbar": {
                            "outlinewidth": 0,
                            "ticks": ""
                          }
                        },
                        "type": "scatter3d"
                      }
                    ],
                    "scattergl": [
                      {
                        "marker": {
                          "colorbar": {
                            "outlinewidth": 0,
                            "ticks": ""
                          }
                        },
                        "type": "scattergl"
                      }
                    ],
                    "scatterternary": [
                      {
                        "marker": {
                          "colorbar": {
                            "outlinewidth": 0,
                            "ticks": ""
                          }
                        },
                        "type": "scatterternary"
                      }
                    ],
                    "histogram": [
                      {
                        "marker": {
                          "colorbar": {
                            "outlinewidth": 0,
                            "ticks": ""
                          }
                        },
                        "type": "histogram"
                      }
                    ],
                    "heatmapgl": [
                      {
                        "colorbar": {
                          "outlinewidth": 0,
                          "ticks": ""
                        },
                        "type": "heatmapgl",
                        "colorscale": [
                          [
                            0,
                            "#0d0887"
                          ],
                          [
                            0.1111111111111111,
                            "#46039f"
                          ],
                          [
                            0.2222222222222222,
                            "#7201a8"
                          ],
                          [
                            0.3333333333333333,
                            "#9c179e"
                          ],
                          [
                            0.4444444444444444,
                            "#bd3786"
                          ],
                          [
                            0.5555555555555556,
                            "#d8576b"
                          ],
                          [
                            0.6666666666666666,
                            "#ed7953"
                          ],
                          [
                            0.7777777777777778,
                            "#fb9f3a"
                          ],
                          [
                            0.8888888888888888,
                            "#fdca26"
                          ],
                          [
                            1,
                            "#f0f921"
                          ]
                        ]
                      }
                    ],
                    "scatterpolar": [
                      {
                        "marker": {
                          "colorbar": {
                            "outlinewidth": 0,
                            "ticks": ""
                          }
                        },
                        "type": "scatterpolar"
                      }
                    ],
                    "histogram2d": [
                      {
                        "colorbar": {
                          "outlinewidth": 0,
                          "ticks": ""
                        },
                        "type": "histogram2d",
                        "colorscale": [
                          [
                            0,
                            "#0d0887"
                          ],
                          [
                            0.1111111111111111,
                            "#46039f"
                          ],
                          [
                            0.2222222222222222,
                            "#7201a8"
                          ],
                          [
                            0.3333333333333333,
                            "#9c179e"
                          ],
                          [
                            0.4444444444444444,
                            "#bd3786"
                          ],
                          [
                            0.5555555555555556,
                            "#d8576b"
                          ],
                          [
                            0.6666666666666666,
                            "#ed7953"
                          ],
                          [
                            0.7777777777777778,
                            "#fb9f3a"
                          ],
                          [
                            0.8888888888888888,
                            "#fdca26"
                          ],
                          [
                            1,
                            "#f0f921"
                          ]
                        ]
                      }
                    ],
                    "scattergeo": [
                      {
                        "marker": {
                          "colorbar": {
                            "outlinewidth": 0,
                            "ticks": ""
                          }
                        },
                        "type": "scattergeo"
                      }
                    ],
                    "bar": [
                      {
                        "marker": {
                          "line": {
                            "color": "#E5ECF6",
                            "width": 0.5
                          }
                        },
                        "type": "bar",
                        "error_x": {
                          "color": "#2a3f5f"
                        },
                        "error_y": {
                          "color": "#2a3f5f"
                        }
                      }
                    ],
                    "choropleth": [
                      {
                        "colorbar": {
                          "outlinewidth": 0,
                          "ticks": ""
                        },
                        "type": "choropleth"
                      }
                    ],
                    "parcoords": [
                      {
                        "line": {
                          "colorbar": {
                            "outlinewidth": 0,
                            "ticks": ""
                          }
                        },
                        "type": "parcoords"
                      }
                    ],
                    "barpolar": [
                      {
                        "marker": {
                          "line": {
                            "color": "#E5ECF6",
                            "width": 0.5
                          }
                        },
                        "type": "barpolar"
                      }
                    ],
                    "histogram2dcontour": [
                      {
                        "colorbar": {
                          "outlinewidth": 0,
                          "ticks": ""
                        },
                        "type": "histogram2dcontour",
                        "colorscale": [
                          [
                            0,
                            "#0d0887"
                          ],
                          [
                            0.1111111111111111,
                            "#46039f"
                          ],
                          [
                            0.2222222222222222,
                            "#7201a8"
                          ],
                          [
                            0.3333333333333333,
                            "#9c179e"
                          ],
                          [
                            0.4444444444444444,
                            "#bd3786"
                          ],
                          [
                            0.5555555555555556,
                            "#d8576b"
                          ],
                          [
                            0.6666666666666666,
                            "#ed7953"
                          ],
                          [
                            0.7777777777777778,
                            "#fb9f3a"
                          ],
                          [
                            0.8888888888888888,
                            "#fdca26"
                          ],
                          [
                            1,
                            "#f0f921"
                          ]
                        ]
                      }
                    ],
                    "scatter": [
                      {
                        "marker": {
                          "colorbar": {
                            "outlinewidth": 0,
                            "ticks": ""
                          }
                        },
                        "type": "scatter"
                      }
                    ]
                  }
                },
                "margin": {
                  "t": 60
                },
                "legend": {
                  "tracegroupgap": 0
                }
              }
            }
          },
          "metadata": {
            "tags": []
          }
        }
      ]
    },
    {
      "cell_type": "code",
      "metadata": {
        "id": "de_akjxw9bh7",
        "outputId": "01673b84-4faf-46de-b27c-528fd667232c",
        "colab": {
          "base_uri": "https://localhost:8080/",
          "height": 32,
          "referenced_widgets": [
            "7b1b7a20f0014a41b5e076e29365c56f"
          ]
        }
      },
      "source": [
        "#In the similar fassion we can do for all the other clustering \n",
        "ap = create_model('ap')"
      ],
      "execution_count": 56,
      "outputs": [
        {
          "output_type": "display_data",
          "data": {
            "text/html": [
              "<div>\n",
              "<style scoped>\n",
              "    .dataframe tbody tr th:only-of-type {\n",
              "        vertical-align: middle;\n",
              "    }\n",
              "\n",
              "    .dataframe tbody tr th {\n",
              "        vertical-align: top;\n",
              "    }\n",
              "\n",
              "    .dataframe thead th {\n",
              "        text-align: right;\n",
              "    }\n",
              "</style>\n",
              "<table border=\"1\" class=\"dataframe\">\n",
              "  <thead>\n",
              "    <tr style=\"text-align: right;\">\n",
              "      <th></th>\n",
              "    </tr>\n",
              "  </thead>\n",
              "  <tbody>\n",
              "  </tbody>\n",
              "</table>\n",
              "</div>"
            ],
            "text/plain": [
              "Empty DataFrame\n",
              "Columns: []\n",
              "Index: []"
            ]
          },
          "metadata": {
            "tags": []
          }
        }
      ]
    },
    {
      "cell_type": "code",
      "metadata": {
        "id": "DUPQW1yU95Tv",
        "outputId": "37925225-9a90-4a28-cf8e-0c466215be38",
        "colab": {
          "base_uri": "https://localhost:8080/",
          "height": 68
        }
      },
      "source": [
        "ap"
      ],
      "execution_count": 57,
      "outputs": [
        {
          "output_type": "execute_result",
          "data": {
            "text/plain": [
              "AffinityPropagation(affinity='euclidean', convergence_iter=15, copy=True,\n",
              "                    damping=0.5, max_iter=200, preference=None,\n",
              "                    random_state='warn', verbose=False)"
            ]
          },
          "metadata": {
            "tags": []
          },
          "execution_count": 57
        }
      ]
    },
    {
      "cell_type": "code",
      "metadata": {
        "id": "FofpF7ze96S2",
        "outputId": "c2abcaf4-3600-420a-a31c-1539923e49d0",
        "colab": {
          "base_uri": "https://localhost:8080/",
          "height": 617
        }
      },
      "source": [
        "plot_model(ap)"
      ],
      "execution_count": 58,
      "outputs": [
        {
          "output_type": "display_data",
          "data": {
            "text/html": [
              "        <script type=\"text/javascript\">\n",
              "        window.PlotlyConfig = {MathJaxConfig: 'local'};\n",
              "        if (window.MathJax) {MathJax.Hub.Config({SVG: {font: \"STIX-Web\"}});}\n",
              "        if (typeof require !== 'undefined') {\n",
              "        require.undef(\"plotly\");\n",
              "        requirejs.config({\n",
              "            paths: {\n",
              "                'plotly': ['https://cdn.plot.ly/plotly-latest.min']\n",
              "            }\n",
              "        });\n",
              "        require(['plotly'], function(Plotly) {\n",
              "            window._Plotly = Plotly;\n",
              "        });\n",
              "        }\n",
              "        </script>\n",
              "        "
            ]
          },
          "metadata": {
            "tags": []
          }
        },
        {
          "output_type": "display_data",
          "data": {
            "text/html": [
              "<div>\n",
              "        \n",
              "        \n",
              "            <div id=\"6224da55-7a55-41b2-a105-39563a9b9a7d\" class=\"plotly-graph-div\" style=\"height:600px; width:100%;\"></div>\n",
              "            <script type=\"text/javascript\">\n",
              "                require([\"plotly\"], function(Plotly) {\n",
              "                    window.PLOTLYENV=window.PLOTLYENV || {};\n",
              "                    \n",
              "                if (document.getElementById(\"6224da55-7a55-41b2-a105-39563a9b9a7d\")) {\n",
              "                    Plotly.newPlot(\n",
              "                        '6224da55-7a55-41b2-a105-39563a9b9a7d',\n",
              "                        [{\"customdata\": [[58], [84], [92], [20], [90], [34], [24], [17], [93], [89], [42], [40], [57], [59], [29], [59], [33], [87], [36], [86], [91], [24], [88], [26], [87], [33], [91], [59], [59], [61], [67], [82], [84], [91], [91], [88], [55], [33], [34], [84], [61], [29], [91], [58], [83], [62], [83], [28], [83], [56], [86], [21], [35], [63], [77], [34], [91], [36], [28], [94], [59], [87], [33], [59], [88], [59], [59], [88], [90], [59], [43], [84], [91], [61], [88], [37], [57], [26], [37], [94], [57], [86], [55], [63], [83], [64], [61], [31], [36], [82], [91], [37], [33], [90], [31], [88], [85], [85], [35], [37], [88], [61], [25], [30], [56], [88], [30], [61], [90], [34], [85], [30], [56], [33], [31], [58], [22], [87], [84], [83], [29], [91], [90], [87], [39], [38], [89], [58], [63], [32], [61], [18], [92], [86], [28], [56], [33], [28], [94], [28], [35], [17], [93], [31], [31], [59], [27], [61], [85], [87], [34], [36], [24], [22], [31], [62], [60], [62], [90], [93], [28], [25], [30], [91], [22], [66], [87], [92], [61], [58], [84], [34], [97], [26], [91], [90], [84], [84], [32], [86], [65], [59], [65], [33], [33], [90], [92], [17], [92], [63], [44], [25], [34], [89], [58], [67], [56], [33], [87], [57], [37], [20], [31], [68], [67], [37], [92], [85], [60], [86], [79], [60], [86], [94], [87], [59], [35], [59], [89], [37], [31], [55], [88], [58], [29], [59], [90], [65], [37], [64], [60], [30], [89], [35], [86], [58], [86], [57], [36], [87], [39], [82], [51], [79], [38], [29], [26], [88], [36], [21], [61], [91], [57], [28], [58], [63], [56], [58], [34], [35], [88], [87], [64], [84], [59], [29], [58], [59], [33], [57], [30], [91], [83], [31], [58], [55], [23], [28], [91], [62], [64], [60], [24], [94], [58], [84], [88], [28], [84], [22], [30], [63], [35], [31], [35], [66], [33], [90], [61], [57], [32], [89], [88], [34], [23], [31], [24], [27], [37], [66], [62], [36], [25], [38], [88], [83], [83], [55], [17], [30], [89], [91], [53], [84], [30], [88], [82], [87], [55], [92], [61], [31], [30], [36], [85], [84], [83], [87], [54], [29], [87], [59], [62], [59], [90], [61], [59], [59], [90], [87], [83], [25], [91], [53], [91], [27], [36], [84], [55], [31], [25], [83], [83], [61], [57], [20], [87], [60], [31], [39], [61], [84], [61], [33], [56], [88], [18], [35], [82], [64], [23], [29], [87], [60], [85], [86], [89], [95], [56], [24], [88], [60], [25], [55], [29], [58], [29], [87], [84], [89], [32], [28], [82], [53], [61], [59], [93], [31], [89], [58], [56], [29], [24], [84], [35], [68], [90], [59], [64], [66], [25], [36], [31], [57], [32], [38], [58], [67], [92], [59], [62], [85], [63], [64], [34], [23], [29], [89], [37], [58], [62], [58], [63], [94], [65], [85], [28], [59], [91], [56], [86], [62], [26], [58], [28], [56], [86], [63], [31], [60], [26], [82], [88], [24], [65], [32], [60], [34], [62], [62], [91], [85], [81], [30], [85], [32], [87], [31], [27], [29], [64], [62], [94], [88], [85], [60], [62], [92], [62], [56], [61], [89], [62], [33], [64], [85], [28], [88], [31], [66], [83], [30], [59], [29], [89]], \"hoverlabel\": {\"namelength\": 0}, \"hovertemplate\": \"Cluster=Cluster -1<br>PCA1=%{x}<br>PCA2=%{y}<br>Feature=%{customdata[0]}\", \"legendgroup\": \"Cluster=Cluster -1\", \"marker\": {\"color\": \"#636efa\", \"opacity\": 0.5, \"symbol\": \"circle\"}, \"mode\": \"markers\", \"name\": \"Cluster=Cluster -1\", \"showlegend\": true, \"textposition\": \"top center\", \"type\": \"scatter\", \"x\": [2555.7842351601093, 39513.273555432424, -53329.0889086379, 47415.38916240531, -42253.87287795821, 14006.000965365381, 53976.79000263128, 59803.04557919298, -58127.50387026998, -48762.36466827117, 31253.468530449405, 23032.68012465125, -10371.487057071714, -2220.635450610063, 40673.85964432743, 5619.12553876362, 38869.64945267167, -45504.928216643835, 32210.97976864238, -43811.47262039386, -63634.72200273951, 34815.25492053802, -40724.15688509661, 21973.307950443803, -63656.34758998009, 24613.751980326095, -39063.28667619088, -6051.798027149636, -1864.5940590614457, -9270.983246113969, -6586.375015596336, -42172.09142372812, -48329.3752198634, -47000.17170879287, -48496.847924973015, -53103.84791289728, 1547.9124395594217, 32561.02536006328, 35572.71538685354, 34834.901794659985, -6214.354917756375, 35036.71585548718, -46108.564418073074, 4968.7646458745685, -45148.06214608789, -5898.744479681146, -57495.82751822277, 41933.87634909208, -48890.16204283164, 5122.282562298915, -56854.24491468407, 48602.57111184018, 37194.902279074166, -7793.211508914154, 52844.21454083212, 44074.74432267947, 43084.43130106838, 29861.546669621428, 33379.420584689076, -56820.087553604215, 7017.407229806944, -50055.78756429354, 19295.267686809548, 2663.814142724258, -43012.76978349138, -7793.454352086525, -18832.323089995083, -48459.57885316463, -50029.04867348439, 277.31945471803556, 25938.05049675623, -53484.99044797618, -49274.44239615928, -1867.5011952055104, -57750.75774612386, 30949.636901997914, -5506.504775277303, 56651.45548374745, 32912.89206331582, -48448.18982139336, 1380.909585482257, -39916.59061152687, -1254.7961050822828, -18377.080919160882, 42157.80542870099, 1223.333284206357, -4025.5345868614945, 37228.73474520065, 24491.388898644713, -51459.51350546341, -58771.33010043614, 22105.03459107824, 30046.48908092604, 48410.009290472306, 30148.682673916068, 38847.1697677608, 42414.13984409394, -54413.158553524714, 41298.63129283503, 21900.78530003274, -49206.07297923619, -9600.00952571689, 55168.45154506187, 26298.148410246704, 3735.222300120541, -56178.67327005174, 31911.00123936631, -3222.028497117642, -53514.36608306821, 22393.417730180106, -46206.76070917285, 32797.64366935492, 375.6120252474112, 30584.12461511323, 32416.939873895528, 834.6063416853502, 58984.55027496723, -28723.99191956599, -37730.76934060817, 41580.27174463822, 15764.491431415803, -50504.823142737674, -45508.35388587763, -44821.27195537091, 23470.847033328002, 37939.717008912325, -50446.687258505575, -4588.845682887326, -4661.643199436438, 41328.252663309955, -3197.770674931706, 48551.89779119262, -53120.54070874578, -48031.60033869832, 19017.169464917482, -9823.292971418654, 40849.4805976906, 24827.97878054595, -51858.95285225972, 52465.03358665989, 34360.481807350545, 48697.32854440993, 50874.593733151836, 32345.708428700567, 32322.908553122452, -7225.6566514965525, 47518.8813185679, -7827.504392605744, -53905.33080870666, -49083.989044483445, 26507.042872359896, 28639.385002450475, 45280.29645748762, 33345.15627123116, 25363.919226720394, -1424.2968527852502, -11770.096221904687, -7431.169946592945, -40392.52353813573, -55837.89621255903, 25474.40276379726, 53422.55248570122, 22224.55614343527, -44891.72694017812, 57857.28905692229, 1855.047986918685, -45889.161245283925, -39730.754923731954, -967.1345292294822, -4883.720561797809, -39255.47386551344, 23196.21330643821, -48338.7046626193, 47842.88367906649, -47591.22511121997, -52877.38164603334, -45243.33599570978, -51590.97205811299, 32572.750272366167, -52219.78891026322, -4114.665812502659, -5787.584457334286, -4794.730185972455, 31361.085267799124, 31045.22025567876, -46621.67518992084, -56895.336026094614, 61085.161815426865, -40276.44813108953, 7034.566991846874, 38938.11813871433, 45728.40114434408, 27456.913266673087, -47490.05337363704, -6075.723945911872, 3574.8676282851334, -1755.3663563989912, 16918.67620110011, -45592.66271459643, 4615.604589783889, 35023.216270800265, 54230.31142047657, 29240.50974864808, -6270.130057704631, 5679.93503225556, 32853.06228369524, -42194.79873495239, -47211.309218979375, -9176.939917160442, -39708.64698966345, -37510.58801132115, -5149.414552966311, -46897.28720484182, -36822.882729901045, 41859.15436997561, 15177.319714667678, 30155.334159636957, -1709.0067116984342, -41047.37636685028, 32289.54020716663, 29210.556946439672, -10419.650727093273, -44316.390976136485, 2868.6753358918077, 30268.70548126327, -7981.746810683434, -51240.794674902056, -811.2733012583, 31202.412682476057, -12402.614006035727, -805.5182840466941, 20486.14069594544, -53680.72058527787, 32691.869561685704, 48577.24594456369, 3333.037008198892, -60035.35573518629, -3147.971690102401, 34060.87750047382, -59885.18345080085, 24819.36094949773, -51335.696362198025, -3127.746475407189, -43219.57063079795, 28960.63496494675, 36813.76713420393, 50397.083897731325, 47964.552261386925, 33203.84256888801, 54542.56026091126, 3607.6218475354453, -55116.83601816834, -1148.5927138363172, 53924.59703955874, -4972.922141129967, 10499.407295945579, 11129.424149229602, -4333.353171495316, 28627.259856400276, 28912.895136199924, -42334.04767150631, -49618.56425158388, 13091.37415351668, 38543.625122928686, -860.435447795377, 47210.6112841296, 1797.8692846207523, -2601.869628345946, 22258.60866856988, 4241.775895153042, 31614.44256541907, -38870.67264138031, -41183.65207165709, 35187.910534684626, -907.6690876091192, -4197.995995572505, 51395.22435599948, 48029.23598296088, -49855.360239061134, -5414.451723823093, -14757.6268545056, 4848.442764387977, 61617.256021857196, -47366.6493930971, -5327.512619806884, -33685.82303783498, -49640.51633393588, 22236.169474372255, -46294.69652581506, 45302.57090416742, 33217.92661094808, -2329.616759752765, 26003.522431925594, 28681.549887585734, 26578.15319626617, -10238.837928743027, 23896.368807904066, -42382.698832036185, -6112.701966838933, 1381.2925438038922, 34753.14848573078, -51006.62596717176, -46888.405898773744, 23022.218263126626, 45049.71303774846, 40419.57669510412, 55795.997914963926, 31016.952770667845, 34830.86603735357, -2630.794135208176, -1710.0091006297753, 26071.98118135923, 55783.42885801488, 39399.40138181147, -41654.285370916696, -45053.50115134014, -42546.309287033815, 3442.067865401044, 59798.17482849969, 47549.76254622706, 43861.74709102551, -52957.616291780934, 1535.3200349238566, 46993.641087908385, 25376.693266073136, 44952.90203538894, -42152.50281937874, -44207.369196690015, -3652.05162721952, 47182.0685815558, -3354.4093954920463, 32307.936729140918, 24294.808478346313, 23967.006087975606, 35579.20581580632, -48086.47161506779, -41229.085326467895, -33223.78792758687, 1270.5926186365073, 56449.678138281386, -57945.29400939375, -879.6961231840188, -611.8920766835428, 6644.597612798227, -38257.01252267867, 1691.1469990055025, -9514.742122293763, -5495.930030665684, -42485.19893050835, -52350.13688160764, -47072.83270827877, 25765.79004232834, -48867.33422412471, -13124.391604038405, -51304.42079121017, 46271.7499906681, 22350.76981632155, -57516.27318363641, -847.3002227743422, 25732.344972190538, 62912.45709780565, -52508.30353343572, 43629.01273923755, -2009.7086141751686, 106.44730782999494, 53899.23405997955, -52745.27199507381, -5228.773548143094, 35758.27543553666, 24706.12835284514, -11385.807297750876, -55003.11473536291, -1006.7942808926967, 25328.069962281657, -11393.264281389036, -57888.986937986134, 55587.35173073356, 31317.298064553674, 45920.30384600759, -3536.6248996188606, 54778.91990969142, 26228.37628643617, -49952.56386424753, -9955.599000501965, -47927.75615335323, -28705.212826769795, -49610.67501015967, -48754.55322293142, -15159.901916245668, 59239.85352839811, -42594.24300193294, -7740.904879089716, 30950.10183968236, 871.0561448640409, 23392.942046850563, 8122.0803804155385, 27412.691405421203, -51191.18311026792, -48469.75822555574, -55368.98427568007, 30836.978307627418, 48281.96476402188, -43231.47790879876, -284.93461613175396, -4335.121223668239, -3902.6507601274066, -55300.43835611645, 26983.04636427817, -56491.7261616014, 5073.487356522341, -7927.279393999562, 66750.62108457652, 59196.5930863391, -48254.00622992487, 30806.77634195276, 2456.1149429108864, 42045.7957025714, -5713.304475031717, 3594.042421690831, -3578.6411667637276, 55809.60825993978, 20592.346613007747, 39135.37622313003, -9604.976101231394, 26023.566351406134, 18943.372817813008, 2392.951400013226, -15876.01419493386, -39882.023331383, 384.48865377878224, -12401.012614422625, -46522.919419751146, -182.87509706289566, -10817.514881421728, 27758.38757580819, 63317.06653244289, 43600.21618030975, -42432.645099662244, 31960.754514207238, -4856.16027761908, -8175.944783841649, 3385.8220491313173, -5414.849621380291, -54957.4909891723, -9153.992100917834, -47271.41327624209, 36260.399857073855, -7423.928769536229, -45489.120024218595, -6529.597912750257, 52679.13742245059, -4176.722631704308, 52086.38065892719, 499.4966180961344, 46000.80248469953, 9121.208329826171, 39941.23737509609, 5567.478117111804, 31330.34398452476, -4595.725467462923, 51532.470058404484, 50433.851384533344, -47339.947334108234, 52263.49410874445, -9447.566957019653, 26343.678673902443, -3881.279223544827, 31502.360342968197, -12594.175242128525, -11570.013629472287, -46752.171891149046, -41090.43271162363, -41272.89533986178, 30614.165778553543, -44945.69901444297, 19785.99439327465, -57176.867806106005, 47836.448391826816, 49923.23240258629, 35711.07999432943, 11039.026942031705, -5806.077052611816, -47975.62989430367, -47129.844163420596, -49427.52413702609, -10072.875118803531, 3175.7301008876793, -42805.17469366226, 4864.683651412995, -6874.447300583779, -5628.983771409204, -44680.89350931921, -6945.490220855897, 36008.72535912228, 1198.2155272857233, -40907.25147798805, 23858.5982400234, -58306.89374121129, 23748.67781545403, 7325.256189492692, -47148.04950665257, 32149.92129268286, -7249.028129796927, 26312.372968927506, -45316.58140609554], \"xaxis\": \"x\", \"y\": [5164.690387393561, -4805.682520520936, -3704.11520306688, 4709.388807631826, -2813.4088657561006, -1775.6050399833491, 5488.389984582105, 8450.30756249261, -3329.424155750386, -1902.3037525718094, -4792.820172444659, -5461.17904452095, 6211.274488459198, 4177.140129281847, -5771.827716588525, 4314.803908984968, -4117.836047019009, -1656.4250558163026, -5806.362366658894, -3844.0506429942798, -958.536564511075, -5108.281670571709, -3403.3549980948756, -5227.972306159944, -672.1303645870975, -3288.4642893518308, -2178.9512608782647, 6221.683453940018, 5267.352553209776, 5996.549152653392, 4795.659622307598, -3482.950924420311, -2106.9565485318544, -3258.592731249426, -1255.023121717518, -1838.6646455566574, 3973.9069974865124, -5658.529147335393, -4807.665202226773, -5079.540930731744, 8154.200533863805, -6415.699536226243, -4704.900718140075, 3943.117073633912, -918.4435413744552, 5205.840154213877, -874.5938320396211, 4717.997205237607, -3117.0435724351205, 3424.0736039052886, -1039.886967020447, 6249.5373609300805, -4030.486076235748, 6334.243251982047, -5677.667475551908, -6307.669140625973, -4660.8556224445065, -4210.4917427973205, -4139.053044046936, -2626.4947601230388, 5588.800602998203, -458.732937973467, -3266.65010027991, 3399.1203547303226, -2388.3975155671837, 5788.853893383746, 6823.253328040565, -623.024823397233, -2907.798180135489, 5152.077722121314, -4054.252841897082, -2964.87116153894, -1819.141113343564, 2685.6626854367955, -1546.7860227984627, -4397.197322284788, 6298.430178867733, 4271.292185091134, -4588.664684244308, -424.4944516024691, 5567.112673818732, -5860.406970913426, 6380.91549429279, 5086.374324713102, -5954.454601851142, 5666.3679547527, 5644.552199614268, -4575.537648425248, -3378.544090547866, -1443.6312210611654, -1946.4256348815304, -4346.187741550605, -2733.109485171261, -5693.6654411574455, -3727.6412226852412, -8209.63930809387, -5432.281819509642, -1055.9968931753665, -6422.065006311347, -5234.914435436241, 646.5438723752053, 4923.281603355223, 4016.981622201614, -5023.0387551922695, 4370.467828822717, -1450.73186888666, -2672.9112969661496, 4129.1811894163575, -3511.650542757556, -5150.746928288208, -3972.437291114194, -5654.546848389316, 5049.606296947775, -5198.651743783718, -3316.873784519847, 5141.1013674325895, 3350.711617933646, -1283.249341684218, -3447.5228656993495, -5615.560772408637, -2149.1522120766203, -2541.1040744024194, -1716.0957515179925, -809.2478504066116, -4720.248925408384, -4683.440281859746, -1789.8310613735025, 4468.268102563842, 4875.412034392041, -4823.645899335595, 5127.949261280455, 4668.214697412172, -2373.906852113613, -2520.879670925896, -4587.056600403992, 6862.247572080606, -5591.430862352504, -5088.608312301604, -1998.3145148841236, 3371.5330650130973, -5038.816440742173, 5282.497809754306, -5178.05281344007, -2201.720436215352, -3681.2903856817993, 4564.6176218553155, 4941.999362973269, 5701.6975750235115, 776.7213551828819, -2706.954245859539, -5484.674656121093, -3130.9505393461, 4437.356566167739, -6080.299826048197, -6518.877743618619, 7267.328542397003, 5001.42078319685, 6342.036901878026, -1918.0706539765338, -2913.151326193389, -4541.161711915862, 3894.235479127749, -5737.014216399167, -1059.5099705589148, 5717.50113716764, 5468.743274286694, -3656.8600405231164, -3215.311753103617, 4638.724240674151, 4688.370746949257, -2456.062469507203, -5613.714946473865, -296.94791022013436, 4758.188729714914, -2876.01682185416, -1034.0462861180665, -2386.744670387967, -1709.6809922654006, -6711.005814772022, -361.82287722905795, 3078.8964384945916, 5711.6283932669685, 5174.470545977293, -4837.58960460775, -4354.880673536971, -1061.392829700626, -219.83567344031897, 4243.721728508765, -3159.4030652887363, 3374.2871342934277, -4443.169815276384, 3658.306501252221, -4868.312164441824, -1025.6556377131562, 3500.5964543132536, 6638.189488143044, 4273.205301847635, -2877.194607876874, -1858.7415428672723, 5713.442041909503, -4416.577273256114, 3238.4287703236846, -5240.709879901136, 5401.821696967168, 4711.285967238691, -5910.595724540099, -2831.2449726497744, -497.0287321468135, 7146.6628582527765, -2812.6408322745237, -2385.9306735999694, 5556.6661391338175, -1500.5997535503443, -3004.1359250357286, -4543.326267067195, 4253.670268811264, -6491.845916302059, 3684.6952959403575, 163.00860194240747, -3634.3413606407366, -6286.356908964099, 5982.858221439131, -1681.107809398614, 5223.6423303903575, -4917.675594824383, 3467.5659749114184, -337.5831102994568, 4771.515153180693, -4006.8807824041205, 4277.420432790429, 4348.095679784135, -4804.203700356796, -1523.153182779474, -6066.457122934571, -6305.307759672729, 4012.2154933423153, -2067.7852022028546, 5506.996622913861, -5075.678351149003, 968.1821841701766, -6443.116567478196, -2253.3249547903106, 5318.281993622224, -982.6374045457411, -5439.902381792005, -4615.462129870625, 2890.5509685647035, -4397.186114919676, -6552.893169384938, 4193.882999372306, 4852.444518767338, -3386.631387427833, 6154.518606181514, 5765.842845736465, 5053.974394482306, 4092.5868105824957, 2451.3956456354927, 6791.12172798713, -3324.8164217780118, -5224.55443567084, -946.4427010468257, -1200.4987085746989, 3878.0740056043533, -7198.063753004433, 1366.21750619139, 6674.234677495915, 3616.906622264862, 5720.063910631847, -5195.9254091885505, 4854.373611538006, -3948.4131537015032, -4966.632983631626, -2299.177576458249, -4164.858385743969, 4662.571801362161, 4646.423038232094, 5657.241494980816, 5422.323757682562, -2551.640945867298, 6401.496850378556, 5008.012103778606, 6716.389270082326, 6726.313750520611, -2226.523883594681, 5507.674538617933, -2359.981060852435, -2403.4526565005244, -4400.042331000767, -3445.140762666873, 3778.181421309607, -4387.404636496322, 6502.20788277559, -3786.1336424715264, -4194.112454577065, -4542.181472406765, 7423.315368546433, -4653.572550884037, -1026.2178281219399, 7150.265686204209, 5207.221097509009, -4008.5890127538964, 1229.6342021037997, -1747.284515874373, -4439.122859420629, 4590.8725834561055, -6642.233640263941, 4252.897540706995, -4865.004407317276, -5377.229021116212, 5512.809888472099, 5692.091704359399, -4687.764619495445, 4732.087714707707, -5202.090344164464, -1284.2763352325994, -3267.8530880659637, -2323.955025066739, 3293.9257098257854, 4315.751792559065, 3437.8964823947795, -6877.035883382062, -512.1681616652345, 6617.143404468854, -4647.129088588649, -3922.3292073945386, -4985.5148012203945, -3595.426499455151, -1788.595019255137, 4298.147934215797, -4557.7166017918735, 4039.0497082186075, -3401.0815217687746, -3156.1748677381484, -5918.696393593373, -6195.256515402724, -3267.664533478741, -559.8887343311543, -4327.599800404023, 4918.861099714734, 5101.398697367521, -1690.2235244245378, 4574.029852480232, 2642.8564628733106, 6074.108821940041, -3209.7056998551193, 4305.6055133701375, 5484.062210130749, 5033.927181148622, -1573.1293339464667, -1271.83669680018, -3652.143022077501, -4647.515091833696, -3330.0950893142603, 5122.298575466133, -1341.6421504993352, 4207.414796612182, -5405.192380070507, -2662.237917413054, 5435.293808150464, -4846.280009746114, 5261.355213266389, -2003.3795586148913, -6254.840941209123, 4571.311601888514, 5019.5450718658585, 3176.7468854090903, -3270.2500120301224, 4906.8213691170085, -4122.472097486007, -6304.28687157794, 5239.83448625213, -1806.3716349634733, 6827.736752280869, -4507.818852759068, 4760.72668383612, -2297.4104284560117, 3427.1351952588097, -6141.76326355349, -4953.921129423358, 5070.413098436325, 4629.791365281096, -4266.484164687798, -1016.362817605334, 4085.3122504461217, 1139.0677249894095, -2125.5165732968303, -2494.3460158547664, -3476.7575329414035, 5573.2435927687275, 4745.144589124807, -4573.135949676127, 5133.639471687388, -6274.399407676454, 5689.00045309191, -5117.926369906288, 4731.012058760928, -5970.659605817776, -2999.048136853003, -975.0110199269352, -990.6075970316516, -4248.410998779926, 8499.966944599804, -2464.3665067293446, 4064.0083360808094, 2658.2975188904124, 5499.3393327217655, -2379.4453929525325, -2897.4181107781164, -1529.9495201383804, 5244.436809348917, 5673.527728610803, 2693.008186621751, 3903.9749268153696, -3586.3929123393586, -5560.204679599998, 5539.978254276125, -3106.103475868356, 6098.407171499207, 5244.223767536203, 4687.331305792244, 3879.1497332626573, -4611.5876483615675, -4339.707016425751, 5517.456998799792, -7172.334785619929, -6099.926511675155, 5992.684094109706, 7337.462584330767, -3145.8388116696283, 6845.141814371279, 6731.622371228141, -2395.1506203279077, 4411.324353776285, 6677.4821015909365, -3524.60188204149, 4946.1775101205085, -5657.478831520003, -2804.317598781814, -7950.137679904534, 6861.841710581505, 5599.274828311292, 4513.159427781256, 4509.37894804773, -1273.0340909671522, 6237.455006749797, -1422.2632521531436, -3890.3447962612513, 5595.425208078428, -857.2365574199097, 5174.060016070749, -4749.057025715362, 5121.94817799102, 3388.427034681374, 4450.5724650858, 3884.4528513190835, 4076.188863858498, -5237.495032301, 6399.679457928574, -5635.16354461918, 4575.315245883314, 6006.733833662531, -6854.206134077954, -2756.2104567652127, 5916.358054129829, 6026.370137728771, -3863.006874934303, 3532.7508016456363, -5081.205331963817, 5058.593507665865, 6393.584927460234, -4260.66793677742, -2507.4680378488556, -2039.051945091475, -4762.434912619333, -2663.4363034143566, -4699.391527469759, -500.38222602903386, 6059.9833233745485, 6048.724079227706, -4543.481105344729, 4384.68728953157, 5686.132349951808, -2697.4806496368687, -2166.945526513022, -3282.4967836895144, 7033.832306225472, 4727.0798130553485, -2383.923586492432, 4834.953991865886, 3266.470183264379, 3413.4609900340324, -3320.2381091067377, 5240.283697626604, -6111.705171395255, 6031.597780098118, -2247.7230980697577, -4857.997302514549, -1498.3070625903988, -4085.3878885407753, 5245.750156657963, -948.1700320034123, -5508.945169399089, 5030.1015099048445, -4286.405360287328, 72.34189620852732], \"yaxis\": \"y\"}],\n",
              "                        {\"height\": 600, \"legend\": {\"tracegroupgap\": 0}, \"margin\": {\"t\": 60}, \"plot_bgcolor\": \"rgb(240,240,240)\", \"template\": {\"data\": {\"bar\": [{\"error_x\": {\"color\": \"#2a3f5f\"}, \"error_y\": {\"color\": \"#2a3f5f\"}, \"marker\": {\"line\": {\"color\": \"#E5ECF6\", \"width\": 0.5}}, \"type\": \"bar\"}], \"barpolar\": [{\"marker\": {\"line\": {\"color\": \"#E5ECF6\", \"width\": 0.5}}, \"type\": \"barpolar\"}], \"carpet\": [{\"aaxis\": {\"endlinecolor\": \"#2a3f5f\", \"gridcolor\": \"white\", \"linecolor\": \"white\", \"minorgridcolor\": \"white\", \"startlinecolor\": \"#2a3f5f\"}, \"baxis\": {\"endlinecolor\": \"#2a3f5f\", \"gridcolor\": \"white\", \"linecolor\": \"white\", \"minorgridcolor\": \"white\", \"startlinecolor\": \"#2a3f5f\"}, \"type\": \"carpet\"}], \"choropleth\": [{\"colorbar\": {\"outlinewidth\": 0, \"ticks\": \"\"}, \"type\": \"choropleth\"}], \"contour\": [{\"colorbar\": {\"outlinewidth\": 0, \"ticks\": \"\"}, \"colorscale\": [[0.0, \"#0d0887\"], [0.1111111111111111, \"#46039f\"], [0.2222222222222222, \"#7201a8\"], [0.3333333333333333, \"#9c179e\"], [0.4444444444444444, \"#bd3786\"], [0.5555555555555556, \"#d8576b\"], [0.6666666666666666, \"#ed7953\"], [0.7777777777777778, \"#fb9f3a\"], [0.8888888888888888, \"#fdca26\"], [1.0, \"#f0f921\"]], \"type\": \"contour\"}], \"contourcarpet\": [{\"colorbar\": {\"outlinewidth\": 0, \"ticks\": \"\"}, \"type\": \"contourcarpet\"}], \"heatmap\": [{\"colorbar\": {\"outlinewidth\": 0, \"ticks\": \"\"}, \"colorscale\": [[0.0, \"#0d0887\"], [0.1111111111111111, \"#46039f\"], [0.2222222222222222, \"#7201a8\"], [0.3333333333333333, \"#9c179e\"], [0.4444444444444444, \"#bd3786\"], [0.5555555555555556, \"#d8576b\"], [0.6666666666666666, \"#ed7953\"], [0.7777777777777778, \"#fb9f3a\"], [0.8888888888888888, \"#fdca26\"], [1.0, \"#f0f921\"]], \"type\": \"heatmap\"}], \"heatmapgl\": [{\"colorbar\": {\"outlinewidth\": 0, \"ticks\": \"\"}, \"colorscale\": [[0.0, \"#0d0887\"], [0.1111111111111111, \"#46039f\"], [0.2222222222222222, \"#7201a8\"], [0.3333333333333333, \"#9c179e\"], [0.4444444444444444, \"#bd3786\"], [0.5555555555555556, \"#d8576b\"], [0.6666666666666666, \"#ed7953\"], [0.7777777777777778, \"#fb9f3a\"], [0.8888888888888888, \"#fdca26\"], [1.0, \"#f0f921\"]], \"type\": \"heatmapgl\"}], \"histogram\": [{\"marker\": {\"colorbar\": {\"outlinewidth\": 0, \"ticks\": \"\"}}, \"type\": \"histogram\"}], \"histogram2d\": [{\"colorbar\": {\"outlinewidth\": 0, \"ticks\": \"\"}, \"colorscale\": [[0.0, \"#0d0887\"], [0.1111111111111111, \"#46039f\"], [0.2222222222222222, \"#7201a8\"], [0.3333333333333333, \"#9c179e\"], [0.4444444444444444, \"#bd3786\"], [0.5555555555555556, \"#d8576b\"], [0.6666666666666666, \"#ed7953\"], [0.7777777777777778, \"#fb9f3a\"], [0.8888888888888888, \"#fdca26\"], [1.0, \"#f0f921\"]], \"type\": \"histogram2d\"}], \"histogram2dcontour\": [{\"colorbar\": {\"outlinewidth\": 0, \"ticks\": \"\"}, \"colorscale\": [[0.0, \"#0d0887\"], [0.1111111111111111, \"#46039f\"], [0.2222222222222222, \"#7201a8\"], [0.3333333333333333, \"#9c179e\"], [0.4444444444444444, \"#bd3786\"], [0.5555555555555556, \"#d8576b\"], [0.6666666666666666, \"#ed7953\"], [0.7777777777777778, \"#fb9f3a\"], [0.8888888888888888, \"#fdca26\"], [1.0, \"#f0f921\"]], \"type\": \"histogram2dcontour\"}], \"mesh3d\": [{\"colorbar\": {\"outlinewidth\": 0, \"ticks\": \"\"}, \"type\": \"mesh3d\"}], \"parcoords\": [{\"line\": {\"colorbar\": {\"outlinewidth\": 0, \"ticks\": \"\"}}, \"type\": \"parcoords\"}], \"pie\": [{\"automargin\": true, \"type\": \"pie\"}], \"scatter\": [{\"marker\": {\"colorbar\": {\"outlinewidth\": 0, \"ticks\": \"\"}}, \"type\": \"scatter\"}], \"scatter3d\": [{\"line\": {\"colorbar\": {\"outlinewidth\": 0, \"ticks\": \"\"}}, \"marker\": {\"colorbar\": {\"outlinewidth\": 0, \"ticks\": \"\"}}, \"type\": \"scatter3d\"}], \"scattercarpet\": [{\"marker\": {\"colorbar\": {\"outlinewidth\": 0, \"ticks\": \"\"}}, \"type\": \"scattercarpet\"}], \"scattergeo\": [{\"marker\": {\"colorbar\": {\"outlinewidth\": 0, \"ticks\": \"\"}}, \"type\": \"scattergeo\"}], \"scattergl\": [{\"marker\": {\"colorbar\": {\"outlinewidth\": 0, \"ticks\": \"\"}}, \"type\": \"scattergl\"}], \"scattermapbox\": [{\"marker\": {\"colorbar\": {\"outlinewidth\": 0, \"ticks\": \"\"}}, \"type\": \"scattermapbox\"}], \"scatterpolar\": [{\"marker\": {\"colorbar\": {\"outlinewidth\": 0, \"ticks\": \"\"}}, \"type\": \"scatterpolar\"}], \"scatterpolargl\": [{\"marker\": {\"colorbar\": {\"outlinewidth\": 0, \"ticks\": \"\"}}, \"type\": \"scatterpolargl\"}], \"scatterternary\": [{\"marker\": {\"colorbar\": {\"outlinewidth\": 0, \"ticks\": \"\"}}, \"type\": \"scatterternary\"}], \"surface\": [{\"colorbar\": {\"outlinewidth\": 0, \"ticks\": \"\"}, \"colorscale\": [[0.0, \"#0d0887\"], [0.1111111111111111, \"#46039f\"], [0.2222222222222222, \"#7201a8\"], [0.3333333333333333, \"#9c179e\"], [0.4444444444444444, \"#bd3786\"], [0.5555555555555556, \"#d8576b\"], [0.6666666666666666, \"#ed7953\"], [0.7777777777777778, \"#fb9f3a\"], [0.8888888888888888, \"#fdca26\"], [1.0, \"#f0f921\"]], \"type\": \"surface\"}], \"table\": [{\"cells\": {\"fill\": {\"color\": \"#EBF0F8\"}, \"line\": {\"color\": \"white\"}}, \"header\": {\"fill\": {\"color\": \"#C8D4E3\"}, \"line\": {\"color\": \"white\"}}, \"type\": \"table\"}]}, \"layout\": {\"annotationdefaults\": {\"arrowcolor\": \"#2a3f5f\", \"arrowhead\": 0, \"arrowwidth\": 1}, \"coloraxis\": {\"colorbar\": {\"outlinewidth\": 0, \"ticks\": \"\"}}, \"colorscale\": {\"diverging\": [[0, \"#8e0152\"], [0.1, \"#c51b7d\"], [0.2, \"#de77ae\"], [0.3, \"#f1b6da\"], [0.4, \"#fde0ef\"], [0.5, \"#f7f7f7\"], [0.6, \"#e6f5d0\"], [0.7, \"#b8e186\"], [0.8, \"#7fbc41\"], [0.9, \"#4d9221\"], [1, \"#276419\"]], \"sequential\": [[0.0, \"#0d0887\"], [0.1111111111111111, \"#46039f\"], [0.2222222222222222, \"#7201a8\"], [0.3333333333333333, \"#9c179e\"], [0.4444444444444444, \"#bd3786\"], [0.5555555555555556, \"#d8576b\"], [0.6666666666666666, \"#ed7953\"], [0.7777777777777778, \"#fb9f3a\"], [0.8888888888888888, \"#fdca26\"], [1.0, \"#f0f921\"]], \"sequentialminus\": [[0.0, \"#0d0887\"], [0.1111111111111111, \"#46039f\"], [0.2222222222222222, \"#7201a8\"], [0.3333333333333333, \"#9c179e\"], [0.4444444444444444, \"#bd3786\"], [0.5555555555555556, \"#d8576b\"], [0.6666666666666666, \"#ed7953\"], [0.7777777777777778, \"#fb9f3a\"], [0.8888888888888888, \"#fdca26\"], [1.0, \"#f0f921\"]]}, \"colorway\": [\"#636efa\", \"#EF553B\", \"#00cc96\", \"#ab63fa\", \"#FFA15A\", \"#19d3f3\", \"#FF6692\", \"#B6E880\", \"#FF97FF\", \"#FECB52\"], \"font\": {\"color\": \"#2a3f5f\"}, \"geo\": {\"bgcolor\": \"white\", \"lakecolor\": \"white\", \"landcolor\": \"#E5ECF6\", \"showlakes\": true, \"showland\": true, \"subunitcolor\": \"white\"}, \"hoverlabel\": {\"align\": \"left\"}, \"hovermode\": \"closest\", \"mapbox\": {\"style\": \"light\"}, \"paper_bgcolor\": \"white\", \"plot_bgcolor\": \"#E5ECF6\", \"polar\": {\"angularaxis\": {\"gridcolor\": \"white\", \"linecolor\": \"white\", \"ticks\": \"\"}, \"bgcolor\": \"#E5ECF6\", \"radialaxis\": {\"gridcolor\": \"white\", \"linecolor\": \"white\", \"ticks\": \"\"}}, \"scene\": {\"xaxis\": {\"backgroundcolor\": \"#E5ECF6\", \"gridcolor\": \"white\", \"gridwidth\": 2, \"linecolor\": \"white\", \"showbackground\": true, \"ticks\": \"\", \"zerolinecolor\": \"white\"}, \"yaxis\": {\"backgroundcolor\": \"#E5ECF6\", \"gridcolor\": \"white\", \"gridwidth\": 2, \"linecolor\": \"white\", \"showbackground\": true, \"ticks\": \"\", \"zerolinecolor\": \"white\"}, \"zaxis\": {\"backgroundcolor\": \"#E5ECF6\", \"gridcolor\": \"white\", \"gridwidth\": 2, \"linecolor\": \"white\", \"showbackground\": true, \"ticks\": \"\", \"zerolinecolor\": \"white\"}}, \"shapedefaults\": {\"line\": {\"color\": \"#2a3f5f\"}}, \"ternary\": {\"aaxis\": {\"gridcolor\": \"white\", \"linecolor\": \"white\", \"ticks\": \"\"}, \"baxis\": {\"gridcolor\": \"white\", \"linecolor\": \"white\", \"ticks\": \"\"}, \"bgcolor\": \"#E5ECF6\", \"caxis\": {\"gridcolor\": \"white\", \"linecolor\": \"white\", \"ticks\": \"\"}}, \"title\": {\"x\": 0.05}, \"xaxis\": {\"automargin\": true, \"gridcolor\": \"white\", \"linecolor\": \"white\", \"ticks\": \"\", \"title\": {\"standoff\": 15}, \"zerolinecolor\": \"white\", \"zerolinewidth\": 2}, \"yaxis\": {\"automargin\": true, \"gridcolor\": \"white\", \"linecolor\": \"white\", \"ticks\": \"\", \"title\": {\"standoff\": 15}, \"zerolinecolor\": \"white\", \"zerolinewidth\": 2}}}, \"title\": {\"text\": \"2D Cluster PCA Plot\"}, \"xaxis\": {\"anchor\": \"y\", \"domain\": [0.0, 1.0], \"title\": {\"text\": \"PCA1\"}}, \"yaxis\": {\"anchor\": \"x\", \"domain\": [0.0, 1.0], \"title\": {\"text\": \"PCA2\"}}},\n",
              "                        {\"responsive\": true}\n",
              "                    ).then(function(){\n",
              "                            \n",
              "var gd = document.getElementById('6224da55-7a55-41b2-a105-39563a9b9a7d');\n",
              "var x = new MutationObserver(function (mutations, observer) {{\n",
              "        var display = window.getComputedStyle(gd).display;\n",
              "        if (!display || display === 'none') {{\n",
              "            console.log([gd, 'removed!']);\n",
              "            Plotly.purge(gd);\n",
              "            observer.disconnect();\n",
              "        }}\n",
              "}});\n",
              "\n",
              "// Listen for the removal of the full notebook cells\n",
              "var notebookContainer = gd.closest('#notebook-container');\n",
              "if (notebookContainer) {{\n",
              "    x.observe(notebookContainer, {childList: true});\n",
              "}}\n",
              "\n",
              "// Listen for the clearing of the current output cell\n",
              "var outputEl = gd.closest('.output');\n",
              "if (outputEl) {{\n",
              "    x.observe(outputEl, {childList: true});\n",
              "}}\n",
              "\n",
              "                        })\n",
              "                };\n",
              "                });\n",
              "            </script>\n",
              "        </div>"
            ],
            "application/vnd.plotly.v1+json": {
              "data": [
                {
                  "textposition": "top center",
                  "hovertemplate": "Cluster=Cluster -1<br>PCA1=%{x}<br>PCA2=%{y}<br>Feature=%{customdata[0]}",
                  "showlegend": true,
                  "legendgroup": "Cluster=Cluster -1",
                  "name": "Cluster=Cluster -1",
                  "yaxis": "y",
                  "customdata": [
                    [
                      58
                    ],
                    [
                      84
                    ],
                    [
                      92
                    ],
                    [
                      20
                    ],
                    [
                      90
                    ],
                    [
                      34
                    ],
                    [
                      24
                    ],
                    [
                      17
                    ],
                    [
                      93
                    ],
                    [
                      89
                    ],
                    [
                      42
                    ],
                    [
                      40
                    ],
                    [
                      57
                    ],
                    [
                      59
                    ],
                    [
                      29
                    ],
                    [
                      59
                    ],
                    [
                      33
                    ],
                    [
                      87
                    ],
                    [
                      36
                    ],
                    [
                      86
                    ],
                    [
                      91
                    ],
                    [
                      24
                    ],
                    [
                      88
                    ],
                    [
                      26
                    ],
                    [
                      87
                    ],
                    [
                      33
                    ],
                    [
                      91
                    ],
                    [
                      59
                    ],
                    [
                      59
                    ],
                    [
                      61
                    ],
                    [
                      67
                    ],
                    [
                      82
                    ],
                    [
                      84
                    ],
                    [
                      91
                    ],
                    [
                      91
                    ],
                    [
                      88
                    ],
                    [
                      55
                    ],
                    [
                      33
                    ],
                    [
                      34
                    ],
                    [
                      84
                    ],
                    [
                      61
                    ],
                    [
                      29
                    ],
                    [
                      91
                    ],
                    [
                      58
                    ],
                    [
                      83
                    ],
                    [
                      62
                    ],
                    [
                      83
                    ],
                    [
                      28
                    ],
                    [
                      83
                    ],
                    [
                      56
                    ],
                    [
                      86
                    ],
                    [
                      21
                    ],
                    [
                      35
                    ],
                    [
                      63
                    ],
                    [
                      77
                    ],
                    [
                      34
                    ],
                    [
                      91
                    ],
                    [
                      36
                    ],
                    [
                      28
                    ],
                    [
                      94
                    ],
                    [
                      59
                    ],
                    [
                      87
                    ],
                    [
                      33
                    ],
                    [
                      59
                    ],
                    [
                      88
                    ],
                    [
                      59
                    ],
                    [
                      59
                    ],
                    [
                      88
                    ],
                    [
                      90
                    ],
                    [
                      59
                    ],
                    [
                      43
                    ],
                    [
                      84
                    ],
                    [
                      91
                    ],
                    [
                      61
                    ],
                    [
                      88
                    ],
                    [
                      37
                    ],
                    [
                      57
                    ],
                    [
                      26
                    ],
                    [
                      37
                    ],
                    [
                      94
                    ],
                    [
                      57
                    ],
                    [
                      86
                    ],
                    [
                      55
                    ],
                    [
                      63
                    ],
                    [
                      83
                    ],
                    [
                      64
                    ],
                    [
                      61
                    ],
                    [
                      31
                    ],
                    [
                      36
                    ],
                    [
                      82
                    ],
                    [
                      91
                    ],
                    [
                      37
                    ],
                    [
                      33
                    ],
                    [
                      90
                    ],
                    [
                      31
                    ],
                    [
                      88
                    ],
                    [
                      85
                    ],
                    [
                      85
                    ],
                    [
                      35
                    ],
                    [
                      37
                    ],
                    [
                      88
                    ],
                    [
                      61
                    ],
                    [
                      25
                    ],
                    [
                      30
                    ],
                    [
                      56
                    ],
                    [
                      88
                    ],
                    [
                      30
                    ],
                    [
                      61
                    ],
                    [
                      90
                    ],
                    [
                      34
                    ],
                    [
                      85
                    ],
                    [
                      30
                    ],
                    [
                      56
                    ],
                    [
                      33
                    ],
                    [
                      31
                    ],
                    [
                      58
                    ],
                    [
                      22
                    ],
                    [
                      87
                    ],
                    [
                      84
                    ],
                    [
                      83
                    ],
                    [
                      29
                    ],
                    [
                      91
                    ],
                    [
                      90
                    ],
                    [
                      87
                    ],
                    [
                      39
                    ],
                    [
                      38
                    ],
                    [
                      89
                    ],
                    [
                      58
                    ],
                    [
                      63
                    ],
                    [
                      32
                    ],
                    [
                      61
                    ],
                    [
                      18
                    ],
                    [
                      92
                    ],
                    [
                      86
                    ],
                    [
                      28
                    ],
                    [
                      56
                    ],
                    [
                      33
                    ],
                    [
                      28
                    ],
                    [
                      94
                    ],
                    [
                      28
                    ],
                    [
                      35
                    ],
                    [
                      17
                    ],
                    [
                      93
                    ],
                    [
                      31
                    ],
                    [
                      31
                    ],
                    [
                      59
                    ],
                    [
                      27
                    ],
                    [
                      61
                    ],
                    [
                      85
                    ],
                    [
                      87
                    ],
                    [
                      34
                    ],
                    [
                      36
                    ],
                    [
                      24
                    ],
                    [
                      22
                    ],
                    [
                      31
                    ],
                    [
                      62
                    ],
                    [
                      60
                    ],
                    [
                      62
                    ],
                    [
                      90
                    ],
                    [
                      93
                    ],
                    [
                      28
                    ],
                    [
                      25
                    ],
                    [
                      30
                    ],
                    [
                      91
                    ],
                    [
                      22
                    ],
                    [
                      66
                    ],
                    [
                      87
                    ],
                    [
                      92
                    ],
                    [
                      61
                    ],
                    [
                      58
                    ],
                    [
                      84
                    ],
                    [
                      34
                    ],
                    [
                      97
                    ],
                    [
                      26
                    ],
                    [
                      91
                    ],
                    [
                      90
                    ],
                    [
                      84
                    ],
                    [
                      84
                    ],
                    [
                      32
                    ],
                    [
                      86
                    ],
                    [
                      65
                    ],
                    [
                      59
                    ],
                    [
                      65
                    ],
                    [
                      33
                    ],
                    [
                      33
                    ],
                    [
                      90
                    ],
                    [
                      92
                    ],
                    [
                      17
                    ],
                    [
                      92
                    ],
                    [
                      63
                    ],
                    [
                      44
                    ],
                    [
                      25
                    ],
                    [
                      34
                    ],
                    [
                      89
                    ],
                    [
                      58
                    ],
                    [
                      67
                    ],
                    [
                      56
                    ],
                    [
                      33
                    ],
                    [
                      87
                    ],
                    [
                      57
                    ],
                    [
                      37
                    ],
                    [
                      20
                    ],
                    [
                      31
                    ],
                    [
                      68
                    ],
                    [
                      67
                    ],
                    [
                      37
                    ],
                    [
                      92
                    ],
                    [
                      85
                    ],
                    [
                      60
                    ],
                    [
                      86
                    ],
                    [
                      79
                    ],
                    [
                      60
                    ],
                    [
                      86
                    ],
                    [
                      94
                    ],
                    [
                      87
                    ],
                    [
                      59
                    ],
                    [
                      35
                    ],
                    [
                      59
                    ],
                    [
                      89
                    ],
                    [
                      37
                    ],
                    [
                      31
                    ],
                    [
                      55
                    ],
                    [
                      88
                    ],
                    [
                      58
                    ],
                    [
                      29
                    ],
                    [
                      59
                    ],
                    [
                      90
                    ],
                    [
                      65
                    ],
                    [
                      37
                    ],
                    [
                      64
                    ],
                    [
                      60
                    ],
                    [
                      30
                    ],
                    [
                      89
                    ],
                    [
                      35
                    ],
                    [
                      86
                    ],
                    [
                      58
                    ],
                    [
                      86
                    ],
                    [
                      57
                    ],
                    [
                      36
                    ],
                    [
                      87
                    ],
                    [
                      39
                    ],
                    [
                      82
                    ],
                    [
                      51
                    ],
                    [
                      79
                    ],
                    [
                      38
                    ],
                    [
                      29
                    ],
                    [
                      26
                    ],
                    [
                      88
                    ],
                    [
                      36
                    ],
                    [
                      21
                    ],
                    [
                      61
                    ],
                    [
                      91
                    ],
                    [
                      57
                    ],
                    [
                      28
                    ],
                    [
                      58
                    ],
                    [
                      63
                    ],
                    [
                      56
                    ],
                    [
                      58
                    ],
                    [
                      34
                    ],
                    [
                      35
                    ],
                    [
                      88
                    ],
                    [
                      87
                    ],
                    [
                      64
                    ],
                    [
                      84
                    ],
                    [
                      59
                    ],
                    [
                      29
                    ],
                    [
                      58
                    ],
                    [
                      59
                    ],
                    [
                      33
                    ],
                    [
                      57
                    ],
                    [
                      30
                    ],
                    [
                      91
                    ],
                    [
                      83
                    ],
                    [
                      31
                    ],
                    [
                      58
                    ],
                    [
                      55
                    ],
                    [
                      23
                    ],
                    [
                      28
                    ],
                    [
                      91
                    ],
                    [
                      62
                    ],
                    [
                      64
                    ],
                    [
                      60
                    ],
                    [
                      24
                    ],
                    [
                      94
                    ],
                    [
                      58
                    ],
                    [
                      84
                    ],
                    [
                      88
                    ],
                    [
                      28
                    ],
                    [
                      84
                    ],
                    [
                      22
                    ],
                    [
                      30
                    ],
                    [
                      63
                    ],
                    [
                      35
                    ],
                    [
                      31
                    ],
                    [
                      35
                    ],
                    [
                      66
                    ],
                    [
                      33
                    ],
                    [
                      90
                    ],
                    [
                      61
                    ],
                    [
                      57
                    ],
                    [
                      32
                    ],
                    [
                      89
                    ],
                    [
                      88
                    ],
                    [
                      34
                    ],
                    [
                      23
                    ],
                    [
                      31
                    ],
                    [
                      24
                    ],
                    [
                      27
                    ],
                    [
                      37
                    ],
                    [
                      66
                    ],
                    [
                      62
                    ],
                    [
                      36
                    ],
                    [
                      25
                    ],
                    [
                      38
                    ],
                    [
                      88
                    ],
                    [
                      83
                    ],
                    [
                      83
                    ],
                    [
                      55
                    ],
                    [
                      17
                    ],
                    [
                      30
                    ],
                    [
                      89
                    ],
                    [
                      91
                    ],
                    [
                      53
                    ],
                    [
                      84
                    ],
                    [
                      30
                    ],
                    [
                      88
                    ],
                    [
                      82
                    ],
                    [
                      87
                    ],
                    [
                      55
                    ],
                    [
                      92
                    ],
                    [
                      61
                    ],
                    [
                      31
                    ],
                    [
                      30
                    ],
                    [
                      36
                    ],
                    [
                      85
                    ],
                    [
                      84
                    ],
                    [
                      83
                    ],
                    [
                      87
                    ],
                    [
                      54
                    ],
                    [
                      29
                    ],
                    [
                      87
                    ],
                    [
                      59
                    ],
                    [
                      62
                    ],
                    [
                      59
                    ],
                    [
                      90
                    ],
                    [
                      61
                    ],
                    [
                      59
                    ],
                    [
                      59
                    ],
                    [
                      90
                    ],
                    [
                      87
                    ],
                    [
                      83
                    ],
                    [
                      25
                    ],
                    [
                      91
                    ],
                    [
                      53
                    ],
                    [
                      91
                    ],
                    [
                      27
                    ],
                    [
                      36
                    ],
                    [
                      84
                    ],
                    [
                      55
                    ],
                    [
                      31
                    ],
                    [
                      25
                    ],
                    [
                      83
                    ],
                    [
                      83
                    ],
                    [
                      61
                    ],
                    [
                      57
                    ],
                    [
                      20
                    ],
                    [
                      87
                    ],
                    [
                      60
                    ],
                    [
                      31
                    ],
                    [
                      39
                    ],
                    [
                      61
                    ],
                    [
                      84
                    ],
                    [
                      61
                    ],
                    [
                      33
                    ],
                    [
                      56
                    ],
                    [
                      88
                    ],
                    [
                      18
                    ],
                    [
                      35
                    ],
                    [
                      82
                    ],
                    [
                      64
                    ],
                    [
                      23
                    ],
                    [
                      29
                    ],
                    [
                      87
                    ],
                    [
                      60
                    ],
                    [
                      85
                    ],
                    [
                      86
                    ],
                    [
                      89
                    ],
                    [
                      95
                    ],
                    [
                      56
                    ],
                    [
                      24
                    ],
                    [
                      88
                    ],
                    [
                      60
                    ],
                    [
                      25
                    ],
                    [
                      55
                    ],
                    [
                      29
                    ],
                    [
                      58
                    ],
                    [
                      29
                    ],
                    [
                      87
                    ],
                    [
                      84
                    ],
                    [
                      89
                    ],
                    [
                      32
                    ],
                    [
                      28
                    ],
                    [
                      82
                    ],
                    [
                      53
                    ],
                    [
                      61
                    ],
                    [
                      59
                    ],
                    [
                      93
                    ],
                    [
                      31
                    ],
                    [
                      89
                    ],
                    [
                      58
                    ],
                    [
                      56
                    ],
                    [
                      29
                    ],
                    [
                      24
                    ],
                    [
                      84
                    ],
                    [
                      35
                    ],
                    [
                      68
                    ],
                    [
                      90
                    ],
                    [
                      59
                    ],
                    [
                      64
                    ],
                    [
                      66
                    ],
                    [
                      25
                    ],
                    [
                      36
                    ],
                    [
                      31
                    ],
                    [
                      57
                    ],
                    [
                      32
                    ],
                    [
                      38
                    ],
                    [
                      58
                    ],
                    [
                      67
                    ],
                    [
                      92
                    ],
                    [
                      59
                    ],
                    [
                      62
                    ],
                    [
                      85
                    ],
                    [
                      63
                    ],
                    [
                      64
                    ],
                    [
                      34
                    ],
                    [
                      23
                    ],
                    [
                      29
                    ],
                    [
                      89
                    ],
                    [
                      37
                    ],
                    [
                      58
                    ],
                    [
                      62
                    ],
                    [
                      58
                    ],
                    [
                      63
                    ],
                    [
                      94
                    ],
                    [
                      65
                    ],
                    [
                      85
                    ],
                    [
                      28
                    ],
                    [
                      59
                    ],
                    [
                      91
                    ],
                    [
                      56
                    ],
                    [
                      86
                    ],
                    [
                      62
                    ],
                    [
                      26
                    ],
                    [
                      58
                    ],
                    [
                      28
                    ],
                    [
                      56
                    ],
                    [
                      86
                    ],
                    [
                      63
                    ],
                    [
                      31
                    ],
                    [
                      60
                    ],
                    [
                      26
                    ],
                    [
                      82
                    ],
                    [
                      88
                    ],
                    [
                      24
                    ],
                    [
                      65
                    ],
                    [
                      32
                    ],
                    [
                      60
                    ],
                    [
                      34
                    ],
                    [
                      62
                    ],
                    [
                      62
                    ],
                    [
                      91
                    ],
                    [
                      85
                    ],
                    [
                      81
                    ],
                    [
                      30
                    ],
                    [
                      85
                    ],
                    [
                      32
                    ],
                    [
                      87
                    ],
                    [
                      31
                    ],
                    [
                      27
                    ],
                    [
                      29
                    ],
                    [
                      64
                    ],
                    [
                      62
                    ],
                    [
                      94
                    ],
                    [
                      88
                    ],
                    [
                      85
                    ],
                    [
                      60
                    ],
                    [
                      62
                    ],
                    [
                      92
                    ],
                    [
                      62
                    ],
                    [
                      56
                    ],
                    [
                      61
                    ],
                    [
                      89
                    ],
                    [
                      62
                    ],
                    [
                      33
                    ],
                    [
                      64
                    ],
                    [
                      85
                    ],
                    [
                      28
                    ],
                    [
                      88
                    ],
                    [
                      31
                    ],
                    [
                      66
                    ],
                    [
                      83
                    ],
                    [
                      30
                    ],
                    [
                      59
                    ],
                    [
                      29
                    ],
                    [
                      89
                    ]
                  ],
                  "y": [
                    5164.690387393561,
                    -4805.682520520936,
                    -3704.11520306688,
                    4709.388807631826,
                    -2813.4088657561006,
                    -1775.6050399833491,
                    5488.389984582105,
                    8450.30756249261,
                    -3329.424155750386,
                    -1902.3037525718094,
                    -4792.820172444659,
                    -5461.17904452095,
                    6211.274488459198,
                    4177.140129281847,
                    -5771.827716588525,
                    4314.803908984968,
                    -4117.836047019009,
                    -1656.4250558163026,
                    -5806.362366658894,
                    -3844.0506429942798,
                    -958.536564511075,
                    -5108.281670571709,
                    -3403.3549980948756,
                    -5227.972306159944,
                    -672.1303645870975,
                    -3288.4642893518308,
                    -2178.9512608782647,
                    6221.683453940018,
                    5267.352553209776,
                    5996.549152653392,
                    4795.659622307598,
                    -3482.950924420311,
                    -2106.9565485318544,
                    -3258.592731249426,
                    -1255.023121717518,
                    -1838.6646455566574,
                    3973.9069974865124,
                    -5658.529147335393,
                    -4807.665202226773,
                    -5079.540930731744,
                    8154.200533863805,
                    -6415.699536226243,
                    -4704.900718140075,
                    3943.117073633912,
                    -918.4435413744552,
                    5205.840154213877,
                    -874.5938320396211,
                    4717.997205237607,
                    -3117.0435724351205,
                    3424.0736039052886,
                    -1039.886967020447,
                    6249.5373609300805,
                    -4030.486076235748,
                    6334.243251982047,
                    -5677.667475551908,
                    -6307.669140625973,
                    -4660.8556224445065,
                    -4210.4917427973205,
                    -4139.053044046936,
                    -2626.4947601230388,
                    5588.800602998203,
                    -458.732937973467,
                    -3266.65010027991,
                    3399.1203547303226,
                    -2388.3975155671837,
                    5788.853893383746,
                    6823.253328040565,
                    -623.024823397233,
                    -2907.798180135489,
                    5152.077722121314,
                    -4054.252841897082,
                    -2964.87116153894,
                    -1819.141113343564,
                    2685.6626854367955,
                    -1546.7860227984627,
                    -4397.197322284788,
                    6298.430178867733,
                    4271.292185091134,
                    -4588.664684244308,
                    -424.4944516024691,
                    5567.112673818732,
                    -5860.406970913426,
                    6380.91549429279,
                    5086.374324713102,
                    -5954.454601851142,
                    5666.3679547527,
                    5644.552199614268,
                    -4575.537648425248,
                    -3378.544090547866,
                    -1443.6312210611654,
                    -1946.4256348815304,
                    -4346.187741550605,
                    -2733.109485171261,
                    -5693.6654411574455,
                    -3727.6412226852412,
                    -8209.63930809387,
                    -5432.281819509642,
                    -1055.9968931753665,
                    -6422.065006311347,
                    -5234.914435436241,
                    646.5438723752053,
                    4923.281603355223,
                    4016.981622201614,
                    -5023.0387551922695,
                    4370.467828822717,
                    -1450.73186888666,
                    -2672.9112969661496,
                    4129.1811894163575,
                    -3511.650542757556,
                    -5150.746928288208,
                    -3972.437291114194,
                    -5654.546848389316,
                    5049.606296947775,
                    -5198.651743783718,
                    -3316.873784519847,
                    5141.1013674325895,
                    3350.711617933646,
                    -1283.249341684218,
                    -3447.5228656993495,
                    -5615.560772408637,
                    -2149.1522120766203,
                    -2541.1040744024194,
                    -1716.0957515179925,
                    -809.2478504066116,
                    -4720.248925408384,
                    -4683.440281859746,
                    -1789.8310613735025,
                    4468.268102563842,
                    4875.412034392041,
                    -4823.645899335595,
                    5127.949261280455,
                    4668.214697412172,
                    -2373.906852113613,
                    -2520.879670925896,
                    -4587.056600403992,
                    6862.247572080606,
                    -5591.430862352504,
                    -5088.608312301604,
                    -1998.3145148841236,
                    3371.5330650130973,
                    -5038.816440742173,
                    5282.497809754306,
                    -5178.05281344007,
                    -2201.720436215352,
                    -3681.2903856817993,
                    4564.6176218553155,
                    4941.999362973269,
                    5701.6975750235115,
                    776.7213551828819,
                    -2706.954245859539,
                    -5484.674656121093,
                    -3130.9505393461,
                    4437.356566167739,
                    -6080.299826048197,
                    -6518.877743618619,
                    7267.328542397003,
                    5001.42078319685,
                    6342.036901878026,
                    -1918.0706539765338,
                    -2913.151326193389,
                    -4541.161711915862,
                    3894.235479127749,
                    -5737.014216399167,
                    -1059.5099705589148,
                    5717.50113716764,
                    5468.743274286694,
                    -3656.8600405231164,
                    -3215.311753103617,
                    4638.724240674151,
                    4688.370746949257,
                    -2456.062469507203,
                    -5613.714946473865,
                    -296.94791022013436,
                    4758.188729714914,
                    -2876.01682185416,
                    -1034.0462861180665,
                    -2386.744670387967,
                    -1709.6809922654006,
                    -6711.005814772022,
                    -361.82287722905795,
                    3078.8964384945916,
                    5711.6283932669685,
                    5174.470545977293,
                    -4837.58960460775,
                    -4354.880673536971,
                    -1061.392829700626,
                    -219.83567344031897,
                    4243.721728508765,
                    -3159.4030652887363,
                    3374.2871342934277,
                    -4443.169815276384,
                    3658.306501252221,
                    -4868.312164441824,
                    -1025.6556377131562,
                    3500.5964543132536,
                    6638.189488143044,
                    4273.205301847635,
                    -2877.194607876874,
                    -1858.7415428672723,
                    5713.442041909503,
                    -4416.577273256114,
                    3238.4287703236846,
                    -5240.709879901136,
                    5401.821696967168,
                    4711.285967238691,
                    -5910.595724540099,
                    -2831.2449726497744,
                    -497.0287321468135,
                    7146.6628582527765,
                    -2812.6408322745237,
                    -2385.9306735999694,
                    5556.6661391338175,
                    -1500.5997535503443,
                    -3004.1359250357286,
                    -4543.326267067195,
                    4253.670268811264,
                    -6491.845916302059,
                    3684.6952959403575,
                    163.00860194240747,
                    -3634.3413606407366,
                    -6286.356908964099,
                    5982.858221439131,
                    -1681.107809398614,
                    5223.6423303903575,
                    -4917.675594824383,
                    3467.5659749114184,
                    -337.5831102994568,
                    4771.515153180693,
                    -4006.8807824041205,
                    4277.420432790429,
                    4348.095679784135,
                    -4804.203700356796,
                    -1523.153182779474,
                    -6066.457122934571,
                    -6305.307759672729,
                    4012.2154933423153,
                    -2067.7852022028546,
                    5506.996622913861,
                    -5075.678351149003,
                    968.1821841701766,
                    -6443.116567478196,
                    -2253.3249547903106,
                    5318.281993622224,
                    -982.6374045457411,
                    -5439.902381792005,
                    -4615.462129870625,
                    2890.5509685647035,
                    -4397.186114919676,
                    -6552.893169384938,
                    4193.882999372306,
                    4852.444518767338,
                    -3386.631387427833,
                    6154.518606181514,
                    5765.842845736465,
                    5053.974394482306,
                    4092.5868105824957,
                    2451.3956456354927,
                    6791.12172798713,
                    -3324.8164217780118,
                    -5224.55443567084,
                    -946.4427010468257,
                    -1200.4987085746989,
                    3878.0740056043533,
                    -7198.063753004433,
                    1366.21750619139,
                    6674.234677495915,
                    3616.906622264862,
                    5720.063910631847,
                    -5195.9254091885505,
                    4854.373611538006,
                    -3948.4131537015032,
                    -4966.632983631626,
                    -2299.177576458249,
                    -4164.858385743969,
                    4662.571801362161,
                    4646.423038232094,
                    5657.241494980816,
                    5422.323757682562,
                    -2551.640945867298,
                    6401.496850378556,
                    5008.012103778606,
                    6716.389270082326,
                    6726.313750520611,
                    -2226.523883594681,
                    5507.674538617933,
                    -2359.981060852435,
                    -2403.4526565005244,
                    -4400.042331000767,
                    -3445.140762666873,
                    3778.181421309607,
                    -4387.404636496322,
                    6502.20788277559,
                    -3786.1336424715264,
                    -4194.112454577065,
                    -4542.181472406765,
                    7423.315368546433,
                    -4653.572550884037,
                    -1026.2178281219399,
                    7150.265686204209,
                    5207.221097509009,
                    -4008.5890127538964,
                    1229.6342021037997,
                    -1747.284515874373,
                    -4439.122859420629,
                    4590.8725834561055,
                    -6642.233640263941,
                    4252.897540706995,
                    -4865.004407317276,
                    -5377.229021116212,
                    5512.809888472099,
                    5692.091704359399,
                    -4687.764619495445,
                    4732.087714707707,
                    -5202.090344164464,
                    -1284.2763352325994,
                    -3267.8530880659637,
                    -2323.955025066739,
                    3293.9257098257854,
                    4315.751792559065,
                    3437.8964823947795,
                    -6877.035883382062,
                    -512.1681616652345,
                    6617.143404468854,
                    -4647.129088588649,
                    -3922.3292073945386,
                    -4985.5148012203945,
                    -3595.426499455151,
                    -1788.595019255137,
                    4298.147934215797,
                    -4557.7166017918735,
                    4039.0497082186075,
                    -3401.0815217687746,
                    -3156.1748677381484,
                    -5918.696393593373,
                    -6195.256515402724,
                    -3267.664533478741,
                    -559.8887343311543,
                    -4327.599800404023,
                    4918.861099714734,
                    5101.398697367521,
                    -1690.2235244245378,
                    4574.029852480232,
                    2642.8564628733106,
                    6074.108821940041,
                    -3209.7056998551193,
                    4305.6055133701375,
                    5484.062210130749,
                    5033.927181148622,
                    -1573.1293339464667,
                    -1271.83669680018,
                    -3652.143022077501,
                    -4647.515091833696,
                    -3330.0950893142603,
                    5122.298575466133,
                    -1341.6421504993352,
                    4207.414796612182,
                    -5405.192380070507,
                    -2662.237917413054,
                    5435.293808150464,
                    -4846.280009746114,
                    5261.355213266389,
                    -2003.3795586148913,
                    -6254.840941209123,
                    4571.311601888514,
                    5019.5450718658585,
                    3176.7468854090903,
                    -3270.2500120301224,
                    4906.8213691170085,
                    -4122.472097486007,
                    -6304.28687157794,
                    5239.83448625213,
                    -1806.3716349634733,
                    6827.736752280869,
                    -4507.818852759068,
                    4760.72668383612,
                    -2297.4104284560117,
                    3427.1351952588097,
                    -6141.76326355349,
                    -4953.921129423358,
                    5070.413098436325,
                    4629.791365281096,
                    -4266.484164687798,
                    -1016.362817605334,
                    4085.3122504461217,
                    1139.0677249894095,
                    -2125.5165732968303,
                    -2494.3460158547664,
                    -3476.7575329414035,
                    5573.2435927687275,
                    4745.144589124807,
                    -4573.135949676127,
                    5133.639471687388,
                    -6274.399407676454,
                    5689.00045309191,
                    -5117.926369906288,
                    4731.012058760928,
                    -5970.659605817776,
                    -2999.048136853003,
                    -975.0110199269352,
                    -990.6075970316516,
                    -4248.410998779926,
                    8499.966944599804,
                    -2464.3665067293446,
                    4064.0083360808094,
                    2658.2975188904124,
                    5499.3393327217655,
                    -2379.4453929525325,
                    -2897.4181107781164,
                    -1529.9495201383804,
                    5244.436809348917,
                    5673.527728610803,
                    2693.008186621751,
                    3903.9749268153696,
                    -3586.3929123393586,
                    -5560.204679599998,
                    5539.978254276125,
                    -3106.103475868356,
                    6098.407171499207,
                    5244.223767536203,
                    4687.331305792244,
                    3879.1497332626573,
                    -4611.5876483615675,
                    -4339.707016425751,
                    5517.456998799792,
                    -7172.334785619929,
                    -6099.926511675155,
                    5992.684094109706,
                    7337.462584330767,
                    -3145.8388116696283,
                    6845.141814371279,
                    6731.622371228141,
                    -2395.1506203279077,
                    4411.324353776285,
                    6677.4821015909365,
                    -3524.60188204149,
                    4946.1775101205085,
                    -5657.478831520003,
                    -2804.317598781814,
                    -7950.137679904534,
                    6861.841710581505,
                    5599.274828311292,
                    4513.159427781256,
                    4509.37894804773,
                    -1273.0340909671522,
                    6237.455006749797,
                    -1422.2632521531436,
                    -3890.3447962612513,
                    5595.425208078428,
                    -857.2365574199097,
                    5174.060016070749,
                    -4749.057025715362,
                    5121.94817799102,
                    3388.427034681374,
                    4450.5724650858,
                    3884.4528513190835,
                    4076.188863858498,
                    -5237.495032301,
                    6399.679457928574,
                    -5635.16354461918,
                    4575.315245883314,
                    6006.733833662531,
                    -6854.206134077954,
                    -2756.2104567652127,
                    5916.358054129829,
                    6026.370137728771,
                    -3863.006874934303,
                    3532.7508016456363,
                    -5081.205331963817,
                    5058.593507665865,
                    6393.584927460234,
                    -4260.66793677742,
                    -2507.4680378488556,
                    -2039.051945091475,
                    -4762.434912619333,
                    -2663.4363034143566,
                    -4699.391527469759,
                    -500.38222602903386,
                    6059.9833233745485,
                    6048.724079227706,
                    -4543.481105344729,
                    4384.68728953157,
                    5686.132349951808,
                    -2697.4806496368687,
                    -2166.945526513022,
                    -3282.4967836895144,
                    7033.832306225472,
                    4727.0798130553485,
                    -2383.923586492432,
                    4834.953991865886,
                    3266.470183264379,
                    3413.4609900340324,
                    -3320.2381091067377,
                    5240.283697626604,
                    -6111.705171395255,
                    6031.597780098118,
                    -2247.7230980697577,
                    -4857.997302514549,
                    -1498.3070625903988,
                    -4085.3878885407753,
                    5245.750156657963,
                    -948.1700320034123,
                    -5508.945169399089,
                    5030.1015099048445,
                    -4286.405360287328,
                    72.34189620852732
                  ],
                  "hoverlabel": {
                    "namelength": 0
                  },
                  "mode": "markers",
                  "xaxis": "x",
                  "marker": {
                    "color": "#636efa",
                    "opacity": 0.5,
                    "symbol": "circle"
                  },
                  "x": [
                    2555.7842351601093,
                    39513.273555432424,
                    -53329.0889086379,
                    47415.38916240531,
                    -42253.87287795821,
                    14006.000965365381,
                    53976.79000263128,
                    59803.04557919298,
                    -58127.50387026998,
                    -48762.36466827117,
                    31253.468530449405,
                    23032.68012465125,
                    -10371.487057071714,
                    -2220.635450610063,
                    40673.85964432743,
                    5619.12553876362,
                    38869.64945267167,
                    -45504.928216643835,
                    32210.97976864238,
                    -43811.47262039386,
                    -63634.72200273951,
                    34815.25492053802,
                    -40724.15688509661,
                    21973.307950443803,
                    -63656.34758998009,
                    24613.751980326095,
                    -39063.28667619088,
                    -6051.798027149636,
                    -1864.5940590614457,
                    -9270.983246113969,
                    -6586.375015596336,
                    -42172.09142372812,
                    -48329.3752198634,
                    -47000.17170879287,
                    -48496.847924973015,
                    -53103.84791289728,
                    1547.9124395594217,
                    32561.02536006328,
                    35572.71538685354,
                    34834.901794659985,
                    -6214.354917756375,
                    35036.71585548718,
                    -46108.564418073074,
                    4968.7646458745685,
                    -45148.06214608789,
                    -5898.744479681146,
                    -57495.82751822277,
                    41933.87634909208,
                    -48890.16204283164,
                    5122.282562298915,
                    -56854.24491468407,
                    48602.57111184018,
                    37194.902279074166,
                    -7793.211508914154,
                    52844.21454083212,
                    44074.74432267947,
                    43084.43130106838,
                    29861.546669621428,
                    33379.420584689076,
                    -56820.087553604215,
                    7017.407229806944,
                    -50055.78756429354,
                    19295.267686809548,
                    2663.814142724258,
                    -43012.76978349138,
                    -7793.454352086525,
                    -18832.323089995083,
                    -48459.57885316463,
                    -50029.04867348439,
                    277.31945471803556,
                    25938.05049675623,
                    -53484.99044797618,
                    -49274.44239615928,
                    -1867.5011952055104,
                    -57750.75774612386,
                    30949.636901997914,
                    -5506.504775277303,
                    56651.45548374745,
                    32912.89206331582,
                    -48448.18982139336,
                    1380.909585482257,
                    -39916.59061152687,
                    -1254.7961050822828,
                    -18377.080919160882,
                    42157.80542870099,
                    1223.333284206357,
                    -4025.5345868614945,
                    37228.73474520065,
                    24491.388898644713,
                    -51459.51350546341,
                    -58771.33010043614,
                    22105.03459107824,
                    30046.48908092604,
                    48410.009290472306,
                    30148.682673916068,
                    38847.1697677608,
                    42414.13984409394,
                    -54413.158553524714,
                    41298.63129283503,
                    21900.78530003274,
                    -49206.07297923619,
                    -9600.00952571689,
                    55168.45154506187,
                    26298.148410246704,
                    3735.222300120541,
                    -56178.67327005174,
                    31911.00123936631,
                    -3222.028497117642,
                    -53514.36608306821,
                    22393.417730180106,
                    -46206.76070917285,
                    32797.64366935492,
                    375.6120252474112,
                    30584.12461511323,
                    32416.939873895528,
                    834.6063416853502,
                    58984.55027496723,
                    -28723.99191956599,
                    -37730.76934060817,
                    41580.27174463822,
                    15764.491431415803,
                    -50504.823142737674,
                    -45508.35388587763,
                    -44821.27195537091,
                    23470.847033328002,
                    37939.717008912325,
                    -50446.687258505575,
                    -4588.845682887326,
                    -4661.643199436438,
                    41328.252663309955,
                    -3197.770674931706,
                    48551.89779119262,
                    -53120.54070874578,
                    -48031.60033869832,
                    19017.169464917482,
                    -9823.292971418654,
                    40849.4805976906,
                    24827.97878054595,
                    -51858.95285225972,
                    52465.03358665989,
                    34360.481807350545,
                    48697.32854440993,
                    50874.593733151836,
                    32345.708428700567,
                    32322.908553122452,
                    -7225.6566514965525,
                    47518.8813185679,
                    -7827.504392605744,
                    -53905.33080870666,
                    -49083.989044483445,
                    26507.042872359896,
                    28639.385002450475,
                    45280.29645748762,
                    33345.15627123116,
                    25363.919226720394,
                    -1424.2968527852502,
                    -11770.096221904687,
                    -7431.169946592945,
                    -40392.52353813573,
                    -55837.89621255903,
                    25474.40276379726,
                    53422.55248570122,
                    22224.55614343527,
                    -44891.72694017812,
                    57857.28905692229,
                    1855.047986918685,
                    -45889.161245283925,
                    -39730.754923731954,
                    -967.1345292294822,
                    -4883.720561797809,
                    -39255.47386551344,
                    23196.21330643821,
                    -48338.7046626193,
                    47842.88367906649,
                    -47591.22511121997,
                    -52877.38164603334,
                    -45243.33599570978,
                    -51590.97205811299,
                    32572.750272366167,
                    -52219.78891026322,
                    -4114.665812502659,
                    -5787.584457334286,
                    -4794.730185972455,
                    31361.085267799124,
                    31045.22025567876,
                    -46621.67518992084,
                    -56895.336026094614,
                    61085.161815426865,
                    -40276.44813108953,
                    7034.566991846874,
                    38938.11813871433,
                    45728.40114434408,
                    27456.913266673087,
                    -47490.05337363704,
                    -6075.723945911872,
                    3574.8676282851334,
                    -1755.3663563989912,
                    16918.67620110011,
                    -45592.66271459643,
                    4615.604589783889,
                    35023.216270800265,
                    54230.31142047657,
                    29240.50974864808,
                    -6270.130057704631,
                    5679.93503225556,
                    32853.06228369524,
                    -42194.79873495239,
                    -47211.309218979375,
                    -9176.939917160442,
                    -39708.64698966345,
                    -37510.58801132115,
                    -5149.414552966311,
                    -46897.28720484182,
                    -36822.882729901045,
                    41859.15436997561,
                    15177.319714667678,
                    30155.334159636957,
                    -1709.0067116984342,
                    -41047.37636685028,
                    32289.54020716663,
                    29210.556946439672,
                    -10419.650727093273,
                    -44316.390976136485,
                    2868.6753358918077,
                    30268.70548126327,
                    -7981.746810683434,
                    -51240.794674902056,
                    -811.2733012583,
                    31202.412682476057,
                    -12402.614006035727,
                    -805.5182840466941,
                    20486.14069594544,
                    -53680.72058527787,
                    32691.869561685704,
                    48577.24594456369,
                    3333.037008198892,
                    -60035.35573518629,
                    -3147.971690102401,
                    34060.87750047382,
                    -59885.18345080085,
                    24819.36094949773,
                    -51335.696362198025,
                    -3127.746475407189,
                    -43219.57063079795,
                    28960.63496494675,
                    36813.76713420393,
                    50397.083897731325,
                    47964.552261386925,
                    33203.84256888801,
                    54542.56026091126,
                    3607.6218475354453,
                    -55116.83601816834,
                    -1148.5927138363172,
                    53924.59703955874,
                    -4972.922141129967,
                    10499.407295945579,
                    11129.424149229602,
                    -4333.353171495316,
                    28627.259856400276,
                    28912.895136199924,
                    -42334.04767150631,
                    -49618.56425158388,
                    13091.37415351668,
                    38543.625122928686,
                    -860.435447795377,
                    47210.6112841296,
                    1797.8692846207523,
                    -2601.869628345946,
                    22258.60866856988,
                    4241.775895153042,
                    31614.44256541907,
                    -38870.67264138031,
                    -41183.65207165709,
                    35187.910534684626,
                    -907.6690876091192,
                    -4197.995995572505,
                    51395.22435599948,
                    48029.23598296088,
                    -49855.360239061134,
                    -5414.451723823093,
                    -14757.6268545056,
                    4848.442764387977,
                    61617.256021857196,
                    -47366.6493930971,
                    -5327.512619806884,
                    -33685.82303783498,
                    -49640.51633393588,
                    22236.169474372255,
                    -46294.69652581506,
                    45302.57090416742,
                    33217.92661094808,
                    -2329.616759752765,
                    26003.522431925594,
                    28681.549887585734,
                    26578.15319626617,
                    -10238.837928743027,
                    23896.368807904066,
                    -42382.698832036185,
                    -6112.701966838933,
                    1381.2925438038922,
                    34753.14848573078,
                    -51006.62596717176,
                    -46888.405898773744,
                    23022.218263126626,
                    45049.71303774846,
                    40419.57669510412,
                    55795.997914963926,
                    31016.952770667845,
                    34830.86603735357,
                    -2630.794135208176,
                    -1710.0091006297753,
                    26071.98118135923,
                    55783.42885801488,
                    39399.40138181147,
                    -41654.285370916696,
                    -45053.50115134014,
                    -42546.309287033815,
                    3442.067865401044,
                    59798.17482849969,
                    47549.76254622706,
                    43861.74709102551,
                    -52957.616291780934,
                    1535.3200349238566,
                    46993.641087908385,
                    25376.693266073136,
                    44952.90203538894,
                    -42152.50281937874,
                    -44207.369196690015,
                    -3652.05162721952,
                    47182.0685815558,
                    -3354.4093954920463,
                    32307.936729140918,
                    24294.808478346313,
                    23967.006087975606,
                    35579.20581580632,
                    -48086.47161506779,
                    -41229.085326467895,
                    -33223.78792758687,
                    1270.5926186365073,
                    56449.678138281386,
                    -57945.29400939375,
                    -879.6961231840188,
                    -611.8920766835428,
                    6644.597612798227,
                    -38257.01252267867,
                    1691.1469990055025,
                    -9514.742122293763,
                    -5495.930030665684,
                    -42485.19893050835,
                    -52350.13688160764,
                    -47072.83270827877,
                    25765.79004232834,
                    -48867.33422412471,
                    -13124.391604038405,
                    -51304.42079121017,
                    46271.7499906681,
                    22350.76981632155,
                    -57516.27318363641,
                    -847.3002227743422,
                    25732.344972190538,
                    62912.45709780565,
                    -52508.30353343572,
                    43629.01273923755,
                    -2009.7086141751686,
                    106.44730782999494,
                    53899.23405997955,
                    -52745.27199507381,
                    -5228.773548143094,
                    35758.27543553666,
                    24706.12835284514,
                    -11385.807297750876,
                    -55003.11473536291,
                    -1006.7942808926967,
                    25328.069962281657,
                    -11393.264281389036,
                    -57888.986937986134,
                    55587.35173073356,
                    31317.298064553674,
                    45920.30384600759,
                    -3536.6248996188606,
                    54778.91990969142,
                    26228.37628643617,
                    -49952.56386424753,
                    -9955.599000501965,
                    -47927.75615335323,
                    -28705.212826769795,
                    -49610.67501015967,
                    -48754.55322293142,
                    -15159.901916245668,
                    59239.85352839811,
                    -42594.24300193294,
                    -7740.904879089716,
                    30950.10183968236,
                    871.0561448640409,
                    23392.942046850563,
                    8122.0803804155385,
                    27412.691405421203,
                    -51191.18311026792,
                    -48469.75822555574,
                    -55368.98427568007,
                    30836.978307627418,
                    48281.96476402188,
                    -43231.47790879876,
                    -284.93461613175396,
                    -4335.121223668239,
                    -3902.6507601274066,
                    -55300.43835611645,
                    26983.04636427817,
                    -56491.7261616014,
                    5073.487356522341,
                    -7927.279393999562,
                    66750.62108457652,
                    59196.5930863391,
                    -48254.00622992487,
                    30806.77634195276,
                    2456.1149429108864,
                    42045.7957025714,
                    -5713.304475031717,
                    3594.042421690831,
                    -3578.6411667637276,
                    55809.60825993978,
                    20592.346613007747,
                    39135.37622313003,
                    -9604.976101231394,
                    26023.566351406134,
                    18943.372817813008,
                    2392.951400013226,
                    -15876.01419493386,
                    -39882.023331383,
                    384.48865377878224,
                    -12401.012614422625,
                    -46522.919419751146,
                    -182.87509706289566,
                    -10817.514881421728,
                    27758.38757580819,
                    63317.06653244289,
                    43600.21618030975,
                    -42432.645099662244,
                    31960.754514207238,
                    -4856.16027761908,
                    -8175.944783841649,
                    3385.8220491313173,
                    -5414.849621380291,
                    -54957.4909891723,
                    -9153.992100917834,
                    -47271.41327624209,
                    36260.399857073855,
                    -7423.928769536229,
                    -45489.120024218595,
                    -6529.597912750257,
                    52679.13742245059,
                    -4176.722631704308,
                    52086.38065892719,
                    499.4966180961344,
                    46000.80248469953,
                    9121.208329826171,
                    39941.23737509609,
                    5567.478117111804,
                    31330.34398452476,
                    -4595.725467462923,
                    51532.470058404484,
                    50433.851384533344,
                    -47339.947334108234,
                    52263.49410874445,
                    -9447.566957019653,
                    26343.678673902443,
                    -3881.279223544827,
                    31502.360342968197,
                    -12594.175242128525,
                    -11570.013629472287,
                    -46752.171891149046,
                    -41090.43271162363,
                    -41272.89533986178,
                    30614.165778553543,
                    -44945.69901444297,
                    19785.99439327465,
                    -57176.867806106005,
                    47836.448391826816,
                    49923.23240258629,
                    35711.07999432943,
                    11039.026942031705,
                    -5806.077052611816,
                    -47975.62989430367,
                    -47129.844163420596,
                    -49427.52413702609,
                    -10072.875118803531,
                    3175.7301008876793,
                    -42805.17469366226,
                    4864.683651412995,
                    -6874.447300583779,
                    -5628.983771409204,
                    -44680.89350931921,
                    -6945.490220855897,
                    36008.72535912228,
                    1198.2155272857233,
                    -40907.25147798805,
                    23858.5982400234,
                    -58306.89374121129,
                    23748.67781545403,
                    7325.256189492692,
                    -47148.04950665257,
                    32149.92129268286,
                    -7249.028129796927,
                    26312.372968927506,
                    -45316.58140609554
                  ],
                  "type": "scatter"
                }
              ],
              "config": {
                "plotlyServerURL": "https://plot.ly"
              },
              "layout": {
                "xaxis": {
                  "domain": [
                    0,
                    1
                  ],
                  "anchor": "y",
                  "title": {
                    "text": "PCA1"
                  }
                },
                "title": {
                  "text": "2D Cluster PCA Plot"
                },
                "plot_bgcolor": "rgb(240,240,240)",
                "yaxis": {
                  "domain": [
                    0,
                    1
                  ],
                  "anchor": "x",
                  "title": {
                    "text": "PCA2"
                  }
                },
                "height": 600,
                "template": {
                  "layout": {
                    "shapedefaults": {
                      "line": {
                        "color": "#2a3f5f"
                      }
                    },
                    "polar": {
                      "radialaxis": {
                        "ticks": "",
                        "gridcolor": "white",
                        "linecolor": "white"
                      },
                      "bgcolor": "#E5ECF6",
                      "angularaxis": {
                        "ticks": "",
                        "gridcolor": "white",
                        "linecolor": "white"
                      }
                    },
                    "colorway": [
                      "#636efa",
                      "#EF553B",
                      "#00cc96",
                      "#ab63fa",
                      "#FFA15A",
                      "#19d3f3",
                      "#FF6692",
                      "#B6E880",
                      "#FF97FF",
                      "#FECB52"
                    ],
                    "xaxis": {
                      "automargin": true,
                      "title": {
                        "standoff": 15
                      },
                      "zerolinewidth": 2,
                      "ticks": "",
                      "zerolinecolor": "white",
                      "gridcolor": "white",
                      "linecolor": "white"
                    },
                    "colorscale": {
                      "diverging": [
                        [
                          0,
                          "#8e0152"
                        ],
                        [
                          0.1,
                          "#c51b7d"
                        ],
                        [
                          0.2,
                          "#de77ae"
                        ],
                        [
                          0.3,
                          "#f1b6da"
                        ],
                        [
                          0.4,
                          "#fde0ef"
                        ],
                        [
                          0.5,
                          "#f7f7f7"
                        ],
                        [
                          0.6,
                          "#e6f5d0"
                        ],
                        [
                          0.7,
                          "#b8e186"
                        ],
                        [
                          0.8,
                          "#7fbc41"
                        ],
                        [
                          0.9,
                          "#4d9221"
                        ],
                        [
                          1,
                          "#276419"
                        ]
                      ],
                      "sequential": [
                        [
                          0,
                          "#0d0887"
                        ],
                        [
                          0.1111111111111111,
                          "#46039f"
                        ],
                        [
                          0.2222222222222222,
                          "#7201a8"
                        ],
                        [
                          0.3333333333333333,
                          "#9c179e"
                        ],
                        [
                          0.4444444444444444,
                          "#bd3786"
                        ],
                        [
                          0.5555555555555556,
                          "#d8576b"
                        ],
                        [
                          0.6666666666666666,
                          "#ed7953"
                        ],
                        [
                          0.7777777777777778,
                          "#fb9f3a"
                        ],
                        [
                          0.8888888888888888,
                          "#fdca26"
                        ],
                        [
                          1,
                          "#f0f921"
                        ]
                      ],
                      "sequentialminus": [
                        [
                          0,
                          "#0d0887"
                        ],
                        [
                          0.1111111111111111,
                          "#46039f"
                        ],
                        [
                          0.2222222222222222,
                          "#7201a8"
                        ],
                        [
                          0.3333333333333333,
                          "#9c179e"
                        ],
                        [
                          0.4444444444444444,
                          "#bd3786"
                        ],
                        [
                          0.5555555555555556,
                          "#d8576b"
                        ],
                        [
                          0.6666666666666666,
                          "#ed7953"
                        ],
                        [
                          0.7777777777777778,
                          "#fb9f3a"
                        ],
                        [
                          0.8888888888888888,
                          "#fdca26"
                        ],
                        [
                          1,
                          "#f0f921"
                        ]
                      ]
                    },
                    "paper_bgcolor": "white",
                    "plot_bgcolor": "#E5ECF6",
                    "title": {
                      "x": 0.05
                    },
                    "scene": {
                      "zaxis": {
                        "backgroundcolor": "#E5ECF6",
                        "ticks": "",
                        "gridwidth": 2,
                        "showbackground": true,
                        "zerolinecolor": "white",
                        "gridcolor": "white",
                        "linecolor": "white"
                      },
                      "xaxis": {
                        "backgroundcolor": "#E5ECF6",
                        "ticks": "",
                        "gridwidth": 2,
                        "showbackground": true,
                        "zerolinecolor": "white",
                        "gridcolor": "white",
                        "linecolor": "white"
                      },
                      "yaxis": {
                        "backgroundcolor": "#E5ECF6",
                        "ticks": "",
                        "gridwidth": 2,
                        "showbackground": true,
                        "zerolinecolor": "white",
                        "gridcolor": "white",
                        "linecolor": "white"
                      }
                    },
                    "yaxis": {
                      "automargin": true,
                      "title": {
                        "standoff": 15
                      },
                      "zerolinewidth": 2,
                      "ticks": "",
                      "zerolinecolor": "white",
                      "gridcolor": "white",
                      "linecolor": "white"
                    },
                    "annotationdefaults": {
                      "arrowwidth": 1,
                      "arrowhead": 0,
                      "arrowcolor": "#2a3f5f"
                    },
                    "hoverlabel": {
                      "align": "left"
                    },
                    "ternary": {
                      "bgcolor": "#E5ECF6",
                      "baxis": {
                        "ticks": "",
                        "gridcolor": "white",
                        "linecolor": "white"
                      },
                      "caxis": {
                        "ticks": "",
                        "gridcolor": "white",
                        "linecolor": "white"
                      },
                      "aaxis": {
                        "ticks": "",
                        "gridcolor": "white",
                        "linecolor": "white"
                      }
                    },
                    "mapbox": {
                      "style": "light"
                    },
                    "hovermode": "closest",
                    "font": {
                      "color": "#2a3f5f"
                    },
                    "geo": {
                      "showland": true,
                      "landcolor": "#E5ECF6",
                      "showlakes": true,
                      "bgcolor": "white",
                      "subunitcolor": "white",
                      "lakecolor": "white"
                    },
                    "coloraxis": {
                      "colorbar": {
                        "outlinewidth": 0,
                        "ticks": ""
                      }
                    }
                  },
                  "data": {
                    "mesh3d": [
                      {
                        "colorbar": {
                          "outlinewidth": 0,
                          "ticks": ""
                        },
                        "type": "mesh3d"
                      }
                    ],
                    "scattercarpet": [
                      {
                        "marker": {
                          "colorbar": {
                            "outlinewidth": 0,
                            "ticks": ""
                          }
                        },
                        "type": "scattercarpet"
                      }
                    ],
                    "pie": [
                      {
                        "automargin": true,
                        "type": "pie"
                      }
                    ],
                    "surface": [
                      {
                        "colorbar": {
                          "outlinewidth": 0,
                          "ticks": ""
                        },
                        "type": "surface",
                        "colorscale": [
                          [
                            0,
                            "#0d0887"
                          ],
                          [
                            0.1111111111111111,
                            "#46039f"
                          ],
                          [
                            0.2222222222222222,
                            "#7201a8"
                          ],
                          [
                            0.3333333333333333,
                            "#9c179e"
                          ],
                          [
                            0.4444444444444444,
                            "#bd3786"
                          ],
                          [
                            0.5555555555555556,
                            "#d8576b"
                          ],
                          [
                            0.6666666666666666,
                            "#ed7953"
                          ],
                          [
                            0.7777777777777778,
                            "#fb9f3a"
                          ],
                          [
                            0.8888888888888888,
                            "#fdca26"
                          ],
                          [
                            1,
                            "#f0f921"
                          ]
                        ]
                      }
                    ],
                    "table": [
                      {
                        "header": {
                          "line": {
                            "color": "white"
                          },
                          "fill": {
                            "color": "#C8D4E3"
                          }
                        },
                        "cells": {
                          "line": {
                            "color": "white"
                          },
                          "fill": {
                            "color": "#EBF0F8"
                          }
                        },
                        "type": "table"
                      }
                    ],
                    "scatterpolargl": [
                      {
                        "marker": {
                          "colorbar": {
                            "outlinewidth": 0,
                            "ticks": ""
                          }
                        },
                        "type": "scatterpolargl"
                      }
                    ],
                    "contour": [
                      {
                        "colorbar": {
                          "outlinewidth": 0,
                          "ticks": ""
                        },
                        "type": "contour",
                        "colorscale": [
                          [
                            0,
                            "#0d0887"
                          ],
                          [
                            0.1111111111111111,
                            "#46039f"
                          ],
                          [
                            0.2222222222222222,
                            "#7201a8"
                          ],
                          [
                            0.3333333333333333,
                            "#9c179e"
                          ],
                          [
                            0.4444444444444444,
                            "#bd3786"
                          ],
                          [
                            0.5555555555555556,
                            "#d8576b"
                          ],
                          [
                            0.6666666666666666,
                            "#ed7953"
                          ],
                          [
                            0.7777777777777778,
                            "#fb9f3a"
                          ],
                          [
                            0.8888888888888888,
                            "#fdca26"
                          ],
                          [
                            1,
                            "#f0f921"
                          ]
                        ]
                      }
                    ],
                    "carpet": [
                      {
                        "type": "carpet",
                        "baxis": {
                          "minorgridcolor": "white",
                          "gridcolor": "white",
                          "linecolor": "white",
                          "endlinecolor": "#2a3f5f",
                          "startlinecolor": "#2a3f5f"
                        },
                        "aaxis": {
                          "minorgridcolor": "white",
                          "gridcolor": "white",
                          "linecolor": "white",
                          "endlinecolor": "#2a3f5f",
                          "startlinecolor": "#2a3f5f"
                        }
                      }
                    ],
                    "contourcarpet": [
                      {
                        "colorbar": {
                          "outlinewidth": 0,
                          "ticks": ""
                        },
                        "type": "contourcarpet"
                      }
                    ],
                    "heatmap": [
                      {
                        "colorbar": {
                          "outlinewidth": 0,
                          "ticks": ""
                        },
                        "type": "heatmap",
                        "colorscale": [
                          [
                            0,
                            "#0d0887"
                          ],
                          [
                            0.1111111111111111,
                            "#46039f"
                          ],
                          [
                            0.2222222222222222,
                            "#7201a8"
                          ],
                          [
                            0.3333333333333333,
                            "#9c179e"
                          ],
                          [
                            0.4444444444444444,
                            "#bd3786"
                          ],
                          [
                            0.5555555555555556,
                            "#d8576b"
                          ],
                          [
                            0.6666666666666666,
                            "#ed7953"
                          ],
                          [
                            0.7777777777777778,
                            "#fb9f3a"
                          ],
                          [
                            0.8888888888888888,
                            "#fdca26"
                          ],
                          [
                            1,
                            "#f0f921"
                          ]
                        ]
                      }
                    ],
                    "scattermapbox": [
                      {
                        "marker": {
                          "colorbar": {
                            "outlinewidth": 0,
                            "ticks": ""
                          }
                        },
                        "type": "scattermapbox"
                      }
                    ],
                    "scatter3d": [
                      {
                        "marker": {
                          "colorbar": {
                            "outlinewidth": 0,
                            "ticks": ""
                          }
                        },
                        "line": {
                          "colorbar": {
                            "outlinewidth": 0,
                            "ticks": ""
                          }
                        },
                        "type": "scatter3d"
                      }
                    ],
                    "scattergl": [
                      {
                        "marker": {
                          "colorbar": {
                            "outlinewidth": 0,
                            "ticks": ""
                          }
                        },
                        "type": "scattergl"
                      }
                    ],
                    "scatterternary": [
                      {
                        "marker": {
                          "colorbar": {
                            "outlinewidth": 0,
                            "ticks": ""
                          }
                        },
                        "type": "scatterternary"
                      }
                    ],
                    "histogram": [
                      {
                        "marker": {
                          "colorbar": {
                            "outlinewidth": 0,
                            "ticks": ""
                          }
                        },
                        "type": "histogram"
                      }
                    ],
                    "heatmapgl": [
                      {
                        "colorbar": {
                          "outlinewidth": 0,
                          "ticks": ""
                        },
                        "type": "heatmapgl",
                        "colorscale": [
                          [
                            0,
                            "#0d0887"
                          ],
                          [
                            0.1111111111111111,
                            "#46039f"
                          ],
                          [
                            0.2222222222222222,
                            "#7201a8"
                          ],
                          [
                            0.3333333333333333,
                            "#9c179e"
                          ],
                          [
                            0.4444444444444444,
                            "#bd3786"
                          ],
                          [
                            0.5555555555555556,
                            "#d8576b"
                          ],
                          [
                            0.6666666666666666,
                            "#ed7953"
                          ],
                          [
                            0.7777777777777778,
                            "#fb9f3a"
                          ],
                          [
                            0.8888888888888888,
                            "#fdca26"
                          ],
                          [
                            1,
                            "#f0f921"
                          ]
                        ]
                      }
                    ],
                    "scatterpolar": [
                      {
                        "marker": {
                          "colorbar": {
                            "outlinewidth": 0,
                            "ticks": ""
                          }
                        },
                        "type": "scatterpolar"
                      }
                    ],
                    "histogram2d": [
                      {
                        "colorbar": {
                          "outlinewidth": 0,
                          "ticks": ""
                        },
                        "type": "histogram2d",
                        "colorscale": [
                          [
                            0,
                            "#0d0887"
                          ],
                          [
                            0.1111111111111111,
                            "#46039f"
                          ],
                          [
                            0.2222222222222222,
                            "#7201a8"
                          ],
                          [
                            0.3333333333333333,
                            "#9c179e"
                          ],
                          [
                            0.4444444444444444,
                            "#bd3786"
                          ],
                          [
                            0.5555555555555556,
                            "#d8576b"
                          ],
                          [
                            0.6666666666666666,
                            "#ed7953"
                          ],
                          [
                            0.7777777777777778,
                            "#fb9f3a"
                          ],
                          [
                            0.8888888888888888,
                            "#fdca26"
                          ],
                          [
                            1,
                            "#f0f921"
                          ]
                        ]
                      }
                    ],
                    "scattergeo": [
                      {
                        "marker": {
                          "colorbar": {
                            "outlinewidth": 0,
                            "ticks": ""
                          }
                        },
                        "type": "scattergeo"
                      }
                    ],
                    "bar": [
                      {
                        "marker": {
                          "line": {
                            "color": "#E5ECF6",
                            "width": 0.5
                          }
                        },
                        "type": "bar",
                        "error_x": {
                          "color": "#2a3f5f"
                        },
                        "error_y": {
                          "color": "#2a3f5f"
                        }
                      }
                    ],
                    "choropleth": [
                      {
                        "colorbar": {
                          "outlinewidth": 0,
                          "ticks": ""
                        },
                        "type": "choropleth"
                      }
                    ],
                    "parcoords": [
                      {
                        "line": {
                          "colorbar": {
                            "outlinewidth": 0,
                            "ticks": ""
                          }
                        },
                        "type": "parcoords"
                      }
                    ],
                    "barpolar": [
                      {
                        "marker": {
                          "line": {
                            "color": "#E5ECF6",
                            "width": 0.5
                          }
                        },
                        "type": "barpolar"
                      }
                    ],
                    "histogram2dcontour": [
                      {
                        "colorbar": {
                          "outlinewidth": 0,
                          "ticks": ""
                        },
                        "type": "histogram2dcontour",
                        "colorscale": [
                          [
                            0,
                            "#0d0887"
                          ],
                          [
                            0.1111111111111111,
                            "#46039f"
                          ],
                          [
                            0.2222222222222222,
                            "#7201a8"
                          ],
                          [
                            0.3333333333333333,
                            "#9c179e"
                          ],
                          [
                            0.4444444444444444,
                            "#bd3786"
                          ],
                          [
                            0.5555555555555556,
                            "#d8576b"
                          ],
                          [
                            0.6666666666666666,
                            "#ed7953"
                          ],
                          [
                            0.7777777777777778,
                            "#fb9f3a"
                          ],
                          [
                            0.8888888888888888,
                            "#fdca26"
                          ],
                          [
                            1,
                            "#f0f921"
                          ]
                        ]
                      }
                    ],
                    "scatter": [
                      {
                        "marker": {
                          "colorbar": {
                            "outlinewidth": 0,
                            "ticks": ""
                          }
                        },
                        "type": "scatter"
                      }
                    ]
                  }
                },
                "margin": {
                  "t": 60
                },
                "legend": {
                  "tracegroupgap": 0
                }
              }
            }
          },
          "metadata": {
            "tags": []
          }
        }
      ]
    },
    {
      "cell_type": "markdown",
      "metadata": {
        "id": "mLbkdZKwPuK-"
      },
      "source": [
        "#Data Preprocessing"
      ]
    },
    {
      "cell_type": "code",
      "metadata": {
        "id": "rf5ZpC2d99Jd",
        "outputId": "e17915a3-eda8-47c0-ae17-362f3c514dbd",
        "colab": {
          "base_uri": "https://localhost:8080/",
          "height": 204
        }
      },
      "source": [
        "# Train Test Split\n",
        "insurance = get_data('insurance')"
      ],
      "execution_count": 61,
      "outputs": [
        {
          "output_type": "display_data",
          "data": {
            "text/html": [
              "<div>\n",
              "<style scoped>\n",
              "    .dataframe tbody tr th:only-of-type {\n",
              "        vertical-align: middle;\n",
              "    }\n",
              "\n",
              "    .dataframe tbody tr th {\n",
              "        vertical-align: top;\n",
              "    }\n",
              "\n",
              "    .dataframe thead th {\n",
              "        text-align: right;\n",
              "    }\n",
              "</style>\n",
              "<table border=\"1\" class=\"dataframe\">\n",
              "  <thead>\n",
              "    <tr style=\"text-align: right;\">\n",
              "      <th></th>\n",
              "      <th>age</th>\n",
              "      <th>sex</th>\n",
              "      <th>bmi</th>\n",
              "      <th>children</th>\n",
              "      <th>smoker</th>\n",
              "      <th>region</th>\n",
              "      <th>charges</th>\n",
              "    </tr>\n",
              "  </thead>\n",
              "  <tbody>\n",
              "    <tr>\n",
              "      <th>0</th>\n",
              "      <td>19</td>\n",
              "      <td>female</td>\n",
              "      <td>27.900</td>\n",
              "      <td>0</td>\n",
              "      <td>yes</td>\n",
              "      <td>southwest</td>\n",
              "      <td>16884.92400</td>\n",
              "    </tr>\n",
              "    <tr>\n",
              "      <th>1</th>\n",
              "      <td>18</td>\n",
              "      <td>male</td>\n",
              "      <td>33.770</td>\n",
              "      <td>1</td>\n",
              "      <td>no</td>\n",
              "      <td>southeast</td>\n",
              "      <td>1725.55230</td>\n",
              "    </tr>\n",
              "    <tr>\n",
              "      <th>2</th>\n",
              "      <td>28</td>\n",
              "      <td>male</td>\n",
              "      <td>33.000</td>\n",
              "      <td>3</td>\n",
              "      <td>no</td>\n",
              "      <td>southeast</td>\n",
              "      <td>4449.46200</td>\n",
              "    </tr>\n",
              "    <tr>\n",
              "      <th>3</th>\n",
              "      <td>33</td>\n",
              "      <td>male</td>\n",
              "      <td>22.705</td>\n",
              "      <td>0</td>\n",
              "      <td>no</td>\n",
              "      <td>northwest</td>\n",
              "      <td>21984.47061</td>\n",
              "    </tr>\n",
              "    <tr>\n",
              "      <th>4</th>\n",
              "      <td>32</td>\n",
              "      <td>male</td>\n",
              "      <td>28.880</td>\n",
              "      <td>0</td>\n",
              "      <td>no</td>\n",
              "      <td>northwest</td>\n",
              "      <td>3866.85520</td>\n",
              "    </tr>\n",
              "  </tbody>\n",
              "</table>\n",
              "</div>"
            ],
            "text/plain": [
              "   age     sex     bmi  children smoker     region      charges\n",
              "0   19  female  27.900         0    yes  southwest  16884.92400\n",
              "1   18    male  33.770         1     no  southeast   1725.55230\n",
              "2   28    male  33.000         3     no  southeast   4449.46200\n",
              "3   33    male  22.705         0     no  northwest  21984.47061\n",
              "4   32    male  28.880         0     no  northwest   3866.85520"
            ]
          },
          "metadata": {
            "tags": []
          }
        }
      ]
    },
    {
      "cell_type": "code",
      "metadata": {
        "id": "zDnQyMINQAgt",
        "outputId": "acf57716-88f1-4680-a347-161959ffd7e6",
        "colab": {
          "base_uri": "https://localhost:8080/",
          "height": 1000,
          "referenced_widgets": [
            "07a55d7fdbe946d6863e6b0f6a6b737e",
            "41f42d71d18744cb889fd39486a52810",
            "43aecf742b8044a98f004ad77aa2b250",
            "3353795ff13c446fb7f1aa5fe7f12205",
            "ece9d3c4de5b42c0bc03960ae0cbeb08",
            "c779d4a7aa4249a89928fc68e51442eb"
          ]
        }
      },
      "source": [
        "from pycaret.regression import *\n",
        "setup(data=insurance, target='charges', train_size=0.5)"
      ],
      "execution_count": 62,
      "outputs": [
        {
          "output_type": "stream",
          "text": [
            " \n",
            "Setup Succesfully Completed.\n"
          ],
          "name": "stdout"
        },
        {
          "output_type": "display_data",
          "data": {
            "text/html": [
              "<style  type=\"text/css\" >\n",
              "</style><table id=\"T_54214cfa_0fa6_11eb_a725_0242ac1c0002\" ><thead>    <tr>        <th class=\"blank level0\" ></th>        <th class=\"col_heading level0 col0\" >Description</th>        <th class=\"col_heading level0 col1\" >Value</th>    </tr></thead><tbody>\n",
              "                <tr>\n",
              "                        <th id=\"T_54214cfa_0fa6_11eb_a725_0242ac1c0002level0_row0\" class=\"row_heading level0 row0\" >0</th>\n",
              "                        <td id=\"T_54214cfa_0fa6_11eb_a725_0242ac1c0002row0_col0\" class=\"data row0 col0\" >session_id</td>\n",
              "                        <td id=\"T_54214cfa_0fa6_11eb_a725_0242ac1c0002row0_col1\" class=\"data row0 col1\" >5225</td>\n",
              "            </tr>\n",
              "            <tr>\n",
              "                        <th id=\"T_54214cfa_0fa6_11eb_a725_0242ac1c0002level0_row1\" class=\"row_heading level0 row1\" >1</th>\n",
              "                        <td id=\"T_54214cfa_0fa6_11eb_a725_0242ac1c0002row1_col0\" class=\"data row1 col0\" >Transform Target </td>\n",
              "                        <td id=\"T_54214cfa_0fa6_11eb_a725_0242ac1c0002row1_col1\" class=\"data row1 col1\" >False</td>\n",
              "            </tr>\n",
              "            <tr>\n",
              "                        <th id=\"T_54214cfa_0fa6_11eb_a725_0242ac1c0002level0_row2\" class=\"row_heading level0 row2\" >2</th>\n",
              "                        <td id=\"T_54214cfa_0fa6_11eb_a725_0242ac1c0002row2_col0\" class=\"data row2 col0\" >Transform Target Method</td>\n",
              "                        <td id=\"T_54214cfa_0fa6_11eb_a725_0242ac1c0002row2_col1\" class=\"data row2 col1\" >None</td>\n",
              "            </tr>\n",
              "            <tr>\n",
              "                        <th id=\"T_54214cfa_0fa6_11eb_a725_0242ac1c0002level0_row3\" class=\"row_heading level0 row3\" >3</th>\n",
              "                        <td id=\"T_54214cfa_0fa6_11eb_a725_0242ac1c0002row3_col0\" class=\"data row3 col0\" >Original Data</td>\n",
              "                        <td id=\"T_54214cfa_0fa6_11eb_a725_0242ac1c0002row3_col1\" class=\"data row3 col1\" >(1338, 7)</td>\n",
              "            </tr>\n",
              "            <tr>\n",
              "                        <th id=\"T_54214cfa_0fa6_11eb_a725_0242ac1c0002level0_row4\" class=\"row_heading level0 row4\" >4</th>\n",
              "                        <td id=\"T_54214cfa_0fa6_11eb_a725_0242ac1c0002row4_col0\" class=\"data row4 col0\" >Missing Values </td>\n",
              "                        <td id=\"T_54214cfa_0fa6_11eb_a725_0242ac1c0002row4_col1\" class=\"data row4 col1\" >False</td>\n",
              "            </tr>\n",
              "            <tr>\n",
              "                        <th id=\"T_54214cfa_0fa6_11eb_a725_0242ac1c0002level0_row5\" class=\"row_heading level0 row5\" >5</th>\n",
              "                        <td id=\"T_54214cfa_0fa6_11eb_a725_0242ac1c0002row5_col0\" class=\"data row5 col0\" >Numeric Features </td>\n",
              "                        <td id=\"T_54214cfa_0fa6_11eb_a725_0242ac1c0002row5_col1\" class=\"data row5 col1\" >2</td>\n",
              "            </tr>\n",
              "            <tr>\n",
              "                        <th id=\"T_54214cfa_0fa6_11eb_a725_0242ac1c0002level0_row6\" class=\"row_heading level0 row6\" >6</th>\n",
              "                        <td id=\"T_54214cfa_0fa6_11eb_a725_0242ac1c0002row6_col0\" class=\"data row6 col0\" >Categorical Features </td>\n",
              "                        <td id=\"T_54214cfa_0fa6_11eb_a725_0242ac1c0002row6_col1\" class=\"data row6 col1\" >4</td>\n",
              "            </tr>\n",
              "            <tr>\n",
              "                        <th id=\"T_54214cfa_0fa6_11eb_a725_0242ac1c0002level0_row7\" class=\"row_heading level0 row7\" >7</th>\n",
              "                        <td id=\"T_54214cfa_0fa6_11eb_a725_0242ac1c0002row7_col0\" class=\"data row7 col0\" >Ordinal Features </td>\n",
              "                        <td id=\"T_54214cfa_0fa6_11eb_a725_0242ac1c0002row7_col1\" class=\"data row7 col1\" >False</td>\n",
              "            </tr>\n",
              "            <tr>\n",
              "                        <th id=\"T_54214cfa_0fa6_11eb_a725_0242ac1c0002level0_row8\" class=\"row_heading level0 row8\" >8</th>\n",
              "                        <td id=\"T_54214cfa_0fa6_11eb_a725_0242ac1c0002row8_col0\" class=\"data row8 col0\" >High Cardinality Features </td>\n",
              "                        <td id=\"T_54214cfa_0fa6_11eb_a725_0242ac1c0002row8_col1\" class=\"data row8 col1\" >False</td>\n",
              "            </tr>\n",
              "            <tr>\n",
              "                        <th id=\"T_54214cfa_0fa6_11eb_a725_0242ac1c0002level0_row9\" class=\"row_heading level0 row9\" >9</th>\n",
              "                        <td id=\"T_54214cfa_0fa6_11eb_a725_0242ac1c0002row9_col0\" class=\"data row9 col0\" >High Cardinality Method </td>\n",
              "                        <td id=\"T_54214cfa_0fa6_11eb_a725_0242ac1c0002row9_col1\" class=\"data row9 col1\" >None</td>\n",
              "            </tr>\n",
              "            <tr>\n",
              "                        <th id=\"T_54214cfa_0fa6_11eb_a725_0242ac1c0002level0_row10\" class=\"row_heading level0 row10\" >10</th>\n",
              "                        <td id=\"T_54214cfa_0fa6_11eb_a725_0242ac1c0002row10_col0\" class=\"data row10 col0\" >Sampled Data</td>\n",
              "                        <td id=\"T_54214cfa_0fa6_11eb_a725_0242ac1c0002row10_col1\" class=\"data row10 col1\" >(1338, 7)</td>\n",
              "            </tr>\n",
              "            <tr>\n",
              "                        <th id=\"T_54214cfa_0fa6_11eb_a725_0242ac1c0002level0_row11\" class=\"row_heading level0 row11\" >11</th>\n",
              "                        <td id=\"T_54214cfa_0fa6_11eb_a725_0242ac1c0002row11_col0\" class=\"data row11 col0\" >Transformed Train Set</td>\n",
              "                        <td id=\"T_54214cfa_0fa6_11eb_a725_0242ac1c0002row11_col1\" class=\"data row11 col1\" >(669, 16)</td>\n",
              "            </tr>\n",
              "            <tr>\n",
              "                        <th id=\"T_54214cfa_0fa6_11eb_a725_0242ac1c0002level0_row12\" class=\"row_heading level0 row12\" >12</th>\n",
              "                        <td id=\"T_54214cfa_0fa6_11eb_a725_0242ac1c0002row12_col0\" class=\"data row12 col0\" >Transformed Test Set</td>\n",
              "                        <td id=\"T_54214cfa_0fa6_11eb_a725_0242ac1c0002row12_col1\" class=\"data row12 col1\" >(669, 16)</td>\n",
              "            </tr>\n",
              "            <tr>\n",
              "                        <th id=\"T_54214cfa_0fa6_11eb_a725_0242ac1c0002level0_row13\" class=\"row_heading level0 row13\" >13</th>\n",
              "                        <td id=\"T_54214cfa_0fa6_11eb_a725_0242ac1c0002row13_col0\" class=\"data row13 col0\" >Numeric Imputer </td>\n",
              "                        <td id=\"T_54214cfa_0fa6_11eb_a725_0242ac1c0002row13_col1\" class=\"data row13 col1\" >mean</td>\n",
              "            </tr>\n",
              "            <tr>\n",
              "                        <th id=\"T_54214cfa_0fa6_11eb_a725_0242ac1c0002level0_row14\" class=\"row_heading level0 row14\" >14</th>\n",
              "                        <td id=\"T_54214cfa_0fa6_11eb_a725_0242ac1c0002row14_col0\" class=\"data row14 col0\" >Categorical Imputer </td>\n",
              "                        <td id=\"T_54214cfa_0fa6_11eb_a725_0242ac1c0002row14_col1\" class=\"data row14 col1\" >constant</td>\n",
              "            </tr>\n",
              "            <tr>\n",
              "                        <th id=\"T_54214cfa_0fa6_11eb_a725_0242ac1c0002level0_row15\" class=\"row_heading level0 row15\" >15</th>\n",
              "                        <td id=\"T_54214cfa_0fa6_11eb_a725_0242ac1c0002row15_col0\" class=\"data row15 col0\" >Normalize </td>\n",
              "                        <td id=\"T_54214cfa_0fa6_11eb_a725_0242ac1c0002row15_col1\" class=\"data row15 col1\" >False</td>\n",
              "            </tr>\n",
              "            <tr>\n",
              "                        <th id=\"T_54214cfa_0fa6_11eb_a725_0242ac1c0002level0_row16\" class=\"row_heading level0 row16\" >16</th>\n",
              "                        <td id=\"T_54214cfa_0fa6_11eb_a725_0242ac1c0002row16_col0\" class=\"data row16 col0\" >Normalize Method </td>\n",
              "                        <td id=\"T_54214cfa_0fa6_11eb_a725_0242ac1c0002row16_col1\" class=\"data row16 col1\" >None</td>\n",
              "            </tr>\n",
              "            <tr>\n",
              "                        <th id=\"T_54214cfa_0fa6_11eb_a725_0242ac1c0002level0_row17\" class=\"row_heading level0 row17\" >17</th>\n",
              "                        <td id=\"T_54214cfa_0fa6_11eb_a725_0242ac1c0002row17_col0\" class=\"data row17 col0\" >Transformation </td>\n",
              "                        <td id=\"T_54214cfa_0fa6_11eb_a725_0242ac1c0002row17_col1\" class=\"data row17 col1\" >False</td>\n",
              "            </tr>\n",
              "            <tr>\n",
              "                        <th id=\"T_54214cfa_0fa6_11eb_a725_0242ac1c0002level0_row18\" class=\"row_heading level0 row18\" >18</th>\n",
              "                        <td id=\"T_54214cfa_0fa6_11eb_a725_0242ac1c0002row18_col0\" class=\"data row18 col0\" >Transformation Method </td>\n",
              "                        <td id=\"T_54214cfa_0fa6_11eb_a725_0242ac1c0002row18_col1\" class=\"data row18 col1\" >None</td>\n",
              "            </tr>\n",
              "            <tr>\n",
              "                        <th id=\"T_54214cfa_0fa6_11eb_a725_0242ac1c0002level0_row19\" class=\"row_heading level0 row19\" >19</th>\n",
              "                        <td id=\"T_54214cfa_0fa6_11eb_a725_0242ac1c0002row19_col0\" class=\"data row19 col0\" >PCA </td>\n",
              "                        <td id=\"T_54214cfa_0fa6_11eb_a725_0242ac1c0002row19_col1\" class=\"data row19 col1\" >False</td>\n",
              "            </tr>\n",
              "            <tr>\n",
              "                        <th id=\"T_54214cfa_0fa6_11eb_a725_0242ac1c0002level0_row20\" class=\"row_heading level0 row20\" >20</th>\n",
              "                        <td id=\"T_54214cfa_0fa6_11eb_a725_0242ac1c0002row20_col0\" class=\"data row20 col0\" >PCA Method </td>\n",
              "                        <td id=\"T_54214cfa_0fa6_11eb_a725_0242ac1c0002row20_col1\" class=\"data row20 col1\" >None</td>\n",
              "            </tr>\n",
              "            <tr>\n",
              "                        <th id=\"T_54214cfa_0fa6_11eb_a725_0242ac1c0002level0_row21\" class=\"row_heading level0 row21\" >21</th>\n",
              "                        <td id=\"T_54214cfa_0fa6_11eb_a725_0242ac1c0002row21_col0\" class=\"data row21 col0\" >PCA Components </td>\n",
              "                        <td id=\"T_54214cfa_0fa6_11eb_a725_0242ac1c0002row21_col1\" class=\"data row21 col1\" >None</td>\n",
              "            </tr>\n",
              "            <tr>\n",
              "                        <th id=\"T_54214cfa_0fa6_11eb_a725_0242ac1c0002level0_row22\" class=\"row_heading level0 row22\" >22</th>\n",
              "                        <td id=\"T_54214cfa_0fa6_11eb_a725_0242ac1c0002row22_col0\" class=\"data row22 col0\" >Ignore Low Variance </td>\n",
              "                        <td id=\"T_54214cfa_0fa6_11eb_a725_0242ac1c0002row22_col1\" class=\"data row22 col1\" >False</td>\n",
              "            </tr>\n",
              "            <tr>\n",
              "                        <th id=\"T_54214cfa_0fa6_11eb_a725_0242ac1c0002level0_row23\" class=\"row_heading level0 row23\" >23</th>\n",
              "                        <td id=\"T_54214cfa_0fa6_11eb_a725_0242ac1c0002row23_col0\" class=\"data row23 col0\" >Combine Rare Levels </td>\n",
              "                        <td id=\"T_54214cfa_0fa6_11eb_a725_0242ac1c0002row23_col1\" class=\"data row23 col1\" >False</td>\n",
              "            </tr>\n",
              "            <tr>\n",
              "                        <th id=\"T_54214cfa_0fa6_11eb_a725_0242ac1c0002level0_row24\" class=\"row_heading level0 row24\" >24</th>\n",
              "                        <td id=\"T_54214cfa_0fa6_11eb_a725_0242ac1c0002row24_col0\" class=\"data row24 col0\" >Rare Level Threshold </td>\n",
              "                        <td id=\"T_54214cfa_0fa6_11eb_a725_0242ac1c0002row24_col1\" class=\"data row24 col1\" >None</td>\n",
              "            </tr>\n",
              "            <tr>\n",
              "                        <th id=\"T_54214cfa_0fa6_11eb_a725_0242ac1c0002level0_row25\" class=\"row_heading level0 row25\" >25</th>\n",
              "                        <td id=\"T_54214cfa_0fa6_11eb_a725_0242ac1c0002row25_col0\" class=\"data row25 col0\" >Numeric Binning </td>\n",
              "                        <td id=\"T_54214cfa_0fa6_11eb_a725_0242ac1c0002row25_col1\" class=\"data row25 col1\" >False</td>\n",
              "            </tr>\n",
              "            <tr>\n",
              "                        <th id=\"T_54214cfa_0fa6_11eb_a725_0242ac1c0002level0_row26\" class=\"row_heading level0 row26\" >26</th>\n",
              "                        <td id=\"T_54214cfa_0fa6_11eb_a725_0242ac1c0002row26_col0\" class=\"data row26 col0\" >Remove Outliers </td>\n",
              "                        <td id=\"T_54214cfa_0fa6_11eb_a725_0242ac1c0002row26_col1\" class=\"data row26 col1\" >False</td>\n",
              "            </tr>\n",
              "            <tr>\n",
              "                        <th id=\"T_54214cfa_0fa6_11eb_a725_0242ac1c0002level0_row27\" class=\"row_heading level0 row27\" >27</th>\n",
              "                        <td id=\"T_54214cfa_0fa6_11eb_a725_0242ac1c0002row27_col0\" class=\"data row27 col0\" >Outliers Threshold </td>\n",
              "                        <td id=\"T_54214cfa_0fa6_11eb_a725_0242ac1c0002row27_col1\" class=\"data row27 col1\" >None</td>\n",
              "            </tr>\n",
              "            <tr>\n",
              "                        <th id=\"T_54214cfa_0fa6_11eb_a725_0242ac1c0002level0_row28\" class=\"row_heading level0 row28\" >28</th>\n",
              "                        <td id=\"T_54214cfa_0fa6_11eb_a725_0242ac1c0002row28_col0\" class=\"data row28 col0\" >Remove Multicollinearity </td>\n",
              "                        <td id=\"T_54214cfa_0fa6_11eb_a725_0242ac1c0002row28_col1\" class=\"data row28 col1\" >False</td>\n",
              "            </tr>\n",
              "            <tr>\n",
              "                        <th id=\"T_54214cfa_0fa6_11eb_a725_0242ac1c0002level0_row29\" class=\"row_heading level0 row29\" >29</th>\n",
              "                        <td id=\"T_54214cfa_0fa6_11eb_a725_0242ac1c0002row29_col0\" class=\"data row29 col0\" >Multicollinearity Threshold </td>\n",
              "                        <td id=\"T_54214cfa_0fa6_11eb_a725_0242ac1c0002row29_col1\" class=\"data row29 col1\" >None</td>\n",
              "            </tr>\n",
              "            <tr>\n",
              "                        <th id=\"T_54214cfa_0fa6_11eb_a725_0242ac1c0002level0_row30\" class=\"row_heading level0 row30\" >30</th>\n",
              "                        <td id=\"T_54214cfa_0fa6_11eb_a725_0242ac1c0002row30_col0\" class=\"data row30 col0\" >Clustering </td>\n",
              "                        <td id=\"T_54214cfa_0fa6_11eb_a725_0242ac1c0002row30_col1\" class=\"data row30 col1\" >False</td>\n",
              "            </tr>\n",
              "            <tr>\n",
              "                        <th id=\"T_54214cfa_0fa6_11eb_a725_0242ac1c0002level0_row31\" class=\"row_heading level0 row31\" >31</th>\n",
              "                        <td id=\"T_54214cfa_0fa6_11eb_a725_0242ac1c0002row31_col0\" class=\"data row31 col0\" >Clustering Iteration </td>\n",
              "                        <td id=\"T_54214cfa_0fa6_11eb_a725_0242ac1c0002row31_col1\" class=\"data row31 col1\" >None</td>\n",
              "            </tr>\n",
              "            <tr>\n",
              "                        <th id=\"T_54214cfa_0fa6_11eb_a725_0242ac1c0002level0_row32\" class=\"row_heading level0 row32\" >32</th>\n",
              "                        <td id=\"T_54214cfa_0fa6_11eb_a725_0242ac1c0002row32_col0\" class=\"data row32 col0\" >Polynomial Features </td>\n",
              "                        <td id=\"T_54214cfa_0fa6_11eb_a725_0242ac1c0002row32_col1\" class=\"data row32 col1\" >False</td>\n",
              "            </tr>\n",
              "            <tr>\n",
              "                        <th id=\"T_54214cfa_0fa6_11eb_a725_0242ac1c0002level0_row33\" class=\"row_heading level0 row33\" >33</th>\n",
              "                        <td id=\"T_54214cfa_0fa6_11eb_a725_0242ac1c0002row33_col0\" class=\"data row33 col0\" >Polynomial Degree </td>\n",
              "                        <td id=\"T_54214cfa_0fa6_11eb_a725_0242ac1c0002row33_col1\" class=\"data row33 col1\" >None</td>\n",
              "            </tr>\n",
              "            <tr>\n",
              "                        <th id=\"T_54214cfa_0fa6_11eb_a725_0242ac1c0002level0_row34\" class=\"row_heading level0 row34\" >34</th>\n",
              "                        <td id=\"T_54214cfa_0fa6_11eb_a725_0242ac1c0002row34_col0\" class=\"data row34 col0\" >Trignometry Features </td>\n",
              "                        <td id=\"T_54214cfa_0fa6_11eb_a725_0242ac1c0002row34_col1\" class=\"data row34 col1\" >False</td>\n",
              "            </tr>\n",
              "            <tr>\n",
              "                        <th id=\"T_54214cfa_0fa6_11eb_a725_0242ac1c0002level0_row35\" class=\"row_heading level0 row35\" >35</th>\n",
              "                        <td id=\"T_54214cfa_0fa6_11eb_a725_0242ac1c0002row35_col0\" class=\"data row35 col0\" >Polynomial Threshold </td>\n",
              "                        <td id=\"T_54214cfa_0fa6_11eb_a725_0242ac1c0002row35_col1\" class=\"data row35 col1\" >None</td>\n",
              "            </tr>\n",
              "            <tr>\n",
              "                        <th id=\"T_54214cfa_0fa6_11eb_a725_0242ac1c0002level0_row36\" class=\"row_heading level0 row36\" >36</th>\n",
              "                        <td id=\"T_54214cfa_0fa6_11eb_a725_0242ac1c0002row36_col0\" class=\"data row36 col0\" >Group Features </td>\n",
              "                        <td id=\"T_54214cfa_0fa6_11eb_a725_0242ac1c0002row36_col1\" class=\"data row36 col1\" >False</td>\n",
              "            </tr>\n",
              "            <tr>\n",
              "                        <th id=\"T_54214cfa_0fa6_11eb_a725_0242ac1c0002level0_row37\" class=\"row_heading level0 row37\" >37</th>\n",
              "                        <td id=\"T_54214cfa_0fa6_11eb_a725_0242ac1c0002row37_col0\" class=\"data row37 col0\" >Feature Selection </td>\n",
              "                        <td id=\"T_54214cfa_0fa6_11eb_a725_0242ac1c0002row37_col1\" class=\"data row37 col1\" >False</td>\n",
              "            </tr>\n",
              "            <tr>\n",
              "                        <th id=\"T_54214cfa_0fa6_11eb_a725_0242ac1c0002level0_row38\" class=\"row_heading level0 row38\" >38</th>\n",
              "                        <td id=\"T_54214cfa_0fa6_11eb_a725_0242ac1c0002row38_col0\" class=\"data row38 col0\" >Features Selection Threshold </td>\n",
              "                        <td id=\"T_54214cfa_0fa6_11eb_a725_0242ac1c0002row38_col1\" class=\"data row38 col1\" >None</td>\n",
              "            </tr>\n",
              "            <tr>\n",
              "                        <th id=\"T_54214cfa_0fa6_11eb_a725_0242ac1c0002level0_row39\" class=\"row_heading level0 row39\" >39</th>\n",
              "                        <td id=\"T_54214cfa_0fa6_11eb_a725_0242ac1c0002row39_col0\" class=\"data row39 col0\" >Feature Interaction </td>\n",
              "                        <td id=\"T_54214cfa_0fa6_11eb_a725_0242ac1c0002row39_col1\" class=\"data row39 col1\" >False</td>\n",
              "            </tr>\n",
              "            <tr>\n",
              "                        <th id=\"T_54214cfa_0fa6_11eb_a725_0242ac1c0002level0_row40\" class=\"row_heading level0 row40\" >40</th>\n",
              "                        <td id=\"T_54214cfa_0fa6_11eb_a725_0242ac1c0002row40_col0\" class=\"data row40 col0\" >Feature Ratio </td>\n",
              "                        <td id=\"T_54214cfa_0fa6_11eb_a725_0242ac1c0002row40_col1\" class=\"data row40 col1\" >False</td>\n",
              "            </tr>\n",
              "            <tr>\n",
              "                        <th id=\"T_54214cfa_0fa6_11eb_a725_0242ac1c0002level0_row41\" class=\"row_heading level0 row41\" >41</th>\n",
              "                        <td id=\"T_54214cfa_0fa6_11eb_a725_0242ac1c0002row41_col0\" class=\"data row41 col0\" >Interaction Threshold </td>\n",
              "                        <td id=\"T_54214cfa_0fa6_11eb_a725_0242ac1c0002row41_col1\" class=\"data row41 col1\" >None</td>\n",
              "            </tr>\n",
              "    </tbody></table>"
            ],
            "text/plain": [
              "<pandas.io.formats.style.Styler at 0x7f04ea23cac8>"
            ]
          },
          "metadata": {
            "tags": []
          }
        },
        {
          "output_type": "execute_result",
          "data": {
            "text/plain": [
              "(       age     bmi  ...  region_southeast  region_southwest\n",
              " 0     19.0  27.900  ...               0.0               1.0\n",
              " 1     18.0  33.770  ...               1.0               0.0\n",
              " 2     28.0  33.000  ...               1.0               0.0\n",
              " 3     33.0  22.705  ...               0.0               0.0\n",
              " 4     32.0  28.880  ...               0.0               0.0\n",
              " ...    ...     ...  ...               ...               ...\n",
              " 1333  50.0  30.970  ...               0.0               0.0\n",
              " 1334  18.0  31.920  ...               0.0               0.0\n",
              " 1335  18.0  36.850  ...               1.0               0.0\n",
              " 1336  21.0  25.800  ...               0.0               1.0\n",
              " 1337  61.0  29.070  ...               0.0               0.0\n",
              " \n",
              " [1338 rows x 16 columns], 0       16884.92400\n",
              " 1        1725.55230\n",
              " 2        4449.46200\n",
              " 3       21984.47061\n",
              " 4        3866.85520\n",
              "            ...     \n",
              " 1333    10600.54830\n",
              " 1334     2205.98080\n",
              " 1335     1629.83350\n",
              " 1336     2007.94500\n",
              " 1337    29141.36030\n",
              " Name: charges, Length: 1338, dtype: float64,        age     bmi  ...  region_southeast  region_southwest\n",
              " 466   60.0  28.700  ...               0.0               1.0\n",
              " 211   40.0  30.875  ...               0.0               0.0\n",
              " 643   23.0  34.960  ...               0.0               0.0\n",
              " 1094  50.0  33.700  ...               0.0               1.0\n",
              " 229   47.0  25.460  ...               0.0               0.0\n",
              " ...    ...     ...  ...               ...               ...\n",
              " 32    19.0  28.600  ...               0.0               1.0\n",
              " 107   26.0  30.875  ...               0.0               0.0\n",
              " 429   27.0  30.400  ...               0.0               0.0\n",
              " 484   48.0  34.300  ...               0.0               1.0\n",
              " 1159  32.0  41.100  ...               0.0               1.0\n",
              " \n",
              " [669 rows x 16 columns],        age     bmi  ...  region_southeast  region_southwest\n",
              " 223   19.0  34.800  ...               0.0               1.0\n",
              " 232   19.0  17.800  ...               0.0               1.0\n",
              " 42    41.0  21.780  ...               1.0               0.0\n",
              " 987   45.0  27.645  ...               0.0               0.0\n",
              " 1040  35.0  28.025  ...               0.0               0.0\n",
              " ...    ...     ...  ...               ...               ...\n",
              " 1029  37.0  17.290  ...               0.0               0.0\n",
              " 38    35.0  36.670  ...               0.0               0.0\n",
              " 1031  55.0  35.200  ...               1.0               0.0\n",
              " 471   18.0  30.115  ...               0.0               0.0\n",
              " 610   47.0  29.370  ...               1.0               0.0\n",
              " \n",
              " [669 rows x 16 columns], 466     13224.69300\n",
              " 211      8162.71625\n",
              " 643      4466.62140\n",
              " 1094    11299.34300\n",
              " 229      9225.25640\n",
              "            ...     \n",
              " 32       4687.79700\n",
              " 107      3877.30425\n",
              " 429     18804.75240\n",
              " 484      9563.02900\n",
              " 1159     3989.84100\n",
              " Name: charges, Length: 669, dtype: float64, 223     34779.61500\n",
              " 232      1727.78500\n",
              " 42       6272.47720\n",
              " 987     28340.18885\n",
              " 1040    20234.85475\n",
              "            ...     \n",
              " 1029     6877.98010\n",
              " 38      39774.27630\n",
              " 1031    44423.80300\n",
              " 471      2203.47185\n",
              " 610      8547.69130\n",
              " Name: charges, Length: 669, dtype: float64, 5225, Pipeline(memory=None,\n",
              "          steps=[('dtypes',\n",
              "                  DataTypes_Auto_infer(categorical_features=[],\n",
              "                                       display_types=True, features_todrop=[],\n",
              "                                       ml_usecase='regression',\n",
              "                                       numerical_features=[], target='charges',\n",
              "                                       time_features=[])),\n",
              "                 ('imputer',\n",
              "                  Simple_Imputer(categorical_strategy='not_available',\n",
              "                                 numeric_strategy='mean',\n",
              "                                 target_variable=None)),\n",
              "                 ('new_levels1',\n",
              "                  New_Catagorical_Levels...\n",
              "                 ('group', Empty()), ('nonliner', Empty()), ('scaling', Empty()),\n",
              "                 ('P_transform', Empty()), ('pt_target', Empty()),\n",
              "                 ('binn', Empty()), ('rem_outliers', Empty()),\n",
              "                 ('cluster_all', Empty()), ('dummy', Dummify(target='charges')),\n",
              "                 ('fix_perfect', Empty()), ('clean_names', Clean_Colum_Names()),\n",
              "                 ('feature_select', Empty()), ('fix_multi', Empty()),\n",
              "                 ('dfs', Empty()), ('pca', Empty())],\n",
              "          verbose=False), None, [('Regression Setup Config',\n",
              "                         Description      Value\n",
              "   0                      session_id       5225\n",
              "   1               Transform Target       False\n",
              "   2         Transform Target Method       None\n",
              "   3                   Original Data  (1338, 7)\n",
              "   4                 Missing Values       False\n",
              "   5               Numeric Features           2\n",
              "   6           Categorical Features           4\n",
              "   7               Ordinal Features       False\n",
              "   8      High Cardinality Features       False\n",
              "   9        High Cardinality Method        None\n",
              "   10                   Sampled Data  (1338, 7)\n",
              "   11          Transformed Train Set  (669, 16)\n",
              "   12           Transformed Test Set  (669, 16)\n",
              "   13               Numeric Imputer        mean\n",
              "   14           Categorical Imputer    constant\n",
              "   15                     Normalize       False\n",
              "   16              Normalize Method        None\n",
              "   17                Transformation       False\n",
              "   18         Transformation Method        None\n",
              "   19                           PCA       False\n",
              "   20                    PCA Method        None\n",
              "   21                PCA Components        None\n",
              "   22           Ignore Low Variance       False\n",
              "   23           Combine Rare Levels       False\n",
              "   24          Rare Level Threshold        None\n",
              "   25               Numeric Binning       False\n",
              "   26               Remove Outliers       False\n",
              "   27            Outliers Threshold        None\n",
              "   28      Remove Multicollinearity       False\n",
              "   29   Multicollinearity Threshold        None\n",
              "   30                    Clustering       False\n",
              "   31          Clustering Iteration        None\n",
              "   32           Polynomial Features       False\n",
              "   33             Polynomial Degree        None\n",
              "   34          Trignometry Features       False\n",
              "   35          Polynomial Threshold        None\n",
              "   36                Group Features       False\n",
              "   37             Feature Selection       False\n",
              "   38  Features Selection Threshold        None\n",
              "   39           Feature Interaction       False\n",
              "   40                 Feature Ratio       False\n",
              "   41         Interaction Threshold        None),\n",
              "  ('X_training Set',\n",
              "          age     bmi  ...  region_southeast  region_southwest\n",
              "   466   60.0  28.700  ...               0.0               1.0\n",
              "   211   40.0  30.875  ...               0.0               0.0\n",
              "   643   23.0  34.960  ...               0.0               0.0\n",
              "   1094  50.0  33.700  ...               0.0               1.0\n",
              "   229   47.0  25.460  ...               0.0               0.0\n",
              "   ...    ...     ...  ...               ...               ...\n",
              "   32    19.0  28.600  ...               0.0               1.0\n",
              "   107   26.0  30.875  ...               0.0               0.0\n",
              "   429   27.0  30.400  ...               0.0               0.0\n",
              "   484   48.0  34.300  ...               0.0               1.0\n",
              "   1159  32.0  41.100  ...               0.0               1.0\n",
              "   \n",
              "   [669 rows x 16 columns]),\n",
              "  ('y_training Set', 466     13224.69300\n",
              "   211      8162.71625\n",
              "   643      4466.62140\n",
              "   1094    11299.34300\n",
              "   229      9225.25640\n",
              "              ...     \n",
              "   32       4687.79700\n",
              "   107      3877.30425\n",
              "   429     18804.75240\n",
              "   484      9563.02900\n",
              "   1159     3989.84100\n",
              "   Name: charges, Length: 669, dtype: float64),\n",
              "  ('X_test Set',        age     bmi  ...  region_southeast  region_southwest\n",
              "   223   19.0  34.800  ...               0.0               1.0\n",
              "   232   19.0  17.800  ...               0.0               1.0\n",
              "   42    41.0  21.780  ...               1.0               0.0\n",
              "   987   45.0  27.645  ...               0.0               0.0\n",
              "   1040  35.0  28.025  ...               0.0               0.0\n",
              "   ...    ...     ...  ...               ...               ...\n",
              "   1029  37.0  17.290  ...               0.0               0.0\n",
              "   38    35.0  36.670  ...               0.0               0.0\n",
              "   1031  55.0  35.200  ...               1.0               0.0\n",
              "   471   18.0  30.115  ...               0.0               0.0\n",
              "   610   47.0  29.370  ...               1.0               0.0\n",
              "   \n",
              "   [669 rows x 16 columns]),\n",
              "  ('y_test Set', 223     34779.61500\n",
              "   232      1727.78500\n",
              "   42       6272.47720\n",
              "   987     28340.18885\n",
              "   1040    20234.85475\n",
              "              ...     \n",
              "   1029     6877.98010\n",
              "   38      39774.27630\n",
              "   1031    44423.80300\n",
              "   471      2203.47185\n",
              "   610      8547.69130\n",
              "   Name: charges, Length: 669, dtype: float64),\n",
              "  ('Transformation Pipeline', Pipeline(memory=None,\n",
              "            steps=[('dtypes',\n",
              "                    DataTypes_Auto_infer(categorical_features=[],\n",
              "                                         display_types=True, features_todrop=[],\n",
              "                                         ml_usecase='regression',\n",
              "                                         numerical_features=[], target='charges',\n",
              "                                         time_features=[])),\n",
              "                   ('imputer',\n",
              "                    Simple_Imputer(categorical_strategy='not_available',\n",
              "                                   numeric_strategy='mean',\n",
              "                                   target_variable=None)),\n",
              "                   ('new_levels1',\n",
              "                    New_Catagorical_Levels...\n",
              "                   ('group', Empty()), ('nonliner', Empty()), ('scaling', Empty()),\n",
              "                   ('P_transform', Empty()), ('pt_target', Empty()),\n",
              "                   ('binn', Empty()), ('rem_outliers', Empty()),\n",
              "                   ('cluster_all', Empty()), ('dummy', Dummify(target='charges')),\n",
              "                   ('fix_perfect', Empty()), ('clean_names', Clean_Colum_Names()),\n",
              "                   ('feature_select', Empty()), ('fix_multi', Empty()),\n",
              "                   ('dfs', Empty()), ('pca', Empty())],\n",
              "            verbose=False)),\n",
              "  ('Target Inverse Transformer',\n",
              "   None)], False, -1, True, [], [], [], 'no_logging', False, False, '17d2',       age     sex     bmi  children smoker     region      charges\n",
              " 0      19  female  27.900         0    yes  southwest  16884.92400\n",
              " 1      18    male  33.770         1     no  southeast   1725.55230\n",
              " 2      28    male  33.000         3     no  southeast   4449.46200\n",
              " 3      33    male  22.705         0     no  northwest  21984.47061\n",
              " 4      32    male  28.880         0     no  northwest   3866.85520\n",
              " ...   ...     ...     ...       ...    ...        ...          ...\n",
              " 1333   50    male  30.970         3     no  northwest  10600.54830\n",
              " 1334   18  female  31.920         0     no  northeast   2205.98080\n",
              " 1335   18  female  36.850         0     no  southeast   1629.83350\n",
              " 1336   21  female  25.800         0     no  southwest   2007.94500\n",
              " 1337   61  female  29.070         0    yes  northwest  29141.36030\n",
              " \n",
              " [1338 rows x 7 columns], 'charges')"
            ]
          },
          "metadata": {
            "tags": []
          },
          "execution_count": 62
        }
      ]
    },
    {
      "cell_type": "code",
      "metadata": {
        "id": "jm7vb-9qQTQq"
      },
      "source": [
        ""
      ],
      "execution_count": null,
      "outputs": []
    }
  ]
}